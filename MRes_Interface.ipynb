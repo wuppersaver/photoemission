{
 "cells": [
  {
   "cell_type": "code",
   "execution_count": 1,
   "metadata": {},
   "outputs": [
    {
     "name": "stderr",
     "output_type": "stream",
     "text": [
      "c:\\Users\\fcm19\\Miniconda3\\envs\\matchem\\lib\\site-packages\\paramiko\\pkey.py:100: CryptographyDeprecationWarning: TripleDES has been moved to cryptography.hazmat.decrepit.ciphers.algorithms.TripleDES and will be removed from this module in 48.0.0.\n",
      "  \"cipher\": algorithms.TripleDES,\n",
      "c:\\Users\\fcm19\\Miniconda3\\envs\\matchem\\lib\\site-packages\\paramiko\\transport.py:259: CryptographyDeprecationWarning: TripleDES has been moved to cryptography.hazmat.decrepit.ciphers.algorithms.TripleDES and will be removed from this module in 48.0.0.\n",
      "  \"class\": algorithms.TripleDES,\n",
      "c:\\Users\\fcm19\\Miniconda3\\envs\\matchem\\lib\\site-packages\\tqdm\\auto.py:21: TqdmWarning: IProgress not found. Please update jupyter and ipywidgets. See https://ipywidgets.readthedocs.io/en/stable/user_install.html\n",
      "  from .autonotebook import tqdm as notebook_tqdm\n"
     ]
    }
   ],
   "source": [
    "import subprocess\n",
    "#import nglview as nv\n",
    "from ase.calculators.castep import Castep\n",
    "from ase.atoms import Atoms\n",
    "from ase.io import read, write\n",
    "from ase.visualize import view\n",
    "from ase.build import surface\n",
    "import ase.calculators.castep\n",
    "import ase.io.castep\n",
    "from ase.io.castep import read_castep_cell\n",
    "import pandas as pd\n",
    "from mp_api.client import MPRester\n",
    "\n",
    "from pymatgen.core import Lattice, Structure, Molecule\n",
    "from pymatgen.core.surface import SlabGenerator, generate_all_slabs, Slab, miller_index_from_sites, get_d\n",
    "from pymatgen.core.interface import Interface\n",
    "from pymatgen.symmetry.analyzer import SpacegroupAnalyzer\n",
    "from pymatgen.io.ase import AseAtomsAdaptor\n",
    "from pymatgen.analysis.wulff import WulffShape\n",
    "from pymatgen.analysis.structure_matcher import *\n",
    "from pymatgen.io.ase import AseAtomsAdaptor\n",
    "from pymatgen.electronic_structure.bandstructure import BandStructure\n",
    "from pymatgen.symmetry.kpath import KPathLatimerMunro\n",
    "from pymatgen.vis.structure_chemview import quick_view\n",
    "#from wulffpack import SingleCrystal\n",
    "\n",
    "from python_functions import *\n",
    "from calculation_class import *\n",
    "#from ../../script_share/bs_plotter_felix_mod import *"
   ]
  },
  {
   "cell_type": "markdown",
   "metadata": {},
   "source": [
    "# View xyz files"
   ]
  },
  {
   "cell_type": "code",
   "execution_count": 10,
   "metadata": {},
   "outputs": [
    {
     "data": {
      "text/plain": [
       "<Popen: returncode: None args: ['c:\\\\Users\\\\fcm19\\\\Miniconda3\\\\envs\\\\matchem...>"
      ]
     },
     "execution_count": 10,
     "metadata": {},
     "output_type": "execute_result"
    }
   ],
   "source": [
    "view(read('../../../MRes/MRes_Project/Calculations/Files/Interface/Interface_prerelaxed_Ag_adsorbed/Ag_origin_moiety/05_24_relax/Interface_close_s12_relax.xyz',index = ':'))"
   ]
  },
  {
   "cell_type": "code",
   "execution_count": null,
   "metadata": {},
   "outputs": [],
   "source": []
  },
  {
   "cell_type": "code",
   "execution_count": 8,
   "metadata": {},
   "outputs": [
    {
     "data": {
      "text/plain": [
       "<Popen: returncode: None args: ['c:\\\\Users\\\\fcm19\\\\Miniconda3\\\\envs\\\\matchem...>"
      ]
     },
     "execution_count": 8,
     "metadata": {},
     "output_type": "execute_result"
    }
   ],
   "source": [
    "view(read('./structures/Interface/NEB_01_24/close_step_opt/s1_positions.xyz',index=':'))"
   ]
  },
  {
   "cell_type": "code",
   "execution_count": 15,
   "metadata": {},
   "outputs": [
    {
     "data": {
      "text/plain": [
       "<Popen: returncode: None args: ['c:\\\\Users\\\\fcm19\\\\Miniconda3\\\\envs\\\\matchem...>"
      ]
     },
     "execution_count": 15,
     "metadata": {},
     "output_type": "execute_result"
    }
   ],
   "source": [
    "view(read('./structures/Interface/NEB_01_24/s1_positions.xyz',index=':'))"
   ]
  },
  {
   "cell_type": "markdown",
   "metadata": {},
   "source": [
    "# Make energy graphs for optimisation"
   ]
  },
  {
   "cell_type": "code",
   "execution_count": 10,
   "metadata": {},
   "outputs": [],
   "source": [
    "def create_charges(cell_xyz,positions,symbols,bader_file,displacement=1e-4):\n",
    "    charges = np.zeros(len(positions))\n",
    "    Bohr = 0.52917721\n",
    "    pseudo_charges = {\n",
    "        'H' : 1,\n",
    "        'O' : 6,\n",
    "        'Zn': 12,\n",
    "        'Ag': 11,\n",
    "    }\n",
    "    with open(bader_file) as fd:\n",
    "        lines = fd.readlines()\n",
    "    sep = '---------------'\n",
    "    i = 0  # Counter for the lines\n",
    "    k = 0  # Counter of sep\n",
    "    assume6columns = False\n",
    "    for line in lines:\n",
    "        if line[0] == '\\n':  # check if there is an empty line in the\n",
    "            i -= 1           # head of ACF.dat file\n",
    "        if i == 0:\n",
    "            headings = line\n",
    "            if 'BADER' in headings.split():\n",
    "                j = headings.split().index('BADER')\n",
    "            elif 'CHARGE' in headings.split():\n",
    "                j = headings.split().index('CHARGE')\n",
    "            else:\n",
    "                print('Can\\'t find keyword \"BADER\" or \"CHARGE\".'\n",
    "                      ' Assuming the ACF.dat file has 6 columns.')\n",
    "                j = 4\n",
    "                assume6columns = True\n",
    "        if sep in line:  # Stop at last separator line\n",
    "            if k == 1:\n",
    "                break\n",
    "            k += 1\n",
    "        if not i > 1:\n",
    "            pass\n",
    "        else:\n",
    "            words = line.split()\n",
    "            if assume6columns is True:\n",
    "                if len(words) != 6:\n",
    "                    raise IOError('Number of columns in ACF file incorrect!\\n'\n",
    "                                  'Check that Bader program version >= 0.25')\n",
    "            safe = np.zeros(3)\n",
    "            atom = positions[i-2]\n",
    "            for u in range(3):\n",
    "                safe[u] = atom[u]\n",
    "                atom[u] = atom[u]%cell_xyz[u]\n",
    "            charges[i-2] = pseudo_charges[symbols[i-2]] - float(words[j])\n",
    "            if displacement is not None:  # check if the atom positions match\n",
    "                xyz = np.array([float(w) for w in words[1:4]])\n",
    "                # ACF.dat units could be Bohr or Angstrom\n",
    "                norm1 = np.linalg.norm(atom - xyz)\n",
    "                norm2 = np.linalg.norm(atom - xyz * Bohr)\n",
    "                # print(symbols[i-2] ,positions[i-2], xyz,xyz * Bohr, norm1, norm2)\n",
    "                # assert norm1 < displacement or norm2 < displacement\n",
    "            positions[i-2] = safe\n",
    "        i += 1\n",
    "    return charges;"
   ]
  },
  {
   "cell_type": "code",
   "execution_count": 11,
   "metadata": {},
   "outputs": [
    {
     "data": {
      "text/plain": [
       "<Popen: returncode: None args: ['c:\\\\Users\\\\fcm19\\\\Miniconda3\\\\envs\\\\matchem...>"
      ]
     },
     "execution_count": 11,
     "metadata": {},
     "output_type": "execute_result"
    }
   ],
   "source": [
    "from ase.io.bader import attach_charges\n",
    "interface = read('./structures/Interface/NEB_01_24/hydrated_split/Interface_hydrated_opt.positions.xyz')\n",
    "cell = [0,0,0]\n",
    "for i in range(3):\n",
    "    cell[i] = np.linalg.norm(interface.cell[:,i])\n",
    "charges = create_charges(cell, interface.positions,interface.symbols,'./structures/Interface/NEB_01_24/hydrated_split/ACF.dat')\n",
    "interface.set_initial_charges(charges)\n",
    "view(interface)"
   ]
  },
  {
   "cell_type": "code",
   "execution_count": 19,
   "metadata": {},
   "outputs": [
    {
     "name": "stdout",
     "output_type": "stream",
     "text": [
      "['Ag196O240Zn240.000.png', 'Ag196O240Zn240.001.png', 'Ag196O240Zn240.002.png', 'Ag196O240Zn240.003.png', 'Ag196O240Zn240.004.png', 'Ag196O240Zn240.005.png', 'Ag196O240Zn240.006.png', 'Ag196O240Zn240.007.png', 'Ag196O240Zn240.008.png', 'Ag196O240Zn240.009.png', 'Ag196O240Zn240.010.png', 'Ag196O240Zn240.011.png', 'Ag196O240Zn240.012.png', 'Ag196O240Zn240.013.png', 'Ag196O240Zn240.014.png', 'Ag196O240Zn240.015.png', 'Ag196O240Zn240.016.png', 'Ag196O240Zn240.017.png', 'Ag196O240Zn240.018.png', 'Ag196O240Zn240.019.png', 'Ag196O240Zn240.020.png', 'Ag196O240Zn240.021.png', 'Ag196O240Zn240.022.png', 'Ag196O240Zn240.023.png', 'Ag196O240Zn240.024.png', 'Ag196O240Zn240.025.png', 'Ag196O240Zn240.026.png', 'Ag196O240Zn240.027.png', 'Ag196O240Zn240.028.png', 'Ag196O240Zn240.029.png', 'Ag196O240Zn240.030.png', 'Ag196O240Zn240.031.png', 'Ag196O240Zn240.032.png', 'Ag196O240Zn240.033.png', 'Ag196O240Zn240.034.png', 'Ag196O240Zn240.035.png', 'Ag196O240Zn240.036.png', 'Ag196O240Zn240.037.png', 'Ag196O240Zn240.038.png', 'Ag196O240Zn240.039.png', 'Ag196O240Zn240.040.png', 'Ag196O240Zn240.041.png', 'Ag196O240Zn240.042.png', 'Ag196O240Zn240.043.png', 'Ag196O240Zn240.044.png', 'Ag196O240Zn240.045.png', 'Ag196O240Zn240.046.png', 'Ag196O240Zn240.047.png', 'Ag196O240Zn240.048.png', 'Ag196O240Zn240.049.png', 'Ag196O240Zn240.050.png', 'Ag196O240Zn240.051.png', 'Ag196O240Zn240.052.png', 'Ag196O240Zn240.053.png', 'Ag196O240Zn240.054.png', 'Ag196O240Zn240.055.png', 'Ag196O240Zn240.056.png', 'Ag196O240Zn240.057.png', 'Ag196O240Zn240.058.png', 'Ag196O240Zn240.059.png', 'Ag196O240Zn240.060.png', 'Ag196O240Zn240.061.png', 'Ag196O240Zn240.062.png', 'Ag196O240Zn240.063.png', 'Ag196O240Zn240.064.png', 'Ag196O240Zn240.065.png', 'Ag196O240Zn240.066.png', 'Ag196O240Zn240.067.png', 'Ag196O240Zn240.068.png', 'Ag196O240Zn240.069.png', 'Ag196O240Zn240.070.png', 'Ag196O240Zn240.071.png', 'Ag196O240Zn240.072.png', 'Ag196O240Zn240.073.png', 'Ag196O240Zn240.074.png', 'Ag196O240Zn240.075.png', 'Ag196O240Zn240.076.png', 'Ag196O240Zn240.077.png', 'Ag196O240Zn240.078.png', 'Ag196O240Zn240.079.png', 'Ag196O240Zn240.080.png', 'Ag196O240Zn240.081.png', 'Ag196O240Zn240.082.png', 'Ag196O240Zn240.083.png', 'Ag196O240Zn240.084.png', 'Ag196O240Zn240.085.png', 'Ag196O240Zn240.086.png', 'Ag196O240Zn240.087.png', 'Ag196O240Zn240.088.png', 'Ag196O240Zn240.089.png', 'Ag196O240Zn240.090.png', 'Ag196O240Zn240.091.png', 'Ag196O240Zn240.092.png', 'Ag196O240Zn240.093.png', 'Ag196O240Zn240.094.png', 'Ag196O240Zn240.095.png', 'Ag196O240Zn240.096.png', 'Ag196O240Zn240.097.png', 'Ag196O240Zn240.098.png', 'Ag196O240Zn240.099.png', 'Ag196O240Zn240.100.png', 'Ag196O240Zn240.101.png', 'Ag196O240Zn240.102.png', 'Ag196O240Zn240.103.png', 'Ag196O240Zn240.104.png', 'Ag196O240Zn240.105.png', 'Ag196O240Zn240.106.png', 'Ag196O240Zn240.107.png', 'Ag196O240Zn240.108.png', 'Ag196O240Zn240.109.png', 'Ag196O240Zn240.110.png', 'Ag196O240Zn240.111.png', 'Ag196O240Zn240.112.png', 'Ag196O240Zn240.113.png', 'Ag196O240Zn240.114.png', 'Ag196O240Zn240.115.png', 'Ag196O240Zn240.116.png', 'Ag196O240Zn240.117.png', 'Ag196O240Zn240.118.png', 'Ag196O240Zn240.119.png', 'Ag196O240Zn240.120.png', 'Ag196O240Zn240.121.png', 'Ag196O240Zn240.122.png', 'Ag196O240Zn240.123.png', 'Ag196O240Zn240.124.png', 'Ag196O240Zn240.125.png', 'Ag196O240Zn240.126.png', 'Ag196O240Zn240.127.png', 'Ag196O240Zn240.128.png', 'Ag196O240Zn240.129.png', 'Ag196O240Zn240.130.png', 'Ag196O240Zn240.131.png', 'Ag196O240Zn240.132.png', 'Ag196O240Zn240.133.png', 'Ag196O240Zn240.134.png', 'Ag196O240Zn240.135.png', 'Ag196O240Zn240.136.png', 'Ag196O240Zn240.137.png', 'Ag196O240Zn240.138.png', 'Ag196O240Zn240.139.png', 'Ag196O240Zn240.140.png', 'Ag196O240Zn240.141.png', 'Ag196O240Zn240.142.png', 'Ag196O240Zn240.143.png', 'Ag196O240Zn240.144.png', 'Ag196O240Zn240.145.png', 'Ag196O240Zn240.146.png', 'Ag196O240Zn240.147.png', 'Ag196O240Zn240.148.png', 'Ag196O240Zn240.149.png', 'Ag196O240Zn240.150.png', 'Ag196O240Zn240.151.png', 'Ag196O240Zn240.152.png', 'Ag196O240Zn240.153.png', 'Ag196O240Zn240.154.png', 'Ag196O240Zn240.155.png', 'Ag196O240Zn240.156.png', 'Ag196O240Zn240.157.png', 'Ag196O240Zn240.158.png', 'Ag196O240Zn240.159.png', 'Ag196O240Zn240.160.png', 'Ag196O240Zn240.161.png', 'Ag196O240Zn240.162.png', 'Ag196O240Zn240.163.png', 'Ag196O240Zn240.164.png', 'Ag196O240Zn240.165.png', 'Ag196O240Zn240.166.png', 'Ag196O240Zn240.167.png', 'Ag196O240Zn240.168.png', 'Ag196O240Zn240.169.png', 'Ag196O240Zn240.170.png', 'Ag196O240Zn240.171.png', 'Ag196O240Zn240.172.png', 'Ag196O240Zn240.173.png', 'Ag196O240Zn240.174.png', 'Ag196O240Zn240.175.png', 'Ag196O240Zn240.176.png', 'Ag196O240Zn240.177.png', 'Ag196O240Zn240.178.png', 'Ag196O240Zn240.179.png', 'Ag196O240Zn240.180.png', 'Ag196O240Zn240.181.png', 'Ag196O240Zn240.182.png', 'Ag196O240Zn240.183.png', 'Ag196O240Zn240.184.png', 'Ag196O240Zn240.185.png', 'Ag196O240Zn240.186.png', 'Ag196O240Zn240.187.png', 'Ag196O240Zn240.188.png', 'Ag196O240Zn240.189.png', 'Ag196O240Zn240.190.png', 'Ag196O240Zn240.191.png', 'Ag196O240Zn240.192.png', 'Ag196O240Zn240.193.png', 'Ag196O240Zn240.194.png', 'Ag196O240Zn240.195.png', 'Ag196O240Zn240.196.png', 'Ag196O240Zn240.197.png', 'Ag196O240Zn240.198.png', 'Ag196O240Zn240.199.png', 'Ag196O240Zn240.200.png', 'Ag196O240Zn240.201.png', 'Ag196O240Zn240.202.png', 'Ag196O240Zn240.203.png', 'Ag196O240Zn240.204.png', 'Ag196O240Zn240.205.png', 'Ag196O240Zn240.206.png', 'Ag196O240Zn240.207.png', 'Ag196O240Zn240.208.png', 'Ag196O240Zn240.209.png', 'Ag196O240Zn240.210.png', 'Ag196O240Zn240.211.png', 'Ag196O240Zn240.212.png', 'Ag196O240Zn240.213.png', 'Ag196O240Zn240.214.png', 'Ag196O240Zn240.215.png', 'Ag196O240Zn240.216.png', 'Ag196O240Zn240.217.png', 'Ag196O240Zn240.218.png', 'Ag196O240Zn240.219.png', 'Ag196O240Zn240.220.png', 'Ag196O240Zn240.221.png', 'Ag196O240Zn240.222.png', 'Ag196O240Zn240.223.png', 'Ag196O240Zn240.224.png', 'Ag196O240Zn240.225.png', 'Ag196O240Zn240.226.png', 'Ag196O240Zn240.227.png', 'Ag196O240Zn240.228.png', 'Ag196O240Zn240.229.png', 'Ag196O240Zn240.230.png', 'Ag196O240Zn240.231.png', 'Ag196O240Zn240.232.png', 'Ag196O240Zn240.233.png', 'Ag196O240Zn240.234.png', 'Ag196O240Zn240.235.png', 'Ag196O240Zn240.236.png', 'Ag196O240Zn240.237.png', 'Ag196O240Zn240.238.png', 'Ag196O240Zn240.239.png', 'Ag196O240Zn240.240.png', 'Ag196O240Zn240.241.png', 'Ag196O240Zn240.242.png', 'Ag196O240Zn240.243.png', 'Ag196O240Zn240.244.png', 'Ag196O240Zn240.245.png', 'Ag196O240Zn240.246.png', 'Ag196O240Zn240.247.png', 'Ag196O240Zn240.248.png', 'Ag196O240Zn240.249.png', 'Ag196O240Zn240.250.png', 'Ag196O240Zn240.251.png', 'Ag196O240Zn240.252.png', 'Ag196O240Zn240.253.png', 'Ag196O240Zn240.254.png', 'Ag196O240Zn240.255.png', 'Ag196O240Zn240.256.png', 'Ag196O240Zn240.257.png', 'Ag196O240Zn240.258.png', 'Ag196O240Zn240.259.png', 'Ag196O240Zn240.260.png', 'Ag196O240Zn240.261.png', 'Ag196O240Zn240.262.png', 'Ag196O240Zn240.263.png', 'Ag196O240Zn240.264.png', 'Ag196O240Zn240.265.png', 'Ag196O240Zn240.266.png', 'Ag196O240Zn240.267.png', 'Ag196O240Zn240.268.png', 'Ag196O240Zn240.269.png', 'Ag196O240Zn240.270.png', 'Ag196O240Zn240.271.png', 'Ag196O240Zn240.272.png', 'Ag196O240Zn240.273.png', 'Ag196O240Zn240.274.png', 'Ag196O240Zn240.275.png', 'Ag196O240Zn240.276.png', 'Ag196O240Zn240.277.png', 'Ag196O240Zn240.278.png', 'Ag196O240Zn240.279.png', 'Ag196O240Zn240.280.png', 'Ag196O240Zn240.281.png', 'Ag196O240Zn240.282.png', 'Ag196O240Zn240.283.png', 'Ag196O240Zn240.284.png', 'Ag196O240Zn240.285.png', 'Ag196O240Zn240.286.png', 'Ag196O240Zn240.287.png', 'Ag196O240Zn240.288.png', 'Ag196O240Zn240.289.png', 'Ag196O240Zn240.290.png', 'Ag196O240Zn240.291.png', 'Ag196O240Zn240.292.png', 'Ag196O240Zn240.293.png', 'Ag196O240Zn240.294.png', 'Ag196O240Zn240.295.png', 'Ag196O240Zn240.296.png', 'Ag196O240Zn240.297.png', 'Ag196O240Zn240.298.png', 'Ag196O240Zn240.299.png']\n"
     ]
    }
   ],
   "source": [
    "generate_video('./povray_folder','optimisation_orig.mp4',30)"
   ]
  },
  {
   "cell_type": "code",
   "execution_count": 45,
   "metadata": {},
   "outputs": [
    {
     "name": "stdout",
     "output_type": "stream",
     "text": [
      "-1.4254560000000023 1.4314520000000046\n",
      "0.005996000000002333\n"
     ]
    }
   ],
   "source": [
    "electrode = 0\n",
    "electrolyte = 0\n",
    "for atom in interface:\n",
    "    if atom.position[2] < 11:\n",
    "        electrode += atom.charge\n",
    "    else:\n",
    "        electrolyte += atom.charge\n",
    "print(electrode,electrolyte)\n",
    "print(electrolyte+electrode)"
   ]
  },
  {
   "cell_type": "code",
   "execution_count": 17,
   "metadata": {},
   "outputs": [
    {
     "data": {
      "text/plain": [
       "<Popen: returncode: None args: ['c:\\\\Users\\\\fcm19\\\\Miniconda3\\\\envs\\\\matchem...>"
      ]
     },
     "execution_count": 17,
     "metadata": {},
     "output_type": "execute_result"
    }
   ],
   "source": [
    "from constants import Har2eV\n",
    "def extract_difference_data(file:str,reference:float=0):\n",
    "    aligned_data = []\n",
    "    data = np.genfromtxt(file,delimiter=',')\n",
    "    for i in range(len(data)):\n",
    "        aligned_data.append([i,(data[i]-reference)*Har2eV])\n",
    "    return np.array(aligned_data)\n",
    "step1 = np.genfromtxt('./structures/Interface/NEB_01_24/interface_orig_opt/s1_energy.dat')\n",
    "step1f = np.genfromtxt('./structures/Interface/NEB_01_24/interface_orig_opt/s1_Graderror.dat')\n",
    "view(read('./structures/Interface/NEB_01_24/interface_orig_opt/s1_positions.xyz',index=':'))"
   ]
  },
  {
   "cell_type": "code",
   "execution_count": 10,
   "metadata": {},
   "outputs": [
    {
     "data": {
      "image/png": "[encoded data removed]",
      "text/plain": [
       "<Figure size 640x480 with 2 Axes>"
      ]
     },
     "metadata": {},
     "output_type": "display_data"
    }
   ],
   "source": [
    "fig,ax = plt.subplots(1,1)\n",
    "ax2 = ax.twinx()\n",
    "ax.plot(step1[:,0],step1[:,1]-step1[0,1],label='E$_{tot}$ (relative to step #1)')\n",
    "ax2.plot(step1[:,0],step1f*25.710,c='tab:orange',label = 'max. Gradient Error [eV/$\\AA$]')\n",
    "# ax.plot(step8[:,0],step8[:,1],label='Final Step NEB')\n",
    "# ax.plot(step12[:,0],step12[:,1],label='Next position over')\n",
    "# ax.set_ylabel('$E-E_0$(Final Step NEB)')\n",
    "ax2.legend(loc = 'upper right')\n",
    "ax2.set_yscale('log')\n",
    "ax.legend(loc='upper left')\n",
    "plt.savefig('./structures/Interface/NEB_01_24/energies_forces_s1.png',dpi = 250)"
   ]
  },
  {
   "cell_type": "code",
   "execution_count": 12,
   "metadata": {},
   "outputs": [
    {
     "data": {
      "text/plain": [
       "<Popen: returncode: None args: ['c:\\\\Users\\\\fcm19\\\\Miniconda3\\\\envs\\\\matchem...>"
      ]
     },
     "execution_count": 12,
     "metadata": {},
     "output_type": "execute_result"
    }
   ],
   "source": [
    "from constants import Har2eV\n",
    "def extract_difference_data(file:str,reference:float=0):\n",
    "    aligned_data = []\n",
    "    data = np.genfromtxt(file,delimiter=',')\n",
    "    for i in range(len(data)):\n",
    "        aligned_data.append([i,(data[i]-reference)*Har2eV])\n",
    "    return np.array(aligned_data)\n",
    "reference = np.genfromtxt('./structures/Interface/NEB_01_24/interface_orig_opt/cutoff_47Ry/Interface_bare_neb_energy.dat',delimiter=',')[0]\n",
    "step1 = extract_difference_data('./structures/Interface/NEB_01_24/interface_orig_opt/cutoff_47Ry/Interface_bare_neb_energy.dat',0)\n",
    "step1f = np.genfromtxt('./structures/Interface/NEB_01_24/interface_orig_opt/cutoff_47Ry/Interface_bare_neb_Graderror.dat')\n",
    "view(read('./structures/Interface/NEB_01_24/interface_orig_opt/cutoff_47Ry/Interface_bare_neb_positions.xyz',index=':'))"
   ]
  },
  {
   "cell_type": "code",
   "execution_count": 3,
   "metadata": {},
   "outputs": [
    {
     "data": {
      "text/plain": [
       "[<matplotlib.lines.Line2D at 0x2102d3a56a0>]"
      ]
     },
     "execution_count": 3,
     "metadata": {},
     "output_type": "execute_result"
    },
    {
     "data": {
      "image/png": "[encoded data removed]",
      "text/plain": [
       "<Figure size 640x480 with 1 Axes>"
      ]
     },
     "metadata": {},
     "output_type": "display_data"
    }
   ],
   "source": [
    "from constants import Har2eV\n",
    "low_cutoff = np.genfromtxt('./structures/Interface/NEB_01_24/interface_orig_opt/s1_energy.dat',delimiter=',')*Har2eV\n",
    "high_cutoff = np.genfromtxt('./structures/Interface/NEB_01_24/interface_orig_opt/cutoff_47Ry/Interface_bare_neb_energy.dat',delimiter=',')*Har2eV\n",
    "# plt.plot(low_cutoff)\n",
    "plt.plot(high_cutoff-high_cutoff[0])"
   ]
  },
  {
   "cell_type": "code",
   "execution_count": 5,
   "metadata": {},
   "outputs": [
    {
     "ename": "NameError",
     "evalue": "name 'np' is not defined",
     "output_type": "error",
     "traceback": [
      "\u001b[1;31m---------------------------------------------------------------------------\u001b[0m",
      "\u001b[1;31mNameError\u001b[0m                                 Traceback (most recent call last)",
      "Cell \u001b[1;32mIn[5], line 8\u001b[0m\n\u001b[0;32m      6\u001b[0m         aligned_data\u001b[38;5;241m.\u001b[39mappend([i,(data[i]\u001b[38;5;241m-\u001b[39mreference)\u001b[38;5;241m*\u001b[39mHar2eV])\n\u001b[0;32m      7\u001b[0m     \u001b[38;5;28;01mreturn\u001b[39;00m np\u001b[38;5;241m.\u001b[39marray(aligned_data)\n\u001b[1;32m----> 8\u001b[0m energy_middle \u001b[38;5;241m=\u001b[39m \u001b[43mnp\u001b[49m\u001b[38;5;241m.\u001b[39mgenfromtxt(\u001b[38;5;124m'\u001b[39m\u001b[38;5;124m./structures/Interface/NEB_01_24/middle_step_opt/Interface_bare_opt_middle_energy.dat\u001b[39m\u001b[38;5;124m'\u001b[39m,delimiter\u001b[38;5;241m=\u001b[39m\u001b[38;5;124m'\u001b[39m\u001b[38;5;124m,\u001b[39m\u001b[38;5;124m'\u001b[39m)\u001b[38;5;241m*\u001b[39mHar2eV\n\u001b[0;32m      9\u001b[0m step1f \u001b[38;5;241m=\u001b[39m np\u001b[38;5;241m.\u001b[39mgenfromtxt(\u001b[38;5;124m'\u001b[39m\u001b[38;5;124m./structures/Interface/NEB_01_24/middle_step_opt/Interface_bare_opt_middle_Graderror.dat\u001b[39m\u001b[38;5;124m'\u001b[39m)\n\u001b[0;32m     10\u001b[0m view(read(\u001b[38;5;124m'\u001b[39m\u001b[38;5;124m./structures/Interface/NEB_01_24/middle_step_opt/Interface_bare_opt_middle_positions.xyz\u001b[39m\u001b[38;5;124m'\u001b[39m,index\u001b[38;5;241m=\u001b[39m\u001b[38;5;124m'\u001b[39m\u001b[38;5;124m:\u001b[39m\u001b[38;5;124m'\u001b[39m))\n",
      "\u001b[1;31mNameError\u001b[0m: name 'np' is not defined"
     ]
    }
   ],
   "source": [
    "from constants import Har2eV\n",
    "def extract_difference_data(file:str,reference:float=0):\n",
    "    aligned_data = []\n",
    "    data = np.genfromtxt(file,delimiter=',')\n",
    "    for i in range(len(data)):\n",
    "        aligned_data.append([i,(data[i]-reference)*Har2eV])\n",
    "    return np.array(aligned_data)\n",
    "energy_middle = np.genfromtxt('./structures/Interface/NEB_01_24/middle_step_opt/Interface_bare_opt_middle_energy.dat',delimiter=',')*Har2eV\n",
    "step1f = np.genfromtxt('./structures/Interface/NEB_01_24/middle_step_opt/Interface_bare_opt_middle_Graderror.dat')\n",
    "view(read('./structures/Interface/NEB_01_24/middle_step_opt/Interface_bare_opt_middle_positions.xyz',index=':'))"
   ]
  },
  {
   "cell_type": "code",
   "execution_count": 5,
   "metadata": {},
   "outputs": [],
   "source": [
    "from constants import Har2eV\n",
    "def extract_difference_data(file:str,reference:float=0):\n",
    "    aligned_data = []\n",
    "    data = np.genfromtxt(file,delimiter=',')\n",
    "    for i in range(len(data)):\n",
    "        aligned_data.append([i,(data[i]-reference)*Har2eV])\n",
    "    return np.array(aligned_data)\n",
    "energy_far = np.genfromtxt('./structures/Interface/NEB_01_24/far_step_opt/Interface_bare_opt_far_energy.dat',delimiter=',')*Har2eV\n",
    "# step1f = np.genfromtxt('./structures/Interface/NEB_01_24/far_step_opt/Interface_bare_opt_middle_Graderror.dat')\n",
    "# view(read('./structures/Interface/NEB_01_24/far_step_opt/Interface_bare_opt_middle_positions.xyz',index=':'))"
   ]
  },
  {
   "cell_type": "code",
   "execution_count": 6,
   "metadata": {},
   "outputs": [
    {
     "data": {
      "text/plain": [
       "[<matplotlib.lines.Line2D at 0x1c3d04b0130>]"
      ]
     },
     "execution_count": 6,
     "metadata": {},
     "output_type": "execute_result"
    },
    {
     "data": {
      "image/png": "[encoded data removed]",
      "text/plain": [
       "<Figure size 640x480 with 1 Axes>"
      ]
     },
     "metadata": {},
     "output_type": "display_data"
    }
   ],
   "source": [
    "energy_orig = np.genfromtxt('./structures/Interface/NEB_01_24/interface_orig_opt/s1_energy.dat')*Har2eV\n",
    "plt.plot(energy_orig-energy_orig[-1])\n",
    "plt.plot(energy_middle-energy_orig[-1])\n",
    "plt.plot(energy_far-energy_orig[-1])"
   ]
  },
  {
   "cell_type": "code",
   "execution_count": 23,
   "metadata": {},
   "outputs": [
    {
     "name": "stdout",
     "output_type": "stream",
     "text": [
      "-1685431.2524368647\n",
      "-1685438.7010384211\n"
     ]
    }
   ],
   "source": [
    "print(energy_orig[0])\n",
    "print(energy_orig[-1])\n"
   ]
  },
  {
   "cell_type": "code",
   "execution_count": 24,
   "metadata": {},
   "outputs": [
    {
     "name": "stdout",
     "output_type": "stream",
     "text": [
      "3.5224636972416192\n",
      "3.511074906680733\n"
     ]
    }
   ],
   "source": [
    "print(energy_middle[-1]-energy_orig[-1])\n",
    "print(energy_far[-1]-energy_orig[-1])"
   ]
  },
  {
   "cell_type": "code",
   "execution_count": 3,
   "metadata": {},
   "outputs": [
    {
     "data": {
      "text/plain": [
       "<Popen: returncode: None args: ['c:\\\\Users\\\\fcm19\\\\Miniconda3\\\\envs\\\\matchem...>"
      ]
     },
     "execution_count": 3,
     "metadata": {},
     "output_type": "execute_result"
    }
   ],
   "source": [
    "from constants import Har2eV\n",
    "def extract_difference_data(file:str,reference:float=0):\n",
    "    aligned_data = []\n",
    "    data = np.genfromtxt(file,delimiter=',')\n",
    "    for i in range(len(data)):\n",
    "        aligned_data.append([i,(data[i]-reference)*Har2eV])\n",
    "    return np.array(aligned_data)\n",
    "reference = np.genfromtxt('./structures/Interface/NEB_01_24/hydrated_split/Interface_hydrated_opt_energy.dat',delimiter=',')\n",
    "step1 = extract_difference_data('./structures/Interface/NEB_01_24/hydrated_split/Interface_hydrated_opt_energy.dat',0)\n",
    "step1f = np.genfromtxt('./structures/Interface/NEB_01_24/hydrated_split/Interface_hydrated_opt_Graderror.dat')\n",
    "view(read('./structures/Interface/NEB_01_24/hydrated_split/Interface_hydrated_opt_positions.xyz',index=':'))"
   ]
  },
  {
   "cell_type": "code",
   "execution_count": null,
   "metadata": {},
   "outputs": [],
   "source": [
    "fig,ax = plt.subplots(1,1)\n",
    "ax2 = ax.twinx()\n",
    "ax.plot(step1[:,0],step1[:,1]-step1[0,1],label='E$_{tot}$ (relative to step #1)')\n",
    "ax2.plot(step1[:,0],step1f*25.710,c='tab:orange',label = 'max. Gradient Error [eV/$\\AA$]')\n",
    "# ax.plot(step8[:,0],step8[:,1],label='Final Step NEB')\n",
    "# ax.plot(step12[:,0],step12[:,1],label='Next position over')\n",
    "# ax.set_ylabel('$E-E_0$(Final Step NEB)')\n",
    "ax2.legend(loc = 'upper right')\n",
    "ax2.set_yscale('log')\n",
    "ax.legend(loc='upper left')\n",
    "plt.savefig('./structures/Interface/NEB_01_24/energies_forces_s1.png',dpi = 250)"
   ]
  },
  {
   "cell_type": "markdown",
   "metadata": {},
   "source": [
    "# Create force multipliers for partial optimisations"
   ]
  },
  {
   "cell_type": "code",
   "execution_count": 7,
   "metadata": {},
   "outputs": [
    {
     "name": "stdout",
     "output_type": "stream",
     "text": [
      "0 0 0\n",
      "0 0 0\n",
      "0 0 0\n",
      "0 0 0\n",
      "0 0 0\n",
      "0 0 0\n",
      "0 0 0\n",
      "1 1 1\n",
      "1 1 1\n",
      "1 1 1\n",
      "1 1 1\n",
      "1 1 1\n",
      "0 0 0\n",
      "0 0 0\n",
      "0 0 0\n",
      "0 0 0\n",
      "0 0 0\n",
      "0 0 0\n",
      "0 0 0\n",
      "0 0 0\n",
      "0 0 0\n",
      "1 1 1\n",
      "1 1 1\n",
      "1 1 1\n",
      "0 0 0\n",
      "0 0 0\n",
      "0 0 0\n",
      "0 0 0\n",
      "0 0 0\n",
      "0 0 0\n",
      "0 0 0\n",
      "0 0 0\n",
      "0 0 0\n",
      "0 0 0\n",
      "1 1 1\n",
      "1 1 1\n",
      "0 0 0\n",
      "0 0 0\n",
      "0 0 0\n",
      "0 0 0\n",
      "0 0 0\n",
      "0 0 0\n",
      "0 0 0\n",
      "0 0 0\n",
      "0 0 0\n",
      "0 0 0\n",
      "0 0 0\n",
      "0 0 0\n",
      "0 0 0\n",
      "0 0 0\n",
      "0 0 0\n",
      "0 0 0\n",
      "0 0 0\n",
      "0 0 0\n",
      "0 0 0\n",
      "0 0 0\n",
      "0 0 0\n",
      "1 1 1\n",
      "1 1 1\n",
      "1 1 1\n",
      "1 1 1\n",
      "1 1 1\n",
      "1 1 1\n",
      "1 1 1\n",
      "1 1 1\n",
      "1 1 1\n",
      "1 1 1\n",
      "1 1 1\n",
      "1 1 1\n",
      "0 0 0\n",
      "1 1 1\n",
      "1 1 1\n",
      "0 0 0\n",
      "0 0 0\n",
      "0 0 0\n",
      "0 0 0\n",
      "0 0 0\n",
      "0 0 0\n",
      "0 0 0\n",
      "0 0 0\n",
      "0 0 0\n",
      "0 0 0\n",
      "0 0 0\n",
      "0 0 0\n",
      "0 0 0\n",
      "0 0 0\n",
      "0 0 0\n",
      "0 0 0\n",
      "0 0 0\n",
      "0 0 0\n",
      "0 0 0\n",
      "0 0 0\n",
      "1 1 1\n",
      "0 0 0\n",
      "0 0 0\n",
      "0 0 0\n",
      "1 1 1\n",
      "0 0 0\n",
      "0 0 0\n",
      "0 0 0\n",
      "0 0 0\n",
      "0 0 0\n",
      "0 0 0\n",
      "0 0 0\n",
      "0 0 0\n",
      "0 0 0\n",
      "0 0 0\n",
      "0 0 0\n",
      "0 0 0\n",
      "0 0 0\n",
      "0 0 0\n",
      "0 0 0\n",
      "1 1 1\n",
      "0 0 0\n",
      "0 0 0\n",
      "0 0 0\n",
      "0 0 0\n",
      "0 0 0\n",
      "0 0 0\n",
      "0 0 0\n",
      "0 0 0\n",
      "0 0 0\n",
      "0 0 0\n",
      "0 0 0\n",
      "0 0 0\n",
      "0 0 0\n",
      "0 0 0\n",
      "0 0 0\n",
      "1 1 1\n",
      "0 0 0\n",
      "0 0 0\n",
      "0 0 0\n",
      "0 0 0\n",
      "0 0 0\n",
      "0 0 0\n",
      "0 0 0\n",
      "0 0 0\n",
      "0 0 0\n",
      "0 0 0\n",
      "0 0 0\n",
      "0 0 0\n",
      "0 0 0\n",
      "0 0 0\n",
      "0 0 0\n",
      "0 0 0\n",
      "0 0 0\n",
      "0 0 0\n",
      "0 0 0\n",
      "0 0 0\n",
      "0 0 0\n",
      "0 0 0\n",
      "0 0 0\n",
      "0 0 0\n",
      "0 0 0\n",
      "0 0 0\n",
      "0 0 0\n",
      "0 0 0\n",
      "0 0 0\n",
      "0 0 0\n",
      "0 0 0\n",
      "1 1 1\n",
      "1 1 1\n",
      "0 0 0\n",
      "0 0 0\n",
      "1 1 1\n",
      "1 1 1\n",
      "0 0 0\n",
      "0 0 0\n",
      "1 1 1\n",
      "0 0 0\n",
      "0 0 0\n",
      "0 0 0\n",
      "1 1 1\n",
      "0 0 0\n",
      "0 0 0\n",
      "0 0 0\n",
      "1 1 1\n",
      "0 0 0\n",
      "0 0 0\n",
      "0 0 0\n",
      "0 0 0\n",
      "0 0 0\n",
      "0 0 0\n",
      "0 0 0\n",
      "0 0 0\n",
      "0 0 0\n",
      "0 0 0\n",
      "0 0 0\n",
      "0 0 0\n",
      "0 0 0\n",
      "0 0 0\n",
      "0 0 0\n",
      "0 0 0\n",
      "0 0 0\n",
      "0 0 0\n",
      "0 0 0\n",
      "0 0 0\n",
      "0 0 0\n",
      "0 0 0\n",
      "0 0 0\n",
      "0 0 0\n",
      "0 0 0\n",
      "0 0 0\n",
      "0 0 0\n",
      "0 0 0\n",
      "0 0 0\n",
      "0 0 0\n",
      "0 0 0\n",
      "0 0 0\n",
      "0 0 0\n",
      "0 0 0\n",
      "0 0 0\n",
      "0 0 0\n",
      "0 0 0\n",
      "0 0 0\n",
      "0 0 0\n",
      "0 0 0\n",
      "0 0 0\n",
      "0 0 0\n",
      "0 0 0\n",
      "0 0 0\n",
      "0 0 0\n",
      "0 0 0\n",
      "0 0 0\n",
      "0 0 0\n",
      "0 0 0\n",
      "0 0 0\n",
      "0 0 0\n",
      "0 0 0\n",
      "0 0 0\n",
      "0 0 0\n",
      "0 0 0\n",
      "0 0 0\n",
      "0 0 0\n",
      "0 0 0\n",
      "0 0 0\n",
      "0 0 0\n",
      "0 0 0\n",
      "0 0 0\n",
      "0 0 0\n",
      "0 0 0\n",
      "0 0 0\n",
      "0 0 0\n",
      "0 0 0\n",
      "0 0 0\n",
      "0 0 0\n",
      "0 0 0\n",
      "0 0 0\n",
      "0 0 0\n",
      "0 0 0\n",
      "0 0 0\n",
      "0 0 0\n",
      "0 0 0\n",
      "0 0 0\n",
      "0 0 0\n",
      "0 0 0\n",
      "0 0 0\n",
      "0 0 0\n",
      "0 0 0\n",
      "0 0 0\n",
      "0 0 0\n",
      "0 0 0\n",
      "0 0 0\n",
      "0 0 0\n",
      "0 0 0\n",
      "0 0 0\n",
      "0 0 0\n",
      "0 0 0\n",
      "0 0 0\n",
      "0 0 0\n",
      "0 0 0\n",
      "0 0 0\n",
      "0 0 0\n",
      "0 0 0\n",
      "0 0 0\n",
      "0 0 0\n",
      "0 0 0\n",
      "1 1 1\n",
      "1 1 1\n",
      "0 0 0\n",
      "0 0 0\n",
      "0 0 0\n",
      "0 0 0\n",
      "0 0 0\n",
      "0 0 0\n",
      "1 1 1\n",
      "1 1 1\n",
      "0 0 0\n",
      "0 0 0\n",
      "0 0 0\n",
      "0 0 0\n",
      "0 0 0\n",
      "0 0 0\n",
      "1 1 1\n",
      "1 1 1\n",
      "1 1 1\n",
      "0 0 0\n",
      "0 0 0\n",
      "0 0 0\n",
      "0 0 0\n",
      "0 0 0\n",
      "0 0 0\n",
      "0 0 0\n",
      "0 0 0\n",
      "0 0 0\n",
      "0 0 0\n",
      "0 0 0\n",
      "0 0 0\n",
      "0 0 0\n",
      "0 0 0\n",
      "0 0 0\n",
      "1 1 1\n",
      "1 1 1\n",
      "0 0 0\n",
      "1 1 1\n",
      "1 1 1\n",
      "0 0 0\n",
      "1 1 1\n",
      "1 1 1\n",
      "1 1 1\n",
      "1 1 1\n",
      "0 0 0\n",
      "1 1 1\n",
      "1 1 1\n",
      "0 0 0\n",
      "1 1 1\n",
      "1 1 1\n",
      "1 1 1\n",
      "1 1 1\n",
      "0 0 0\n",
      "1 1 1\n",
      "1 1 1\n",
      "1 1 1\n",
      "1 1 1\n",
      "1 1 1\n",
      "1 1 1\n",
      "0 0 0\n",
      "0 0 0\n",
      "0 0 0\n",
      "0 0 0\n",
      "0 0 0\n",
      "0 0 0\n",
      "0 0 0\n",
      "0 0 0\n",
      "0 0 0\n",
      "0 0 0\n",
      "0 0 0\n",
      "0 0 0\n",
      "0 0 0\n",
      "0 0 0\n",
      "0 0 0\n",
      "0 0 0\n",
      "0 0 0\n",
      "0 0 0\n",
      "0 0 0\n",
      "0 0 0\n",
      "0 0 0\n",
      "0 0 0\n",
      "0 0 0\n",
      "0 0 0\n",
      "0 0 0\n",
      "0 0 0\n",
      "0 0 0\n",
      "0 0 0\n",
      "0 0 0\n",
      "0 0 0\n",
      "0 0 0\n",
      "0 0 0\n",
      "0 0 0\n",
      "0 0 0\n",
      "0 0 0\n",
      "0 0 0\n",
      "0 0 0\n",
      "0 0 0\n",
      "0 0 0\n",
      "0 0 0\n",
      "0 0 0\n",
      "0 0 0\n",
      "0 0 0\n",
      "0 0 0\n",
      "0 0 0\n",
      "0 0 0\n",
      "0 0 0\n",
      "0 0 0\n",
      "0 0 0\n",
      "0 0 0\n",
      "0 0 0\n",
      "0 0 0\n",
      "0 0 0\n",
      "0 0 0\n",
      "0 0 0\n",
      "0 0 0\n",
      "0 0 0\n",
      "0 0 0\n",
      "0 0 0\n",
      "0 0 0\n",
      "0 0 0\n",
      "0 0 0\n",
      "0 0 0\n",
      "0 0 0\n",
      "0 0 0\n",
      "0 0 0\n",
      "0 0 0\n",
      "0 0 0\n",
      "0 0 0\n",
      "0 0 0\n",
      "0 0 0\n",
      "0 0 0\n",
      "0 0 0\n",
      "0 0 0\n",
      "1 1 1\n",
      "1 1 1\n",
      "0 0 0\n",
      "1 1 1\n",
      "1 1 1\n",
      "0 0 0\n",
      "1 1 1\n",
      "1 1 1\n",
      "1 1 1\n",
      "1 1 1\n",
      "0 0 0\n",
      "1 1 1\n",
      "1 1 1\n",
      "0 0 0\n",
      "1 1 1\n",
      "1 1 1\n",
      "1 1 1\n",
      "1 1 1\n",
      "0 0 0\n",
      "1 1 1\n",
      "1 1 1\n",
      "1 1 1\n",
      "1 1 1\n",
      "1 1 1\n",
      "1 1 1\n",
      "1 1 1\n",
      "0 0 0\n",
      "0 0 0\n",
      "0 0 0\n",
      "0 0 0\n",
      "0 0 0\n",
      "0 0 0\n",
      "0 0 0\n",
      "0 0 0\n",
      "0 0 0\n",
      "0 0 0\n",
      "0 0 0\n",
      "0 0 0\n",
      "0 0 0\n",
      "0 0 0\n",
      "0 0 0\n",
      "0 0 0\n",
      "0 0 0\n",
      "0 0 0\n",
      "1 1 1\n",
      "1 1 1\n",
      "0 0 0\n",
      "0 0 0\n",
      "1 1 1\n",
      "1 1 1\n",
      "0 0 0\n",
      "0 0 0\n",
      "1 1 1\n",
      "1 1 1\n",
      "0 0 0\n",
      "0 0 0\n",
      "1 1 1\n",
      "1 1 1\n",
      "0 0 0\n",
      "0 0 0\n",
      "1 1 1\n",
      "1 1 1\n",
      "0 0 0\n",
      "1 1 1\n",
      "1 1 1\n",
      "1 1 1\n",
      "0 0 0\n",
      "0 0 0\n",
      "0 0 0\n",
      "0 0 0\n",
      "0 0 0\n",
      "0 0 0\n",
      "0 0 0\n",
      "0 0 0\n",
      "0 0 0\n",
      "0 0 0\n",
      "0 0 0\n",
      "0 0 0\n",
      "0 0 0\n",
      "0 0 0\n",
      "0 0 0\n",
      "0 0 0\n",
      "0 0 0\n",
      "0 0 0\n",
      "0 0 0\n",
      "0 0 0\n",
      "0 0 0\n",
      "0 0 0\n",
      "0 0 0\n",
      "0 0 0\n",
      "0 0 0\n",
      "0 0 0\n",
      "0 0 0\n",
      "0 0 0\n",
      "0 0 0\n",
      "0 0 0\n",
      "0 0 0\n",
      "0 0 0\n",
      "0 0 0\n",
      "0 0 0\n",
      "0 0 0\n",
      "0 0 0\n",
      "0 0 0\n",
      "0 0 0\n",
      "0 0 0\n",
      "0 0 0\n",
      "0 0 0\n",
      "0 0 0\n",
      "0 0 0\n",
      "0 0 0\n",
      "0 0 0\n",
      "0 0 0\n",
      "0 0 0\n",
      "0 0 0\n",
      "0 0 0\n",
      "0 0 0\n",
      "0 0 0\n",
      "0 0 0\n",
      "0 0 0\n",
      "0 0 0\n",
      "0 0 0\n",
      "0 0 0\n",
      "0 0 0\n",
      "0 0 0\n",
      "0 0 0\n",
      "0 0 0\n",
      "0 0 0\n",
      "0 0 0\n",
      "0 0 0\n",
      "0 0 0\n",
      "0 0 0\n",
      "0 0 0\n",
      "0 0 0\n",
      "0 0 0\n",
      "0 0 0\n",
      "0 0 0\n",
      "0 0 0\n",
      "0 0 0\n",
      "0 0 0\n",
      "0 0 0\n",
      "0 0 0\n",
      "0 0 0\n",
      "0 0 0\n",
      "0 0 0\n",
      "0 0 0\n",
      "0 0 0\n",
      "0 0 0\n",
      "0 0 0\n",
      "0 0 0\n",
      "0 0 0\n",
      "0 0 0\n",
      "0 0 0\n",
      "0 0 0\n",
      "0 0 0\n",
      "0 0 0\n",
      "0 0 0\n",
      "0 0 0\n",
      "0 0 0\n",
      "0 0 0\n",
      "0 0 0\n",
      "0 0 0\n",
      "0 0 0\n",
      "0 0 0\n",
      "0 0 0\n",
      "0 0 0\n",
      "0 0 0\n",
      "0 0 0\n",
      "0 0 0\n",
      "0 0 0\n",
      "0 0 0\n",
      "0 0 0\n",
      "0 0 0\n",
      "0 0 0\n",
      "0 0 0\n",
      "0 0 0\n",
      "0 0 0\n",
      "0 0 0\n",
      "0 0 0\n",
      "0 0 0\n",
      "0 0 0\n",
      "0 0 0\n",
      "0 0 0\n",
      "0 0 0\n",
      "0 0 0\n",
      "0 0 0\n",
      "0 0 0\n",
      "0 0 0\n",
      "0 0 0\n",
      "0 0 0\n",
      "0 0 0\n",
      "0 0 0\n",
      "0 0 0\n",
      "0 0 0\n",
      "0 0 0\n",
      "0 0 0\n",
      "0 0 0\n",
      "0 0 0\n",
      "0 0 0\n",
      "0 0 0\n",
      "0 0 0\n",
      "0 0 0\n",
      "0 0 0\n",
      "0 0 0\n",
      "0 0 0\n",
      "0 0 0\n",
      "0 0 0\n",
      "0 0 0\n",
      "0 0 0\n",
      "0 0 0\n",
      "0 0 0\n",
      "0 0 0\n",
      "0 0 0\n",
      "0 0 0\n",
      "0 0 0\n",
      "0 0 0\n",
      "1 1 1\n",
      "0 0 0\n",
      "0 0 0\n",
      "0 0 0\n",
      "0 0 0\n",
      "1 1 1\n",
      "1 1 1\n",
      "1 1 1\n",
      "1 1 1\n",
      "1 1 1\n",
      "1 1 1\n",
      "0 0 0\n",
      "0 0 0\n",
      "0 0 0\n",
      "1 1 1\n",
      "1 1 1\n",
      "1 1 1\n",
      "1 1 1\n",
      "1 1 1\n",
      "1 1 1\n",
      "1 1 1\n",
      "0 0 0\n",
      "0 0 0\n",
      "0 0 0\n",
      "0 0 0\n",
      "1 1 1\n",
      "1 1 1\n",
      "1 1 1\n",
      "1 1 1\n",
      "1 1 1\n",
      "1 1 1\n",
      "0 0 0\n",
      "0 0 0\n",
      "0 0 0\n",
      "0 0 0\n",
      "0 0 0\n",
      "0 0 0\n",
      "0 0 0\n",
      "0 0 0\n",
      "0 0 0\n",
      "0 0 0\n",
      "0 0 0\n",
      "0 0 0\n",
      "0 0 0\n",
      "0 0 0\n",
      "0 0 0\n",
      "0 0 0\n",
      "0 0 0\n",
      "0 0 0\n",
      "0 0 0\n",
      "0 0 0\n",
      "\n"
     ]
    },
    {
     "data": {
      "text/plain": [
       "<Popen: returncode: None args: ['c:\\\\Users\\\\fcm19\\\\Miniconda3\\\\envs\\\\matchem...>"
      ]
     },
     "execution_count": 7,
     "metadata": {},
     "output_type": "execute_result"
    }
   ],
   "source": [
    "start = read('./structures/Interface/NEB_01_24/interface_orig_opt/Interface_fully_optimised.xyz')\n",
    "charges = np.zeros(len(start.get_initial_charges()))\n",
    "for i in range(len(start.get_initial_charges())):\n",
    "    if start.get_distance(59,i) < 6.5:\n",
    "        charges[i] = 1.0\n",
    "start = read('./structures/Interface/NEB_01_24/Interface_close_half.xyz')\n",
    "for i in range(len(start.get_initial_charges())):\n",
    "    if start.get_distance(59,i) < 6.5:\n",
    "        charges[i] = 1.0\n",
    "start = read('./structures/Interface/NEB_01_24/Interface_close.xyz')\n",
    "for i in range(len(start.get_initial_charges())):\n",
    "    if start.get_distance(59,i) < 6.5:\n",
    "        charges[i] = 1.0\n",
    "start = read('./structures/Interface/NEB_01_24/interface_middle.xyz')\n",
    "for i in range(len(start.get_initial_charges())):\n",
    "    if start.get_distance(59,i) < 6.5:\n",
    "        charges[i] = 1.0\n",
    "start = read('./structures/Interface/NEB_01_24/interface_far.xyz')\n",
    "for i in range(len(start.get_initial_charges())):\n",
    "    if start.get_distance(59,i) < 6.5:\n",
    "        charges[i] = 1.0\n",
    "\n",
    "forces = ''\n",
    "for charge in charges:\n",
    "    if charge: \n",
    "        forces += '1 1 1\\n'\n",
    "    else:\n",
    "        forces += '0 0 0\\n'\n",
    "print(forces)\n",
    "# charges[59] = 1.0\n",
    "start.set_initial_charges(charges)\n",
    "view(start)"
   ]
  },
  {
   "cell_type": "markdown",
   "metadata": {},
   "source": [
    "# Hydrated surfaces"
   ]
  },
  {
   "cell_type": "code",
   "execution_count": 15,
   "metadata": {},
   "outputs": [
    {
     "name": "stdout",
     "output_type": "stream",
     "text": [
      "[0. 0. 0.]\n",
      "[0.0, 0.0, 0.0, 0.0, 0.0, 0.0, 0.0, 0.0, 0.0, 0.0, 0.0, 0.0, 0.0, 0.0, 0.0, 0.0, 0.0, 0.0, 0.0, 0.0, 0.0, 0.0, 0.0, 0.0, 0.0, 0.0, 0.0, 0.0, 0.0, 0.0, 0.0, 0.0, 0.0, 0.0, 0.0, 0.0, 0.0, 0.0, 0.0, 0.0, 0.0, 0.0, 0.0, 0.0, 0.0, 0.0, 0.0, 0.0, 0.0, 0.0, 0.0, 0.0, 0.0, 0.0, 0.0, 0.0, 0.0, 0.0, 0.0, 0.0, 0.0, 0.0, 0.0, 0.0, 0.0, 0.0, 0.0, 0.0, 0.0, 0.0, 0.0, 0.0, 0.0, 0.0, 0.0, 0.0, 0.0, 0.0, 0.0, 0.0, 0.0, 0.0, 0.0, 0.0, 0.0, 0.0, 0.0, 0.0, 0.0, 0.0, 0.0, 0.0, 0.0, 0.0, 0.0, 0.0, 0.0, 0.0, 0.0, 0.0, 0.0, 0.0, 0.0, 0.0, 0.0, 0.0, 0.0, 0.0, 0.0, 0.0, 0.0, 0.0, 0.0, 0.0, 0.0, 0.0, 0.0, 0.0, 0.0, 0.0, 0.0, 0.0, 0.0, 0.0, 0.0, 0.0, 0.0, 0.0, 0.0, 0.0, 0.0, 0.0, 0.0, 0.0, 0.0, 0.0, 0.0, 0.0, 0.0, 0.0, 0.0, 0.0, 0.0, 0.0, 0.0, 0.0, 0.0, 0.0, 0.0, 0.0, 0.0, 0.0, 0.0, 0.0, 0.0, 0.0, 0.0, 0.0, 0.0, 0.0, 0.0, 0.0, 0.0, 0.0, 0.0, 0.0, 0.0, 0.0, 0.0, 0.0, 0.0, 0.0, 0.0, 0.0, 0.0, 0.0, 0.0, 0.0, 0.0, 0.0, 0.0, 0.0, 0.0, 0.0, 0.0, 0.0, 0.0, 0.0, 0.0, 0.0, 0.0, 0.0, 0.0, 0.0, 0.0, 0.0, 0.0, 0.0, 0.0, 0.0, 0.0, 0.0, 0.0, 0.0, 0.0, 0.0, 0.0, 0.0, 0.0, 0.0, 0.0, 0.0, 0.0, 0.0, 0.0, 0.0, 0.0, 0.0, 0.0, 0.0, 0.0, 0.0, 0.0, 0.0, 0.0, 0.0, 0.0, 0.0, 0.0, 0.0, 0.0, 0.0, 0.0, 0.0, 0.0, 0.0, 0.0, 0.0, 0.0, 0.0, 0.0, 0.0, 0.0, 0.0, 0.0, 0.0, 0.0, 0.0, 0.0, 0.0, 0.0, 0.0, 0.0, 0.0, 0.0, 0.0, 0.0, 0.0, 0.0, 0.0, 0.0, 0.0, 0.0, 0.0, 0.0, 0.0, 0.0, 0.0, 0.0, 0.0, 0.0, 0.0, 0.0, 0.0, 0.0, 0.0, 0.0, 0.0, 0.0, 0.0, 0.0, 0.0, 0.0, 0.0, 0.0, 0.0, 0.0, 0.0, 0.0, 0.0, 0.0, 0.0, 0.0, 0.0, 0.0, 0.0, 0.0, 0.0, 0.0, 0.0, 0.0, 0.0, 0.0, 0.0, 0.0, 0.0, 0.0, 0.0, 0.0, 0.0, 0.0, 0.0, 0.0, 0.0, 0.0, 0.0, 0.0, 0.0, 0.0, 0.0, 0.0, 0.0, 0.0, 0.0, 0.0, 0.0, 0.0, 0.0, 0.0, 0.0, 0.0, 0.0, 0.0, 0.0, 0.0, 0.0, 0.0, 0.0, 0.0, 0.0, 0.0, 0.0, 0.0, 0.0, 0.0, 0.0, 0.0, 0.0, 0.0, 0.0, 0.0, 0.0, 0.0, 0.0, 0.0, 0.0, 0.0, 0.0, 0.0, 0.0, 0.0, 0.0, 0.0, 0.0, 0.0, 0.0, 0.0, 0.0, 0.0, 0.0, 0.0, 0.0, 0.0, 0.0, 0.0, 0.0, 0.0, 0.0, 0.0, 0.0, 0.0, 0.0, 0.0, 0.0, 0.0, 0.0, 0.0, 0.0, 0.0, 0.0, 0.0, 0.0, 0.0, 0.0, 0.0, 0.0, 0.0, 0.0, 0.0, 0.0, 0.0, 0.0, 0.0, 0.0, 0.0, 0.0, 0.0, 0.0, 0.0, 0.0, 0.0, 0.0, 0.0, 0.0, 0.0, 0.0, 0.0, 0.0, 0.0, 0.0, 0.0, 0.0, 0.0, 0.0, 0.0, 0.0, 0.0, 0.0, 0.0, 0.0, 0.0, 0.0, 0.0, 0.0, 0.0, 0.0, 0.0, 0.0, 0.0, 0.0, 0.0, 0.0, 0.0, 0.0, 0.0, 0.0, 0.0, 0.0, 0.0, 0.0, 0.0, 0.0, 0.0, 0.0, 0.0, 0.0, 0.0, 0.0, 0.0, 0.0, 0.0, 0.0, 0.0, 0.0, 0.0, 0.0, 0.0, 0.0, 0.0, 0.0, 0.0, 0.0, 0.0, 0.0, 0.0, 0.0, 0.0, 0.0, 0.0, 0.0, 0.0, 0.0, 0.0, 0.0, 0.0, 0.0, 0.0, 0.0, 0.0, 0.0, 0.0, 0.0, 0.0, 0.0, 0.0, 0.0, 0.0, 0.0, 0.0, 0.0, 0.0, 0.0, 0.0, 0.0, 0.0, 0.0, 0.0, 0.0, 0.0, 0.0, 0.0, 0.0, 0.0, 0.0, 0.0, 0.0, 0.0, 0.0, 0.0, 0.0, 0.0, 0.0, 0.0, 0.0, 0.0, 0.0, 0.0, 0.0, 0.0, 0.0, 0.0, 0.0, 0.0, 0.0, 0.0, 0.0, 0.0, 0.0, 0.0, 0.0, 0.0, 0.0, 0.0, 0.0, 0.0, 0.0, 0.0, 0.0, 0.0, 0.0, 0.0, 0.0, 0.0, 0.0, 0.0, 0.0, 0.0, 0.0, 0.0, 0.0, 0.0, 0.0, 0.0, 0.0, 0.0, 0.0, 0.0, 0.0, 0.0, 0.0, 0.0, 0.0, 0.0, 0.0, 0.0, 0.0, 0.0, 0.0, 0.0, 0.0, 0.0, 0.0, 0.0, 0.0, 0.0, 0.0, 0.0, 0.0, 0.0, 0.0, 0.0, 0.0, 0.0, 0.0, 0.0, 0.0, 0.0, 0.0, 0.0, 0.0, 0.0, 0.0, 0.0, 0.0, 0.0, 0.0, 0.0, 0.0, 0.0, 0.0, 0.0, 0.0, 0.0, 0.0, 0.0, 0.0, 0.0, 0.0, 0.0, 0.0, 0.0, 0.0, 0.0, 0.0, 0.0, 0.0, 0.0, 0.0, 0.0, 0.0, 0.0, 0.0, 0.0, 0.0, 0.0, 0.0, 0.0, 0.0, 0.0, 0.0, 0.0, 0.0, 0.0, 0.0, 0.0, 0.0, 0.0, 0.0, 0.0, 0.0, 0.0, 0.0, 0.0, 0.0, 0.0, 0.0, 0.0, 0.0, 0.0, 0.0, 0.0, 0.0, 0.0, 0.0, 0.0, 0.0, 0.0, 0.0, 0.0, 0.0, 0.0, 0.0, 0.0, 0.0, 0.0, 0.0, 0.0, 0.0, 0.0, 0.0, 0.0, 0.0, 0.0, 0.0, 0.0, 0.0, 0.0, 0.0, 0.0, 0.0, 0.0, 0.0, 0.0, 0.0, 0.0, 0.0, 0.0, 0.0, 0.0, 0.0, 0.0, 0.0, 0.0, 0.0, 0.0, 0.0, 0.0, 0.0, 0.0, 0.0, 0.0, 0.0, 0.0, 0.0, 0.0, 0.0, 0.0, 0.0, 0.0, 0.0, 0.0, 0.0, 0.0, 0.0, 0.0, 0.0, 0.0, 0.0, 0.0, 0.0, 0.0, 0.0, 0.0, 0.0, 0.0, 0.0, 0.0, 0.0, 0.0, 0.0, 0.0, 0.0, 0.0, 0.0, 0.0, 0.0, 0.0, 0.0, 0.0, 0.0, 0.0, 0.0, 0.0, 0.0, 0.0, 0.0, 0.0, 0.0, 0.0, 0.0, 0.0, 0.0, 0.0, 0.0, 0.0, 0.0]\n",
      "0.0\n"
     ]
    }
   ],
   "source": [
    "split_test = read('./structures/Interface/hydrated_surface/geom_split_test.xyz')\n",
    "split_test_pos = split_test.get_positions()\n",
    "split = read('./structures/Interface/hydrated_surface/geom_split.xyz')\n",
    "split_pos = split.get_positions()\n",
    "charges = []\n",
    "for i in range(len(split.get_initial_charges())):\n",
    "    temp = abs(split_pos[i]-split_test_pos[i])\n",
    "    dist = np.sqrt(temp[0]**2+temp[1]**2+temp[2]**2)\n",
    "    charges.append(dist)\n",
    "print(charges)\n",
    "split.set_initial_charges(charges)\n",
    "view(split)\n",
    "print(np.sum(charges))"
   ]
  },
  {
   "cell_type": "code",
   "execution_count": 16,
   "metadata": {},
   "outputs": [
    {
     "data": {
      "text/plain": [
       "<Popen: returncode: None args: ['c:\\\\Users\\\\fcm19\\\\Miniconda3\\\\envs\\\\matchem...>"
      ]
     },
     "execution_count": 16,
     "metadata": {},
     "output_type": "execute_result"
    }
   ],
   "source": [
    "view(read('./structures/Interface/NEB_01_24/Interface_fully_optimised.xyz'))"
   ]
  },
  {
   "cell_type": "code",
   "execution_count": 17,
   "metadata": {},
   "outputs": [
    {
     "data": {
      "text/plain": [
       "<Popen: returncode: None args: ['c:\\\\Users\\\\fcm19\\\\Miniconda3\\\\envs\\\\matchem...>"
      ]
     },
     "execution_count": 17,
     "metadata": {},
     "output_type": "execute_result"
    }
   ],
   "source": [
    "view(read('./structures/Interface/hydrated_surface/geom_split.xyz'))"
   ]
  }
 ],
 "metadata": {
  "kernelspec": {
   "display_name": "matchem",
   "language": "python",
   "name": "python3"
  },
  "language_info": {
   "codemirror_mode": {
    "name": "ipython",
    "version": 3
   },
   "file_extension": ".py",
   "mimetype": "text/x-python",
   "name": "python",
   "nbconvert_exporter": "python",
   "pygments_lexer": "ipython3",
   "version": "3.9.19"
  }
 },
 "nbformat": 4,
 "nbformat_minor": 2
}
