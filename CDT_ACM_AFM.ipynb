{
 "cells": [
  {
   "cell_type": "code",
   "execution_count": 6,
   "metadata": {},
   "outputs": [
    {
     "name": "stdout",
     "output_type": "stream",
     "text": [
      "[10.  10.  10.  10.  10.  10.  10.  10.  10.  10.  10.  10.  10.  10.\n",
      " 10.  10.  10.  10.  10.  10.  10.  10.  10.  10.  10.  10.   9.6  9.2\n",
      "  8.8  8.4  8.   7.6  7.2  6.8  6.4  6.   5.6  5.2  4.8  4.4  4.   3.6\n",
      "  3.2  2.8  2.4  2.   1.6  1.2  0.8  0.4  0.   0.4  0.8  1.2  1.6  2.\n",
      "  2.4  2.8  3.2  3.6  4.   4.4  4.8  5.2  5.6  6.   6.4  6.8  7.2  7.6\n",
      "  8.   8.4  8.8  9.2  9.6 10.  10.  10.  10.  10.  10.  10.  10.  10.\n",
      " 10.  10.  10.  10.  10.  10.  10.  10.  10.  10.  10.  10.  10.  10.\n",
      " 10.  10. ]\n",
      "100\n"
     ]
    }
   ],
   "source": [
    "import numpy as np\n",
    "import matplotlib.pyplot as plt\n",
    "from matplotlib import cm\n",
    "\n",
    "def parabola(x,length,height):\n",
    "    if x < length/4 or x > length*3/4:\n",
    "        return height\n",
    "    elif length/4 <= x <= length*3/4:\n",
    "        return (height)/((length/4)**4)*(x-(length/2))**4\n",
    "    else:\n",
    "        return height\n",
    "def v_groove(x,length,height):\n",
    "    if x < length/4 or x > length*3/4:\n",
    "        return height\n",
    "    elif length/4 <= x <= length/2:\n",
    "        return (-4*height/length)*x+(2*height)\n",
    "    elif length/2 <= x <= length*3/4:\n",
    "        return (4*height/length)*x-(2*height)\n",
    "    else:\n",
    "        return height\n",
    "\n",
    "x = 100\n",
    "y = 100\n",
    "height = 10\n",
    "offset = 2\n",
    "skew_val = 5\n",
    "b = int(x/offset)\n",
    "\n",
    "zs = np.zeros([x,y])\n",
    "xs = np.zeros([x,y])\n",
    "ys = np.zeros([x,y])\n",
    "rng = np.random.Generator(np.random.PCG64())\n",
    "\n",
    "for idx in range(x):\n",
    "    for jdx in range(y):\n",
    "        zs[idx,jdx] = rng.random()\n",
    "        xs[idx,jdx] = idx\n",
    "        ys[idx,jdx] = jdx\n",
    "\n",
    "profile = np.zeros(y)\n",
    "for idx in range(len(profile)):\n",
    "    profile[idx] = v_groove(idx,len(profile),height)\n",
    "    # profile[idx] = parabola(idx,len(profile),height)\n",
    "print(profile)\n",
    "print(len(profile))\n",
    "for i in range(x):\n",
    "    zs[i,:] += profile\n",
    "for i in range(x):\n",
    "    zs[i,:] += i/(y/skew_val)\n",
    "\n",
    "# plt.figure(facecolor='darkgrey')\n",
    "for i in range(1,b+1):\n",
    "    fig,ax = plt.subplots(1,1,subplot_kw={'projection':'3d'})\n",
    "    ax.set(xlim=[-2,x+2],ylim=[-2,y+2],zlim=[0,height+5])\n",
    "    # surf = ax.plot_surface(xs[:i*offset,:],ys[:i*offset,:],zs[:i*offset,:],cmap=cm.viridis,linewidth=2,vmin=np.nanmin(zs),vmax=np.nanmax(zs),rcount=100,ccount=100)\n",
    "    surf = ax.plot_surface(xs[:offset,:i*offset],ys[:offset,:i*offset],zs[:offset,:i*offset],cmap=cm.viridis,linewidth=2,vmin=np.nanmin(zs),vmax=np.nanmax(zs),rcount=100,ccount=100)\n",
    "    ax.xaxis.set_pane_color((1.0, 1.0, 1.0, 0.0)) \n",
    "    ax.yaxis.set_pane_color((1.0, 1.0, 1.0, 0.0)) \n",
    "    ax.zaxis.set_pane_color((1.0, 1.0, 1.0, 0.0))\n",
    "    ax.xaxis.line.set_color((1.0, 1.0, 1.0, 0.0))\n",
    "    ax.yaxis.line.set_color((1.0, 1.0, 1.0, 0.0))\n",
    "    ax.zaxis.line.set_color((1.0, 1.0, 1.0, 0.0)) \n",
    "    ax.set_xticks([])                               \n",
    "    ax.set_yticks([])                               \n",
    "    ax.set_zticks([])\n",
    "    plt.tight_layout()\n",
    "    plt.savefig(f'../../CDT/AFM_visuals/AFM_3d_projection_{i:03}.png',dpi=350,transparent=True,facecolor='darkgrey')\n",
    "    ax.view_init(elev=25, azim=165)\n",
    "    plt.savefig(f'../../CDT/AFM_visuals/Behind_AFM_3d_projection_{i:03}.png',dpi=350,transparent=True,facecolor='darkgrey')\n",
    "    plt.close()\n",
    "for i in range(1,b+1):\n",
    "    fig,ax = plt.subplots(1,1,subplot_kw={'projection':'3d'})\n",
    "    ax.set(xlim=[-2,x+2],ylim=[-2,y+2],zlim=[0,height+5])\n",
    "    surf = ax.plot_surface(xs[:i*offset,:],ys[:i*offset,:],zs[:i*offset,:],cmap=cm.viridis,linewidth=2,vmin=np.nanmin(zs),vmax=np.nanmax(zs),rcount=100,ccount=100)\n",
    "    # surf = ax.plot_surface(xs[:offset,:i*offset],ys[:offset,:i*offset],zs[:offset,:i*offset],cmap=cm.viridis,linewidth=2,vmin=np.nanmin(zs),vmax=np.nanmax(zs),rcount=100,ccount=100)\n",
    "    ax.xaxis.set_pane_color((1.0, 1.0, 1.0, 0.0)) \n",
    "    ax.yaxis.set_pane_color((1.0, 1.0, 1.0, 0.0)) \n",
    "    ax.zaxis.set_pane_color((1.0, 1.0, 1.0, 0.0))\n",
    "    ax.xaxis.line.set_color((1.0, 1.0, 1.0, 0.0))\n",
    "    ax.yaxis.line.set_color((1.0, 1.0, 1.0, 0.0))\n",
    "    ax.zaxis.line.set_color((1.0, 1.0, 1.0, 0.0)) \n",
    "    ax.set_xticks([])                               \n",
    "    ax.set_yticks([])                               \n",
    "    ax.set_zticks([])\n",
    "    plt.tight_layout()\n",
    "    plt.savefig(f'../../CDT/AFM_visuals/AFM_3d_projection_{i+50:03}.png',dpi=350,transparent=True,facecolor='darkgrey')\n",
    "    ax.view_init(elev=25, azim=165)\n",
    "    plt.savefig(f'../../CDT/AFM_visuals/Behind_AFM_3d_projection_{i+50:03}.png',transparent=True,dpi=350,facecolor='darkgrey')\n",
    "    plt.close()\n",
    "fig,ax = plt.subplots(1,1)\n",
    "mat = ax.matshow(zs)\n",
    "plt.savefig('../../CDT/AFM_visuals/AFM_2d_projection.png',dpi=350,transparent=True,facecolor='grey')\n",
    "plt.close()"
   ]
  },
  {
   "cell_type": "code",
   "execution_count": 12,
   "metadata": {},
   "outputs": [
    {
     "name": "stdout",
     "output_type": "stream",
     "text": [
      "['Behind_AFM_3d_projection_001_behind.png', 'Behind_AFM_3d_projection_002_behind.png', 'Behind_AFM_3d_projection_003_behind.png', 'Behind_AFM_3d_projection_004_behind.png', 'Behind_AFM_3d_projection_005_behind.png', 'Behind_AFM_3d_projection_006_behind.png', 'Behind_AFM_3d_projection_007_behind.png', 'Behind_AFM_3d_projection_008_behind.png', 'Behind_AFM_3d_projection_009_behind.png', 'Behind_AFM_3d_projection_010_behind.png', 'Behind_AFM_3d_projection_011_behind.png', 'Behind_AFM_3d_projection_012_behind.png', 'Behind_AFM_3d_projection_013_behind.png', 'Behind_AFM_3d_projection_014_behind.png', 'Behind_AFM_3d_projection_015_behind.png', 'Behind_AFM_3d_projection_016_behind.png', 'Behind_AFM_3d_projection_017_behind.png', 'Behind_AFM_3d_projection_018_behind.png', 'Behind_AFM_3d_projection_019_behind.png', 'Behind_AFM_3d_projection_020_behind.png', 'Behind_AFM_3d_projection_021_behind.png', 'Behind_AFM_3d_projection_022_behind.png', 'Behind_AFM_3d_projection_023_behind.png', 'Behind_AFM_3d_projection_024_behind.png', 'Behind_AFM_3d_projection_025_behind.png', 'Behind_AFM_3d_projection_026_behind.png', 'Behind_AFM_3d_projection_027_behind.png', 'Behind_AFM_3d_projection_028_behind.png', 'Behind_AFM_3d_projection_029_behind.png', 'Behind_AFM_3d_projection_030_behind.png', 'Behind_AFM_3d_projection_031_behind.png', 'Behind_AFM_3d_projection_032_behind.png', 'Behind_AFM_3d_projection_033_behind.png', 'Behind_AFM_3d_projection_034_behind.png', 'Behind_AFM_3d_projection_035_behind.png', 'Behind_AFM_3d_projection_036_behind.png', 'Behind_AFM_3d_projection_037_behind.png', 'Behind_AFM_3d_projection_038_behind.png', 'Behind_AFM_3d_projection_039_behind.png', 'Behind_AFM_3d_projection_040_behind.png', 'Behind_AFM_3d_projection_041_behind.png', 'Behind_AFM_3d_projection_042_behind.png', 'Behind_AFM_3d_projection_043_behind.png', 'Behind_AFM_3d_projection_044_behind.png', 'Behind_AFM_3d_projection_045_behind.png', 'Behind_AFM_3d_projection_046_behind.png', 'Behind_AFM_3d_projection_047_behind.png', 'Behind_AFM_3d_projection_048_behind.png', 'Behind_AFM_3d_projection_049_behind.png', 'Behind_AFM_3d_projection_050_behind.png', 'Behind_AFM_3d_projection_051.png', 'Behind_AFM_3d_projection_052.png', 'Behind_AFM_3d_projection_053.png', 'Behind_AFM_3d_projection_054.png', 'Behind_AFM_3d_projection_055.png', 'Behind_AFM_3d_projection_056.png', 'Behind_AFM_3d_projection_057.png', 'Behind_AFM_3d_projection_058.png', 'Behind_AFM_3d_projection_059.png', 'Behind_AFM_3d_projection_060.png', 'Behind_AFM_3d_projection_061.png', 'Behind_AFM_3d_projection_062.png', 'Behind_AFM_3d_projection_063.png', 'Behind_AFM_3d_projection_064.png', 'Behind_AFM_3d_projection_065.png', 'Behind_AFM_3d_projection_066.png', 'Behind_AFM_3d_projection_067.png', 'Behind_AFM_3d_projection_068.png', 'Behind_AFM_3d_projection_069.png', 'Behind_AFM_3d_projection_070.png', 'Behind_AFM_3d_projection_071.png', 'Behind_AFM_3d_projection_072.png', 'Behind_AFM_3d_projection_073.png', 'Behind_AFM_3d_projection_074.png', 'Behind_AFM_3d_projection_075.png', 'Behind_AFM_3d_projection_076.png', 'Behind_AFM_3d_projection_077.png', 'Behind_AFM_3d_projection_078.png', 'Behind_AFM_3d_projection_079.png', 'Behind_AFM_3d_projection_080.png', 'Behind_AFM_3d_projection_081.png', 'Behind_AFM_3d_projection_082.png', 'Behind_AFM_3d_projection_083.png', 'Behind_AFM_3d_projection_084.png', 'Behind_AFM_3d_projection_085.png', 'Behind_AFM_3d_projection_086.png', 'Behind_AFM_3d_projection_087.png', 'Behind_AFM_3d_projection_088.png', 'Behind_AFM_3d_projection_089.png', 'Behind_AFM_3d_projection_090.png', 'Behind_AFM_3d_projection_091.png', 'Behind_AFM_3d_projection_092.png', 'Behind_AFM_3d_projection_093.png', 'Behind_AFM_3d_projection_094.png', 'Behind_AFM_3d_projection_095.png', 'Behind_AFM_3d_projection_096.png', 'Behind_AFM_3d_projection_097.png', 'Behind_AFM_3d_projection_098.png', 'Behind_AFM_3d_projection_099.png', 'Behind_AFM_3d_projection_100.png']\n"
     ]
    }
   ],
   "source": [
    "from python_functions import generate_video\n",
    "\n",
    "\n",
    "generate_video('../../CDT/AFM_visuals/u_groove/behind_view/','u_groove_behind_view',7.5)"
   ]
  },
  {
   "cell_type": "code",
   "execution_count": null,
   "metadata": {},
   "outputs": [],
   "source": []
  }
 ],
 "metadata": {
  "kernelspec": {
   "display_name": "matchem",
   "language": "python",
   "name": "python3"
  },
  "language_info": {
   "codemirror_mode": {
    "name": "ipython",
    "version": 3
   },
   "file_extension": ".py",
   "mimetype": "text/x-python",
   "name": "python",
   "nbconvert_exporter": "python",
   "pygments_lexer": "ipython3",
   "version": "3.9.18"
  }
 },
 "nbformat": 4,
 "nbformat_minor": 2
}
