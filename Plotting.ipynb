{
 "cells": [
  {
   "cell_type": "markdown",
   "metadata": {},
   "source": [
    "# Plots - BS, DOS, pDOS, QE, MTE, Murnaghan EOS, Convergence"
   ]
  },
  {
   "cell_type": "code",
   "execution_count": 1,
   "metadata": {},
   "outputs": [],
   "source": [
    "import subprocess\n",
    "import os\n",
    "from ase.io import read\n",
    "from ase.visualize import view\n",
    "from ase.build import surface\n",
    "import ase.calculators.castep\n",
    "import ase.io.castep\n",
    "\n",
    "\n",
    "from pymatgen.core.structure import Structure\n",
    "from pymatgen.io.ase import AseAtomsAdaptor\n",
    "from pymatgen.electronic_structure.bandstructure import BandStructureSymmLine\n",
    "from pymatgen.symmetry.kpath import KPathSetyawanCurtarolo,KPathLatimerMunro\n",
    "from pymatgen.electronic_structure.dos import *\n",
    "from pymatgen.electronic_structure.plotter import BSPlotter\n",
    "from pymatgen.symmetry.analyzer import SpacegroupAnalyzer\n",
    "from python_functions import *\n",
    "from bs_plotting import *\n",
    "import json\n",
    "%matplotlib inline\n",
    "import matplotlib.pyplot as plt\n",
    "import seaborn as sns\n",
    "import numpy as np"
   ]
  },
  {
   "cell_type": "code",
   "execution_count": null,
   "metadata": {},
   "outputs": [],
   "source": [
    "#%matplotlib inline\n",
    "bandstructure_cu = read_bands2pmg(path='./structures/GaAs_bulk/', export=False)\n",
    "#print(bandstructure_cu.distance)\n",
    "output = []\n",
    "for kpt in bandstructure_cu.kpoints:\n",
    "    output.append((kpt.label,kpt.cart_coords))\n",
    "plot = get_bs_plot(bandstructure_cu,ylim = (-5,5), size = [10,8])\n",
    "#plt.xlabel()\n",
    "plt.savefig('./structures/plots/GaAs_bulk_bandstruct_poster.png',dpi=400)"
   ]
  },
  {
   "cell_type": "code",
   "execution_count": null,
   "metadata": {},
   "outputs": [],
   "source": [
    "directory = './structures/Cu_surf_111/'\n",
    "work_fct = 3.52958434\n",
    "listOfFiles = os.listdir(directory)\n",
    "for item in listOfFiles:\n",
    "    if '_photo.odi' in item:\n",
    "        subprocess.call(f'sed -i \"s/.*work_function.*/workfunction : {round(work_fct,5)}/\" {directory}{item}',shell=True)\n",
    "#subprocess.call(,)\n",
    "#f'sed -i \"s/.*work_function.*/workfunction : {round(work_fct,5)}/\" {directory}{item}'\n",
    "#f'sed -i \"s/.*slab_volume.*/slab_volume : {round(slab_vol,5)}/\" {path}{item}'"
   ]
  },
  {
   "cell_type": "code",
   "execution_count": null,
   "metadata": {},
   "outputs": [],
   "source": [
    "cell = read_cell2pmg('./structures/Cu_bulk_bandstruct_full/Cu_bulk_bandstruct_full.cell')\n",
    "cell = CastepOutput('./structures/Cu_surf_111/Cu_surf_111.castep').structure\n",
    "print(cell)\n",
    "view(cell)"
   ]
  },
  {
   "cell_type": "code",
   "execution_count": 2,
   "metadata": {},
   "outputs": [
    {
     "data": {
      "text/plain": [
       "<Popen: returncode: None args: ['/rds/general/user/fcm19/home/anaconda3/envs...>"
      ]
     },
     "execution_count": 2,
     "metadata": {},
     "output_type": "execute_result"
    },
    {
     "name": "stderr",
     "output_type": "stream",
     "text": [
      "usage: ase [-h] [--version] [-T]\n",
      "           {help,info,test,gui,db,run,band-structure,build,dimensionality,eos,ulm,find,nebplot,nomad-upload,nomad-get,convert,reciprocal,completion,diff,exec}\n",
      "           ...\n",
      "usage: ase [-h] [--version] [-T]\n",
      "           {help,info,test,gui,db,run,band-structure,build,dimensionality,eos,ulm,find,nebplot,nomad-upload,nomad-get,convert,reciprocal,completion,diff,exec}\n",
      "           ...\n",
      "ase: error: TclError: no display name and no $DISPLAY environment variable\n",
      "To get a full traceback, use: ase -T gui ...\n",
      "ase: error: TclError: no display name and no $DISPLAY environment variable\n",
      "To get a full traceback, use: ase -T gui ...\n"
     ]
    }
   ],
   "source": [
    "victor_struct = read('./structures/MgO_bulk_victor/MgO_bulk_eos.xyz')\n",
    "felix_struct = read('./structures/MgO_bulk_eos/old_otf_psp/MgO_bulk_eos.xyz')\n",
    "view(victor_struct)\n",
    "view(felix_struct)"
   ]
  },
  {
   "cell_type": "code",
   "execution_count": null,
   "metadata": {},
   "outputs": [],
   "source": [
    "view(AseAtomsAdaptor.get_atoms(cell))"
   ]
  },
  {
   "cell_type": "code",
   "execution_count": null,
   "metadata": {},
   "outputs": [],
   "source": [
    "file_path = './structures/Cu_surf_111_photo/Cu_surf_111.castep'\n",
    "output = CastepOutput(file_path)#\n",
    "print(output.structure)"
   ]
  },
  {
   "cell_type": "code",
   "execution_count": null,
   "metadata": {},
   "outputs": [],
   "source": [
    "seed = 'Cu_bulk_spectral_pdos'\n",
    "seed = 'Cu_surf_111'\n",
    "eins, axis = plot_proj_dos_optados(seed, plot_down= False, plot_total= False, export_json=False,xlimit=(-10, 10))\n",
    "plt.savefig('Cu111_pdos_-10_10.png',dpi=200)"
   ]
  },
  {
   "cell_type": "code",
   "execution_count": null,
   "metadata": {},
   "outputs": [],
   "source": [
    "struct_110 = AseAtomsAdaptor.get_structure(read('./structures/Cu_surf_110/Cu_surf_110.xyz'))\n",
    "latimer = KPathLatimerMunro(struct_110)\n",
    "for index in range(12):\n",
    "    print('Latimer_Munroe Label:', latimer.LabelSymbol(index),'Point: ', latimer.LabelPoints(index))\n",
    "print('SetyawanCurtarolo/ASE',KPathSetyawanCurtarolo(struct_110).orc())"
   ]
  },
  {
   "cell_type": "markdown",
   "metadata": {},
   "source": [
    "I recommend using pymatgen to generate the bulk/slab and then convert it to an ASE atom object. The advantages of this approach are:\n",
    "- pymatgen has a better bulk/slab generation algorithm \n",
    "- castep can link a calculator to the Atom object\n"
   ]
  },
  {
   "cell_type": "markdown",
   "metadata": {},
   "source": [
    "#### Download and save .cif file for necessary materials"
   ]
  },
  {
   "cell_type": "code",
   "execution_count": null,
   "metadata": {},
   "outputs": [],
   "source": [
    "bulk = Structure.from_file(filename=\"Cu_metal_fcc.cif\")\n",
    "## print(bulk)\n",
    "print(bulk.volume)\n",
    "# print(bulk.lattice)\n",
    "# print(bulk.species)\n",
    "# print(bulk.sites)\n",
    "bulk.scale_lattice(11.94)\n",
    "analyser = SpacegroupAnalyzer(bulk)\n",
    "conventional = analyser.get_conventional_standard_structure()\n",
    "print(conventional.lattice)\n",
    "bulk_ase = AseAtomsAdaptor().get_atoms(bulk)\n",
    "## print(bulk_ase)\n",
    "# print(bulk)\n",
    "surface = ase.build.surface(lattice = bulk_ase, indices = (1,1,1), layers = 5, vacuum=15, tol=1e-10, periodic=True)\n",
    "#print(get_adjusted_kpts(bulk,AseAtomsAdaptor.get_structure(surface), [9,9,9] ))\n",
    "#view.add_unitcell()\n",
    "#view"
   ]
  },
  {
   "cell_type": "code",
   "execution_count": null,
   "metadata": {},
   "outputs": [],
   "source": [
    "surf_110 = read_cell2pmg('./structures/Cu_surfaces_debug/Cu_surf_110.cell')\n",
    "view(AseAtomsAdaptor.get_atoms(surf_110))\n",
    "surf_100 = read_cell2pmg('./structures/Cu_surfaces_debug/Cu_surf_100.cell')\n",
    "view(AseAtomsAdaptor.get_atoms(surf_100))"
   ]
  },
  {
   "cell_type": "markdown",
   "metadata": {},
   "source": [
    "#### Read the Cutoff Energy Results and Display as Graph"
   ]
  },
  {
   "cell_type": "code",
   "execution_count": null,
   "metadata": {
    "scrolled": true
   },
   "outputs": [],
   "source": [
    "seed = 'Cu_bulk_'\n",
    "path_pbe = './structures/Cu_bulk_convergence/cutoff/'\n",
    "path_sol = './structures/Cu_bulk_convergence/cutoff/PBEsol/'\n",
    "cutoffs = [200, 300, 400, 500, 566, 600]\n",
    "tot_energies, differences = {'pbe' : [],'pbesol' : []},{'pbe' : [],'pbesol' : []}\n",
    "for cut in cutoffs:\n",
    "    temp_pbe = CastepOutput(path = f'{path_pbe}{seed}{cut}/{seed}{cut}.castep')\n",
    "    temp_sol = CastepOutput(path= f'{path_sol}{seed}{cut}/{seed}{cut}.castep')\n",
    "    tot_energies['pbe'].append(temp_pbe.ks_total_energy)\n",
    "    tot_energies['pbesol'].append(temp_sol.ks_total_energy)\n",
    "\n",
    "for i in range(1,len(cutoffs)):\n",
    "    differences['pbe'].append(abs(tot_energies['pbe'][i]-tot_energies['pbe'][i-1]))\n",
    "    differences['pbesol'].append(abs(tot_energies['pbesol'][i]-tot_energies['pbesol'][i-1]))\n",
    "\n",
    "#print('Differences:', differences)\n",
    "#print('Total Energies:', tot_energies)\n",
    "#plt.rcParams['text.usetex'] = True\n",
    "sns.set_theme(style=\"darkgrid\")\n",
    "# Plot the responses for different events and regions\n",
    "print(differences)\n",
    "graph = sns.lineplot(x=cutoffs[1:], y=differences['pbe'])\n",
    "graph = sns.lineplot(x=cutoffs[1:], y=differences['pbesol'])\n",
    "graph.axhline(0.01285, ls = '--', c = 'red')\n",
    "graph.set(xlabel = 'energy cutoff [eV]', ylabel = r'$\\Delta E_{tot}$', title = 'Energy Cutoff Convergence')\n",
    "graph.set(xlim = (390,610), ylim =  (-0.01,0.5))\n",
    "plt.legend(labels=[r'PBE','PBEsol',r'$\\frac{1}{2}kT$'])\n",
    "plt.savefig('./structures/plots/convergence_comparison_cutoff_zoom.png')"
   ]
  },
  {
   "cell_type": "code",
   "execution_count": null,
   "metadata": {},
   "outputs": [],
   "source": [
    "subprocess.call('qstat', shell=True)"
   ]
  },
  {
   "cell_type": "code",
   "execution_count": null,
   "metadata": {},
   "outputs": [],
   "source": [
    "seed = 'Cu_bulk_'\n",
    "path_pbe = './structures/Cu_bulk_convergence/k_points/'\n",
    "path_sol = './structures/Cu_bulk_convergence/k_points/PBEsol/'\n",
    "cutoffs = [2,4,6,8,9,10,12,14,16,18]\n",
    "tot_energies, differences = {'pbe' : [],'pbesol' : []},{'pbe' : [],'pbesol' : []}\n",
    "for cut in cutoffs:\n",
    "    temp_pbe = CastepOutput(path = f'{path_pbe}{seed}{cut}/{seed}{cut}.castep')\n",
    "    temp_sol = CastepOutput(path= f'{path_sol}{seed}{cut}/{seed}{cut}.castep')\n",
    "    tot_energies['pbe'].append(temp_pbe.ks_total_energy)\n",
    "    tot_energies['pbesol'].append(temp_sol.ks_total_energy)\n",
    "\n",
    "for i in range(1,len(cutoffs)):\n",
    "    differences['pbe'].append(abs(tot_energies['pbe'][i]-tot_energies['pbe'][i-1]))\n",
    "    differences['pbesol'].append(abs(tot_energies['pbesol'][i]-tot_energies['pbesol'][i-1]))\n",
    "\n",
    "#print('Differences:', differences)\n",
    "#print('Total Energies:', tot_energies)\n",
    "#plt.rcParams['text.usetex'] = True\n",
    "sns.set_theme(style=\"darkgrid\")\n",
    "# Plot the responses for different events and regions\n",
    "print(differences)\n",
    "graph = sns.lineplot(x=cutoffs[1:], y=differences['pbe'])\n",
    "graph = sns.lineplot(x=cutoffs[1:], y=differences['pbesol'],alpha = 0.5)\n",
    "graph.axhline(0.01285, ls = '--', c = 'red')\n",
    "graph.set(xlabel = 'k-point grid #x#x#', ylabel = r'$\\Delta E_{tot}$', title = 'K-Point Grid Convergence')\n",
    "graph.set(xlim = (5.9,18), ylim =  (-0.01,0.1))\n",
    "plt.legend(labels=[r'PBE','PBEsol',r'$\\frac{1}{2}kT$'])\n",
    "plt.savefig('./structures/plots/comparison_kpoints_zoom.png',dpi = 250)"
   ]
  },
  {
   "cell_type": "markdown",
   "metadata": {},
   "source": [
    "#### Create scaled volume inputs, read the output files and create murnaghan plot"
   ]
  },
  {
   "cell_type": "code",
   "execution_count": null,
   "metadata": {},
   "outputs": [],
   "source": [
    "bulk = Structure.from_file(filename=\"./structures/data_files/materials/Ag_primitive.cif\")\n",
    "create_murnaghan_inputs(seed = 'Ag_bulk_eos', structure=bulk, cutoff = 750, kpoints=[16,16,16], min_max=(0.9,1.1,10))"
   ]
  },
  {
   "cell_type": "code",
   "execution_count": null,
   "metadata": {},
   "outputs": [],
   "source": [
    "bulk = Structure.from_file(filename=\"Cu_metal_fcc.cif\")\n",
    "seed = 'Cu_bulk_murn_ext'\n",
    "murn, minimal_struct, energies,volumes = read_murnaghan_outputs(seed = seed, structure = bulk,path = f'./structures/EOS_tests/PBEsol/{seed}/')\n",
    "fig= murn.plot()\n",
    "plt.style.use('seaborn-darkgrid')\n",
    "plt.savefig(f'./structures/plots/{seed}_pbesol.png',dpi = 300)"
   ]
  },
  {
   "cell_type": "markdown",
   "metadata": {},
   "source": [
    "#### Read the Results for Kpoint grid convergence and plot as graph"
   ]
  },
  {
   "cell_type": "markdown",
   "metadata": {},
   "source": [
    "ToDo: Modify the Kpoint convergence generation function to make a single input and then vary the values within the PBS script"
   ]
  },
  {
   "cell_type": "code",
   "execution_count": null,
   "metadata": {
    "scrolled": true
   },
   "outputs": [],
   "source": [
    "seeds = ['Cu_bulk_2','Cu_bulk_4','Cu_bulk_6','Cu_bulk_8','Cu_bulk_9','Cu_bulk_10','Cu_bulk_12','Cu_bulk_14','Cu_bulk_16','Cu_bulk_18']\n",
    "tot_energies = []\n",
    "differences = []\n",
    "kpoints = [4,6,8,9,10,12,14,16,18]\n",
    "kpoints2 = kpoints[1:]\n",
    "for seed in seeds:\n",
    "    temp_out = CastepOutput(path = f'./structures/kpt_convergence/{seed}.castep')\n",
    "    tot_energies.append(temp_out.ks_total_energy)\n",
    "for i in range(len(tot_energies)):\n",
    "    if i == 0:\n",
    "        pass\n",
    "    if i == len(tot_energies)-1:\n",
    "        break\n",
    "    differences.append(abs(tot_energies[i+1]-tot_energies[i]))\n",
    "sns.set_theme(style=\"darkgrid\")\n",
    "differences_2 = differences[1:]\n",
    "#print(differences_2)\n",
    "# Plot the responses for different events and regions\n",
    "graph = sns.lineplot(x=kpoints2, y=differences_2)\n",
    "graph.axhline(0.01285, ls = '--', c = 'red')\n",
    "graph.set(xlabel = 'MP k-point grid size (x,x,x)', ylabel = r'$\\Delta E_{tot}$ [eV]', title = 'K-point Grid Convergence')\n",
    "plt.legend(labels=[r'$\\Delta$ E',r'$\\frac{1}{2}kT$'])\n",
    "#plt.savefig('./structures/plots/k_point_convergence_zoom.png',dpi = 300)"
   ]
  },
  {
   "cell_type": "code",
   "execution_count": null,
   "metadata": {},
   "outputs": [],
   "source": [
    "atoms = [8,10,12,14,15,16]\n",
    "\n",
    "bulk_energy = -1676.5954\n",
    "cell_100 = read_cell2pmg('./structures/layer_convergence/100/Cu100_geom.cell')\n",
    "cell_110 = read_cell2pmg('./structures/layer_convergence/110/Cu110_geom.cell')\n",
    "cell_111 = read_cell2pmg('./structures/layer_convergence/111/Cu111_geom.cell')\n",
    "\n",
    "total_energies_100 = [-13411.42595553,-16764.64359063,-20117.86115268,-23471.07926522,-25147.68758931,-26824.29928175]\n",
    "total_energies_110 = [-13410.69670576,-16763.92313970,-20117.14478342,-23470.36493049,-25146.96980282,-26823.58389667]\n",
    "total_energies_111 = [-13411.73832259,-16764.95286620,-20118.17369990,-23471.39220467,-25147.99980183,-26824.61125253]\n",
    "\n",
    "data = {\n",
    "    100: [total_energies_100[i]/atoms[i] for i in range(len(atoms))],\n",
    "    110: [total_energies_110[i]/atoms[i] for i in range(len(atoms))],\n",
    "    111: [total_energies_111[i]/atoms[i] for i in range(len(atoms))]\n",
    "}\n",
    "diff = {\n",
    "    100:[data[100][i-1]-data[100][i] for i in range(1,len(atoms))],\n",
    "    110:[data[110][i-1]-data[110][i] for i in range(1,len(atoms))],\n",
    "    111:[data[111][i-1]-data[111][i] for i in range(1,len(atoms))],\n",
    "}\n",
    "\n",
    "surf_energies = {\n",
    "    100: [calc_surface_energy(bulk_energy, total_energies_100[i],atoms[i], cell_100.lattice.volume/cell_100.lattice.c) for i in range(len(atoms))],\n",
    "    110: [calc_surface_energy(bulk_energy, total_energies_110[i],atoms[i], cell_110.lattice.volume/cell_110.lattice.c) for i in range(len(atoms))],\n",
    "    111: [calc_surface_energy(bulk_energy, total_energies_111[i],atoms[i], cell_111.lattice.volume/cell_111.lattice.c) for i in range(len(atoms))],\n",
    "}\n",
    "\n",
    "diff_surf = {\n",
    "    100:[surf_energies[100][i]-surf_energies[100][i-1] for i in range(1,len(atoms))],\n",
    "    110:[surf_energies[110][i]-surf_energies[110][i-1] for i in range(1,len(atoms))],\n",
    "    111:[surf_energies[111][i]-surf_energies[111][i-1] for i in range(1,len(atoms))],\n",
    "}\n",
    "surface = 111\n",
    "\n",
    "print([surf_energies[surface][i]*16.02176565 for i in range(len(atoms))])\n",
    "\n",
    "fig,ax = plt.subplots(1,1)\n",
    "ax.plot(atoms[1:], diff[surface])\n",
    "ax.set(xlabel='# of slab layers', ylabel = r'$\\Delta$ total energy per atom [eV]', title = f'Convergence test for Cu({surface}) surface')\n",
    "#ax.plot(atoms, data[surface])\n",
    "#ax.set(xlabel='# of slab layers', ylabel = 'total energy per atom [eV]', title = f'Convergence test for Cu({surface})')\n",
    "#ax.plot(atoms,surf_energies[surface])\n",
    "#ax.set(xlabel='# of slab layers', ylabel = 'surface energy [eV]', title = f'Convergence test for Cu({surface})')\n",
    "#ax.plot(atoms[1:],diff_surf[surface])\n",
    "#ax.set(xlabel='# of slab layers', ylabel = r'$\\Delta$ surface energy [eV]', title = f'Convergence test for Cu({surface})')\n",
    "plt.tight_layout()\n",
    "#plt.savefig()"
   ]
  },
  {
   "cell_type": "code",
   "execution_count": null,
   "metadata": {},
   "outputs": [],
   "source": [
    "plt.style.use('seaborn-darkgrid')\n",
    "fig,ax = plt.subplots(1,2, figsize = [12,5])\n",
    "ax[0].set(xlabel='# of slab layers', ylabel = 'Total Energy [eV]')\n",
    "ax[1].set(xlabel='# of slab layers', ylabel = r'$\\Delta$ total energy per atom [eV]')\n",
    "for item in diff:\n",
    "    ax[0].plot(atoms, data[item], label = f'Cu({item})')\n",
    "    ax[1].plot(atoms[1:], diff[item], label = f'Cu({item})')\n",
    "ax[1].plot(atoms[1:], [0.01 for x in range(len(atoms)-1)], ls = '--', lw = 1)\n",
    "plt.suptitle('Convergence test for Cu surfaces')\n",
    "ax[1].legend()\n",
    "ax[0].legend()\n",
    "plt.tight_layout()\n",
    "plt.savefig('./structures/plots/Cu_surfaces_layer_convergence_comp.png',dpi = 500)"
   ]
  },
  {
   "cell_type": "markdown",
   "metadata": {},
   "source": [
    "#### Read in the geometry optimisation trajectory file"
   ]
  },
  {
   "cell_type": "code",
   "execution_count": null,
   "metadata": {},
   "outputs": [],
   "source": [
    "from pymatgen.core.lattice import Lattice\n",
    "from pymatgen.core.structure import Structure\n",
    "\n",
    "data = read_geometry_traj_file(path = './structures/')"
   ]
  },
  {
   "cell_type": "markdown",
   "metadata": {},
   "source": [
    "#### Plot the electronic densities and potential"
   ]
  },
  {
   "cell_type": "code",
   "execution_count": null,
   "metadata": {},
   "outputs": [],
   "source": [
    "fig,ax = create_density_plot(directory = './structures/Ag100_new_pp/', centered = False)\n",
    "plt.tight_layout()\n",
    "#plt.savefig('./structures/plots/Cu110_victor_60A_density_plot.png')"
   ]
  },
  {
   "cell_type": "code",
   "execution_count": null,
   "metadata": {},
   "outputs": [],
   "source": [
    "fig,ax = create_potential_plot(directory='./structures/Ag100_new_pp/', centered = False)\n",
    "plt.tight_layout()\n",
    "#plt.savefig(f'./structures/plots/Cu110_pbesol_14L_50A_potential_plot.png')"
   ]
  },
  {
   "cell_type": "code",
   "execution_count": null,
   "metadata": {},
   "outputs": [],
   "source": [
    "fig,ax = create_potential_plot(directory='./structures/Ag100_victor/', centered = False)\n",
    "plt.tight_layout()"
   ]
  },
  {
   "cell_type": "markdown",
   "metadata": {},
   "source": [
    "#### Create Plot with modified pymatgen functions to create more colourful bandstructure plot"
   ]
  },
  {
   "cell_type": "code",
   "execution_count": null,
   "metadata": {},
   "outputs": [],
   "source": [
    "%matplotlib inline\n",
    "bandstructure_cu = read_bands2pmg(path='./structures/Ag100_felix', export=False)\n",
    "#print(bandstructure_cu.distance)\n",
    "output = []\n",
    "for kpt in bandstructure_cu.kpoints:\n",
    "    output.append((kpt.label,kpt.cart_coords))\n",
    "plot = get_bs_plot(bandstructure_cu,ylim = (-10,10),size=[10,5])\n",
    "\n",
    "#plt.savefig('./structures/plots/Cu100_60_rerun_bandstruct_-3_1.png',dpi=200)"
   ]
  },
  {
   "cell_type": "markdown",
   "metadata": {},
   "source": [
    "#### Plot reference Cu Bandstructure from Materials Project "
   ]
  },
  {
   "cell_type": "code",
   "execution_count": null,
   "metadata": {},
   "outputs": [],
   "source": [
    "with open('./structures/jsons/bands/Cu_bandstruct_ref.json', 'r') as f:\n",
    "    d = json.load(f)\n",
    "    bandstruct_new = BandStructureSymmLine.from_dict(d)\n",
    "\n",
    "plotter = BSPlotter(bandstruct_new)\n",
    "#print(bandstruct_new.as_dict()['branches'])\n",
    "#print(bandstruct_new.get_branch(320))\n",
    "band_plot = plotter.get_plot(ylim=(-5,9))\n",
    "band_plot.show()"
   ]
  },
  {
   "cell_type": "code",
   "execution_count": null,
   "metadata": {},
   "outputs": [],
   "source": [
    "with open('./structures/jsons/bands/Cu_bandstruct_PBEsol.json', 'r') as f:\n",
    "    d = json.load(f)\n",
    "    full = BandStructureSymmLine.from_dict(d)\n",
    "full.efermi = 5.2\n",
    "plotter = BSPlotter(full)\n",
    "plotter.add_bs(bandstruct_new)\n",
    "plotter.get_plot(ylim=[-11,25], bs_labels = ['PBEsol claculated', 'Materials Project reference'])\n",
    "plt.savefig('./structures/plots/Cu_bulk_pbesol_bandstruct_comp_mp_ref.png', dpi = 300)\n"
   ]
  },
  {
   "cell_type": "code",
   "execution_count": null,
   "metadata": {},
   "outputs": [],
   "source": [
    "with open('./structures/jsons/bands/Cu_bandstruct_all_points.json', 'r') as f:\n",
    "    d = json.load(f)\n",
    "    full_pbe = BandStructureSymmLine.from_dict(d)\n",
    "full_pbe.efermi = 5.0\n",
    "plotter = BSPlotter(full_pbe)\n",
    "plotter.add_bs(bandstruct_new)\n",
    "plotter.get_plot(ylim=[-11,25], bs_labels = ['PBE claculated', 'Materials Project reference'])\n",
    "plt.savefig('./structures/plots/Cu_bulk_pbe_bandstruct_comp_mp_ref.png', dpi = 300)"
   ]
  },
  {
   "cell_type": "markdown",
   "metadata": {},
   "source": [
    "#### Plot bandstructure from castep .bands file using ASE functions"
   ]
  },
  {
   "cell_type": "code",
   "execution_count": null,
   "metadata": {
    "scrolled": false
   },
   "outputs": [],
   "source": [
    "#bandfile = create_bands_file(calc_struct = AseAtomsAdaptor().get_atoms(Structure.from_file(filename=\"Fe_metal_bcc.cif\")),seed = 'Fe')\n",
    "seed = 'Ag100_felix'\n",
    "#calc_struct = AseAtomsAdaptor().get_atoms(Structure.from_file(filename=\"Cu_metal_fcc.cif\"))\n",
    "calc_struct = AseAtomsAdaptor().get_atoms(read_cell2pmg(f'./structures/{seed}/{seed}_geometry.cell'))\n",
    "calc = ase.calculators.castep.Castep(check_castep_version = False,keyword_tolerance=3)\n",
    "calc_struct.calc = calc\n",
    "bandstructure = calc_struct.calc.band_structure(bandfile=f'./structures/{seed}/{seed}.bands').subtract_reference()\n",
    "#print(bandstructure.get_labels())\n",
    "plt.style.use('seaborn')\n",
    "#ax.ylimit(-12,35)\n",
    "bandstructure.plot(emin=-10, emax=10)"
   ]
  },
  {
   "cell_type": "markdown",
   "metadata": {},
   "source": [
    "#### Create Parameter Sweep for OptaDOS"
   ]
  },
  {
   "cell_type": "code",
   "execution_count": null,
   "metadata": {},
   "outputs": [],
   "source": [
    "photoemission_options= {\n",
    "        'work_function' : 4.3731,\n",
    "        'surface_area' : 6.55677,\n",
    "        'slab_volume' : 198.13882,\n",
    "        'elec_field' : 0,\n",
    "        'optics_qdir' : [1, 1.000, 1.0000],\n",
    "        'photo_model' : ['1step','3step'] # 1step or 3step or 1step,3step\n",
    "}\n",
    "optados_photon_energy_sweep(seed='Cu_surf_110', min_max = (4,5.5,20), **photoemission_options)"
   ]
  },
  {
   "cell_type": "code",
   "execution_count": null,
   "metadata": {},
   "outputs": [],
   "source": [
    "one = [1,2,3,4]\n",
    "print(' '.join([str(x) for x in one]))"
   ]
  },
  {
   "cell_type": "markdown",
   "metadata": {},
   "source": [
    "#### Read in the photon energy sweep output files"
   ]
  },
  {
   "cell_type": "code",
   "execution_count": null,
   "metadata": {},
   "outputs": [],
   "source": [
    "surfaces = [100,110,111]\n",
    "Cu_surf_data = {}\n",
    "surface_exp = {111 : np.array([[3.96,23.0],[4.09,35.5],[4.23,77.70],[4.38,57.80],[4.54,105.00],[4.71,156.50],[4.90,266.60],[5.14,336.00],[5.39,520.80]]),\n",
    "100 : np.array([[4.26,30.6],[4.34,35.1],[4.41,42],[4.49,62.8],[4.58,88.5],[4.66,124.3],[4.71,140.1],[4.81,153.1],[4.9,194.5],[5,257.6],[5.1,262.1],[5.25,312.7],[5.49,386.1]]),\n",
    "110 : np.array([[4.12,12.9],[4.15,17.7],[4.19,17.2],[4.26,31.9],[4.34,60.8],[4.41,92.6],[4.49,121.3],[4.54,141],[4.66,170.5],[4.71,208.4],[4.81,227.9],[4.9,263.5],[5,304.9],[5.1,286.6],[5.21,353.9],[5.3,435.3],[5.49,453.1]])}\n",
    "\n",
    "wulff_calced = {100:0.2177,110:0.0,111:0.7823}\n",
    "wulff_victor = {100:0.269,110:0.127,111:0.604}\n",
    "\n",
    "for surface in surfaces:\n",
    "    Cu_surf_data[surface] = read_photonsweep_outputs(path = f'./structures/Cu{surface}_60/')\n",
    "    Cu_surf_data[surface]['experimental'] = surface_exp[surface]\n",
    "    if len(Cu_surf_data[surface]['bloch']) == len(Cu_surf_data[surface]['free electron']):\n",
    "        Cu_surf_data[surface]['mean'] = 0.5*Cu_surf_data[surface]['bloch']+0.5*Cu_surf_data[surface]['free electron']\n",
    "\n",
    "graph_options = {\n",
    "    'title': 'Polycrystalline Cu Surface',\n",
    "    'temperature': 298,\n",
    "    'plottype' : 'picture',\n",
    "    'filename' : f'./structures/plots/Cu_polycryst_QE_MTE.png'\n",
    "}\n",
    "\n",
    "Cu_surf_weighted = {'calced':{},'victor':{}}\n",
    "\n",
    "for item in Cu_surf_weighted.keys():\n",
    "    Cu_surf_weighted[item]['photon_energy'] = Cu_surf_data[100]['mean'][:,0]\n",
    "    Cu_surf_weighted[item]['qe'] = np.zeros([len(Cu_surf_data[100]['mean'])])\n",
    "    Cu_surf_weighted[item]['mte'] = np.zeros([len(Cu_surf_data[100]['mean'])])\n",
    "    Cu_surf_weighted[item]['exp_mte'] = np.zeros([len(Cu_surf_data[100]['mean'])])\n",
    "    Cu_surf_weighted[item]['workfct'] = 0\n",
    "#print(Cu_surf_data)\n",
    "#print(Cu_surf_weighted)\n",
    "\n",
    "for surface in Cu_surf_data.keys():\n",
    "    Cu_surf_weighted['calced']['qe'] = Cu_surf_weighted['calced']['qe'] + wulff_calced[surface] * Cu_surf_data[surface]['mean'][:,1] \n",
    "    Cu_surf_weighted['calced']['mte'] = Cu_surf_weighted['calced']['mte'] + wulff_calced[surface] * Cu_surf_data[surface]['mean'][:,2]\n",
    "    Cu_surf_weighted['calced']['workfct'] = Cu_surf_weighted['calced']['workfct'] + wulff_calced[surface] * Cu_surf_data[surface]['workfct']\n",
    "\n",
    "    \n",
    "    Cu_surf_weighted['victor']['qe'] = Cu_surf_weighted['victor']['qe'] + wulff_victor[surface] * Cu_surf_data[surface]['mean'][:,1] \n",
    "    Cu_surf_weighted['victor']['mte'] = Cu_surf_weighted['victor']['mte'] + wulff_victor[surface] * Cu_surf_data[surface]['mean'][:,2]  \n",
    "    Cu_surf_weighted['victor']['workfct'] = Cu_surf_weighted['victor']['workfct'] + wulff_victor[surface] * Cu_surf_data[surface]['workfct']\n",
    "\n",
    "#print(Cu_surf_weighted)\n",
    "\n",
    "fig, ax = plt.subplots(1,2, figsize = (14,6), dpi = 300)\n",
    "plt.style.use('seaborn-darkgrid')\n",
    "ax[0].plot(Cu_surf_weighted['calced']['photon_energy'],Cu_surf_weighted['calced']['qe'],c = 'tab:blue', marker = '+',label = \"Wulff Construction from this work\" )\n",
    "ax[0].plot(Cu_surf_weighted['victor']['photon_energy'],Cu_surf_weighted['victor']['qe'], c = 'tab:orange', marker = '+',label = \"Wulff Construction by Chang\" )\n",
    "ax[1].plot(Cu_surf_weighted['calced']['photon_energy'],[x*1000 for x in Cu_surf_weighted['calced']['mte']],c = 'tab:blue', marker = '+', label =  \"Wulff Construction from this work\")\n",
    "ax[1].plot(Cu_surf_weighted['victor']['photon_energy'],[x*1000 for x in Cu_surf_weighted['victor']['mte']],c = 'tab:orange', marker = '+', label =  \"Wulff Construction by Chang\")\n",
    "ax[0].axvline(Cu_surf_weighted['calced']['workfct'], ls = '--', c = 'tab:blue', label = 'weighted workfunction')\n",
    "ax[0].axvline(Cu_surf_weighted['victor']['workfct'], ls = '--', c = 'tab:orange')\n",
    "ax[1].axvline(Cu_surf_weighted['calced']['workfct'], ls = '--', c = 'tab:blue', label = 'weighted workfunction')\n",
    "ax[1].axvline(Cu_surf_weighted['victor']['workfct'], ls = '--', c = 'tab:orange')\n",
    "ax[0].plot(4.66,1.4e-4,marker = 'o',linestyle = 'None',markerfacecolor='tab:red', markeredgecolor='tab:red', label = 'Srinivasan-Rao, et al.')\n",
    "ax[1].plot(4.824, 310,marker = 'o',linestyle = 'None' ,markerfacecolor='tab:green', markeredgecolor='tab:green', label = 'Maldonado, et al.')\n",
    "ax[0].plot(4.824, 2.8e-5,marker = 'o',linestyle = 'None' ,markerfacecolor='tab:green', markeredgecolor='tab:green', label = 'Maldonado, et al.')\n",
    "ax[0].axvline(4.55, ls = '--', c = 'tab:green')\n",
    "ax[1].axvline(4.55, ls = '--', c = 'tab:green')\n",
    "#ax[0].plot(4.66+(Cu_surf_weighted['calced']['workfct']-4.3),1.4e-4,marker = 'o',markerfacecolor='tab:red', markeredgecolor='tab:red')\n",
    "ax[0].axvline(4.3, ls = '--', c = 'tab:red')\n",
    "#ax[0].errorbar(4.66,)\n",
    "#ax[0].axvline(4.55, ls = '--', c = 'tab:yellow')\n",
    "ax[0].set(xlabel = 'photon energy [eV]', ylabel = 'Quantum Efficiency (QE)', title = f\"{graph_options['title']} Quantum Efficiency\", yscale='log', ylim = [1e-10, 1e-2])\n",
    "ax[1].set(xlabel = 'photon energy [eV]', ylabel = 'Mean Transverse Energy (MTE) [meV]', title = f\"{graph_options['title']} MTE\")\n",
    "ax[0].legend()\n",
    "ax[1].legend()\n",
    "plt.tight_layout()\n",
    "plt.savefig(graph_options['filename'],dpi = 250)"
   ]
  },
  {
   "cell_type": "code",
   "execution_count": null,
   "metadata": {},
   "outputs": [],
   "source": [
    "Cu_surf_data = {}\n",
    "workfunction = 4.547\n",
    "excess = True\n",
    "experimental_mgo = np.genfromtxt('./structures/extra_data/Cu100_MgO_MTE.csv', delimiter=',', skip_header=1)\n",
    "experimental_cu = np.genfromtxt('./structures/extra_data/Cu100_MTE.csv', delimiter=',', skip_header=1)\n",
    "\n",
    "Cu_surf_data[100] = read_photonsweep_outputs(path = f'./structures/Cu100_60_rerun/mixed_iprint/')\n",
    "Cu_surf_data[100]['mean'] = 0.5*Cu_surf_data[100]['bloch']+0.5*Cu_surf_data[100]['free electron']\n",
    "\n",
    "Cu_surf_data[101] = read_photonsweep_outputs(path = f'./structures/Cu100_60_rerun/iprint_3/')\n",
    "# Cu_surf_data[101]['mean'] = 0.5*Cu_surf_data[101]['bloch']+0.5*Cu_surf_data[101]['free electron']\n",
    "\n",
    "dos_data = read_dos_optados(path='./structures/Cu100_60_rerun/', export_json = False)\n",
    "dos_data['energy'] = dos_data['energy']\n",
    "dos_data['total'] = [number/dos_data['max'][0] for number in dos_data['total']]\n",
    "#print(len(dos_data['energy']),len(dos_data['total']))\n",
    "\n",
    "pdos_data = read_proj_dos_optados(path='./structures/Cu100_60_rerun/', export_json = False)\n",
    "#print(pdos_data.keys(),pdos_data['projections'].keys(),pdos_data['projections']['Cu1,Cu2,Cu3,Cu4,Cu5,Cu6,Cu7,Cu8,Cu9,Cu10,Cu11,Cu12,Cu13,Cu14,Cu15,Cu16'].keys(),pdos_data['spin channels'])\n",
    "#print(len(pdos_data['energies']))\n",
    "proj_label = list(pdos_data['projections'].keys())[0]\n",
    "\n",
    "pdos_energy = pdos_data['energies']\n",
    "pdos_s_data = pdos_data['projections'][proj_label]['s']\n",
    "pdos_p_data = pdos_data['projections'][proj_label]['p']\n",
    "pdos_d_data = pdos_data['projections'][proj_label]['d']\n",
    "\n",
    "pdos_s_data = [item/dos_data['max'][0] for item in pdos_s_data]\n",
    "pdos_p_data = [item/dos_data['max'][0] for item in pdos_p_data]\n",
    "pdos_d_data = [item/dos_data['max'][0] for item in pdos_d_data]\n",
    "\n",
    "\n",
    "\n",
    "graph_options = {\n",
    "    'title': 'Cu100 Surface',\n",
    "    'temperature': 298,\n",
    "    'plottype' : 'picture',\n",
    "    'filename' : './structures/plots/Cu_100_rerun_exp_comp_excess_energy.png'\n",
    "}\n",
    "if excess:\n",
    "    Cu_surf_data[100]['bloch'][:,0] = Cu_surf_data[100]['bloch'][:,0]-Cu_surf_data[100]['workfct']\n",
    "    Cu_surf_data[100]['free electron'][:,0] = Cu_surf_data[100]['free electron'][:,0]-Cu_surf_data[100]['workfct']\n",
    "    \n",
    "    Cu_surf_data[101]['bloch'][:,0] = Cu_surf_data[101]['bloch'][:,0]-Cu_surf_data[101]['workfct']\n",
    "    Cu_surf_data[101]['free electron'][:,0] = Cu_surf_data[101]['free electron'][:,0]-Cu_surf_data[101]['workfct']\n",
    "    \n",
    "    Cu_surf_data[100]['experimental_mgo'] = experimental_mgo[:,1:]\n",
    "    mgo_error = experimental_mgo[:,2]*0.1\n",
    "    Cu_surf_data[100]['experimental_mgo'] =  np.array(Cu_surf_data[100]['experimental_mgo'])\n",
    "    Cu_surf_data[100]['experimental_cu'] = experimental_cu\n",
    "    cu_error = experimental_cu[:,1]*0.1\n",
    "    xlabel = 'Excess Energy [eV]'\n",
    "    work = 0\n",
    "else:\n",
    "    xlabel = 'Photon Energy [eV]'\n",
    "    work = workfunction\n",
    "\n",
    "x_1_3 = np.linspace(0,3,25)\n",
    "\n",
    "fig, ax = plt.subplots(2,1, figsize = (10,10), dpi = 300,gridspec_kw={'height_ratios': [3,2]})\n",
    "plt.style.use('seaborn-darkgrid')\n",
    "\n",
    "\n",
    "ax[0].plot(Cu_surf_data[100]['free electron'][:,0],Cu_surf_data[100]['free electron'][:,2]*1000,label='1step',alpha = 0.4)\n",
    "ax[0].plot(Cu_surf_data[100]['bloch'][:,0],Cu_surf_data[100]['bloch'][:,2]*1000,label='3step',alpha = 0.4)\n",
    "\n",
    "ax[0].plot(Cu_surf_data[101]['free electron'][:,0],Cu_surf_data[101]['free electron'][:,2]*1000,label='1step iprint3',alpha = 0.4)\n",
    "ax[0].plot(Cu_surf_data[101]['bloch'][:,0],Cu_surf_data[101]['bloch'][:,2]*1000,label='3step iprint3',alpha = 0.4)\n",
    "\n",
    "ax[0].plot(Cu_surf_data[100]['free electron'][:,0],Cu_surf_data[100]['mean'][:,2]*1000,label='mean')\n",
    "\n",
    "ax[0].axvline(work, ls = '--', c = 'tab:blue')\n",
    "\n",
    "if excess:\n",
    "    ax[0].errorbar(Cu_surf_data[100]['experimental_mgo'][:,0],Cu_surf_data[100]['experimental_mgo'][:,1],label='Cu_MgO_exp',yerr=mgo_error,fmt='+')\n",
    "    ax[0].errorbar(Cu_surf_data[100]['experimental_cu'][:,0],Cu_surf_data[100]['experimental_cu'][:,1],fmt='+',label='Cu_exp',yerr = cu_error)\n",
    "    ax[0].plot(x_1_3,x_1_3*1000/3,ls = '--', alpha = 0.4,label = '1/3 E_excess')\n",
    "\n",
    "ax[1].axhline(0,ls = '--',alpha=0.4)\n",
    "ax[1].plot(dos_data['energy'],dos_data['total'],alpha=0.6, label = 'total DOS')\n",
    "ax[1].plot(pdos_energy,pdos_d_data,alpha=0.6,label= 'pDOS d')\n",
    "ax[1].plot(pdos_energy,pdos_s_data,alpha=0.6,label= 'pDOS s')\n",
    "ax[1].plot(pdos_energy,pdos_p_data,alpha=0.6,label= 'pDOS p')\n",
    "\n",
    "ax[0].set(xlabel = xlabel, ylabel = 'Mean Transverse Energy (MTE) [meV]', title = f\"{graph_options['title']} MTE\",xlim = [-.5,3])#, ylim=[-100,1000])\n",
    "ax[1].set(xlabel='E_band - E_Fermi [eV]', ylabel = 'normalised DOS',xlim = [0.55,-3],ylim = [-0.05,1.05])\n",
    "ax[0].legend()\n",
    "ax[1].legend()\n",
    "plt.tight_layout()\n",
    "plt.savefig('./structures/plots/Cu100_rerun_exp_comp_excess_energy_.png',dpi=200)"
   ]
  },
  {
   "cell_type": "code",
   "execution_count": null,
   "metadata": {},
   "outputs": [],
   "source": []
  },
  {
   "cell_type": "code",
   "execution_count": null,
   "metadata": {},
   "outputs": [],
   "source": [
    "numbers = np.linspace(4.0,5.5,20).round(5)\n",
    "print(numbers)\n",
    "numbers2 = np.linspace(5.5,7.5,27).round(5)\n",
    "print(numbers2)"
   ]
  },
  {
   "cell_type": "code",
   "execution_count": null,
   "metadata": {},
   "outputs": [],
   "source": [
    "Cu_surf_data = read_photonsweep_outputs(seed = 'Cu_surf_111', path = './structures/Cu_surf_111/')\n",
    "graph_options = {\n",
    "    'title': 'Cu[111]',\n",
    "    'temperature': 298,\n",
    "    'filename' : './structures/plots/Cu_111_pbesol_120deg_test2_mte_plot_0E.png'\n",
    "}\n",
    "#print(Cu_111_data)\n",
    "fig, ax = make_photonsweep_plots(Cu_surf_data,**graph_options)\n",
    "plt.savefig(graph_options['filename'],dpi = 250)"
   ]
  },
  {
   "cell_type": "markdown",
   "metadata": {},
   "source": [
    "### Plot DOS plot created by OptaDOS"
   ]
  },
  {
   "cell_type": "code",
   "execution_count": null,
   "metadata": {},
   "outputs": [],
   "source": [
    "seed = './structures/Cu_bulk_PBEsol_fixed/'\n",
    "fig, ax= plot_dos_optados(seed, plot_total = False, xlimit = (-12, 20), export_json = True)\n",
    "#plt.savefig(f\"./structures/plots/{seed}_dos.png\")"
   ]
  },
  {
   "cell_type": "code",
   "execution_count": null,
   "metadata": {},
   "outputs": [],
   "source": [
    "from pymatgen.electronic_structure.plotter import DosPlotter\n",
    "with open('./structures/jsons/DOS/Cu_bulk_PBEsol_linear_0.05_dos_total.json', 'r') as f:\n",
    "   d = json.load(f)\n",
    "   dos_calc = Dos.from_dict(d)\n",
    "with open('./structures/jsons/DOS/Cu_bulk_matproject_ref.json', 'r') as f:\n",
    "    d = json.load(f)\n",
    "    dos_ref = Dos.from_dict(d)\n",
    "plt.style.use('seaborn-darkgrid')\n",
    "plotter = DosPlotter()\n",
    "plotter.add_dos(\"calculated\", dos_calc)\n",
    "plotter.add_dos(\"reference\", dos_ref)\n",
    "print(dos_calc.densities)\n",
    "plotter.get_plot(xlim = (-12,20),ylim = (-0.2,max(dos_calc.densities[Spin.up])+0.5))\n",
    "plt.savefig('./structures/plots/Cu_bulk_PBEsol_linear_tot_dos_comparison_matproj.png')"
   ]
  },
  {
   "cell_type": "markdown",
   "metadata": {},
   "source": [
    "### Plot proj DOS plot created by OptaDOS"
   ]
  },
  {
   "cell_type": "code",
   "execution_count": null,
   "metadata": {},
   "outputs": [],
   "source": [
    "#seed = 'Cu_bulk_spectral_pdos'\n",
    "path='./structures/layer_convergence/111/'\n",
    "data = read_proj_dos_optados(path = path, export_json=False)\n",
    "print(data['projections'].keys())#['Cu1,Cu1,Cu1,Cu1'])\n",
    "#print(data['spin channels'])\n",
    "atom = 'Cu7,Cu7,Cu7,Cu7'\n",
    "data['projections'] = {atom: data['projections'][atom]}\n",
    "#print(data['projections'].keys())\n",
    "density = {Spin.up : data['projections'][atom]['s']}\n",
    "energies = data['energies']\n",
    "output_dos = Dos(0, energies,density)\n",
    "seed = 'Cu111_16L_middle_layer'\n",
    "with open(f'./structures/jsons/DOS/{seed}_total.json', 'w') as f:\n",
    "    json.dump(output_dos.as_dict(), f)  \n",
    "eins,axis = plot_proj_dos_optados(data,xlimit=(1, -3))\n",
    "plt.title('Cu(111) projected DOS')\n",
    "plt.xlabel('Energy [eV]')\n",
    "plt.ylabel('pDOS [arb.u.]')\n",
    "plt.tight_layout()\n",
    "plt.savefig('./structures/plots/Cu111_50_middle_layer_-10_10.png',dpi=500)"
   ]
  },
  {
   "cell_type": "code",
   "execution_count": null,
   "metadata": {},
   "outputs": [],
   "source": [
    "path='./structures/Cu100_60_rerun/'\n",
    "data = read_proj_dos_optados(path = path, export_json=False)\n",
    "#print(data['projections'].keys())#['Cu1,Cu1,Cu1,Cu1'])\n",
    "#print(data['spin channels'])\n",
    "atom = 'Cu1,Cu2,Cu3,Cu4,Cu5,Cu6,Cu7,Cu8,Cu9,Cu10,Cu11,Cu12,Cu13,Cu14,Cu15,Cu16'\n",
    "data['projections'] = {atom: data['projections'][atom]}\n",
    "#print(data['projections'].keys())\n",
    "\n",
    "eins,axis = plot_proj_dos_optados(data,xlimit=(1, -3),figsize=[5,3])\n",
    "#plt.title('Cu(111) projected DOS')\n",
    "#plt.xlabel('Energy [eV]')\n",
    "#plt.ylabel('pDOS [arb.u.]')\n",
    "axis.set_xticks([])\n",
    "axis.set_yticks([])\n",
    "axis.legend(['s','p','d'])\n",
    "axis.axvline(0,ls = '--',linewidth = 0.5)\n",
    "plt.tight_layout()\n",
    "plt.savefig('./structures/plots/Cu100_60_rerun_pdos_-1_3.png',dpi=500)"
   ]
  },
  {
   "cell_type": "code",
   "execution_count": null,
   "metadata": {},
   "outputs": [],
   "source": [
    "from pymatgen.electronic_structure.plotter import DosPlotter\n",
    "with open('./structures/jsons/DOS/Cu111_16L_middle_layer_total.json', 'r') as f:\n",
    "   d = json.load(f)\n",
    "   dos_calc = Dos.from_dict(d)\n",
    "with open('./structures/jsons/DOS/Cu_bulk_PBEso_adaptivel_dos_total.json', 'r') as f:\n",
    "    d = json.load(f)\n",
    "    dos_ref = Dos.from_dict(d)\n",
    "plt.style.use('seaborn-darkgrid')\n",
    "plotter = DosPlotter()\n",
    "plotter.add_dos(\"Cu(111) 16L middle layer\", dos_calc)\n",
    "plotter.add_dos(\"Cu bulk\", dos_ref)\n",
    "#print(dos_calc.densities)\n",
    "plotter.get_plot(xlim = (-12,20),ylim = (-0.2,max(dos_calc.densities[Spin.up])+0.5))\n",
    "plt.savefig('./structures/plots/Cu111_PBEsol_16L_middle_comparison_matproj.png')"
   ]
  },
  {
   "cell_type": "markdown",
   "metadata": {},
   "source": [
    "### Plot joint DOS created by OptaDOS"
   ]
  },
  {
   "cell_type": "code",
   "execution_count": null,
   "metadata": {},
   "outputs": [],
   "source": [
    "data_10060 = get_joint_dos_optados('./structures/Cu_surf_100_victor_60A/')\n",
    "label_1 = 'Cu100_60A'\n",
    "data_10050 = get_joint_dos_optados('./structures/Cu110_victor_60A/')\n",
    "label_2 = 'Cu110_60A'\n",
    "data_11160 = get_joint_dos_optados('./structures/Cu_surf_111_victor_60A/')\n",
    "label_3= 'Cu111_60A'\n",
    "fig,ax = plot_joint_dos_optados(data_10060, label=label_1, xlimit =[0,6])\n",
    "fig,ax = add_jdos_line(data_10050,fig,ax,label=label_2)\n",
    "fig,ax = add_jdos_line(data_11160,fig,ax,label=label_3)\n",
    "ax.set_title('Joint DOS for Cu')\n",
    "plt.legend()\n",
    "plt.savefig('./structures/plots/Cu_jdos_comparison_6.png')"
   ]
  },
  {
   "cell_type": "code",
   "execution_count": null,
   "metadata": {},
   "outputs": [],
   "source": [
    "data_11160 = get_joint_dos_optados('./structures/Cu_surf_111_victor_60A/')\n",
    "label_1 = 'Cu111_60A'\n",
    "data_11150 = get_joint_dos_optados('./structures/Cu_surf_111_victor_50A/')\n",
    "label_2 = 'Cu111_50A'\n",
    "fig,ax = plot_joint_dos_optados(data_11160, label=label_1, xlimit =[0,6])\n",
    "fig,ax = add_jdos_line(data_11150,fig,ax,label=label_2)\n",
    "ax.set_title('Joint DOS for Cu[111]')\n",
    "plt.legend()\n",
    "plt.savefig('./structures/plots/Cu111_jdos_comparison.png')"
   ]
  },
  {
   "cell_type": "markdown",
   "metadata": {},
   "source": [
    "## Plot DOS from json files"
   ]
  },
  {
   "cell_type": "code",
   "execution_count": null,
   "metadata": {},
   "outputs": [],
   "source": [
    "from pymatgen.electronic_structure.plotter import DosPlotter\n",
    "with open('./structures/jsons/DOS/Cu_bulk_spectral_dos_total.json', 'r') as f:\n",
    "   d = json.load(f)\n",
    "   dos_calc = Dos.from_dict(d)\n",
    "with open('./structures/jsons/DOS/Cu_bulk_matproject_ref.json', 'r') as f:\n",
    "    d = json.load(f)\n",
    "    dos_ref = Dos.from_dict(d)\n",
    "plt.style.use('seaborn-darkgrid')\n",
    "plotter = DosPlotter()\n",
    "plotter.add_dos(\"calculated\", dos_calc)\n",
    "plotter.add_dos(\"reference\", dos_ref)\n",
    "plotter.get_plot(xlim = (-12,2.5),ylim=(-0.2,9))\n",
    "plt.savefig('./structures/plots/Cu_bulk_tot_dos_comparison_dos_matproj_zoom.png')"
   ]
  },
  {
   "cell_type": "code",
   "execution_count": null,
   "metadata": {},
   "outputs": [],
   "source": [
    "with open('./structures/jsons/bands/Cu_bulk_bandstruct_full.json', 'r') as f:\n",
    "    d = json.load(f)\n",
    "    bandstruct_cu_full = BandStructureSymmLine.from_dict(d)\n",
    "with open('./structures/jsons/bands/Cu_bulk_bandstruct_full_UX.json', 'r') as f:\n",
    "   d = json.load(f)\n",
    "   bandstruct_cu_ux = BandStructureSymmLine.from_dict(d)\n",
    "bandstruct_full = append_symm_line(bandstruct_cu_full,bandstruct_cu_ux)\n",
    "with open(f'./structures/band_jsons/cu_bandstruct_all_points.json', 'w') as f:\n",
    "    json.dump(bandstruct_full.as_dict(), f)\n",
    "plotter = BSPlotter(bandstruct_full)\n",
    "band_plot = plotter.get_plot(ylim=(-5,9))\n",
    "band_plot.show()"
   ]
  },
  {
   "cell_type": "code",
   "execution_count": null,
   "metadata": {},
   "outputs": [],
   "source": [
    "with open('./structures/jsons/bands/Cu_bandstruct_ref.json', 'r') as f:\n",
    "    d = json.load(f)\n",
    "    bandstruct_cu_ref = BandStructureSymmLine.from_dict(d)\n",
    "with open('./structures/jsons/bands/cu_bandstruct_all_points.json', 'r') as f:\n",
    "   d = json.load(f)\n",
    "   bandstruct_cu_full = BandStructureSymmLine.from_dict(d)\n",
    "\n",
    "#bandstruct_full = append_symm_line(bandstruct_cu_full,bandstruct_cu_ux)\n",
    "#with open(f'./structures/band_jsons/cu_bandstruct_all_points.json', 'w') as f:\n",
    "#    json.dump(bandstruct_full.as_dict(), f)\n",
    "\n",
    "plotter = BSPlotter(bandstruct_cu_full)\n",
    "plotter.add_bs(bandstruct_cu_ref)\n",
    "band_plot = plotter.get_plot(ylim=(-12,35), bs_labels=['Calculated','Materials Project Ref'])\n",
    "plt.xlabel('')\n",
    "plt.savefig('comparison_calculated_vs_matproj_ref_optados_Efermi.png')\n",
    "band_plot.show()\n"
   ]
  },
  {
   "cell_type": "code",
   "execution_count": null,
   "metadata": {},
   "outputs": [],
   "source": [
    "def modified_potential_plot(directory:str=None, bounds = None,centered:bool = True,mod_odi:bool = True):\n",
    "    if directory == None:\n",
    "        directory = f'./structures/' \n",
    "    if directory[-1] != '/': directory += '/'\n",
    "    listOfFiles = os.listdir(directory)\n",
    "    found = [False,False]\n",
    "    for item in listOfFiles:\n",
    "        if '.pot_fmt' in item and not '.dat' in item:\n",
    "            found[0] = True\n",
    "            path = directory + item\n",
    "            x, potential,cell = average_potential_from_file(path, potential = True)\n",
    "        if '_all.odo' in item:   \n",
    "            odo_pth = directory + item\n",
    "            fermi_level = OptaDOSOutput(odo_pth).fermi_e\n",
    "            found[1] = True\n",
    "        if False not in found: break\n",
    "    if False in found: \n",
    "        file = ['Potential File (.pot_fmt)','Opatdos File (_all.odo)']\n",
    "        for item in found: \n",
    "            if item == False:\n",
    "                raise OSError(2, f'No {file[found.index[item]]} found!')\n",
    "    indices = [0,0]\n",
    "    stepsize = x[1] - x[0]\n",
    "    if not centered and bounds == None: bounds = [(x[-1]/2)-1,(x[-1]/2)+1]\n",
    "    if centered and bounds == None: bounds =[0,5]\n",
    "    #print(fermi_level.path)\n",
    "    seed = path.split('/')[-1].split('.')[0]\n",
    "    for index, item in enumerate(x):\n",
    "        if abs(item - bounds[0]) <= stepsize: indices[0] = index\n",
    "        if abs(item - bounds[1]) <= stepsize: indices[1] = index\n",
    "        if item > (bounds[1]+3*stepsize): break\n",
    "    vacuum_level = np.mean(potential[indices[0]:indices[1]])\n",
    "    print(plt.style.available)\n",
    "    plt.style.use('seaborn-poster')\n",
    "    fig, ax = plt.subplots(1,1, figsize = (5,4), dpi = 300)\n",
    "    plt.tick_params(axis='both',which='both',bottom=False,top=False,labelbottom=False,left=False,right=False,labelleft=False)\n",
    "     #ax.hlines(vacuum_level, 0, max(x), ls = '--',colors = 'r', linewidth = 1, label= 'Vacuum Level')\n",
    "    ax.hlines(fermi_level,0,max(x), ls = '--', colors = 'r', linewidth=1.5, label='Fermi Energy')\n",
    "    #ax.vlines(bounds,vacuum_level-1, vacuum_level+1,colors = 'k',linewidth = 1, label = 'bounds')\n",
    "    ax.plot(x,potential,linewidth = 1.5, label = 'Potential')\n",
    "    #ax.text(max(x)/2,vacuum_level-2,f'vacuum level = {round(vacuum_level,5)} eV',ha='center')\n",
    "    #ax.text(max(x)/2,fermi_level - 2,f'fermi level = {round(fermi_level,5)} eV',ha='center')\n",
    "    #ax.set_title(f'{seed} - Workfunction W = {round(vacuum_level-fermi_level,5)}')\n",
    "    ax.set(xlim = (0,max(x)/2+5),xlabel = r'z', ylabel = 'Energy',ylim = [min(potential)-2,max(potential) + 20])\n",
    "    #ax.legend(loc='best')\n",
    "    if mod_odi:             \n",
    "        for item in listOfFiles:\n",
    "            if '_photo.odi' in item:\n",
    "                print('Writing work_function=', round(vacuum_level-fermi_level,5),f'eV to {item}')\n",
    "                subprocess.call(f'sed -i \"s/.*work_function.*/work_function : {round(vacuum_level-fermi_level,5)}/\" {directory}{item}',shell=True)\n",
    "\n",
    "    return fig,ax;"
   ]
  },
  {
   "cell_type": "code",
   "execution_count": null,
   "metadata": {},
   "outputs": [],
   "source": [
    "fig, ax = modified_potential_plot('./structures/Cu111_60/')\n",
    "plt.savefig('./structures/plots/poster_fig_steps.png')"
   ]
  },
  {
   "cell_type": "code",
   "execution_count": null,
   "metadata": {},
   "outputs": [],
   "source": [
    "def modified_proj_dos_optados(path:str=None, plot_up:bool = True, plot_down:bool = False, plot_total:bool = False, xlimit = None, export_json = False,):\n",
    "    energies, total= [],[]\n",
    "    columns, projections, column_keys, totals = {}, {}, {}, {Spin.up:[], Spin.down:[]}\n",
    "    plt.style.use('seaborn-poster')\n",
    "    fig, ax = plt.subplots(1,1, figsize = (10,5), dpi = 300)\n",
    "    header_string = '#+----------------------------------------------------------------------------+'\n",
    "    header, values = [],[]\n",
    "    spin_channels = False\n",
    "    shifted_efermi = False\n",
    "    if path == None:\n",
    "        path = f'./structures/'\n",
    "    listOfFiles = os.listdir(path)\n",
    "     # create output classes for each of the output files\n",
    "    found=[False,False]\n",
    "    for item in listOfFiles:\n",
    "        if '_all.odo' in item:\n",
    "            seed = item.replace('_all.odo','')\n",
    "            with open(path + item,'r') as g:\n",
    "                for line in g:\n",
    "                    if 'Shift energy scale so fermi_energy=0' in line: shifted_efermi = bool(line.split()[7]=='True')\n",
    "                    if 'Projected Density Of States Calculation' in line:\n",
    "                        for i in range(6): line = next(g)\n",
    "                        if 'Fermi energy' in line: efermi = float(line.split()[6])\n",
    "                        else: print('No fermi energy found, check cursor position!')\n",
    "            found[0] = True\n",
    "        if '.pdos.dat' in item:\n",
    "            with open(path+item,'r') as f:\n",
    "                for line in f:\n",
    "                    line_values = line.strip().split()\n",
    "                    if '#' in line_values[0]:\n",
    "                        header.append(line_values)\n",
    "                    else:\n",
    "                        values.append(line_values)\n",
    "            found[1] = True\n",
    "    files=[f'Optados Output',f'pDOS Data File']\n",
    "    for index,item in enumerate(found):\n",
    "        if item == False:\n",
    "            raise  OSError(2, f'No {files[index]} found!')\n",
    "    for i, item in enumerate(header):\n",
    "        if 'Column:' in item:\n",
    "            columns[item[2]] = []\n",
    "            t = i+2\n",
    "            while header_string not in header[t]:\n",
    "                columns[item[2]].append(header[t][1:-1])\n",
    "                t += 1\n",
    "    if len(columns['1'][0])>3: spin_channels = True\n",
    "    #print(columns)\n",
    "    for key in columns.keys():                                                              # Go through each of the columns read in from the header\n",
    "        current = columns[key]                                                              # Load the array with the information for the current column, each Atom included has its own array (for example Cu1, Cu2)\n",
    "        atom = ''\n",
    "        for item in current:                                                                # Generate string with atoms or sites included in column projector \n",
    "            if atom != '':\n",
    "                atom += ','\n",
    "            atom += (f'{item[0]}{item[1]}') \n",
    "        orbital = current[0][2]                                                             # Read in the orbital projection for this column\n",
    "        column_keys[key] = [atom,orbital]                                                   # Set the information for that generated column key with information on projector constituents and orbitals\n",
    "        if atom not in projections.keys():projections[atom] = {}\n",
    "        if spin_channels:                                                                   # If spin channel is included in the file, initialise initialise projections as {atom: { orbital1: { Spin1: [], ...} , ... } }                    # Initialise atom dict\n",
    "            if orbital not in projections[atom].keys():projections[atom][orbital] = {}      # Initialise orbital dict\n",
    "            if spin_channels and current[0][3] in ['Up','Down']: \n",
    "                spin = current[0][3]\n",
    "                if spin not in projections[atom][orbital].keys(): \n",
    "                    projections[atom][orbital][spin] = []                                   # initialise spin channel array\n",
    "                    column_keys[key].append(spin)                                           # Append pin channel to generated column key tuple\n",
    "        else:                                                                               # If no spin channel is included in the file, initialise projections as {atom: {orbital1: [], ... }}\n",
    "            if orbital not in projections[atom].keys():projections[atom][orbital] = []\n",
    "    for item in values:\n",
    "        item = [float(i) for i in item]\n",
    "        if not all(abs(elem) == item[1] for elem in item[1:]):\n",
    "            if not shifted_efermi: energies.append(item[0]-efermi)\n",
    "            else: energies.append(item[0])\n",
    "            temp_total, temp_up, temp_down = 0,0,0\n",
    "            for i in range(len(item[1:])):\n",
    "                keys = column_keys[str(i+1)]\n",
    "                if spin_channels:\n",
    "                    local_dos = float(item[i+1])\n",
    "                    projections[keys[0]][keys[1]][keys[2]].append(local_dos)\n",
    "                    if keys[2] == 'Down':\n",
    "                        temp_total += local_dos * -1\n",
    "                        temp_down += local_dos\n",
    "                    else:\n",
    "                        temp_total += local_dos\n",
    "                        temp_up += local_dos\n",
    "                else:\n",
    "                    projections[keys[0]][keys[1]].append(float(item[i+1]))\n",
    "                    temp_total = temp_total + float(item[i+1])\n",
    "            total.append(temp_total)\n",
    "            totals[Spin.up].append(temp_up)\n",
    "            totals[Spin.down].append(temp_down)\n",
    "    if plot_total: ax.plot(energies, total, label = f\"{atom}-total\", alpha = 0.8,lw = 1)\n",
    "    for atom in projections.keys():\n",
    "        for orbital in projections[atom]:\n",
    "            if spin_channels:\n",
    "                if plot_up: \n",
    "                    if not all(abs(elem) == 0.0 for elem in projections[atom][orbital]['Up']): \n",
    "                        ax.plot(energies, projections[atom][orbital]['Up'], label = f\"{columns[columns.keys()[0]]}-{columns[columns.keys()[-1]]}-{orbital}-Up\",alpha = 0.6, lw = 2)\n",
    "                if plot_down: \n",
    "                    if not all(abs(elem) == 0.0 for elem in projections[atom][orbital]['Down']): \n",
    "                        ax.plot(energies, projections[atom][orbital]['Down'], label = f\"{atom}-{orbital}-Down\", alpha = 0.6,lw = 2)\n",
    "            else:\n",
    "                keys = columns['1']\n",
    "                print(keys)\n",
    "                if not all(abs(elem) == 0.0 for elem in projections[atom][orbital]): \n",
    "                    ax.plot(energies, projections[atom][orbital], label = f\"{keys[0][0],keys[0][1]}-{keys[-1][0],keys[-1][1]}-{orbital}\", alpha = 0.6,lw = 2)\n",
    "    if xlimit == None: ax.set(xlim = (min(energies),max(energies)))\n",
    "    else: ax.set(xlim = xlimit)\n",
    "    #plt.legend()\n",
    "    if export_json:                                                             # Export currently gives errors due to inconsistencies within pymatgen DOS class                                                             \n",
    "        cell = read_cell2pmg(path = f\"./structures/{seed}/{seed}.cell\")\n",
    "        tot_dos = Dos(energies = energies, densities = totals,efermi = 0)\n",
    "        proj_dos = CompleteDos(cell, total_dos = tot_dos, pdoss = projections)\n",
    "        with open(f'./structures/jsons/DOS/{seed}.json', 'w') as f:\n",
    "            json.dump(proj_dos.as_dict(), f)\n",
    "    return fig,ax;"
   ]
  },
  {
   "cell_type": "code",
   "execution_count": null,
   "metadata": {},
   "outputs": [],
   "source": [
    "fig,ax=modified_proj_dos_optados(path = './structures/Cu111_60/',xlimit = [10,-10])\n",
    "plt.savefig('./structures/plots/Cu_111_60_pDOS_plot_poster.png',dpi = 500)"
   ]
  },
  {
   "cell_type": "code",
   "execution_count": null,
   "metadata": {},
   "outputs": [],
   "source": []
  }
 ],
 "metadata": {
  "kernelspec": {
   "display_name": "Python3.9(matchem)",
   "language": "python",
   "name": "python3_matchem"
  },
  "language_info": {
   "codemirror_mode": {
    "name": "ipython",
    "version": 3
   },
   "file_extension": ".py",
   "mimetype": "text/x-python",
   "name": "python",
   "nbconvert_exporter": "python",
   "pygments_lexer": "ipython3",
   "version": "3.9.13"
  },
  "vscode": {
   "interpreter": {
    "hash": "bdb607488251eb1eb1599e0f3bb9151eded0af6676f3b3dc09c9e8f3e83b9f04"
   }
  }
 },
 "nbformat": 4,
 "nbformat_minor": 5
}
