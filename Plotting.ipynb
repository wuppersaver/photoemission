{
 "cells": [
  {
   "cell_type": "markdown",
   "id": "17d441eb",
   "metadata": {},
   "source": [
    "# Workflow to calculate the quantum efficiency of a polycrystalline material"
   ]
  },
  {
   "cell_type": "code",
   "execution_count": 1,
   "id": "9a70d234",
   "metadata": {},
   "outputs": [],
   "source": [
    "import subprocess\n",
    "import numpy as np\n",
    "import os\n",
    "\n",
    "from ase.calculators.castep import Castep\n",
    "from ase.atoms import Atoms\n",
    "from ase.io import read, write\n",
    "from ase.visualize import view\n",
    "from ase.build import surface\n",
    "import ase.calculators.castep\n",
    "import ase.io.castep\n",
    "\n",
    "from pymatgen.ext.matproj import MPRester\n",
    "from pymatgen.core import Lattice,  Molecule\n",
    "from pymatgen.core.structure import Structure\n",
    "from pymatgen.core.surface import SlabGenerator, generate_all_slabs\n",
    "from pymatgen.io.ase import AseAtomsAdaptor\n",
    "from pymatgen.analysis.wulff import WulffShape\n",
    "from pymatgen.electronic_structure.bandstructure import BandStructureSymmLine, BandStructure\n",
    "from pymatgen.electronic_structure.core import Spin\n",
    "from pymatgen.symmetry.kpath import KPathSetyawanCurtarolo,KPathLatimerMunro,KPathSeek\n",
    "from pymatgen.symmetry.analyzer import SpacegroupAnalyzer\n",
    "from pymatgen.electronic_structure.dos import *\n",
    "from pymatgen.electronic_structure.plotter import BSPlotter\n",
    "from pymatgen.analysis.eos import EOS\n",
    "from functions import *\n",
    "from bs_plotting import *\n",
    "import json\n",
    "%matplotlib inline\n",
    "import matplotlib.pyplot as plt\n",
    "import seaborn as sns\n"
   ]
  },
  {
   "cell_type": "code",
   "execution_count": 3,
   "id": "f9fcea68",
   "metadata": {},
   "outputs": [],
   "source": [
    "directory = './structures/Cu_surf_111/'\n",
    "work_fct = 3.52958434\n",
    "listOfFiles = os.listdir(directory)\n",
    "for item in listOfFiles:\n",
    "    if '_photo.odi' in item:\n",
    "        subprocess.call(f'sed -i \"s/.*work_function.*/workfunction : {round(work_fct,5)}/\" {directory}{item}',shell=True)\n",
    "#subprocess.call(,)\n",
    "#f'sed -i \"s/.*work_function.*/workfunction : {round(work_fct,5)}/\" {directory}{item}'\n",
    "#f'sed -i \"s/.*slab_volume.*/slab_volume : {round(slab_vol,5)}/\" {path}{item}'"
   ]
  },
  {
   "cell_type": "code",
   "execution_count": null,
   "id": "5d310f7e",
   "metadata": {},
   "outputs": [],
   "source": [
    "cell = read_cell2pmg('./structures/Cu_surf_111_bak/Cu_surf_111_geom.cell')\n",
    "#cell = CastepOutput('./structures/Cu_surf_111/Cu_surf_111.castep').structure\n",
    "print(cell)"
   ]
  },
  {
   "cell_type": "code",
   "execution_count": null,
   "id": "f31cf377",
   "metadata": {},
   "outputs": [],
   "source": [
    "view(AseAtomsAdaptor.get_atoms(cell))"
   ]
  },
  {
   "cell_type": "code",
   "execution_count": null,
   "id": "2280070c",
   "metadata": {},
   "outputs": [],
   "source": [
    "file_path = './structures/Cu_surf_111_photo/Cu_surf_111.castep'\n",
    "output = CastepOutput(file_path)#\n",
    "print(output.structure)"
   ]
  },
  {
   "cell_type": "code",
   "execution_count": null,
   "id": "1dd8b728",
   "metadata": {},
   "outputs": [],
   "source": [
    "seed = 'Cu_bulk_spectral_pdos'\n",
    "seed = 'Cu_surf_111'\n",
    "eins, axis = plot_proj_dos_optados(seed, plot_down= False, plot_total= False, export_json=False,xlimit=(-10, 10))\n",
    "plt.savefig('Cu111_pdos_-10_10.png',dpi=200)"
   ]
  },
  {
   "cell_type": "code",
   "execution_count": null,
   "id": "8092c5b8",
   "metadata": {},
   "outputs": [],
   "source": [
    "struct_110 = AseAtomsAdaptor.get_structure(read('./structures/Cu_surf_110/Cu_surf_110.xyz'))\n",
    "latimer = KPathLatimerMunro(struct_110)\n",
    "for index in range(12):\n",
    "    print('Latimer_Munroe Label:', latimer.LabelSymbol(index),'Point: ', latimer.LabelPoints(index))\n",
    "print('SetyawanCurtarolo/ASE',KPathSetyawanCurtarolo(struct_110).orc())"
   ]
  },
  {
   "cell_type": "markdown",
   "id": "82e6d70a",
   "metadata": {},
   "source": [
    "I recommend using pymatgen to generate the bulk/slab and then convert it to an ASE atom object. The advantages of this approach are:\n",
    "- pymatgen has a better bulk/slab generation algorithm \n",
    "- castep can link a calculator to the Atom object\n"
   ]
  },
  {
   "cell_type": "markdown",
   "id": "1de1c989",
   "metadata": {},
   "source": [
    "#### Download and save .cif file for necessary materials"
   ]
  },
  {
   "cell_type": "code",
   "execution_count": null,
   "id": "9f839895",
   "metadata": {},
   "outputs": [],
   "source": [
    "bulk = Structure.from_file(filename=\"Cu_metal_fcc.cif\")\n",
    "# print(bulk)\n",
    "# print(bulk.volume)\n",
    "# print(bulk.lattice)\n",
    "# print(bulk.species)\n",
    "# print(bulk.sites)\n",
    "bulk_ase = AseAtomsAdaptor().get_atoms(bulk)\n",
    "# print(bulk_ase)\n",
    "# print(bulk)\n",
    "surface = ase.build.surface(lattice = bulk_ase, indices = (1,1,1), layers = 5, vacuum=15, tol=1e-10, periodic=True)\n",
    "print(get_adjusted_kpts(bulk,AseAtomsAdaptor.get_structure(surface), [9,9,9] ))\n",
    "view.add_unitcell()\n",
    "view"
   ]
  },
  {
   "cell_type": "code",
   "execution_count": null,
   "id": "dbfe935b",
   "metadata": {},
   "outputs": [],
   "source": [
    "surf_110 = read_cell2pmg('./structures/Cu_surfaces_debug/Cu_surf_110.cell')\n",
    "view(AseAtomsAdaptor.get_atoms(surf_110))\n",
    "surf_100 = read_cell2pmg('./structures/Cu_surfaces_debug/Cu_surf_100.cell')\n",
    "view(AseAtomsAdaptor.get_atoms(surf_100))"
   ]
  },
  {
   "cell_type": "markdown",
   "id": "82210a8b",
   "metadata": {},
   "source": [
    "#### Read the Cutoff Energy Results and Display as Graph"
   ]
  },
  {
   "cell_type": "code",
   "execution_count": null,
   "id": "515f1eec",
   "metadata": {
    "scrolled": true
   },
   "outputs": [],
   "source": [
    "seeds = ['Cu_bulk_200','Cu_bulk_300','Cu_bulk_400','Cu_bulk_500', 'Cu_bulk_550','Cu_bulk_600']\n",
    "cutoffs = [300,400,500,550,600]\n",
    "tot_energies = []\n",
    "differences = []\n",
    "for seed in seeds:\n",
    "    temp_out = CastepOutput(path = f'./structures/cutoff_convergence/{seed}.castep')\n",
    "    tot_energies.append(temp_out.ks_total_energy) \n",
    "for i in range(len(tot_energies)):\n",
    "    if i == 0:\n",
    "        pass\n",
    "    if i == len(tot_energies)-1:\n",
    "        break\n",
    "    differences.append(abs(tot_energies[i+1]-tot_energies[i]))\n",
    "print('Differences:', differences)\n",
    "print('Total Energies:', tot_energies)\n",
    "#plt.rcParams['text.usetex'] = True\n",
    "sns.set_theme(style=\"darkgrid\")\n",
    "# Plot the responses for different events and regions\n",
    "graph = sns.lineplot(x=cutoffs, y=differences)\n",
    "graph.axhline(0.01285, ls = '--', c = 'red')\n",
    "graph.set(xlabel = 'energy cutoff [eV]', ylabel = r'$\\Delta E_{tot}$', title = 'Energy Cutoff Convergence')\n",
    "graph.set(xlim = (390,610), ylim =  (-0.1,1.1))\n",
    "plt.legend(labels=[r'$\\Delta$s',r'$\\frac{1}{2}kT$'])\n"
   ]
  },
  {
   "cell_type": "markdown",
   "id": "a1786522",
   "metadata": {},
   "source": [
    "#### Create scaled volume inputs, read the output files and create murnaghan plot"
   ]
  },
  {
   "cell_type": "code",
   "execution_count": null,
   "id": "e8423f4b",
   "metadata": {},
   "outputs": [],
   "source": [
    "bulk = Structure.from_file(filename=\"Cu_metal_fcc.cif\")\n",
    "create_murnaghan_inputs(seed = 'Cu_bulk_murn', structure=bulk, cutoff = 600, kpoints=[16,16,16], min_max=(0.9,1.1,10))"
   ]
  },
  {
   "cell_type": "code",
   "execution_count": null,
   "id": "51cbb1d9",
   "metadata": {},
   "outputs": [],
   "source": [
    "bulk = Structure.from_file(filename=\"Cu_metal_fcc.cif\")\n",
    "seed = 'Cu_bulk_murn_ext'\n",
    "murn, minimal_struct, energies,volumes = read_murnaghan_outputs(seed = seed, structure = bulk,path = f'./structures/EOS_tests/PBEsol/{seed}/')\n",
    "fig= murn.plot()\n",
    "plt.style.use('seaborn-darkgrid')\n",
    "#plt.savefig(f'./structures/plots/{seed}_pbesol.png')"
   ]
  },
  {
   "cell_type": "markdown",
   "id": "cb08e13f",
   "metadata": {},
   "source": [
    "#### Read the Results for Kpoint grid convergence and plot as graph"
   ]
  },
  {
   "cell_type": "markdown",
   "id": "75f3dfe0",
   "metadata": {},
   "source": [
    "ToDo: Modify the Kpoint convergence generation function to make a single input and then vary the values within the PBS script"
   ]
  },
  {
   "cell_type": "code",
   "execution_count": null,
   "id": "1ead1974",
   "metadata": {
    "scrolled": true
   },
   "outputs": [],
   "source": [
    "seeds = ['Cu_bulk_2','Cu_bulk_4','Cu_bulk_6','Cu_bulk_8','Cu_bulk_9','Cu_bulk_10','Cu_bulk_12','Cu_bulk_14','Cu_bulk_16','Cu_bulk_18']\n",
    "tot_energies = []\n",
    "differences = []\n",
    "kpoints = [4,6,8,9,10,12,14,16,18]\n",
    "kpoints2 = kpoints[1:]\n",
    "for seed in seeds:\n",
    "    temp_out = CastepOutput(path = f'./structures/kpt_convergence/{seed}.castep')\n",
    "    tot_energies.append(temp_out.ks_total_energy)\n",
    "for i in range(len(tot_energies)):\n",
    "    if i == 0:\n",
    "        pass\n",
    "    if i == len(tot_energies)-1:\n",
    "        break\n",
    "    differences.append(abs(tot_energies[i+1]-tot_energies[i]))\n",
    "sns.set_theme(style=\"darkgrid\")\n",
    "differences_2 = differences[1:]\n",
    "#print(differences_2)\n",
    "# Plot the responses for different events and regions\n",
    "graph = sns.lineplot(x=kpoints2, y=differences_2)\n",
    "graph.axhline(0.01285, ls = '--', c = 'red')\n",
    "graph.set(xlabel = 'MP k-point grid size (x,x,x)', ylabel = r'$\\Delta E_{tot}$ [eV]', title = 'K-point Grid Convergence')\n",
    "plt.legend(labels=[r'$\\Delta$ E',r'$\\frac{1}{2}kT$'])\n",
    "#plt.savefig('./structures/plots/k_point_convergence_zoom.png',dpi = 300)"
   ]
  },
  {
   "cell_type": "markdown",
   "id": "8b4bd2bf",
   "metadata": {},
   "source": [
    "#### Read in the geometry optimisation trajectory file"
   ]
  },
  {
   "cell_type": "code",
   "execution_count": null,
   "id": "3b147297",
   "metadata": {},
   "outputs": [],
   "source": [
    "from pymatgen.core.lattice import Lattice\n",
    "from pymatgen.core.structure import Structure\n",
    "\n",
    "data = read_geometry_traj_file(path = './structures/')"
   ]
  },
  {
   "cell_type": "markdown",
   "id": "29b8cdcc",
   "metadata": {},
   "source": [
    "#### Plot the electronic densities and potential"
   ]
  },
  {
   "cell_type": "code",
   "execution_count": null,
   "id": "92f40b40",
   "metadata": {},
   "outputs": [],
   "source": [
    "fig,ax = create_density_plot(directory = './structures/Cu_surf_111/', centered = True)\n",
    "plt.tight_layout()\n",
    "#plt.savefig('./structures/plots/Cu_surf_111_victor_16L_density_plot.png')"
   ]
  },
  {
   "cell_type": "code",
   "execution_count": null,
   "id": "4d2ed770",
   "metadata": {},
   "outputs": [],
   "source": [
    "seed = 'Cu_surf_111'\n",
    "fig,ax = create_potential_plot(directory=f'./structures/{seed}/', centered = False)\n",
    "plt.tight_layout()\n",
    "#plt.savefig(f'./structures/plots/{seed}_victor_16L_potential_plot.png')"
   ]
  },
  {
   "cell_type": "markdown",
   "id": "fe3efc88",
   "metadata": {},
   "source": [
    "#### Create Plot with modified pymatgen functions to create more colourful bandstructure plot"
   ]
  },
  {
   "cell_type": "code",
   "execution_count": null,
   "id": "a309ade9",
   "metadata": {},
   "outputs": [],
   "source": [
    "#%matplotlib inline\n",
    "bandstructure_cu = read_bands2pmg('Cu_surf_111', export=False)\n",
    "#print(bandstructure_cu.distance)\n",
    "output = []\n",
    "for kpt in bandstructure_cu.kpoints:\n",
    "    output.append((kpt.label,kpt.cart_coords))\n",
    "plot = get_bs_plot(bandstructure_cu,ylim = (-10,10))\n",
    "\n",
    "plt.savefig('./structures/plots/Cu_bandstruct_120deg_ooriginal.png')"
   ]
  },
  {
   "cell_type": "markdown",
   "id": "829ff795",
   "metadata": {},
   "source": [
    "#### Plot reference Cu Bandstructure from Materials Project "
   ]
  },
  {
   "cell_type": "code",
   "execution_count": null,
   "id": "8dc6fac8",
   "metadata": {},
   "outputs": [],
   "source": [
    "with open('./structures/band_jsons/Cu_bandstruct_ref.json', 'r') as f:\n",
    "    d = json.load(f)\n",
    "    bandstruct_new = BandStructureSymmLine.from_dict(d)\n",
    "\n",
    "plotter = BSPlotter(bandstruct_new)\n",
    "#print(bandstruct_new.as_dict()['branches'])\n",
    "#print(bandstruct_new.get_branch(320))\n",
    "band_plot = plotter.get_plot(ylim=(-5,9))\n",
    "band_plot.show()"
   ]
  },
  {
   "cell_type": "markdown",
   "id": "6d0ce9a9",
   "metadata": {},
   "source": [
    "#### Plot bandstructure from castep .bands file using ASE functions"
   ]
  },
  {
   "cell_type": "code",
   "execution_count": null,
   "id": "84b2e4bb",
   "metadata": {
    "scrolled": false
   },
   "outputs": [],
   "source": [
    "#bandfile = create_bands_file(calc_struct = AseAtomsAdaptor().get_atoms(Structure.from_file(filename=\"Fe_metal_bcc.cif\")),seed = 'Fe')\n",
    "seed = 'Cu_bulk_bandstruct'\n",
    "calc_struct = AseAtomsAdaptor().get_atoms(Structure.from_file(filename=\"Cu_metal_fcc.cif\"))\n",
    "calc = ase.calculators.castep.Castep(check_castep_version = False,keyword_tolerance=3)\n",
    "calc_struct.calc = calc\n",
    "bandstructure = calc_struct.calc.band_structure(bandfile=f'./structures/{seed}/{seed}.bands').subtract_reference()\n",
    "#print(bandstructure.get_labels())\n",
    "plt.style.use('seaborn')\n",
    "#ax.ylimit(-12,35)\n",
    "bandstructure.plot(emin=-12, emax=35)"
   ]
  },
  {
   "cell_type": "markdown",
   "id": "8adeba28",
   "metadata": {},
   "source": [
    "#### Create Parameter Sweep for OptaDOS"
   ]
  },
  {
   "cell_type": "code",
   "execution_count": 2,
   "id": "af68fda3",
   "metadata": {},
   "outputs": [],
   "source": [
    "photoemission_options= {\n",
    "        'work_function' : 4.3731,\n",
    "        'surface_area' : 6.55677,\n",
    "        'slab_volume' : 198.13882,\n",
    "        'elec_field' : 0,\n",
    "        'optics_qdir' : [1, 1.000, 1.0000],\n",
    "        'photo_model' : ['1step','3step'] # 1step or 3step or 1step,3step\n",
    "}\n",
    "optados_photon_energy_sweep(seed='Cu_surf_110', min_max = (4,5.5,20), **photoemission_options)"
   ]
  },
  {
   "cell_type": "code",
   "execution_count": 4,
   "id": "0e897058",
   "metadata": {},
   "outputs": [
    {
     "name": "stdout",
     "output_type": "stream",
     "text": [
      "1 2 3 4\n"
     ]
    }
   ],
   "source": [
    "one = [1,2,3,4]\n",
    "print(' '.join([str(x) for x in one]))"
   ]
  },
  {
   "cell_type": "markdown",
   "id": "c54cf480",
   "metadata": {},
   "source": [
    "#### Read in the photon energy sweep output files"
   ]
  },
  {
   "cell_type": "code",
   "execution_count": null,
   "id": "cdec2d5f",
   "metadata": {},
   "outputs": [],
   "source": [
    "Cu_surf_data = read_photonsweep_outputs(seed = 'Cu_surf_111', path = './structures/Cu_surf_111/test_01/')\n",
    "graph_options = {\n",
    "    'title': 'Cu[111]',\n",
    "    'temperature': 298,\n",
    "    'filename' : './structures/plots/Cu_111_pbesol_120deg_test1_mte_plot_0E.png'\n",
    "}\n",
    "#print(Cu_111_data)\n",
    "fig, ax = make_photonsweep_plots(Cu_surf_data,**graph_options)\n",
    "plt.savefig(graph_options['filename'],dpi = 250)"
   ]
  },
  {
   "cell_type": "code",
   "execution_count": null,
   "id": "67a1e136",
   "metadata": {},
   "outputs": [],
   "source": [
    "Cu_surf_data = read_photonsweep_outputs(seed = 'Cu_surf_111', path = './structures/Cu_surf_111/')\n",
    "graph_options = {\n",
    "    'title': 'Cu[111]',\n",
    "    'temperature': 298,\n",
    "    'filename' : './structures/plots/Cu_111_pbesol_120deg_test2_mte_plot_0E.png'\n",
    "}\n",
    "#print(Cu_111_data)\n",
    "fig, ax = make_photonsweep_plots(Cu_surf_data,**graph_options)\n",
    "plt.savefig(graph_options['filename'],dpi = 250)"
   ]
  },
  {
   "cell_type": "markdown",
   "id": "bd9f96ba",
   "metadata": {},
   "source": [
    "### Plot DOS plot created by OptaDOS"
   ]
  },
  {
   "cell_type": "code",
   "execution_count": null,
   "id": "a0d3d79e",
   "metadata": {},
   "outputs": [],
   "source": [
    "seed = 'Cu_surf_111'\n",
    "fig, ax= plot_dos_optados(seed, plot_total = False, xlimit = (-12, 35), export_json = False)\n",
    "#plt.savefig(f\"./structures/plots/{seed}_dos.png\")"
   ]
  },
  {
   "cell_type": "markdown",
   "id": "f1fdb090",
   "metadata": {},
   "source": [
    "### Plot proj DOS plot created by OptaDOS"
   ]
  },
  {
   "cell_type": "code",
   "execution_count": null,
   "id": "735ccc07",
   "metadata": {},
   "outputs": [],
   "source": [
    "#seed = 'Cu_bulk_spectral_pdos'\n",
    "seed = 'Cu_surf_111'\n",
    "eins, axis = plot_proj_dos_optados(seed, plot_down= False, plot_total= False, export_json=False,xlimit=(-10, 10))\n",
    "plt.tight_layout()\n",
    "plt.savefig('./structures/plots/Cu111_120deg_-10_10.png',dpi=200)"
   ]
  },
  {
   "cell_type": "code",
   "execution_count": null,
   "id": "feee8e1c",
   "metadata": {},
   "outputs": [],
   "source": [
    "from pymatgen.electronic_structure.plotter import DosPlotter\n",
    "with open('./structures/jsons/DOS/Cu_bulk_spectral_dos_total.json', 'r') as f:\n",
    "   d = json.load(f)\n",
    "   dos_calc = Dos.from_dict(d)\n",
    "with open('./structures/jsons/DOS/Cu_bulk_matproject_ref.json', 'r') as f:\n",
    "    d = json.load(f)\n",
    "    dos_ref = Dos.from_dict(d)\n",
    "plt.style.use('seaborn-darkgrid')\n",
    "plotter = DosPlotter()\n",
    "plotter.add_dos(\"calculated\", dos_calc)\n",
    "plotter.add_dos(\"reference\", dos_ref)\n",
    "plotter.get_plot(xlim = (-12,2.5),ylim=(-0.2,9))\n",
    "plt.savefig('./structures/plots/Cu_bulk_tot_dos_comparison_dos_matproj_zoom.png')"
   ]
  },
  {
   "cell_type": "code",
   "execution_count": null,
   "id": "4e69a9e8",
   "metadata": {},
   "outputs": [],
   "source": [
    "with open('./structures/jsons/bands/Cu_bulk_bandstruct_full.json', 'r') as f:\n",
    "    d = json.load(f)\n",
    "    bandstruct_cu_full = BandStructureSymmLine.from_dict(d)\n",
    "with open('./structures/jsons/bands/Cu_bulk_bandstruct_full_UX.json', 'r') as f:\n",
    "   d = json.load(f)\n",
    "   bandstruct_cu_ux = BandStructureSymmLine.from_dict(d)\n",
    "bandstruct_full = append_symm_line(bandstruct_cu_full,bandstruct_cu_ux)\n",
    "with open(f'./structures/band_jsons/cu_bandstruct_all_points.json', 'w') as f:\n",
    "    json.dump(bandstruct_full.as_dict(), f)\n",
    "plotter = BSPlotter(bandstruct_full)\n",
    "band_plot = plotter.get_plot(ylim=(-5,9))\n",
    "band_plot.show()"
   ]
  },
  {
   "cell_type": "code",
   "execution_count": null,
   "id": "09b4ea0c",
   "metadata": {},
   "outputs": [],
   "source": [
    "with open('./structures/jsons/bands/Cu_bandstruct_ref.json', 'r') as f:\n",
    "    d = json.load(f)\n",
    "    bandstruct_cu_ref = BandStructureSymmLine.from_dict(d)\n",
    "with open('./structures/jsons/bands/cu_bandstruct_all_points.json', 'r') as f:\n",
    "   d = json.load(f)\n",
    "   bandstruct_cu_full = BandStructureSymmLine.from_dict(d)\n",
    "\n",
    "#bandstruct_full = append_symm_line(bandstruct_cu_full,bandstruct_cu_ux)\n",
    "#with open(f'./structures/band_jsons/cu_bandstruct_all_points.json', 'w') as f:\n",
    "#    json.dump(bandstruct_full.as_dict(), f)\n",
    "\n",
    "plotter = BSPlotter(bandstruct_cu_full)\n",
    "plotter.add_bs(bandstruct_cu_ref)\n",
    "band_plot = plotter.get_plot(ylim=(-12,35), bs_labels=['Calculated','Materials Project Ref'])\n",
    "plt.xlabel('')\n",
    "plt.savefig('comparison_calculated_vs_matproj_ref_optados_Efermi.png')\n",
    "band_plot.show()\n"
   ]
  }
 ],
 "metadata": {
  "kernelspec": {
   "display_name": "Python3.9(matchem)",
   "language": "python",
   "name": "python3_matchem"
  },
  "language_info": {
   "codemirror_mode": {
    "name": "ipython",
    "version": 3
   },
   "file_extension": ".py",
   "mimetype": "text/x-python",
   "name": "python",
   "nbconvert_exporter": "python",
   "pygments_lexer": "ipython3",
   "version": "3.6.8"
  },
  "vscode": {
   "interpreter": {
    "hash": "c3dd69bdc4a599cd940dd8e84c975531cc0841a51e9f1c7e8f2947e69c472b46"
   }
  }
 },
 "nbformat": 4,
 "nbformat_minor": 5
}
