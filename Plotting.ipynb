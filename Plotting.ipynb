{
 "cells": [
  {
   "cell_type": "markdown",
   "id": "88432b1f",
   "metadata": {},
   "source": [
    "# Workflow to calculate the quantum efficiency of a polycrystalline material"
   ]
  },
  {
   "cell_type": "code",
   "execution_count": 1,
   "id": "4e4e006e",
   "metadata": {},
   "outputs": [],
   "source": [
    "import subprocess\n",
    "import os\n",
    "from ase.io import read\n",
    "from ase.visualize import view\n",
    "from ase.build import surface\n",
    "import ase.calculators.castep\n",
    "import ase.io.castep\n",
    "\n",
    "\n",
    "from pymatgen.core.structure import Structure\n",
    "from pymatgen.io.ase import AseAtomsAdaptor\n",
    "from pymatgen.electronic_structure.bandstructure import BandStructureSymmLine\n",
    "from pymatgen.symmetry.kpath import KPathSetyawanCurtarolo,KPathLatimerMunro\n",
    "from pymatgen.electronic_structure.dos import *\n",
    "from pymatgen.electronic_structure.plotter import BSPlotter\n",
    "from python_functions import *\n",
    "from bs_plotting import *\n",
    "import json\n",
    "%matplotlib inline\n",
    "import matplotlib.pyplot as plt\n",
    "import seaborn as sns\n"
   ]
  },
  {
   "cell_type": "code",
   "execution_count": 3,
   "id": "7104a2f1",
   "metadata": {},
   "outputs": [],
   "source": [
    "directory = './structures/Cu_surf_111/'\n",
    "work_fct = 3.52958434\n",
    "listOfFiles = os.listdir(directory)\n",
    "for item in listOfFiles:\n",
    "    if '_photo.odi' in item:\n",
    "        subprocess.call(f'sed -i \"s/.*work_function.*/workfunction : {round(work_fct,5)}/\" {directory}{item}',shell=True)\n",
    "#subprocess.call(,)\n",
    "#f'sed -i \"s/.*work_function.*/workfunction : {round(work_fct,5)}/\" {directory}{item}'\n",
    "#f'sed -i \"s/.*slab_volume.*/slab_volume : {round(slab_vol,5)}/\" {path}{item}'"
   ]
  },
  {
   "cell_type": "code",
   "execution_count": null,
   "id": "9f566785",
   "metadata": {},
   "outputs": [],
   "source": [
    "cell = read_cell2pmg('./structures/Cu_surf_111_bak/Cu_surf_111_geom.cell')\n",
    "#cell = CastepOutput('./structures/Cu_surf_111/Cu_surf_111.castep').structure\n",
    "print(cell)"
   ]
  },
  {
   "cell_type": "code",
   "execution_count": null,
   "id": "59a78a23",
   "metadata": {},
   "outputs": [],
   "source": [
    "view(AseAtomsAdaptor.get_atoms(cell))"
   ]
  },
  {
   "cell_type": "code",
   "execution_count": null,
   "id": "5ee52076",
   "metadata": {},
   "outputs": [],
   "source": [
    "file_path = './structures/Cu_surf_111_photo/Cu_surf_111.castep'\n",
    "output = CastepOutput(file_path)#\n",
    "print(output.structure)"
   ]
  },
  {
   "cell_type": "code",
   "execution_count": null,
   "id": "4a31b63b",
   "metadata": {},
   "outputs": [],
   "source": [
    "seed = 'Cu_bulk_spectral_pdos'\n",
    "seed = 'Cu_surf_111'\n",
    "eins, axis = plot_proj_dos_optados(seed, plot_down= False, plot_total= False, export_json=False,xlimit=(-10, 10))\n",
    "plt.savefig('Cu111_pdos_-10_10.png',dpi=200)"
   ]
  },
  {
   "cell_type": "code",
   "execution_count": null,
   "id": "24af6d0b",
   "metadata": {},
   "outputs": [],
   "source": [
    "struct_110 = AseAtomsAdaptor.get_structure(read('./structures/Cu_surf_110/Cu_surf_110.xyz'))\n",
    "latimer = KPathLatimerMunro(struct_110)\n",
    "for index in range(12):\n",
    "    print('Latimer_Munroe Label:', latimer.LabelSymbol(index),'Point: ', latimer.LabelPoints(index))\n",
    "print('SetyawanCurtarolo/ASE',KPathSetyawanCurtarolo(struct_110).orc())"
   ]
  },
  {
   "cell_type": "markdown",
   "id": "88b6e620",
   "metadata": {},
   "source": [
    "I recommend using pymatgen to generate the bulk/slab and then convert it to an ASE atom object. The advantages of this approach are:\n",
    "- pymatgen has a better bulk/slab generation algorithm \n",
    "- castep can link a calculator to the Atom object\n"
   ]
  },
  {
   "cell_type": "markdown",
   "id": "ce64b022",
   "metadata": {},
   "source": [
    "#### Download and save .cif file for necessary materials"
   ]
  },
  {
   "cell_type": "code",
   "execution_count": null,
   "id": "56a0266f",
   "metadata": {},
   "outputs": [],
   "source": [
    "bulk = Structure.from_file(filename=\"Cu_metal_fcc.cif\")\n",
    "# print(bulk)\n",
    "# print(bulk.volume)\n",
    "# print(bulk.lattice)\n",
    "# print(bulk.species)\n",
    "# print(bulk.sites)\n",
    "bulk_ase = AseAtomsAdaptor().get_atoms(bulk)\n",
    "# print(bulk_ase)\n",
    "# print(bulk)\n",
    "surface = ase.build.surface(lattice = bulk_ase, indices = (1,1,1), layers = 5, vacuum=15, tol=1e-10, periodic=True)\n",
    "print(get_adjusted_kpts(bulk,AseAtomsAdaptor.get_structure(surface), [9,9,9] ))\n",
    "view.add_unitcell()\n",
    "view"
   ]
  },
  {
   "cell_type": "code",
   "execution_count": null,
   "id": "9848fa9c",
   "metadata": {},
   "outputs": [],
   "source": [
    "surf_110 = read_cell2pmg('./structures/Cu_surfaces_debug/Cu_surf_110.cell')\n",
    "view(AseAtomsAdaptor.get_atoms(surf_110))\n",
    "surf_100 = read_cell2pmg('./structures/Cu_surfaces_debug/Cu_surf_100.cell')\n",
    "view(AseAtomsAdaptor.get_atoms(surf_100))"
   ]
  },
  {
   "cell_type": "markdown",
   "id": "aaee767b",
   "metadata": {},
   "source": [
    "#### Read the Cutoff Energy Results and Display as Graph"
   ]
  },
  {
   "cell_type": "code",
   "execution_count": null,
   "id": "399344c7",
   "metadata": {
    "scrolled": true
   },
   "outputs": [],
   "source": [
    "seed = 'Cu_bulk_'\n",
    "path_pbe = './structures/Cu_bulk_convergence/cutoff/'\n",
    "path_sol = './structures/Cu_bulk_convergence/cutoff/PBEsol/'\n",
    "cutoffs = [200, 300, 400, 500, 566, 600]\n",
    "tot_energies, differences = {'pbe' : [],'pbesol' : []},{'pbe' : [],'pbesol' : []}\n",
    "for cut in cutoffs:\n",
    "    temp_pbe = CastepOutput(path = f'{path_pbe}{seed}{cut}/{seed}{cut}.castep')\n",
    "    temp_sol = CastepOutput(path= f'{path_sol}{seed}{cut}/{seed}{cut}.castep')\n",
    "    tot_energies['pbe'].append(temp_pbe.ks_total_energy)\n",
    "    tot_energies['pbesol'].append(temp_sol.ks_total_energy)\n",
    "\n",
    "for i in range(1,len(cutoffs)):\n",
    "    differences['pbe'].append(abs(tot_energies['pbe'][i]-tot_energies['pbe'][i-1]))\n",
    "    differences['pbesol'].append(abs(tot_energies['pbesol'][i]-tot_energies['pbesol'][i-1]))\n",
    "\n",
    "#print('Differences:', differences)\n",
    "#print('Total Energies:', tot_energies)\n",
    "#plt.rcParams['text.usetex'] = True\n",
    "sns.set_theme(style=\"darkgrid\")\n",
    "# Plot the responses for different events and regions\n",
    "print(differences)\n",
    "graph = sns.lineplot(x=cutoffs[1:], y=differences['pbe'])\n",
    "graph = sns.lineplot(x=cutoffs[1:], y=differences['pbesol'])\n",
    "graph.axhline(0.01285, ls = '--', c = 'red')\n",
    "graph.set(xlabel = 'energy cutoff [eV]', ylabel = r'$\\Delta E_{tot}$', title = 'Energy Cutoff Convergence')\n",
    "graph.set(xlim = (390,610), ylim =  (-0.01,0.5))\n",
    "plt.legend(labels=[r'PBE','PBEsol',r'$\\frac{1}{2}kT$'])\n",
    "plt.savefig('./structures/plots/convergence_comparison_cutoff_zoom.png')"
   ]
  },
  {
   "cell_type": "code",
   "execution_count": null,
   "id": "ca5d8fdd",
   "metadata": {},
   "outputs": [],
   "source": [
    "subprocess.call('qstat', shell=True)"
   ]
  },
  {
   "cell_type": "code",
   "execution_count": null,
   "id": "af589b6f",
   "metadata": {},
   "outputs": [],
   "source": [
    "seed = 'Cu_bulk_'\n",
    "path_pbe = './structures/Cu_bulk_convergence/k_points/'\n",
    "path_sol = './structures/Cu_bulk_convergence/k_points/PBEsol/'\n",
    "cutoffs = [2,4,6,8,9,10,12,14,16,18]\n",
    "tot_energies, differences = {'pbe' : [],'pbesol' : []},{'pbe' : [],'pbesol' : []}\n",
    "for cut in cutoffs:\n",
    "    temp_pbe = CastepOutput(path = f'{path_pbe}{seed}{cut}/{seed}{cut}.castep')\n",
    "    temp_sol = CastepOutput(path= f'{path_sol}{seed}{cut}/{seed}{cut}.castep')\n",
    "    tot_energies['pbe'].append(temp_pbe.ks_total_energy)\n",
    "    tot_energies['pbesol'].append(temp_sol.ks_total_energy)\n",
    "\n",
    "for i in range(1,len(cutoffs)):\n",
    "    differences['pbe'].append(abs(tot_energies['pbe'][i]-tot_energies['pbe'][i-1]))\n",
    "    differences['pbesol'].append(abs(tot_energies['pbesol'][i]-tot_energies['pbesol'][i-1]))\n",
    "\n",
    "#print('Differences:', differences)\n",
    "#print('Total Energies:', tot_energies)\n",
    "#plt.rcParams['text.usetex'] = True\n",
    "sns.set_theme(style=\"darkgrid\")\n",
    "# Plot the responses for different events and regions\n",
    "print(differences)\n",
    "graph = sns.lineplot(x=cutoffs[1:], y=differences['pbe'])\n",
    "graph = sns.lineplot(x=cutoffs[1:], y=differences['pbesol'],alpha = 0.5)\n",
    "graph.axhline(0.01285, ls = '--', c = 'red')\n",
    "graph.set(xlabel = 'k-point grid #x#x#', ylabel = r'$\\Delta E_{tot}$', title = 'K-Point Grid Convergence')\n",
    "graph.set(xlim = (5.9,18), ylim =  (-0.01,0.1))\n",
    "plt.legend(labels=[r'PBE','PBEsol',r'$\\frac{1}{2}kT$'])\n",
    "plt.savefig('./structures/plots/comparison_kpoints_zoom.png',dpi = 250)"
   ]
  },
  {
   "cell_type": "markdown",
   "id": "da8bb9e2",
   "metadata": {},
   "source": [
    "#### Create scaled volume inputs, read the output files and create murnaghan plot"
   ]
  },
  {
   "cell_type": "code",
   "execution_count": null,
   "id": "b43cc281",
   "metadata": {},
   "outputs": [],
   "source": [
    "bulk = Structure.from_file(filename=\"Cu_metal_fcc.cif\")\n",
    "create_murnaghan_inputs(seed = 'Cu_bulk_murn', structure=bulk, cutoff = 600, kpoints=[16,16,16], min_max=(0.9,1.1,10))"
   ]
  },
  {
   "cell_type": "code",
   "execution_count": null,
   "id": "ba69de3b",
   "metadata": {},
   "outputs": [],
   "source": [
    "bulk = Structure.from_file(filename=\"Cu_metal_fcc.cif\")\n",
    "seed = 'Cu_bulk_murn_ext'\n",
    "murn, minimal_struct, energies,volumes = read_murnaghan_outputs(seed = seed, structure = bulk,path = f'./structures/EOS_tests/PBEsol/{seed}/')\n",
    "fig= murn.plot()\n",
    "plt.style.use('seaborn-darkgrid')\n",
    "#plt.savefig(f'./structures/plots/{seed}_pbesol.png')"
   ]
  },
  {
   "cell_type": "markdown",
   "id": "f59c4472",
   "metadata": {},
   "source": [
    "#### Read the Results for Kpoint grid convergence and plot as graph"
   ]
  },
  {
   "cell_type": "markdown",
   "id": "64ead61c",
   "metadata": {},
   "source": [
    "ToDo: Modify the Kpoint convergence generation function to make a single input and then vary the values within the PBS script"
   ]
  },
  {
   "cell_type": "code",
   "execution_count": null,
   "id": "09826f1a",
   "metadata": {
    "scrolled": true
   },
   "outputs": [],
   "source": [
    "seeds = ['Cu_bulk_2','Cu_bulk_4','Cu_bulk_6','Cu_bulk_8','Cu_bulk_9','Cu_bulk_10','Cu_bulk_12','Cu_bulk_14','Cu_bulk_16','Cu_bulk_18']\n",
    "tot_energies = []\n",
    "differences = []\n",
    "kpoints = [4,6,8,9,10,12,14,16,18]\n",
    "kpoints2 = kpoints[1:]\n",
    "for seed in seeds:\n",
    "    temp_out = CastepOutput(path = f'./structures/kpt_convergence/{seed}.castep')\n",
    "    tot_energies.append(temp_out.ks_total_energy)\n",
    "for i in range(len(tot_energies)):\n",
    "    if i == 0:\n",
    "        pass\n",
    "    if i == len(tot_energies)-1:\n",
    "        break\n",
    "    differences.append(abs(tot_energies[i+1]-tot_energies[i]))\n",
    "sns.set_theme(style=\"darkgrid\")\n",
    "differences_2 = differences[1:]\n",
    "#print(differences_2)\n",
    "# Plot the responses for different events and regions\n",
    "graph = sns.lineplot(x=kpoints2, y=differences_2)\n",
    "graph.axhline(0.01285, ls = '--', c = 'red')\n",
    "graph.set(xlabel = 'MP k-point grid size (x,x,x)', ylabel = r'$\\Delta E_{tot}$ [eV]', title = 'K-point Grid Convergence')\n",
    "plt.legend(labels=[r'$\\Delta$ E',r'$\\frac{1}{2}kT$'])\n",
    "#plt.savefig('./structures/plots/k_point_convergence_zoom.png',dpi = 300)"
   ]
  },
  {
   "cell_type": "markdown",
   "id": "f6c74d46",
   "metadata": {},
   "source": [
    "#### Read in the geometry optimisation trajectory file"
   ]
  },
  {
   "cell_type": "code",
   "execution_count": null,
   "id": "1131ce39",
   "metadata": {},
   "outputs": [],
   "source": [
    "from pymatgen.core.lattice import Lattice\n",
    "from pymatgen.core.structure import Structure\n",
    "\n",
    "data = read_geometry_traj_file(path = './structures/')"
   ]
  },
  {
   "cell_type": "markdown",
   "id": "8cf5cd96",
   "metadata": {},
   "source": [
    "#### Plot the electronic densities and potential"
   ]
  },
  {
   "cell_type": "code",
   "execution_count": null,
   "id": "5f69a8ea",
   "metadata": {},
   "outputs": [],
   "source": [
    "fig,ax = create_density_plot(directory = './structures/Cu110_victor_60A/', centered = False)\n",
    "plt.tight_layout()\n",
    "plt.savefig('./structures/plots/Cu110_victor_60A_density_plot.png')"
   ]
  },
  {
   "cell_type": "code",
   "execution_count": null,
   "id": "8fd288c7",
   "metadata": {},
   "outputs": [],
   "source": [
    "fig,ax = create_potential_plot(directory='./structures/Cu110_victor_50A/14L/', centered = False)\n",
    "plt.tight_layout()\n",
    "plt.savefig(f'./structures/plots/Cu110_pbesol_14L_50A_potential_plot.png')"
   ]
  },
  {
   "cell_type": "markdown",
   "id": "30b827b5",
   "metadata": {},
   "source": [
    "#### Create Plot with modified pymatgen functions to create more colourful bandstructure plot"
   ]
  },
  {
   "cell_type": "code",
   "execution_count": null,
   "id": "83847927",
   "metadata": {},
   "outputs": [],
   "source": [
    "%matplotlib inline\n",
    "bandstructure_cu = read_bands2pmg(path='./structures/Cu110_victor_60A', export=False)\n",
    "#print(bandstructure_cu.distance)\n",
    "output = []\n",
    "for kpt in bandstructure_cu.kpoints:\n",
    "    output.append((kpt.label,kpt.cart_coords))\n",
    "plot = get_bs_plot(bandstructure_cu,ylim = (-10,10))\n",
    "\n",
    "plt.savefig('./structures/plots/Cu110_victor_60_bandstruct.png',dpi=300)"
   ]
  },
  {
   "cell_type": "markdown",
   "id": "324534a7",
   "metadata": {},
   "source": [
    "#### Plot reference Cu Bandstructure from Materials Project "
   ]
  },
  {
   "cell_type": "code",
   "execution_count": null,
   "id": "ef40766a",
   "metadata": {},
   "outputs": [],
   "source": [
    "with open('./structures/band_jsons/Cu_bandstruct_ref.json', 'r') as f:\n",
    "    d = json.load(f)\n",
    "    bandstruct_new = BandStructureSymmLine.from_dict(d)\n",
    "\n",
    "plotter = BSPlotter(bandstruct_new)\n",
    "#print(bandstruct_new.as_dict()['branches'])\n",
    "#print(bandstruct_new.get_branch(320))\n",
    "band_plot = plotter.get_plot(ylim=(-5,9))\n",
    "band_plot.show()"
   ]
  },
  {
   "cell_type": "markdown",
   "id": "4604c183",
   "metadata": {},
   "source": [
    "#### Plot bandstructure from castep .bands file using ASE functions"
   ]
  },
  {
   "cell_type": "code",
   "execution_count": null,
   "id": "aa9762cf",
   "metadata": {
    "scrolled": false
   },
   "outputs": [],
   "source": [
    "#bandfile = create_bands_file(calc_struct = AseAtomsAdaptor().get_atoms(Structure.from_file(filename=\"Fe_metal_bcc.cif\")),seed = 'Fe')\n",
    "seed = 'Cu_bulk_bandstruct'\n",
    "calc_struct = AseAtomsAdaptor().get_atoms(Structure.from_file(filename=\"Cu_metal_fcc.cif\"))\n",
    "calc = ase.calculators.castep.Castep(check_castep_version = False,keyword_tolerance=3)\n",
    "calc_struct.calc = calc\n",
    "bandstructure = calc_struct.calc.band_structure(bandfile=f'./structures/{seed}/{seed}.bands').subtract_reference()\n",
    "#print(bandstructure.get_labels())\n",
    "plt.style.use('seaborn')\n",
    "#ax.ylimit(-12,35)\n",
    "bandstructure.plot(emin=-12, emax=35)"
   ]
  },
  {
   "cell_type": "markdown",
   "id": "0943b5c6",
   "metadata": {},
   "source": [
    "#### Create Parameter Sweep for OptaDOS"
   ]
  },
  {
   "cell_type": "code",
   "execution_count": 2,
   "id": "d7d0a65a",
   "metadata": {},
   "outputs": [],
   "source": [
    "photoemission_options= {\n",
    "        'work_function' : 4.3731,\n",
    "        'surface_area' : 6.55677,\n",
    "        'slab_volume' : 198.13882,\n",
    "        'elec_field' : 0,\n",
    "        'optics_qdir' : [1, 1.000, 1.0000],\n",
    "        'photo_model' : ['1step','3step'] # 1step or 3step or 1step,3step\n",
    "}\n",
    "optados_photon_energy_sweep(seed='Cu_surf_110', min_max = (4,5.5,20), **photoemission_options)"
   ]
  },
  {
   "cell_type": "code",
   "execution_count": null,
   "id": "5edc3ce5",
   "metadata": {},
   "outputs": [],
   "source": [
    "one = [1,2,3,4]\n",
    "print(' '.join([str(x) for x in one]))"
   ]
  },
  {
   "cell_type": "markdown",
   "id": "8cf456ec",
   "metadata": {},
   "source": [
    "#### Read in the photon energy sweep output files"
   ]
  },
  {
   "cell_type": "code",
   "execution_count": null,
   "id": "a1defa81",
   "metadata": {},
   "outputs": [],
   "source": [
    "Cu_surf_data = read_photonsweep_outputs(seed = 'Cu_surf_100', path = './structures/Cu_surf_100_victor_60A/')\n",
    "graph_options = {\n",
    "    'title': 'Cu[100]',\n",
    "    'temperature': 298,\n",
    "    'filename' : './structures/plots/Cu100_victor_50A_mte_plot_0E.png'\n",
    "}\n",
    "#print(Cu_111_data)\n",
    "fig, ax = make_photonsweep_plots(Cu_surf_data,**graph_options)\n",
    "plt.savefig(graph_options['filename'],dpi = 250)"
   ]
  },
  {
   "cell_type": "code",
   "execution_count": null,
   "id": "358d08e5",
   "metadata": {},
   "outputs": [],
   "source": [
    "Cu_surf_data = read_photonsweep_outputs(seed = 'Cu_surf_111', path = './structures/Cu_surf_111/')\n",
    "graph_options = {\n",
    "    'title': 'Cu[111]',\n",
    "    'temperature': 298,\n",
    "    'filename' : './structures/plots/Cu_111_pbesol_120deg_test2_mte_plot_0E.png'\n",
    "}\n",
    "#print(Cu_111_data)\n",
    "fig, ax = make_photonsweep_plots(Cu_surf_data,**graph_options)\n",
    "plt.savefig(graph_options['filename'],dpi = 250)"
   ]
  },
  {
   "cell_type": "markdown",
   "id": "94c38081",
   "metadata": {},
   "source": [
    "### Plot DOS plot created by OptaDOS"
   ]
  },
  {
   "cell_type": "code",
   "execution_count": null,
   "id": "6515ea52",
   "metadata": {},
   "outputs": [],
   "source": [
    "seed = 'Cu_surf_111'\n",
    "fig, ax= plot_dos_optados(seed, plot_total = False, xlimit = (-12, 35), export_json = False)\n",
    "#plt.savefig(f\"./structures/plots/{seed}_dos.png\")"
   ]
  },
  {
   "cell_type": "markdown",
   "id": "a0be74e6",
   "metadata": {},
   "source": [
    "### Plot proj DOS plot created by OptaDOS"
   ]
  },
  {
   "cell_type": "code",
   "execution_count": null,
   "id": "d826db87",
   "metadata": {},
   "outputs": [],
   "source": [
    "#seed = 'Cu_bulk_spectral_pdos'\n",
    "path='./structures/Cu_surf_111_victor_50A/'\n",
    "eins, axis = plot_proj_dos_optados(path = path, plot_down= False, plot_total= False, export_json=False,xlimit=(-10, 10))\n",
    "plt.title('Cu[111] projected DOS')\n",
    "plt.xlabel('Energy [eV]')\n",
    "plt.ylabel('pDOS [arb.u.]')\n",
    "plt.tight_layout()\n",
    "plt.savefig('./structures/plots/Cu111_victor_50A_-10_10.png',dpi=200)"
   ]
  },
  {
   "cell_type": "markdown",
   "id": "3c5c1056",
   "metadata": {},
   "source": [
    "### Plot joint DOS created by OptaDOS"
   ]
  },
  {
   "cell_type": "code",
   "execution_count": null,
   "id": "d8137ea0",
   "metadata": {},
   "outputs": [],
   "source": [
    "data_10060 = get_joint_dos_optados('./structures/Cu_surf_100_victor_60A/')\n",
    "label_1 = 'Cu100_60A'\n",
    "data_10050 = get_joint_dos_optados('./structures/Cu110_victor_60A/')\n",
    "label_2 = 'Cu110_60A'\n",
    "data_11160 = get_joint_dos_optados('./structures/Cu_surf_111_victor_60A/')\n",
    "label_3= 'Cu111_60A'\n",
    "fig,ax = plot_joint_dos_optados(data_10060, label=label_1, xlimit =[0,6])\n",
    "fig,ax = add_jdos_line(data_10050,fig,ax,label=label_2)\n",
    "fig,ax = add_jdos_line(data_11160,fig,ax,label=label_3)\n",
    "ax.set_title('Joint DOS for Cu')\n",
    "plt.legend()\n",
    "plt.savefig('./structures/plots/Cu_jdos_comparison_6.png')"
   ]
  },
  {
   "cell_type": "code",
   "execution_count": null,
   "id": "31ada421",
   "metadata": {},
   "outputs": [],
   "source": [
    "data_11160 = get_joint_dos_optados('./structures/Cu_surf_111_victor_60A/')\n",
    "label_1 = 'Cu111_60A'\n",
    "data_11150 = get_joint_dos_optados('./structures/Cu_surf_111_victor_50A/')\n",
    "label_2 = 'Cu111_50A'\n",
    "fig,ax = plot_joint_dos_optados(data_11160, label=label_1, xlimit =[0,6])\n",
    "fig,ax = add_jdos_line(data_11150,fig,ax,label=label_2)\n",
    "ax.set_title('Joint DOS for Cu[111]')\n",
    "plt.legend()\n",
    "plt.savefig('./structures/plots/Cu111_jdos_comparison.png')"
   ]
  },
  {
   "cell_type": "markdown",
   "id": "83790f78",
   "metadata": {},
   "source": [
    "## Plot DOS from json files"
   ]
  },
  {
   "cell_type": "code",
   "execution_count": null,
   "id": "d15f1248",
   "metadata": {},
   "outputs": [],
   "source": [
    "from pymatgen.electronic_structure.plotter import DosPlotter\n",
    "with open('./structures/jsons/DOS/Cu_bulk_spectral_dos_total.json', 'r') as f:\n",
    "   d = json.load(f)\n",
    "   dos_calc = Dos.from_dict(d)\n",
    "with open('./structures/jsons/DOS/Cu_bulk_matproject_ref.json', 'r') as f:\n",
    "    d = json.load(f)\n",
    "    dos_ref = Dos.from_dict(d)\n",
    "plt.style.use('seaborn-darkgrid')\n",
    "plotter = DosPlotter()\n",
    "plotter.add_dos(\"calculated\", dos_calc)\n",
    "plotter.add_dos(\"reference\", dos_ref)\n",
    "plotter.get_plot(xlim = (-12,2.5),ylim=(-0.2,9))\n",
    "plt.savefig('./structures/plots/Cu_bulk_tot_dos_comparison_dos_matproj_zoom.png')"
   ]
  },
  {
   "cell_type": "code",
   "execution_count": null,
   "id": "3a0cd60e",
   "metadata": {},
   "outputs": [],
   "source": [
    "with open('./structures/jsons/bands/Cu_bulk_bandstruct_full.json', 'r') as f:\n",
    "    d = json.load(f)\n",
    "    bandstruct_cu_full = BandStructureSymmLine.from_dict(d)\n",
    "with open('./structures/jsons/bands/Cu_bulk_bandstruct_full_UX.json', 'r') as f:\n",
    "   d = json.load(f)\n",
    "   bandstruct_cu_ux = BandStructureSymmLine.from_dict(d)\n",
    "bandstruct_full = append_symm_line(bandstruct_cu_full,bandstruct_cu_ux)\n",
    "with open(f'./structures/band_jsons/cu_bandstruct_all_points.json', 'w') as f:\n",
    "    json.dump(bandstruct_full.as_dict(), f)\n",
    "plotter = BSPlotter(bandstruct_full)\n",
    "band_plot = plotter.get_plot(ylim=(-5,9))\n",
    "band_plot.show()"
   ]
  },
  {
   "cell_type": "code",
   "execution_count": null,
   "id": "9b19442e",
   "metadata": {},
   "outputs": [],
   "source": [
    "with open('./structures/jsons/bands/Cu_bandstruct_ref.json', 'r') as f:\n",
    "    d = json.load(f)\n",
    "    bandstruct_cu_ref = BandStructureSymmLine.from_dict(d)\n",
    "with open('./structures/jsons/bands/cu_bandstruct_all_points.json', 'r') as f:\n",
    "   d = json.load(f)\n",
    "   bandstruct_cu_full = BandStructureSymmLine.from_dict(d)\n",
    "\n",
    "#bandstruct_full = append_symm_line(bandstruct_cu_full,bandstruct_cu_ux)\n",
    "#with open(f'./structures/band_jsons/cu_bandstruct_all_points.json', 'w') as f:\n",
    "#    json.dump(bandstruct_full.as_dict(), f)\n",
    "\n",
    "plotter = BSPlotter(bandstruct_cu_full)\n",
    "plotter.add_bs(bandstruct_cu_ref)\n",
    "band_plot = plotter.get_plot(ylim=(-12,35), bs_labels=['Calculated','Materials Project Ref'])\n",
    "plt.xlabel('')\n",
    "plt.savefig('comparison_calculated_vs_matproj_ref_optados_Efermi.png')\n",
    "band_plot.show()\n"
   ]
  }
 ],
 "metadata": {
  "kernelspec": {
   "display_name": "Python3.9(matchem)",
   "language": "python",
   "name": "python3_matchem"
  },
  "language_info": {
   "codemirror_mode": {
    "name": "ipython",
    "version": 3
   },
   "file_extension": ".py",
   "mimetype": "text/x-python",
   "name": "python",
   "nbconvert_exporter": "python",
   "pygments_lexer": "ipython3",
   "version": "3.9.7"
  },
  "vscode": {
   "interpreter": {
    "hash": "c3dd69bdc4a599cd940dd8e84c975531cc0841a51e9f1c7e8f2947e69c472b46"
   }
  }
 },
 "nbformat": 4,
 "nbformat_minor": 5
}
