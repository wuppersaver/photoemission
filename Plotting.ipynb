{
 "cells": [
  {
   "cell_type": "markdown",
   "metadata": {},
   "source": [
    "# Plots - BS, DOS, pDOS, QE, MTE, Murnaghan EOS, Convergence"
   ]
  },
  {
   "cell_type": "code",
   "execution_count": 26,
   "metadata": {},
   "outputs": [
    {
     "ename": "SyntaxError",
     "evalue": "invalid syntax (4288304059.py, line 28)",
     "output_type": "error",
     "traceback": [
      "\u001b[1;36m  Cell \u001b[1;32mIn[26], line 28\u001b[1;36m\u001b[0m\n\u001b[1;33m    from ../../modules_codes/script_share/python/bs_plotter_felix_mod import *\u001b[0m\n\u001b[1;37m           ^\u001b[0m\n\u001b[1;31mSyntaxError\u001b[0m\u001b[1;31m:\u001b[0m invalid syntax\n"
     ]
    }
   ],
   "source": [
    "import subprocess\n",
    "import os\n",
    "from ase.io import read\n",
    "from ase.visualize import view\n",
    "from ase.build import surface\n",
    "import ase.calculators.castep\n",
    "import ase.io.castep\n",
    "import pandas as pd\n",
    "\n",
    "\n",
    "from pymatgen.core.structure import Structure\n",
    "from pymatgen.io.ase import AseAtomsAdaptor\n",
    "from pymatgen.symmetry.kpath import KPathSetyawanCurtarolo,KPathLatimerMunro\n",
    "from pymatgen.electronic_structure.dos import *\n",
    "from pymatgen.electronic_structure.plotter import BSPlotter\n",
    "from pymatgen.symmetry.analyzer import SpacegroupAnalyzer\n",
    "from python_functions import *\n",
    "from bs_plotting import *\n",
    "from castep_output_class import *\n",
    "from optados_output_class import *\n",
    "import json\n",
    "%matplotlib inline\n",
    "import matplotlib.pyplot as plt\n",
    "import seaborn as sns\n",
    "import numpy as np\n",
    "from python_functions import *\n",
    "from calculation_class import *\n",
    "from ../../modules_codes/script_share/python/bs_plotter_felix_mod import *\n"
   ]
  },
  {
   "cell_type": "markdown",
   "metadata": {},
   "source": [
    "### Plot GaAs BS Plot"
   ]
  },
  {
   "cell_type": "code",
   "execution_count": null,
   "metadata": {},
   "outputs": [],
   "source": [
    "#%matplotlib inline\n",
    "bandstructure_cu = read_bands2pmg(path='./structures/GaAs_bulk/', export=False)\n",
    "#print(bandstructure_cu.distance)\n",
    "output = []\n",
    "for kpt in bandstructure_cu.kpoints:\n",
    "    output.append((kpt.label,kpt.cart_coords))\n",
    "plot = get_bs_plot(bandstructure_cu,ylim = (-5,5), size = [10,8])\n",
    "#plt.xlabel()\n",
    "plt.savefig('./structures/plots/GaAs_bulk_bandstruct_poster.png',dpi=400)"
   ]
  },
  {
   "cell_type": "markdown",
   "metadata": {},
   "source": [
    "### Changing the workfunction"
   ]
  },
  {
   "cell_type": "code",
   "execution_count": null,
   "metadata": {},
   "outputs": [],
   "source": [
    "directory = './structures/Cu_surf_111/'\n",
    "work_fct = 3.52958434\n",
    "listOfFiles = os.listdir(directory)\n",
    "for item in listOfFiles:\n",
    "    if '_photo.odi' in item:\n",
    "        subprocess.call(f'sed -i \"s/.*work_function.*/workfunction : {round(work_fct,5)}/\" {directory}{item}',shell=True)\n",
    "#subprocess.call(,)\n",
    "#f'sed -i \"s/.*work_function.*/workfunction : {round(work_fct,5)}/\" {directory}{item}'\n",
    "#f'sed -i \"s/.*slab_volume.*/slab_volume : {round(slab_vol,5)}/\" {path}{item}'"
   ]
  },
  {
   "cell_type": "markdown",
   "metadata": {},
   "source": [
    "### Comparing MgO bulk structures"
   ]
  },
  {
   "cell_type": "code",
   "execution_count": null,
   "metadata": {},
   "outputs": [],
   "source": [
    "victor_struct = read('./structures/MgO_bulk_victor/MgO_bulk_eos.xyz')\n",
    "felix_struct = read('./structures/MgO_bulk_eos/old_otf_psp/MgO_bulk_eos.xyz')\n",
    "view(victor_struct)\n",
    "view(felix_struct)"
   ]
  },
  {
   "cell_type": "code",
   "execution_count": null,
   "metadata": {},
   "outputs": [],
   "source": [
    "victor_struct = read('./structures/MgO_bulk_eos/victor/MgO_bulk_eos.xyz')\n",
    "felix_struct = read('./structures/MgO_bulk_eos/felix/MgO_bulk_eos.xyz',index=0)\n",
    "#print(type(AseAtomsAdaptor.get_structure(felix_struct)))\n",
    "felix_conv = AseAtomsAdaptor.get_atoms(SpacegroupAnalyzer(AseAtomsAdaptor.get_structure(felix_struct)).get_conventional_standard_structure())\n",
    "victor_conv = AseAtomsAdaptor.get_atoms(SpacegroupAnalyzer(AseAtomsAdaptor.get_structure(victor_struct)).get_conventional_standard_structure())\n",
    "#view(victor_conv)\n",
    "view(felix_conv)"
   ]
  },
  {
   "cell_type": "markdown",
   "metadata": {},
   "source": [
    "### Plotting bulk Cu pDOS"
   ]
  },
  {
   "cell_type": "code",
   "execution_count": null,
   "metadata": {},
   "outputs": [],
   "source": [
    "seed = 'Cu_bulk_spectral_pdos'\n",
    "seed = 'Cu_surf_111'\n",
    "eins, axis = plot_proj_dos_optados(seed, plot_down= False, plot_total= False, export_json=False,xlimit=(-10, 10))\n",
    "plt.savefig('Cu111_pdos_-10_10.png',dpi=200)"
   ]
  },
  {
   "cell_type": "code",
   "execution_count": null,
   "metadata": {},
   "outputs": [],
   "source": [
    "struct_110 = AseAtomsAdaptor.get_structure(read('./structures/Cu_surf_110/Cu_surf_110.xyz'))\n",
    "latimer = KPathLatimerMunro(struct_110)\n",
    "for index in range(12):\n",
    "    print('Latimer_Munroe Label:', latimer.LabelSymbol(index),'Point: ', latimer.LabelPoints(index))\n",
    "print('SetyawanCurtarolo/ASE',KPathSetyawanCurtarolo(struct_110).orc())"
   ]
  },
  {
   "cell_type": "markdown",
   "metadata": {},
   "source": [
    "I recommend using pymatgen to generate the bulk/slab and then convert it to an ASE atom object. The advantages of this approach are:\n",
    "- pymatgen has a better bulk/slab generation algorithm \n",
    "- castep can link a calculator to the Atom object\n"
   ]
  },
  {
   "cell_type": "markdown",
   "metadata": {},
   "source": [
    "#### Read the Cutoff Energy Results and Display as Graph"
   ]
  },
  {
   "cell_type": "code",
   "execution_count": null,
   "metadata": {
    "scrolled": true
   },
   "outputs": [],
   "source": [
    "seed = 'Ag_bulk_singlepoint'\n",
    "#path_pbe = './structures/Cu_bulk_convergence/cutoff/'\n",
    "path_sol = './structures/Ag_convergence'\n",
    "cutoffs = list(range(550,1800,50))\n",
    "tot_energies, differences = {'pbe' : [],'pbesol' : []},{'pbe' : [],'pbesol' : []}\n",
    "for cut in cutoffs:\n",
    "    #temp_pbe = CastepOutput(path = f'{path_pbe}{seed}{cut}/{seed}_{cut}.castep')\n",
    "    temp_sol = CastepOutput(path= f'{path_sol}/{seed}_{cut:.2f}.castep')\n",
    "    #tot_energies['pbe'].append(temp_pbe.ks_total_energy)\n",
    "    tot_energies['pbesol'].append(temp_sol.ks_total_energy)\n",
    "\n",
    "for i in range(0,len(cutoffs)-1):\n",
    "    #differences['pbe'].append(abs(tot_energies['pbe'][i]-tot_energies['pbe'][i-1]))\n",
    "    differences['pbesol'].append(abs(tot_energies['pbesol'][i]-tot_energies['pbesol'][-1]))\n",
    "\n",
    "#print('Differences:', differences)\n",
    "#print('Total Energies:', tot_energies)\n",
    "#plt.rcParams['text.usetex'] = True\n",
    "sns.set_theme(style=\"darkgrid\")\n",
    "# Plot the responses for different events and regions\n",
    "print(len(differences['pbesol']))\n",
    "print(len(cutoffs))\n",
    "#graph = sns.lineplot(x=cutoffs[:-1], y=differences['pbe'])\n",
    "graph = sns.lineplot(x=cutoffs[:-1], y=differences['pbesol'])\n",
    "graph.axhline(0.01285, ls = '--', c = 'red')\n",
    "graph.set(xlabel = 'energy cutoff [eV]', ylabel = r'$\\Delta E_{tot}$', title = 'Energy Cutoff Convergence')\n",
    "#graph.set(xlim = (390,610), ylim =  (-0.01,0.5))\n",
    "#plt.legend(labels=[r'PBE','PBEsol',r'$\\frac{1}{2}kT$'])\n",
    "#plt.savefig('./structures/plots/convergence_comparison_cutoff_zoom.png')"
   ]
  },
  {
   "cell_type": "code",
   "execution_count": null,
   "metadata": {},
   "outputs": [],
   "source": [
    "subprocess.call('qstat', shell=True)"
   ]
  },
  {
   "cell_type": "code",
   "execution_count": null,
   "metadata": {},
   "outputs": [],
   "source": [
    "paths = {\n",
    "    'std_new' : './structures/Ag100_pseudo/Ag100_new19_cut_6-8h',\n",
    "    'fine_new' : './structures/Ag100_pseudo/Ag100_new19_cut_6-8h_fine',\n",
    "    'precise_new' :  './structures/Ag100_pseudo/Ag100_new19_cut_6-8h_precise',\n",
    "    'std_old' : './structures/Ag100_pseudo/Ag100_old19_cut_6-8h',\n",
    "    'fine_old' : './structures/Ag100_pseudo/Ag100_old19_cut_6-8h_fine',\n",
    "    'precise_old' :  './structures/Ag100_pseudo/Ag100_old19_cut_6-8h_precise',\n",
    "}\n",
    "cutoff_energies = range(600,855,5)\n",
    "energies = {'std_old':[],'fine_old':[],'precise_old':[],'std_new':[],'fine_new':[],'precise_new':[]}\n",
    "cutoffs = {'std_old':[],'fine_old':[],'precise_old':[],'std_new':[],'fine_new':[],'precise_new':[]}\n",
    "for key in paths.keys():\n",
    "    listOfFiles = os.listdir(paths[key])\n",
    "    for file in listOfFiles:\n",
    "        if '.castep' in file:\n",
    "            temp_output = CastepOutput(path = paths[key]+'/'+file)\n",
    "            energies[key].append(temp_output.ks_total_energy)\n",
    "            cutoffs[key].append(temp_output.basis_set_cutoff)\n",
    "sns.set_theme(style=\"darkgrid\", font_scale=1.7)\n",
    "fig, axes = plt.subplots(1, 2, figsize=(25, 10),dpi=200)\n",
    "axes[0].set(title='Old 19e PseudoPotential\\nAg 3|1.6|14|16|18|40U:50:41:42(qc=7)\\n(CASTEP 16.1 OTFG)',xlabel='Cutoff Energy [eV]',ylabel='Total Energy [eV]')\n",
    "axes[1].set(title='New 19e PseudoPotential\\nAg 3|1.5|1.5|0.8|15|17|19|40U:50:41:42(qc=7)\\n(CASTEP 18.1 OTFG)',xlabel='Cutoff Energy [eV]',ylabel='Total Energy [eV]')\n",
    "# Plot the responses for different events and regions\n",
    "#graph = sns.lineplot(x=cutoff_energies, y=energies['std_old'],label='Old Pot. - std grid')\n",
    "graph = sns.lineplot(ax=axes[0],x=cutoffs['std_old'], y=energies['std_old'],label='standard grid (f=1.75)')\n",
    "graph = sns.lineplot(ax=axes[0],x=cutoffs['fine_old'], y=energies['fine_old'],label='fine grid (f=2.0)')\n",
    "graph = sns.lineplot(ax=axes[0],x=cutoffs['precise_old'], y=energies['precise_old'],label='precise grid (f=2.3)')\n",
    "graph = sns.lineplot(ax=axes[1],x=cutoffs['std_new'], y=energies['std_new'],label='standard grid (f=1.75)')\n",
    "graph = sns.lineplot(ax=axes[1],x=cutoffs['fine_new'], y=energies['fine_new'],label='fine grid (f=2.0)')\n",
    "graph = sns.lineplot(ax=axes[1],x=cutoffs['precise_new'], y=energies['precise_new'],label='precise grid (f=2.3)')\n",
    "axes[0].axvline(x=784,label='PP cutoff extreme',ls='--',c = 'r')\n",
    "axes[1].axvline(x=827,label='PP cutoff extreme',ls='--',c = 'r')\n",
    "axes[0].legend()\n",
    "axes[1].legend()\n",
    "plt.tight_layout()\n",
    "plt.savefig('./structures/plots/Ag100_pseudopotentials_cutoff_comparison.png',dpi =200)\n",
    "print(energies)"
   ]
  },
  {
   "cell_type": "markdown",
   "metadata": {},
   "source": [
    "### Convergence Plotting MgO"
   ]
  },
  {
   "cell_type": "code",
   "execution_count": 42,
   "metadata": {},
   "outputs": [
    {
     "name": "stderr",
     "output_type": "stream",
     "text": [
      "C:\\Users\\fcm19\\AppData\\Local\\Temp\\ipykernel_7712\\2704453975.py:18: UserWarning: This figure includes Axes that are not compatible with tight_layout, so results might be incorrect.\n",
      "  plt.tight_layout()\n"
     ]
    },
    {
     "data": {
      "image/png": "[encoded data removed]",
      "text/plain": [
       "<Figure size 640x480 with 2 Axes>"
      ]
     },
     "metadata": {},
     "output_type": "display_data"
    }
   ],
   "source": [
    "from mpl_toolkits.axes_grid1.inset_locator import inset_axes\n",
    "path = './structures/MgO_bulk_eos/cutoff_conv_castep_files'\n",
    "data = []\n",
    "listOfFiles = os.listdir(path)\n",
    "for file in listOfFiles:\n",
    "    if '.castep' in file:\n",
    "        temp_output = CastepOutput(path = path+'/'+file)\n",
    "        data.append([temp_output.ks_total_energy,temp_output.basis_set_cutoff])\n",
    "df_data = pd.DataFrame(data,columns=['Total_Energy','Cutoff'])\n",
    "df_data['dE'] = abs(df_data['Total_Energy'] - df_data['Total_Energy'].shift(1))\n",
    "sns.set_theme()\n",
    "ax = sns.lineplot(df_data,x='Cutoff',y='dE')\n",
    "ax.set(xlabel='cutoff [eV]',ylabel=r'$\\Delta E$ [eV]')\n",
    "axins = inset_axes(ax,  \"50%\", \"40%\" ,loc=\"upper right\",borderpad=2)\n",
    "axins.set(ylim=(-0.01,0.1),xlim=(600,850),xlabel='cutoff [eV]',ylabel=r'$\\Delta E$ [eV]')\n",
    "sns.lineplot(df_data,x='Cutoff',y='dE')\n",
    "ax.set_title('Basis set cutoff convergence for bulk MgO')\n",
    "plt.tight_layout()\n",
    "plt.savefig('./structures/MgO_bulk_eos/Convergence_MgO_bulk.png',dpi=200)"
   ]
  },
  {
   "cell_type": "markdown",
   "metadata": {},
   "source": [
    "### Cutoff Convergence for Ag100 with different USPPs"
   ]
  },
  {
   "cell_type": "code",
   "execution_count": null,
   "metadata": {},
   "outputs": [],
   "source": [
    "paths = {\n",
    "    'std_new' : './structures/Ag100_pseudo/Ag100_new19_cut_6-8h',\n",
    "    'fine_new' : './structures/Ag100_pseudo/Ag100_new19_cut_6-8h_fine',\n",
    "    'precise_new' :  './structures/Ag100_pseudo/Ag100_new19_cut_6-8h_precise',\n",
    "    'ultra_new' : './structures/Ag100_pseudo/Ag100_new19_cut_6-8h_ultra',\n",
    "    'std_old' : './structures/Ag100_pseudo/Ag100_old19_cut_6-8h',\n",
    "    'fine_old' : './structures/Ag100_pseudo/Ag100_old19_cut_6-8h_fine',\n",
    "    'precise_old' :  './structures/Ag100_pseudo/Ag100_old19_cut_6-8h_precise',\n",
    "}\n",
    "cutoff_energies = range(600,855,5)\n",
    "energies = {'std_old':[],'fine_old':[],'precise_old':[],'std_new':[],'fine_new':[],'precise_new':[],'ultra_new':[]}\n",
    "cutoffs = {'std_old':[],'fine_old':[],'precise_old':[],'std_new':[],'fine_new':[],'precise_new':[],'ultra_new':[]}\n",
    "for key in paths.keys():\n",
    "    listOfFiles = os.listdir(paths[key])\n",
    "    for file in listOfFiles:\n",
    "        if '.castep' in file:\n",
    "            temp_output = CastepOutput(path = paths[key]+'/'+file)\n",
    "            energies[key].append(temp_output.ks_total_energy)\n",
    "            cutoffs[key].append(temp_output.basis_set_cutoff)\n",
    "sns.set_theme(style=\"darkgrid\", font_scale=1.7)\n",
    "fig, axes = plt.subplots(1, 1, figsize=(15, 10),dpi=200)\n",
    "#axes[0].set(title='Old 19e PseudoPotential\\nAg 3|1.6|14|16|18|40U:50:41:42(qc=7)\\n(CASTEP 16.1 OTFG)',xlabel='Cutoff Energy [eV]',ylabel='Total Energy [eV]')\n",
    "axes.set(title='New 19e PseudoPotential\\nAg 3|1.5|1.5|0.8|15|17|19|40U:50:41:42(qc=7)\\n(CASTEP 18.1 OTFG)',xlabel='Cutoff Energy [eV]',ylabel='Total Energy [eV]')\n",
    "# Plot the responses for different events and regions\n",
    "#graph = sns.lineplot(x=cutoff_energies, y=energies['std_old'],label='Old Pot. - std grid')\n",
    "# graph = sns.lineplot(ax=axes[0],x=cutoffs['std_old'], y=energies['std_old'],label='standard grid (f=1.75)')\n",
    "# graph = sns.lineplot(ax=axes[0],x=cutoffs['fine_old'], y=energies['fine_old'],label='fine grid (f=2.0)')\n",
    "# graph = sns.lineplot(ax=axes[0],x=cutoffs['precise_old'], y=energies['precise_old'],label='precise grid (f=2.3)')\n",
    "#graph = sns.lineplot(ax=axes[1],x=cutoffs['std_new'], y=energies['std_new'],label='standard grid (f=1.75)')\n",
    "#graph = sns.lineplot(ax=axes[1],x=cutoffs['fine_new'], y=energies['fine_new'],label='fine grid (f=2.0)')\n",
    "graph = sns.lineplot(x=cutoffs['precise_new'], y=energies['precise_new'],label='precise grid (f=2.3)')\n",
    "graph = sns.lineplot(x=cutoffs['ultra_new'], y=energies['ultra_new'],label='more precise grid (f=2.6)')\n",
    "#axes[0].axvline(x=784,label='PP cutoff extreme',ls='--',c = 'r')\n",
    "axes.axvline(x=827,label='PP cutoff extreme',ls='--',c = 'r')\n",
    "axes.legend()\n",
    "#axes[1].legend()\n",
    "plt.tight_layout()\n",
    "plt.savefig('./structures/plots/Ag100_cutoff_comp_precise.png',dpi =200)\n",
    "#print(energies)"
   ]
  },
  {
   "cell_type": "markdown",
   "metadata": {},
   "source": [
    "### Castep 18.1 OTFG PP Cutoff Convergence for Ag100"
   ]
  },
  {
   "cell_type": "code",
   "execution_count": null,
   "metadata": {},
   "outputs": [],
   "source": [
    "sns.set_theme(style=\"darkgrid\", font_scale=1.2)\n",
    "energies,cutoffs = [],[]\n",
    "path = './structures/Ag_convergence/'\n",
    "listOfFiles = os.listdir(path)\n",
    "for file in listOfFiles:\n",
    "    if '.castep' in file:\n",
    "        temp_output = CastepOutput(path = path+file)\n",
    "        energies.append(temp_output.ks_total_energy)\n",
    "        cutoffs.append(temp_output.basis_set_cutoff)\n",
    "fig, axes = plt.subplots(1, 1, figsize=(10, 5),dpi =200)\n",
    "graph = sns.scatterplot(x=cutoffs, y=energies,label='standard grid (f=1.75)')\n",
    "graph.set(title='New 19e PseudoPotential\\n3|1.5|1.5|0.8|15|17|19|40U:50:41:42(qc=7)\\n(CASTEP 18.1 OTFG)',xlabel='Cutoff Energy [eV]')#,xlim = [500,850])\n",
    "axes.axvline(x=827,label='cutoff extreme',ls='--',c = 'r')\n",
    "axes.legend()\n"
   ]
  },
  {
   "cell_type": "markdown",
   "metadata": {},
   "source": [
    "### Cutoff Convergence for bulk Cu"
   ]
  },
  {
   "cell_type": "code",
   "execution_count": null,
   "metadata": {},
   "outputs": [],
   "source": [
    "seed = 'Cu_bulk_'\n",
    "path_pbe = './structures/Cu_bulk_convergence/k_points/'\n",
    "path_sol = './structures/Cu_bulk_convergence/k_points/PBEsol/'\n",
    "cutoffs = [2,4,6,8,9,10,12,14,16,18]\n",
    "tot_energies, differences = {'pbe' : [],'pbesol' : []},{'pbe' : [],'pbesol' : []}\n",
    "for cut in cutoffs:\n",
    "    temp_pbe = CastepOutput(path = f'{path_pbe}{seed}{cut}/{seed}{cut}.castep')\n",
    "    temp_sol = CastepOutput(path= f'{path_sol}{seed}{cut}/{seed}{cut}.castep')\n",
    "    tot_energies['pbe'].append(temp_pbe.ks_total_energy)\n",
    "    tot_energies['pbesol'].append(temp_sol.ks_total_energy)\n",
    "\n",
    "for i in range(1,len(cutoffs)):\n",
    "    differences['pbe'].append(abs(tot_energies['pbe'][i]-tot_energies['pbe'][i-1]))\n",
    "    differences['pbesol'].append(abs(tot_energies['pbesol'][i]-tot_energies['pbesol'][i-1]))\n",
    "\n",
    "#print('Differences:', differences)\n",
    "#print('Total Energies:', tot_energies)\n",
    "#plt.rcParams['text.usetex'] = True\n",
    "sns.set_theme(style=\"darkgrid\")\n",
    "# Plot the responses for different events and regions\n",
    "print(differences)\n",
    "graph = sns.lineplot(x=cutoffs[1:], y=differences['pbe'])\n",
    "graph = sns.lineplot(x=cutoffs[1:], y=differences['pbesol'],alpha = 0.5)\n",
    "graph.axhline(0.01285, ls = '--', c = 'red')\n",
    "graph.set(xlabel = 'k-point grid #x#x#', ylabel = r'$\\Delta E_{tot}$', title = 'K-Point Grid Convergence')\n",
    "graph.set(xlim = (5.9,18), ylim =  (-0.01,0.1))\n",
    "plt.legend(labels=[r'PBE','PBEsol',r'$\\frac{1}{2}kT$'])\n",
    "plt.savefig('./structures/plots/comparison_kpoints_zoom.png',dpi = 250)"
   ]
  },
  {
   "attachments": {},
   "cell_type": "markdown",
   "id": "397c75d3",
   "metadata": {},
   "source": [
    "### Cu100 prim vs 2x2 supercell bandstruct"
   ]
  },
  {
   "cell_type": "code",
   "execution_count": null,
   "id": "799a8cb6",
   "metadata": {},
   "outputs": [],
   "source": [
    "def read_bands2pmg(path:str=None, export = False):\n",
    "    num_kpoints, num_spin_comps, num_electrons_up, num_electrons_down, num_bands, fermi_energy = 0,0,0,0,0,0\n",
    "    kpts_coordinates = []\n",
    "    eigenvalues = {}\n",
    "    cell = []\n",
    "    if path == None:\n",
    "        path = f'./structures/'\n",
    "    if path[-1] != '/': path += '/'\n",
    "    listOfFiles = os.listdir(path)\n",
    "     # create output classes for each of the output files\n",
    "    for item in listOfFiles:\n",
    "        if '.bands' in item[-6:] and '.orig' not in item and '.o2b' not in item:\n",
    "            seed = item.replace('.bands','')\n",
    "            with open(f'{path}{item}','r') as f:\n",
    "                for line in f:\n",
    "                    line = line.strip()\n",
    "                    if 'Number of k-points' in line:\n",
    "                        num_kpoints = int(line.split()[3])\n",
    "                        num_spin_comps = int(next(f).split()[4])\n",
    "                        num_electrons = next(f).split()\n",
    "                        num_electrons_up = float(num_electrons[3])\n",
    "                        num_bands = int(next(f).split()[3])\n",
    "                        fermi_energy = float(next(f).split()[5])*27.2113966\n",
    "                        #print(fermi_energy)\n",
    "\n",
    "                        kpts_coordinates = np.zeros((num_kpoints,3))\n",
    "                        eigenvalues[Spin.up] = np.zeros([num_bands, num_kpoints])\n",
    "                        if num_spin_comps > 1:\n",
    "                            num_electrons_down = float(num_electrons[4])\n",
    "                            eigenvalues[Spin.down] = np.zeros([num_bands, num_kpoints])\n",
    "\n",
    "                        next(f)\n",
    "                        for i in range(3):\n",
    "                            line = next(f)\n",
    "                            print(line)\n",
    "                            cell.append([float(x) for x in line.split()])\n",
    "                        print(cell)\n",
    "                        lattice_obj = Lattice(cell)\n",
    "\n",
    "                    if line.split()[0] == 'K-point':\n",
    "                        temp = line.split()\n",
    "                        index = int(temp[1])-1\n",
    "                        kpts_coordinates[index] = [float(temp[2]),float(temp[3]),float(temp[4])]\n",
    "                        next(f)\n",
    "                        for i in range(num_bands):\n",
    "                            eigenvalues[Spin.up][i][index] = float(next(f).strip())*27.2113966\n",
    "                        if num_spin_comps > 1:\n",
    "                            next(f)\n",
    "                            for i in range(num_bands):\n",
    "                                eigenvalues[Spin.down][i][index] = float(next(f).strip())*27.2113966\n",
    "    for item in listOfFiles: \n",
    "        if '_geometry.cell' in item: \n",
    "            cell_item=item\n",
    "    kpt_path = KPathSetyawanCurtarolo(SpacegroupAnalyzer(read_cell2pmg(f'{path}{cell_item}')).get_primitive_standard_structure()) #Should use the Setyawan-Curtarolo Convention\n",
    "    high_symm_dict, high_symm_indices = create_label_dict(kpt_path, kpts_coordinates)\n",
    "    final_kpt_coordinates = np.zeros((num_kpoints+len(high_symm_indices)-2,3))\n",
    "    final_eigenvalues = {Spin.up : np.zeros([num_bands, num_kpoints+len(high_symm_indices)-2])}\n",
    "    if num_spin_comps > 1:\n",
    "        final_eigenvalues = {Spin.down : np.zeros([num_bands, num_kpoints+len(high_symm_indices)-2])}\n",
    "    \n",
    "    for i in range(len(high_symm_indices)-1):\n",
    "        final_kpt_coordinates[high_symm_indices[i]+i:high_symm_indices[i+1]+1+i] = kpts_coordinates[high_symm_indices[i]:high_symm_indices[i+1]+1]\n",
    "        final_eigenvalues[Spin.up][:,high_symm_indices[i]+i:high_symm_indices[i+1]+1+i] = eigenvalues[Spin.up][:,high_symm_indices[i]:high_symm_indices[i+1]+1]\n",
    "        if num_spin_comps > 1:\n",
    "           final_eigenvalues[Spin.down][:,high_symm_indices[i]+i:high_symm_indices[i+1]+1+i] = eigenvalues[Spin.down][:,high_symm_indices[i]:high_symm_indices[i+1]+1]\n",
    "    new_bandstruct = BandStructureSymmLine(final_kpt_coordinates, final_eigenvalues,lattice_obj.reciprocal_lattice, fermi_energy,high_symm_dict,coords_are_cartesian=False);\n",
    "    if export:\n",
    "        with open(f'./structures/band_jsons/{seed}.json', 'w') as f:\n",
    "            json.dump(new_bandstruct.as_dict(), f)\n",
    "    return new_bandstruct;"
   ]
  },
  {
   "cell_type": "code",
   "execution_count": 39,
   "id": "d17e0d1e",
   "metadata": {},
   "outputs": [
    {
     "name": "stdout",
     "output_type": "stream",
     "text": [
      "{'kpoints': {'\\\\Gamma': array([0., 0., 0.]), 'A': array([0.5, 0.5, 0.5]), 'M': array([0.5, 0.5, 0. ]), 'R': array([0. , 0.5, 0.5]), 'X': array([0. , 0.5, 0. ]), 'Z': array([0. , 0. , 0.5])}, 'path': [['\\\\Gamma', 'X', 'M', '\\\\Gamma', 'Z', 'R', 'A', 'Z'], ['X', 'R'], ['M', 'A']]}\n"
     ]
    }
   ],
   "source": [
    "kpt =  KPathSetyawanCurtarolo(SpacegroupAnalyzer(read_cell2pmg('./structures/Cu100_1x1/Cu100_1x1_geometry.cell')).get_primitive_standard_structure())\n",
    "print(kpt.kpath)"
   ]
  },
  {
   "cell_type": "code",
   "execution_count": 29,
   "id": "3fb7035f",
   "metadata": {},
   "outputs": [
    {
     "name": "stdout",
     "output_type": "stream",
     "text": [
      "    4.718160    0.000000    0.000000\n",
      "\n",
      "    0.000000    4.718160    0.000000\n",
      "\n",
      "    0.000000    0.000000   94.486306\n",
      "\n",
      "[[4.71816, 0.0, 0.0], [0.0, 4.71816, 0.0], [0.0, 0.0, 94.486306]]\n",
      "[{'name': '\\\\Gamma-\\\\Gamma', 'start_index': 0, 'end_index': 0, 'index': 0}, {'name': '\\\\Gamma-\\\\Gamma', 'start_index': 1, 'end_index': 1, 'index': 1}, {'name': '\\\\Gamma-\\\\Gamma', 'start_index': 2, 'end_index': 2, 'index': 2}, {'name': '\\\\Gamma-\\\\Gamma', 'start_index': 3, 'end_index': 3, 'index': 3}, {'name': '\\\\Gamma-\\\\Gamma', 'start_index': 4, 'end_index': 4, 'index': 4}, {'name': '\\\\Gamma-\\\\Gamma', 'start_index': 5, 'end_index': 5, 'index': 5}, {'name': '\\\\Gamma-\\\\Gamma', 'start_index': 6, 'end_index': 6, 'index': 6}, {'name': '\\\\Gamma-\\\\Gamma', 'start_index': 7, 'end_index': 7, 'index': 7}, {'name': '\\\\Gamma-\\\\Gamma', 'start_index': 8, 'end_index': 8, 'index': 8}, {'name': '\\\\Gamma-\\\\Gamma', 'start_index': 9, 'end_index': 9, 'index': 9}, {'name': '\\\\Gamma-\\\\Gamma', 'start_index': 10, 'end_index': 10, 'index': 10}, {'name': '\\\\Gamma-\\\\Gamma', 'start_index': 11, 'end_index': 11, 'index': 11}, {'name': '\\\\Gamma-\\\\Gamma', 'start_index': 12, 'end_index': 12, 'index': 12}, {'name': '\\\\Gamma-\\\\Gamma', 'start_index': 13, 'end_index': 13, 'index': 13}, {'name': '\\\\Gamma-\\\\Gamma', 'start_index': 14, 'end_index': 14, 'index': 14}, {'name': '\\\\Gamma-\\\\Gamma', 'start_index': 15, 'end_index': 15, 'index': 15}, {'name': '\\\\Gamma-\\\\Gamma', 'start_index': 16, 'end_index': 16, 'index': 16}, {'name': '\\\\Gamma-\\\\Gamma', 'start_index': 17, 'end_index': 17, 'index': 17}, {'name': '\\\\Gamma-\\\\Gamma', 'start_index': 18, 'end_index': 18, 'index': 18}, {'name': '\\\\Gamma-\\\\Gamma', 'start_index': 19, 'end_index': 19, 'index': 19}, {'name': '\\\\Gamma-\\\\Gamma', 'start_index': 20, 'end_index': 20, 'index': 20}, {'name': '\\\\Gamma-\\\\Gamma', 'start_index': 21, 'end_index': 21, 'index': 21}, {'name': '\\\\Gamma-\\\\Gamma', 'start_index': 22, 'end_index': 22, 'index': 22}, {'name': '\\\\Gamma-\\\\Gamma', 'start_index': 23, 'end_index': 23, 'index': 23}, {'name': '\\\\Gamma-\\\\Gamma', 'start_index': 24, 'end_index': 24, 'index': 24}, {'name': '\\\\Gamma-\\\\Gamma', 'start_index': 25, 'end_index': 25, 'index': 25}, {'name': '\\\\Gamma-\\\\Gamma', 'start_index': 26, 'end_index': 26, 'index': 26}, {'name': '\\\\Gamma-\\\\Gamma', 'start_index': 27, 'end_index': 27, 'index': 27}, {'name': '\\\\Gamma-\\\\Gamma', 'start_index': 28, 'end_index': 28, 'index': 28}, {'name': '\\\\Gamma-\\\\Gamma', 'start_index': 29, 'end_index': 29, 'index': 29}, {'name': '\\\\Gamma-\\\\Gamma', 'start_index': 30, 'end_index': 30, 'index': 30}, {'name': '\\\\Gamma-\\\\Gamma', 'start_index': 31, 'end_index': 31, 'index': 31}, {'name': '\\\\Gamma-\\\\Gamma', 'start_index': 32, 'end_index': 32, 'index': 32}, {'name': '\\\\Gamma-\\\\Gamma', 'start_index': 33, 'end_index': 33, 'index': 33}, {'name': '\\\\Gamma-\\\\Gamma', 'start_index': 34, 'end_index': 34, 'index': 34}, {'name': '\\\\Gamma-\\\\Gamma', 'start_index': 35, 'end_index': 35, 'index': 35}, {'name': '\\\\Gamma-\\\\Gamma', 'start_index': 36, 'end_index': 36, 'index': 36}, {'name': '\\\\Gamma-\\\\Gamma', 'start_index': 37, 'end_index': 37, 'index': 37}, {'name': '\\\\Gamma-\\\\Gamma', 'start_index': 38, 'end_index': 38, 'index': 38}, {'name': '\\\\Gamma-\\\\Gamma', 'start_index': 39, 'end_index': 39, 'index': 39}, {'name': '\\\\Gamma-\\\\Gamma', 'start_index': 40, 'end_index': 40, 'index': 40}, {'name': '\\\\Gamma-\\\\Gamma', 'start_index': 41, 'end_index': 41, 'index': 41}, {'name': '\\\\Gamma-\\\\Gamma', 'start_index': 42, 'end_index': 42, 'index': 42}, {'name': '\\\\Gamma-\\\\Gamma', 'start_index': 43, 'end_index': 43, 'index': 43}, {'name': '\\\\Gamma-\\\\Gamma', 'start_index': 44, 'end_index': 44, 'index': 44}, {'name': '\\\\Gamma-\\\\Gamma', 'start_index': 45, 'end_index': 45, 'index': 45}, {'name': '\\\\Gamma-\\\\Gamma', 'start_index': 46, 'end_index': 46, 'index': 46}, {'name': '\\\\Gamma-\\\\Gamma', 'start_index': 47, 'end_index': 47, 'index': 47}, {'name': '\\\\Gamma-\\\\Gamma', 'start_index': 48, 'end_index': 48, 'index': 48}, {'name': '\\\\Gamma-\\\\Gamma', 'start_index': 49, 'end_index': 49, 'index': 49}, {'name': '\\\\Gamma-\\\\Gamma', 'start_index': 50, 'end_index': 50, 'index': 50}, {'name': '\\\\Gamma-\\\\Gamma', 'start_index': 51, 'end_index': 51, 'index': 51}, {'name': '\\\\Gamma-\\\\Gamma', 'start_index': 52, 'end_index': 52, 'index': 52}, {'name': '\\\\Gamma-\\\\Gamma', 'start_index': 53, 'end_index': 53, 'index': 53}, {'name': '\\\\Gamma-\\\\Gamma', 'start_index': 54, 'end_index': 54, 'index': 54}, {'name': '\\\\Gamma-\\\\Gamma', 'start_index': 55, 'end_index': 55, 'index': 55}, {'name': '\\\\Gamma-\\\\Gamma', 'start_index': 56, 'end_index': 56, 'index': 56}, {'name': '\\\\Gamma-\\\\Gamma', 'start_index': 57, 'end_index': 57, 'index': 57}, {'name': '\\\\Gamma-\\\\Gamma', 'start_index': 58, 'end_index': 58, 'index': 58}, {'name': '\\\\Gamma-\\\\Gamma', 'start_index': 59, 'end_index': 59, 'index': 59}, {'name': '\\\\Gamma-\\\\Gamma', 'start_index': 60, 'end_index': 60, 'index': 60}, {'name': '\\\\Gamma-\\\\Gamma', 'start_index': 61, 'end_index': 61, 'index': 61}, {'name': '\\\\Gamma-\\\\Gamma', 'start_index': 62, 'end_index': 62, 'index': 62}, {'name': '\\\\Gamma-\\\\Gamma', 'start_index': 63, 'end_index': 63, 'index': 63}, {'name': '\\\\Gamma-\\\\Gamma', 'start_index': 64, 'end_index': 64, 'index': 64}, {'name': '\\\\Gamma-\\\\Gamma', 'start_index': 65, 'end_index': 65, 'index': 65}, {'name': '\\\\Gamma-\\\\Gamma', 'start_index': 66, 'end_index': 66, 'index': 66}, {'name': '\\\\Gamma-\\\\Gamma', 'start_index': 67, 'end_index': 67, 'index': 67}, {'name': '\\\\Gamma-\\\\Gamma', 'start_index': 68, 'end_index': 68, 'index': 68}, {'name': '\\\\Gamma-\\\\Gamma', 'start_index': 69, 'end_index': 69, 'index': 69}, {'name': '\\\\Gamma-\\\\Gamma', 'start_index': 70, 'end_index': 70, 'index': 70}, {'name': '\\\\Gamma-\\\\Gamma', 'start_index': 71, 'end_index': 71, 'index': 71}, {'name': '\\\\Gamma-\\\\Gamma', 'start_index': 72, 'end_index': 72, 'index': 72}, {'name': '\\\\Gamma-\\\\Gamma', 'start_index': 73, 'end_index': 73, 'index': 73}, {'name': '\\\\Gamma-\\\\Gamma', 'start_index': 74, 'end_index': 74, 'index': 74}, {'name': '\\\\Gamma-\\\\Gamma', 'start_index': 75, 'end_index': 75, 'index': 75}, {'name': '\\\\Gamma-\\\\Gamma', 'start_index': 76, 'end_index': 76, 'index': 76}, {'name': '\\\\Gamma-\\\\Gamma', 'start_index': 77, 'end_index': 77, 'index': 77}, {'name': '\\\\Gamma-\\\\Gamma', 'start_index': 78, 'end_index': 78, 'index': 78}, {'name': '\\\\Gamma-\\\\Gamma', 'start_index': 79, 'end_index': 79, 'index': 79}, {'name': '\\\\Gamma-\\\\Gamma', 'start_index': 80, 'end_index': 80, 'index': 80}, {'name': '\\\\Gamma-\\\\Gamma', 'start_index': 81, 'end_index': 81, 'index': 81}, {'name': '\\\\Gamma-\\\\Gamma', 'start_index': 82, 'end_index': 82, 'index': 82}, {'name': '\\\\Gamma-\\\\Gamma', 'start_index': 83, 'end_index': 83, 'index': 83}, {'name': '\\\\Gamma-\\\\Gamma', 'start_index': 84, 'end_index': 84, 'index': 84}, {'name': '\\\\Gamma-\\\\Gamma', 'start_index': 85, 'end_index': 85, 'index': 85}, {'name': '\\\\Gamma-\\\\Gamma', 'start_index': 86, 'end_index': 86, 'index': 86}, {'name': '\\\\Gamma-\\\\Gamma', 'start_index': 87, 'end_index': 87, 'index': 87}, {'name': '\\\\Gamma-\\\\Gamma', 'start_index': 88, 'end_index': 88, 'index': 88}, {'name': '\\\\Gamma-\\\\Gamma', 'start_index': 89, 'end_index': 89, 'index': 89}, {'name': '\\\\Gamma-\\\\Gamma', 'start_index': 90, 'end_index': 90, 'index': 90}, {'name': '\\\\Gamma-\\\\Gamma', 'start_index': 91, 'end_index': 91, 'index': 91}, {'name': '\\\\Gamma-\\\\Gamma', 'start_index': 92, 'end_index': 92, 'index': 92}, {'name': '\\\\Gamma-\\\\Gamma', 'start_index': 93, 'end_index': 93, 'index': 93}, {'name': '\\\\Gamma-\\\\Gamma', 'start_index': 94, 'end_index': 94, 'index': 94}, {'name': '\\\\Gamma-\\\\Gamma', 'start_index': 95, 'end_index': 95, 'index': 95}, {'name': '\\\\Gamma-\\\\Gamma', 'start_index': 96, 'end_index': 96, 'index': 96}, {'name': '\\\\Gamma-\\\\Gamma', 'start_index': 97, 'end_index': 97, 'index': 97}, {'name': '\\\\Gamma-\\\\Gamma', 'start_index': 98, 'end_index': 98, 'index': 98}, {'name': '\\\\Gamma-\\\\Gamma', 'start_index': 99, 'end_index': 99, 'index': 99}, {'name': '\\\\Gamma-\\\\Gamma', 'start_index': 100, 'end_index': 100, 'index': 100}, {'name': '\\\\Gamma-\\\\Gamma', 'start_index': 101, 'end_index': 101, 'index': 101}, {'name': '\\\\Gamma-\\\\Gamma', 'start_index': 102, 'end_index': 102, 'index': 102}, {'name': '\\\\Gamma-\\\\Gamma', 'start_index': 103, 'end_index': 103, 'index': 103}, {'name': '\\\\Gamma-\\\\Gamma', 'start_index': 104, 'end_index': 104, 'index': 104}, {'name': '\\\\Gamma-\\\\Gamma', 'start_index': 105, 'end_index': 105, 'index': 105}, {'name': '\\\\Gamma-\\\\Gamma', 'start_index': 106, 'end_index': 106, 'index': 106}, {'name': '\\\\Gamma-\\\\Gamma', 'start_index': 107, 'end_index': 107, 'index': 107}, {'name': '\\\\Gamma-\\\\Gamma', 'start_index': 108, 'end_index': 108, 'index': 108}, {'name': '\\\\Gamma-\\\\Gamma', 'start_index': 109, 'end_index': 109, 'index': 109}, {'name': '\\\\Gamma-\\\\Gamma', 'start_index': 110, 'end_index': 110, 'index': 110}, {'name': '\\\\Gamma-\\\\Gamma', 'start_index': 111, 'end_index': 111, 'index': 111}, {'name': '\\\\Gamma-\\\\Gamma', 'start_index': 112, 'end_index': 112, 'index': 112}, {'name': '\\\\Gamma-\\\\Gamma', 'start_index': 113, 'end_index': 113, 'index': 113}, {'name': '\\\\Gamma-\\\\Gamma', 'start_index': 114, 'end_index': 114, 'index': 114}, {'name': '\\\\Gamma-\\\\Gamma', 'start_index': 115, 'end_index': 115, 'index': 115}, {'name': '\\\\Gamma-\\\\Gamma', 'start_index': 116, 'end_index': 116, 'index': 116}, {'name': '\\\\Gamma-\\\\Gamma', 'start_index': 117, 'end_index': 117, 'index': 117}, {'name': '\\\\Gamma-\\\\Gamma', 'start_index': 118, 'end_index': 118, 'index': 118}, {'name': '\\\\Gamma-\\\\Gamma', 'start_index': 119, 'end_index': 119, 'index': 119}, {'name': '\\\\Gamma-\\\\Gamma', 'start_index': 120, 'end_index': 120, 'index': 120}, {'name': '\\\\Gamma-\\\\Gamma', 'start_index': 121, 'end_index': 121, 'index': 121}, {'name': '\\\\Gamma-\\\\Gamma', 'start_index': 122, 'end_index': 122, 'index': 122}, {'name': '\\\\Gamma-\\\\Gamma', 'start_index': 123, 'end_index': 123, 'index': 123}, {'name': '\\\\Gamma-\\\\Gamma', 'start_index': 124, 'end_index': 124, 'index': 124}, {'name': '\\\\Gamma-\\\\Gamma', 'start_index': 125, 'end_index': 125, 'index': 125}]\n"
     ]
    },
    {
     "ename": "AttributeError",
     "evalue": "'NoneType' object has no attribute 'label'",
     "output_type": "error",
     "traceback": [
      "\u001b[1;31m---------------------------------------------------------------------------\u001b[0m",
      "\u001b[1;31mAttributeError\u001b[0m                            Traceback (most recent call last)",
      "Cell \u001b[1;32mIn[29], line 4\u001b[0m\n\u001b[0;32m      2\u001b[0m \u001b[39mprint\u001b[39m(prim_bands\u001b[39m.\u001b[39mget_branch(\u001b[39m0\u001b[39m))\n\u001b[0;32m      3\u001b[0m plotter \u001b[39m=\u001b[39m  BSPlotter(prim_bands)\n\u001b[1;32m----> 4\u001b[0m plotter\u001b[39m.\u001b[39;49mget_plot(ylim\u001b[39m=\u001b[39;49m[\u001b[39m-\u001b[39;49m\u001b[39m7\u001b[39;49m,\u001b[39m12\u001b[39;49m])\n",
      "File \u001b[1;32mc:\\Users\\fcm19\\Miniconda3\\envs\\matchem\\lib\\site-packages\\pymatgen\\electronic_structure\\plotter.py:622\u001b[0m, in \u001b[0;36mBSPlotter.get_plot\u001b[1;34m(self, zero_to_efermi, ylim, smooth, vbm_cbm_marker, smooth_tol, smooth_k, smooth_np, bs_labels)\u001b[0m\n\u001b[0;32m    620\u001b[0m     data \u001b[39m=\u001b[39m \u001b[39mself\u001b[39m\u001b[39m.\u001b[39mbs_plot_data(zero_to_efermi, bs, bs_ref, split_branches\u001b[39m=\u001b[39m\u001b[39mTrue\u001b[39;00m)\n\u001b[0;32m    621\u001b[0m \u001b[39melse\u001b[39;00m:\n\u001b[1;32m--> 622\u001b[0m     data \u001b[39m=\u001b[39m \u001b[39mself\u001b[39;49m\u001b[39m.\u001b[39;49mbs_plot_data(zero_to_efermi, bs, bs_ref, split_branches\u001b[39m=\u001b[39;49m\u001b[39mFalse\u001b[39;49;00m)\n\u001b[0;32m    624\u001b[0m \u001b[39m# remember if one bs is a metal for setting the ylim later\u001b[39;00m\n\u001b[0;32m    625\u001b[0m one_is_metal \u001b[39m=\u001b[39m \u001b[39mFalse\u001b[39;00m\n",
      "File \u001b[1;32mc:\\Users\\fcm19\\Miniconda3\\envs\\matchem\\lib\\site-packages\\pymatgen\\electronic_structure\\plotter.py:442\u001b[0m, in \u001b[0;36mBSPlotter.bs_plot_data\u001b[1;34m(self, zero_to_efermi, bs, bs_ref, split_branches)\u001b[0m\n\u001b[0;32m    440\u001b[0m \u001b[39mif\u001b[39;00m \u001b[39mnot\u001b[39;00m bs_is_metal:\n\u001b[0;32m    441\u001b[0m     vbm \u001b[39m=\u001b[39m bs\u001b[39m.\u001b[39mget_vbm()\n\u001b[1;32m--> 442\u001b[0m     cbm \u001b[39m=\u001b[39m bs\u001b[39m.\u001b[39;49mget_cbm()\n\u001b[0;32m    444\u001b[0m zero_energy \u001b[39m=\u001b[39m \u001b[39m0.0\u001b[39m\n\u001b[0;32m    445\u001b[0m \u001b[39mif\u001b[39;00m zero_to_efermi:\n",
      "File \u001b[1;32mc:\\Users\\fcm19\\Miniconda3\\envs\\matchem\\lib\\site-packages\\pymatgen\\electronic_structure\\bandstructure.py:455\u001b[0m, in \u001b[0;36mBandStructure.get_cbm\u001b[1;34m(self)\u001b[0m\n\u001b[0;32m    452\u001b[0m             kpointcbm \u001b[39m=\u001b[39m \u001b[39mself\u001b[39m\u001b[39m.\u001b[39mkpoints[j]\n\u001b[0;32m    454\u001b[0m list_index_kpoints \u001b[39m=\u001b[39m []\n\u001b[1;32m--> 455\u001b[0m \u001b[39mif\u001b[39;00m kpointcbm\u001b[39m.\u001b[39;49mlabel \u001b[39mis\u001b[39;00m \u001b[39mnot\u001b[39;00m \u001b[39mNone\u001b[39;00m:\n\u001b[0;32m    456\u001b[0m     \u001b[39mfor\u001b[39;00m i, kpt \u001b[39min\u001b[39;00m \u001b[39menumerate\u001b[39m(\u001b[39mself\u001b[39m\u001b[39m.\u001b[39mkpoints):\n\u001b[0;32m    457\u001b[0m         \u001b[39mif\u001b[39;00m kpt\u001b[39m.\u001b[39mlabel \u001b[39m==\u001b[39m kpointcbm\u001b[39m.\u001b[39mlabel:\n",
      "\u001b[1;31mAttributeError\u001b[0m: 'NoneType' object has no attribute 'label'"
     ]
    },
    {
     "data": {
      "image/png": "[encoded data removed]",
      "text/plain": [
       "<Figure size 1200x800 with 1 Axes>"
      ]
     },
     "metadata": {},
     "output_type": "display_data"
    }
   ],
   "source": [
    "prim_bands = read_bands2pmg('./structures/Cu100_1x1/')\n",
    "print(prim_bands.get_branch(0))\n",
    "plotter =  BSPlotter(prim_bands)\n",
    "plotter.get_plot(ylim=[-7,12])"
   ]
  },
  {
   "cell_type": "markdown",
   "metadata": {},
   "source": [
    "### Create scaled volume inputs, read the output files and create murnaghan plot"
   ]
  },
  {
   "cell_type": "code",
   "execution_count": null,
   "metadata": {},
   "outputs": [],
   "source": [
    "bulk = Structure.from_file(filename=\"./structures/data_files/materials/Ag_primitive.cif\")\n",
    "create_murnaghan_inputs(seed = 'Ag_bulk_eos', structure=bulk, cutoff = 750, kpoints=[16,16,16], min_max=(0.9,1.1,10))"
   ]
  },
  {
   "cell_type": "code",
   "execution_count": null,
   "metadata": {},
   "outputs": [],
   "source": [
    "bulk = Structure.from_file(filename=\"Cu_metal_fcc.cif\")\n",
    "seed = 'Cu_bulk_murn_ext'\n",
    "murn, minimal_struct, energies,volumes = read_murnaghan_outputs(seed = seed, structure = bulk,path = f'./structures/EOS_tests/PBEsol/{seed}/')\n",
    "fig= murn.plot()\n",
    "plt.style.use('seaborn-darkgrid')\n",
    "plt.savefig(f'./structures/plots/{seed}_pbesol.png',dpi = 300)"
   ]
  },
  {
   "cell_type": "code",
   "execution_count": null,
   "metadata": {},
   "outputs": [],
   "source": [
    "from pymatgen.analysis.eos import EOS\n",
    "volumes = [4.0217**3,4.0323**3,4.04291**3,4.0535**3,4.0641**3,4.0747**3,4.0852**3,4.0958**3,4.1064**3,4.1170**3,4.1276**3,4.1382**3,4.1487**3,4.1593**3,4.1699**3,4.1805**3,4.1911**3,4.2017**3,4.2123**3,4.2228**3,4.2334**3]\n",
    "energies = [-5166.735408,-5166.771831,-5166.804691,-5166.833949,-5166.859863,-5166.88241,-5166.901863,-5166.918194,-5166.931514,-5166.942021,-5166.949902,-5166.95521,-5166.958079,-5166.958385,-5166.956323,-5166.952268,-5166.94582,-5166.93757,-5166.927327,-5166.915218,-5166.901135]\n",
    "eos = EOS(eos_name='murnaghan')\n",
    "fit = eos.fit(volumes, energies)\n",
    "fit.plot()"
   ]
  },
  {
   "cell_type": "code",
   "execution_count": null,
   "metadata": {},
   "outputs": [],
   "source": [
    "print(fit.results['v0'])"
   ]
  },
  {
   "cell_type": "code",
   "execution_count": null,
   "metadata": {},
   "outputs": [],
   "source": [
    "ag_bulk = AseAtomsAdaptor.get_structure(read('./structures/input.txt',format='espresso-in'))\n",
    "ag_bulk.scale_lattice(fit.results['v0'])\n",
    "print(ag_bulk)"
   ]
  },
  {
   "cell_type": "markdown",
   "metadata": {},
   "source": [
    "### Read the Results for Kpoint grid convergence and plot as graph"
   ]
  },
  {
   "cell_type": "markdown",
   "metadata": {},
   "source": [
    "ToDo: Modify the Kpoint convergence generation function to make a single input and then vary the values within the PBS script"
   ]
  },
  {
   "cell_type": "code",
   "execution_count": null,
   "metadata": {
    "scrolled": true
   },
   "outputs": [],
   "source": [
    "seeds = ['Cu_bulk_2','Cu_bulk_4','Cu_bulk_6','Cu_bulk_8','Cu_bulk_9','Cu_bulk_10','Cu_bulk_12','Cu_bulk_14','Cu_bulk_16','Cu_bulk_18']\n",
    "tot_energies = []\n",
    "differences = []\n",
    "kpoints = [4,6,8,9,10,12,14,16,18]\n",
    "kpoints2 = kpoints[1:]\n",
    "for seed in seeds:\n",
    "    temp_out = CastepOutput(path = f'./structures/kpt_convergence/{seed}.castep')\n",
    "    tot_energies.append(temp_out.ks_total_energy)\n",
    "for i in range(len(tot_energies)):\n",
    "    if i == 0:\n",
    "        pass\n",
    "    if i == len(tot_energies)-1:\n",
    "        break\n",
    "    differences.append(abs(tot_energies[i+1]-tot_energies[i]))\n",
    "sns.set_theme(style=\"darkgrid\")\n",
    "differences_2 = differences[1:]\n",
    "#print(differences_2)\n",
    "# Plot the responses for different events and regions\n",
    "graph = sns.lineplot(x=kpoints2, y=differences_2)\n",
    "graph.axhline(0.01285, ls = '--', c = 'red')\n",
    "graph.set(xlabel = 'MP k-point grid size (x,x,x)', ylabel = r'$\\Delta E_{tot}$ [eV]', title = 'K-point Grid Convergence')\n",
    "plt.legend(labels=[r'$\\Delta$ E',r'$\\frac{1}{2}kT$'])\n",
    "#plt.savefig('./structures/plots/k_point_convergence_zoom.png',dpi = 300)"
   ]
  },
  {
   "cell_type": "code",
   "execution_count": null,
   "metadata": {},
   "outputs": [],
   "source": [
    "atoms = [8,10,12,14,15,16]\n",
    "\n",
    "bulk_energy = -1676.5954\n",
    "cell_100 = read_cell2pmg('./structures/layer_convergence/100/Cu100_geom.cell')\n",
    "cell_110 = read_cell2pmg('./structures/layer_convergence/110/Cu110_geom.cell')\n",
    "cell_111 = read_cell2pmg('./structures/layer_convergence/111/Cu111_geom.cell')\n",
    "\n",
    "total_energies_100 = [-13411.42595553,-16764.64359063,-20117.86115268,-23471.07926522,-25147.68758931,-26824.29928175]\n",
    "total_energies_110 = [-13410.69670576,-16763.92313970,-20117.14478342,-23470.36493049,-25146.96980282,-26823.58389667]\n",
    "total_energies_111 = [-13411.73832259,-16764.95286620,-20118.17369990,-23471.39220467,-25147.99980183,-26824.61125253]\n",
    "\n",
    "data = {\n",
    "    100: [total_energies_100[i]/atoms[i] for i in range(len(atoms))],\n",
    "    110: [total_energies_110[i]/atoms[i] for i in range(len(atoms))],\n",
    "    111: [total_energies_111[i]/atoms[i] for i in range(len(atoms))]\n",
    "}\n",
    "diff = {\n",
    "    100:[data[100][i-1]-data[100][i] for i in range(1,len(atoms))],\n",
    "    110:[data[110][i-1]-data[110][i] for i in range(1,len(atoms))],\n",
    "    111:[data[111][i-1]-data[111][i] for i in range(1,len(atoms))],\n",
    "}\n",
    "\n",
    "surf_energies = {\n",
    "    100: [calc_surface_energy(bulk_energy, total_energies_100[i],atoms[i], cell_100.lattice.volume/cell_100.lattice.c) for i in range(len(atoms))],\n",
    "    110: [calc_surface_energy(bulk_energy, total_energies_110[i],atoms[i], cell_110.lattice.volume/cell_110.lattice.c) for i in range(len(atoms))],\n",
    "    111: [calc_surface_energy(bulk_energy, total_energies_111[i],atoms[i], cell_111.lattice.volume/cell_111.lattice.c) for i in range(len(atoms))],\n",
    "}\n",
    "\n",
    "diff_surf = {\n",
    "    100:[surf_energies[100][i]-surf_energies[100][i-1] for i in range(1,len(atoms))],\n",
    "    110:[surf_energies[110][i]-surf_energies[110][i-1] for i in range(1,len(atoms))],\n",
    "    111:[surf_energies[111][i]-surf_energies[111][i-1] for i in range(1,len(atoms))],\n",
    "}\n",
    "surface = 111\n",
    "\n",
    "print([surf_energies[surface][i]*16.02176565 for i in range(len(atoms))])\n",
    "\n",
    "fig,ax = plt.subplots(1,1)\n",
    "ax.plot(atoms[1:], diff[surface])\n",
    "ax.set(xlabel='# of slab layers', ylabel = r'$\\Delta$ total energy per atom [eV]', title = f'Convergence test for Cu({surface}) surface')\n",
    "#ax.plot(atoms, data[surface])\n",
    "#ax.set(xlabel='# of slab layers', ylabel = 'total energy per atom [eV]', title = f'Convergence test for Cu({surface})')\n",
    "#ax.plot(atoms,surf_energies[surface])\n",
    "#ax.set(xlabel='# of slab layers', ylabel = 'surface energy [eV]', title = f'Convergence test for Cu({surface})')\n",
    "#ax.plot(atoms[1:],diff_surf[surface])\n",
    "#ax.set(xlabel='# of slab layers', ylabel = r'$\\Delta$ surface energy [eV]', title = f'Convergence test for Cu({surface})')\n",
    "plt.tight_layout()\n",
    "#plt.savefig()"
   ]
  },
  {
   "cell_type": "code",
   "execution_count": null,
   "metadata": {},
   "outputs": [],
   "source": [
    "plt.style.use('seaborn-darkgrid')\n",
    "fig,ax = plt.subplots(1,2, figsize = [12,5])\n",
    "ax[0].set(xlabel='# of slab layers', ylabel = 'Total Energy [eV]')\n",
    "ax[1].set(xlabel='# of slab layers', ylabel = r'$\\Delta$ total energy per atom [eV]')\n",
    "for item in diff:\n",
    "    ax[0].plot(atoms, data[item], label = f'Cu({item})')\n",
    "    ax[1].plot(atoms[1:], diff[item], label = f'Cu({item})')\n",
    "ax[1].plot(atoms[1:], [0.01 for x in range(len(atoms)-1)], ls = '--', lw = 1)\n",
    "plt.suptitle('Convergence test for Cu surfaces')\n",
    "ax[1].legend()\n",
    "ax[0].legend()\n",
    "plt.tight_layout()\n",
    "plt.savefig('./structures/plots/Cu_surfaces_layer_convergence_comp.png',dpi = 500)"
   ]
  },
  {
   "attachments": {},
   "cell_type": "markdown",
   "metadata": {},
   "source": [
    "### Read in the geometry optimisation trajectory file"
   ]
  },
  {
   "cell_type": "code",
   "execution_count": null,
   "metadata": {},
   "outputs": [],
   "source": [
    "from pymatgen.core.lattice import Lattice\n",
    "from pymatgen.core.structure import Structure\n",
    "\n",
    "data = read_geometry_traj_file(path = './structures/')"
   ]
  },
  {
   "cell_type": "code",
   "execution_count": null,
   "id": "f111a832",
   "metadata": {},
   "outputs": [],
   "source": [
    "data = []\n",
    "directories = {\n",
    "    'Ag':'./structures/AgMgO_interface/victor_qe/Ag100/od_out/',\n",
    "    'AgMgO1':'./structures/AgMgO_interface/victor_qe/AgMgO/1/od_out/',\n",
    "    'AgMgO2':'./structures/AgMgO_interface/victor_qe/AgMgO/2/od_out/',\n",
    "    'AgMgO3':'./structures/AgMgO_interface/victor_qe/AgMgO/3/od_out/',\n",
    "    'AgMgO5':'./structures/AgMgO_interface/victor_qe/AgMgO/5/od_out/',\n",
    "    'AgMgO6':'./structures/AgMgO_interface/victor_qe/AgMgO/6/od_out/',\n",
    "    'AgMgO7':'./structures/AgMgO_interface/victor_qe/AgMgO/7/od_out/',\n",
    "    'AgMgO8':'./structures/AgMgO_interface/victor_qe/AgMgO/8/od_out/',\n",
    "    }\n",
    "# directories = {\n",
    "#     'fem':'./OD_debug_files/Graphene/fem/',\n",
    "#     'ome_new':'./OD_debug_files/Graphene/ome_new/',\n",
    "#     }\n",
    "\n",
    "for key in directories.keys():\n",
    "    listOfFiles = os.listdir(path = directories[key])\n",
    "    for item in listOfFiles:\n",
    "        if '.odo' in item:\n",
    "            temp_object = OptaDOSOutput(directories[key]+item)\n",
    "            data.append([key,temp_object.photo_model,temp_object.photo_photon_energy,'QE',temp_object.qe,temp_object.photo_work_function,temp_object.photo_photon_energy - temp_object.photo_work_function])\n",
    "            data.append([key,temp_object.photo_model,temp_object.photo_photon_energy,'MTE',temp_object.mte*1000,temp_object.photo_work_function,temp_object.photo_photon_energy - temp_object.photo_work_function])\n",
    "data = pd.DataFrame(data, columns=['System', 'Photo Model','Photon Energy [eV]','Value Type','Value','Work Function [eV]', 'Excess Energy [eV]'])\n",
    "data"
   ]
  },
  {
   "cell_type": "code",
   "execution_count": null,
   "id": "06e91ef7",
   "metadata": {},
   "outputs": [],
   "source": [
    "data[data['Photon Energy [eV]'] == 4.7]"
   ]
  },
  {
   "cell_type": "code",
   "execution_count": null,
   "id": "6a09b8aa",
   "metadata": {},
   "outputs": [],
   "source": [
    "sns.set_theme()\n",
    "grid = sns.FacetGrid(data, col='Value Type', hue = \"System\",sharey=False,height=6,aspect= 8/8)\n",
    "grid.map(sns.lineplot,'Excess Energy [eV]','Value')\n",
    "grid.fig.get_axes()[0].set(yscale = 'log')\n",
    "grid.fig.get_axes()[0].set_ylim([1E-7,1E-1])\n",
    "#grid.fig.get_axes()[1].set_ylim([-1E-6,3E-5])\n",
    "grid.add_legend()\n",
    "#plt.savefig('./OD_debug_files/Graphene/Comparison_overall.png',dpi=200)"
   ]
  },
  {
   "cell_type": "code",
   "execution_count": null,
   "metadata": {},
   "outputs": [],
   "source": [
    "sns.set_theme()\n",
    "grid = sns.FacetGrid(data, col='Value Type', hue = \"System\",sharey=False,height=6,aspect= 8/8)\n",
    "grid.map(sns.lineplot,'Photon Energy [eV]','Value')\n",
    "grid.fig.get_axes()[0].set(yscale = 'log')\n",
    "grid.fig.get_axes()[0].set_ylim([1E-8,1E-1])\n",
    "#grid.fig.get_axes()[1].set_ylim([-1E-6,3E-5])\n",
    "grid.add_legend()\n",
    "#plt.savefig('./OD_debug_files/Graphene/Comparison_overall.png',dpi=200)"
   ]
  },
  {
   "cell_type": "markdown",
   "metadata": {},
   "source": [
    "### Plot the electronic densities and potential"
   ]
  },
  {
   "cell_type": "code",
   "execution_count": null,
   "metadata": {},
   "outputs": [],
   "source": [
    "fig,ax = create_density_plot(directory = './structures/Ag100_victor/', centered = False)\n",
    "plt.tight_layout()\n",
    "#plt.savefig('./structures/plots/Cu110_victor_60A_density_plot.png')"
   ]
  },
  {
   "cell_type": "code",
   "execution_count": null,
   "metadata": {},
   "outputs": [],
   "source": [
    "fig,ax = create_potential_plot(directory='./structures/Ag100_victor/', centered = False)\n",
    "plt.tight_layout()\n",
    "#plt.savefig(f'./structures/plots/Cu110_pbesol_14L_50A_potential_plot.png')"
   ]
  },
  {
   "cell_type": "code",
   "execution_count": null,
   "metadata": {},
   "outputs": [],
   "source": [
    "fig,ax = create_potential_plot(directory='./structures/Ag100_felix_nc/', centered = False,bounds=[5,12])\n",
    "plt.tight_layout()"
   ]
  },
  {
   "cell_type": "markdown",
   "metadata": {},
   "source": [
    "### Create Plot with modified pymatgen functions to create more colourful bandstructure plot"
   ]
  },
  {
   "cell_type": "code",
   "execution_count": null,
   "metadata": {},
   "outputs": [],
   "source": [
    "%matplotlib inline\n",
    "bandstructure_cu = read_bands2pmg(path='./structures/GaAs_bulk/GaAs_bulk_pbesol/', export=False)\n",
    "#print(bandstructure_cu.distance)\n",
    "output = []\n",
    "for kpt in bandstructure_cu.kpoints:\n",
    "    output.append((kpt.label,kpt.cart_coords))\n",
    "plot = get_bs_plot(bandstructure_cu,ylim = (-5,5),size=[10,10])\n",
    "#print(bandstructure_cu.as_dict()[''])\n",
    "#plt.savefig('./structures/plots/Cu100_60_rerun_bandstruct_-3_1.png',dpi=200)"
   ]
  },
  {
   "cell_type": "markdown",
   "metadata": {},
   "source": [
    "### Plot reference Cu Bandstructure from Materials Project "
   ]
  },
  {
   "cell_type": "code",
   "execution_count": null,
   "metadata": {},
   "outputs": [],
   "source": [
    "with open('./structures/jsons/bands/Cu_bandstruct_ref.json', 'r') as f:\n",
    "    d = json.load(f)\n",
    "    bandstruct_new = BandStructureSymmLine.from_dict(d)\n",
    "\n",
    "plotter = BSPlotter(bandstruct_new)\n",
    "#print(bandstruct_new.as_dict()['branches'])\n",
    "#print(bandstruct_new.get_branch(320))\n",
    "band_plot = plotter.get_plot(ylim=(-5,9))\n",
    "band_plot.show()"
   ]
  },
  {
   "cell_type": "code",
   "execution_count": null,
   "metadata": {},
   "outputs": [],
   "source": [
    "with open('./structures/jsons/bands/Cu_bandstruct_PBEsol.json', 'r') as f:\n",
    "    d = json.load(f)\n",
    "    full = BandStructureSymmLine.from_dict(d)\n",
    "full.efermi = 5.2\n",
    "plotter = BSPlotter(full)\n",
    "plotter.add_bs(bandstruct_new)\n",
    "plotter.get_plot(ylim=[-11,25], bs_labels = ['PBEsol claculated', 'Materials Project reference'])\n",
    "plt.savefig('./structures/plots/Cu_bulk_pbesol_bandstruct_comp_mp_ref.png', dpi = 300)\n"
   ]
  },
  {
   "cell_type": "code",
   "execution_count": null,
   "metadata": {},
   "outputs": [],
   "source": [
    "with open('./structures/jsons/bands/Cu_bandstruct_all_points.json', 'r') as f:\n",
    "    d = json.load(f)\n",
    "    full_pbe = BandStructureSymmLine.from_dict(d)\n",
    "full_pbe.efermi = 5.0\n",
    "plotter = BSPlotter(full_pbe)\n",
    "plotter.add_bs(bandstruct_new)\n",
    "plotter.get_plot(ylim=[-11,25], bs_labels = ['PBE claculated', 'Materials Project reference'])\n",
    "plt.savefig('./structures/plots/Cu_bulk_pbe_bandstruct_comp_mp_ref.png', dpi = 300)"
   ]
  },
  {
   "cell_type": "code",
   "execution_count": null,
   "metadata": {},
   "outputs": [],
   "source": [
    "bandstructure_ag = read_bands2pmg(path='./structures/Ag100_fine_grid', export=False)\n",
    "bandstructure_ag_relax = read_bands2pmg(path='./structures/Ag100_fine_grid_relax', export=False)\n",
    "plotter = BSPlotter(bandstructure_ag)\n",
    "plotter.add_bs(bandstructure_ag_relax)\n",
    "plotter.get_plot(ylim=[-8,10],bs_labels = ['unrelaxed', 'relaxed'])\n",
    "plt.savefig('./structures/plots/Ag100_fine_bandstruct.png',dpi=200)"
   ]
  },
  {
   "cell_type": "code",
   "execution_count": null,
   "metadata": {},
   "outputs": [],
   "source": [
    "bs_cu100 = read_bands2pmg(path='./structures/Cu100_60_rerun', export=False)\n",
    "plotter = BSPlotter(bs_cu100)\n",
    "plotter.get_plot(ylim=[-10,10],bs_labels = ['unrelaxed', 'relaxed'])\n",
    "plt.savefig('./structures/plots/Cu100_rerun_bandstruct.png',dpi=200)"
   ]
  },
  {
   "cell_type": "markdown",
   "metadata": {},
   "source": [
    "### Plot bandstructure from castep .bands file using ASE functions"
   ]
  },
  {
   "cell_type": "code",
   "execution_count": null,
   "metadata": {
    "scrolled": false
   },
   "outputs": [],
   "source": [
    "#bandfile = create_bands_file(calc_struct = AseAtomsAdaptor().get_atoms(Structure.from_file(filename=\"Fe_metal_bcc.cif\")),seed = 'Fe')\n",
    "seed = 'Ag100_felix'\n",
    "#calc_struct = AseAtomsAdaptor().get_atoms(Structure.from_file(filename=\"Cu_metal_fcc.cif\"))\n",
    "calc_struct = AseAtomsAdaptor().get_atoms(read_cell2pmg(f'./structures/{seed}/{seed}_geometry.cell'))\n",
    "calc = ase.calculators.castep.Castep(check_castep_version = False,keyword_tolerance=3)\n",
    "calc_struct.calc = calc\n",
    "bandstructure = calc_struct.calc.band_structure(bandfile=f'./structures/{seed}/{seed}.bands').subtract_reference()\n",
    "#print(bandstructure.get_labels())\n",
    "plt.style.use('seaborn')\n",
    "#ax.ylimit(-12,35)\n",
    "bandstructure.plot(emin=-10, emax=10)"
   ]
  },
  {
   "cell_type": "markdown",
   "metadata": {},
   "source": [
    "### Read in the photon energy sweep output files"
   ]
  },
  {
   "cell_type": "code",
   "execution_count": null,
   "id": "1561f575",
   "metadata": {},
   "outputs": [],
   "source": [
    "surfaces = [100,110,111]\n",
    "Cu_surf_data = {}\n",
    "surface_exp = {111 : np.array([[3.96,23.0],[4.09,35.5],[4.23,77.70],[4.38,57.80],[4.54,105.00],[4.71,156.50],[4.90,266.60],[5.14,336.00],[5.39,520.80]]),\n",
    "100 : np.array([[4.26,30.6],[4.34,35.1],[4.41,42],[4.49,62.8],[4.58,88.5],[4.66,124.3],[4.71,140.1],[4.81,153.1],[4.9,194.5],[5,257.6],[5.1,262.1],[5.25,312.7],[5.49,386.1]]),\n",
    "110 : np.array([[4.12,12.9],[4.15,17.7],[4.19,17.2],[4.26,31.9],[4.34,60.8],[4.41,92.6],[4.49,121.3],[4.54,141],[4.66,170.5],[4.71,208.4],[4.81,227.9],[4.9,263.5],[5,304.9],[5.1,286.6],[5.21,353.9],[5.3,435.3],[5.49,453.1]])}\n",
    "\n",
    "wulff_calced = {100:0.2177,110:0.0,111:0.7823}\n",
    "wulff_victor = {100:0.269,110:0.127,111:0.604}\n",
    "\n",
    "for surface in surfaces:\n",
    "    Cu_surf_data[surface] = read_photonsweep_outputs(path = f'./structures/Cu{surface}_60/')\n",
    "    Cu_surf_data[surface]['experimental'] = surface_exp[surface]\n",
    "    if len(Cu_surf_data[surface]['bloch']) == len(Cu_surf_data[surface]['free electron']):\n",
    "        Cu_surf_data[surface]['mean'] = 0.5*Cu_surf_data[surface]['bloch']+0.5*Cu_surf_data[surface]['free electron']\n",
    "\n",
    "graph_options = {\n",
    "    'title': 'Polycrystalline Cu Surface',\n",
    "    'temperature': 298,\n",
    "    'plottype' : 'picture',\n",
    "    'filename' : f'./structures/plots/Cu_polycryst_QE_MTE.png'\n",
    "}\n",
    "\n",
    "Cu_surf_weighted = {'calced':{},'victor':{}}\n",
    "\n",
    "for item in Cu_surf_weighted.keys():\n",
    "    Cu_surf_weighted[item]['photon_energy'] = Cu_surf_data[100]['mean'][:,0]\n",
    "    Cu_surf_weighted[item]['qe'] = np.zeros([len(Cu_surf_data[100]['mean'])])\n",
    "    Cu_surf_weighted[item]['mte'] = np.zeros([len(Cu_surf_data[100]['mean'])])\n",
    "    Cu_surf_weighted[item]['exp_mte'] = np.zeros([len(Cu_surf_data[100]['mean'])])\n",
    "    Cu_surf_weighted[item]['workfct'] = 0\n",
    "#print(Cu_surf_data)\n",
    "#print(Cu_surf_weighted)\n",
    "\n",
    "for surface in Cu_surf_data.keys():\n",
    "    Cu_surf_weighted['calced']['qe'] = Cu_surf_weighted['calced']['qe'] + wulff_calced[surface] * Cu_surf_data[surface]['mean'][:,1] \n",
    "    Cu_surf_weighted['calced']['mte'] = Cu_surf_weighted['calced']['mte'] + wulff_calced[surface] * Cu_surf_data[surface]['mean'][:,2]\n",
    "    Cu_surf_weighted['calced']['workfct'] = Cu_surf_weighted['calced']['workfct'] + wulff_calced[surface] * Cu_surf_data[surface]['workfct']\n",
    "\n",
    "    \n",
    "    Cu_surf_weighted['victor']['qe'] = Cu_surf_weighted['victor']['qe'] + wulff_victor[surface] * Cu_surf_data[surface]['mean'][:,1] \n",
    "    Cu_surf_weighted['victor']['mte'] = Cu_surf_weighted['victor']['mte'] + wulff_victor[surface] * Cu_surf_data[surface]['mean'][:,2]  \n",
    "    Cu_surf_weighted['victor']['workfct'] = Cu_surf_weighted['victor']['workfct'] + wulff_victor[surface] * Cu_surf_data[surface]['workfct']\n",
    "\n",
    "#print(Cu_surf_weighted)\n",
    "\n",
    "fig, ax = plt.subplots(1,2, figsize = (14,6), dpi = 300)\n",
    "plt.style.use('seaborn-darkgrid')\n",
    "ax[0].plot(Cu_surf_weighted['calced']['photon_energy'],Cu_surf_weighted['calced']['qe'],c = 'tab:blue', marker = '+',label = \"Wulff Construction from this work\" )\n",
    "ax[0].plot(Cu_surf_weighted['victor']['photon_energy'],Cu_surf_weighted['victor']['qe'], c = 'tab:orange', marker = '+',label = \"Wulff Construction by Chang\" )\n",
    "ax[1].plot(Cu_surf_weighted['calced']['photon_energy'],[x*1000 for x in Cu_surf_weighted['calced']['mte']],c = 'tab:blue', marker = '+', label =  \"Wulff Construction from this work\")\n",
    "ax[1].plot(Cu_surf_weighted['victor']['photon_energy'],[x*1000 for x in Cu_surf_weighted['victor']['mte']],c = 'tab:orange', marker = '+', label =  \"Wulff Construction by Chang\")\n",
    "ax[0].axvline(Cu_surf_weighted['calced']['workfct'], ls = '--', c = 'tab:blue', label = 'weighted workfunction')\n",
    "ax[0].axvline(Cu_surf_weighted['victor']['workfct'], ls = '--', c = 'tab:orange')\n",
    "ax[1].axvline(Cu_surf_weighted['calced']['workfct'], ls = '--', c = 'tab:blue', label = 'weighted workfunction')\n",
    "ax[1].axvline(Cu_surf_weighted['victor']['workfct'], ls = '--', c = 'tab:orange')\n",
    "ax[0].plot(4.66,1.4e-4,marker = 'o',linestyle = 'None',markerfacecolor='tab:red', markeredgecolor='tab:red', label = 'Srinivasan-Rao, et al.')\n",
    "ax[1].plot(4.824, 310,marker = 'o',linestyle = 'None' ,markerfacecolor='tab:green', markeredgecolor='tab:green', label = 'Maldonado, et al.')\n",
    "ax[0].plot(4.824, 2.8e-5,marker = 'o',linestyle = 'None' ,markerfacecolor='tab:green', markeredgecolor='tab:green', label = 'Maldonado, et al.')\n",
    "ax[0].axvline(4.55, ls = '--', c = 'tab:green')\n",
    "ax[1].axvline(4.55, ls = '--', c = 'tab:green')\n",
    "#ax[0].plot(4.66+(Cu_surf_weighted['calced']['workfct']-4.3),1.4e-4,marker = 'o',markerfacecolor='tab:red', markeredgecolor='tab:red')\n",
    "ax[0].axvline(4.3, ls = '--', c = 'tab:red')\n",
    "#ax[0].errorbar(4.66,)\n",
    "#ax[0].axvline(4.55, ls = '--', c = 'tab:yellow')\n",
    "ax[0].set(xlabel = 'photon energy [eV]', ylabel = 'Quantum Efficiency (QE)', title = f\"{graph_options['title']} Quantum Efficiency\", yscale='log', ylim = [1e-10, 1e-2])\n",
    "ax[1].set(xlabel = 'photon energy [eV]', ylabel = 'Mean Transverse Energy (MTE) [meV]', title = f\"{graph_options['title']} MTE\")\n",
    "ax[0].legend()\n",
    "ax[1].legend()\n",
    "plt.tight_layout()\n",
    "plt.savefig(graph_options['filename'],dpi = 250)"
   ]
  },
  {
   "attachments": {},
   "cell_type": "markdown",
   "id": "105039da",
   "metadata": {},
   "source": [
    "### Contributors Data Comparison"
   ]
  },
  {
   "cell_type": "code",
   "execution_count": null,
   "metadata": {},
   "outputs": [],
   "source": [
    "Cu_surf_data = {}\n",
    "workfunction = 4.547\n",
    "excess = True\n",
    "experimental_mgo = np.genfromtxt('./structures/extra_data/Cu100_MgO_MTE.csv', delimiter=',', skip_header=1)\n",
    "experimental_cu = np.genfromtxt('./structures/extra_data/Cu100_MTE.csv', delimiter=',', skip_header=1)\n",
    "\n",
    "Cu_surf_data[100] = read_photonsweep_outputs(path = f'./structures/Cu100_60_rerun/mixed_iprint/')\n",
    "Cu_surf_data[100]['mean'] = 0.5*Cu_surf_data[100]['bloch']+0.5*Cu_surf_data[100]['free electron']\n",
    "\n",
    "Cu_surf_data[101] = read_photonsweep_outputs(path = f'./structures/Cu100_60_rerun/iprint_3/')\n",
    "# Cu_surf_data[101]['mean'] = 0.5*Cu_surf_data[101]['bloch']+0.5*Cu_surf_data[101]['free electron']\n",
    "\n",
    "dos_data = read_dos_optados(path='./structures/Cu100_60_rerun/', export_json = False)\n",
    "dos_data['energy'] = dos_data['energy']\n",
    "dos_data['total'] = [number/dos_data['max'][0] for number in dos_data['total']]\n",
    "#print(len(dos_data['energy']),len(dos_data['total']))\n",
    "\n",
    "pdos_data = read_proj_dos_optados(path='./structures/Cu100_60_rerun/', export_json = False)\n",
    "#print(pdos_data.keys(),pdos_data['projections'].keys(),pdos_data['projections']['Cu1,Cu2,Cu3,Cu4,Cu5,Cu6,Cu7,Cu8,Cu9,Cu10,Cu11,Cu12,Cu13,Cu14,Cu15,Cu16'].keys(),pdos_data['spin channels'])\n",
    "#print(len(pdos_data['energies']))\n",
    "proj_label = list(pdos_data['projections'].keys())[0]\n",
    "\n",
    "pdos_energy = pdos_data['energies']\n",
    "pdos_s_data = pdos_data['projections'][proj_label]['s']\n",
    "pdos_p_data = pdos_data['projections'][proj_label]['p']\n",
    "pdos_d_data = pdos_data['projections'][proj_label]['d']\n",
    "\n",
    "pdos_s_data = [item/dos_data['max'][0] for item in pdos_s_data]\n",
    "pdos_p_data = [item/dos_data['max'][0] for item in pdos_p_data]\n",
    "pdos_d_data = [item/dos_data['max'][0] for item in pdos_d_data]\n",
    "\n",
    "\n",
    "\n",
    "graph_options = {\n",
    "    'title': 'Cu100 Surface',\n",
    "    'temperature': 298,\n",
    "    'plottype' : 'picture',\n",
    "    'filename' : './structures/plots/Cu_100_rerun_exp_comp_excess_energy.png'\n",
    "}\n",
    "if excess:\n",
    "    Cu_surf_data[100]['bloch'][:,0] = Cu_surf_data[100]['bloch'][:,0]-Cu_surf_data[100]['workfct']\n",
    "    Cu_surf_data[100]['free electron'][:,0] = Cu_surf_data[100]['free electron'][:,0]-Cu_surf_data[100]['workfct']\n",
    "    \n",
    "    Cu_surf_data[101]['bloch'][:,0] = Cu_surf_data[101]['bloch'][:,0]-Cu_surf_data[101]['workfct']\n",
    "    Cu_surf_data[101]['free electron'][:,0] = Cu_surf_data[101]['free electron'][:,0]-Cu_surf_data[101]['workfct']\n",
    "    \n",
    "    Cu_surf_data[100]['experimental_mgo'] = experimental_mgo[:,1:]\n",
    "    mgo_error = experimental_mgo[:,2]*0.1\n",
    "    Cu_surf_data[100]['experimental_mgo'] =  np.array(Cu_surf_data[100]['experimental_mgo'])\n",
    "    Cu_surf_data[100]['experimental_cu'] = experimental_cu\n",
    "    cu_error = experimental_cu[:,1]*0.1\n",
    "    xlabel = 'Excess Energy [eV]'\n",
    "    work = 0\n",
    "else:\n",
    "    xlabel = 'Photon Energy [eV]'\n",
    "    work = workfunction\n",
    "\n",
    "x_1_3 = np.linspace(0,3,25)\n",
    "\n",
    "fig, ax = plt.subplots(2,1, figsize = (10,10), dpi = 300,gridspec_kw={'height_ratios': [3,2]})\n",
    "plt.style.use('seaborn-darkgrid')\n",
    "\n",
    "\n",
    "ax[0].plot(Cu_surf_data[100]['free electron'][:,0],Cu_surf_data[100]['free electron'][:,2]*1000,label='1step',alpha = 0.4)\n",
    "ax[0].plot(Cu_surf_data[100]['bloch'][:,0],Cu_surf_data[100]['bloch'][:,2]*1000,label='3step',alpha = 0.4)\n",
    "\n",
    "ax[0].plot(Cu_surf_data[101]['free electron'][:,0],Cu_surf_data[101]['free electron'][:,2]*1000,label='1step iprint3',alpha = 0.4)\n",
    "ax[0].plot(Cu_surf_data[101]['bloch'][:,0],Cu_surf_data[101]['bloch'][:,2]*1000,label='3step iprint3',alpha = 0.4)\n",
    "\n",
    "ax[0].plot(Cu_surf_data[100]['free electron'][:,0],Cu_surf_data[100]['mean'][:,2]*1000,label='mean')\n",
    "\n",
    "ax[0].axvline(work, ls = '--', c = 'tab:blue')\n",
    "\n",
    "if excess:\n",
    "    ax[0].errorbar(Cu_surf_data[100]['experimental_mgo'][:,0],Cu_surf_data[100]['experimental_mgo'][:,1],label='Cu_MgO_exp',yerr=mgo_error,fmt='+')\n",
    "    ax[0].errorbar(Cu_surf_data[100]['experimental_cu'][:,0],Cu_surf_data[100]['experimental_cu'][:,1],fmt='+',label='Cu_exp',yerr = cu_error)\n",
    "    ax[0].plot(x_1_3,x_1_3*1000/3,ls = '--', alpha = 0.4,label = '1/3 E_excess')\n",
    "\n",
    "ax[1].axhline(0,ls = '--',alpha=0.4)\n",
    "ax[1].plot(dos_data['energy'],dos_data['total'],alpha=0.6, label = 'total DOS')\n",
    "ax[1].plot(pdos_energy,pdos_d_data,alpha=0.6,label= 'pDOS d')\n",
    "ax[1].plot(pdos_energy,pdos_s_data,alpha=0.6,label= 'pDOS s')\n",
    "ax[1].plot(pdos_energy,pdos_p_data,alpha=0.6,label= 'pDOS p')\n",
    "\n",
    "ax[0].set(xlabel = xlabel, ylabel = 'Mean Transverse Energy (MTE) [meV]', title = f\"{graph_options['title']} MTE\",xlim = [-.5,3])#, ylim=[-100,1000])\n",
    "ax[1].set(xlabel='E_band - E_Fermi [eV]', ylabel = 'normalised DOS',xlim = [0.55,-3],ylim = [-0.05,1.05])\n",
    "ax[0].legend()\n",
    "ax[1].legend()\n",
    "plt.tight_layout()\n",
    "plt.savefig('./structures/plots/Cu100_rerun_exp_comp_excess_energy_.png',dpi=200)"
   ]
  },
  {
   "cell_type": "markdown",
   "metadata": {},
   "source": [
    "### Plotting jDOS for Ag100 surfaces"
   ]
  },
  {
   "cell_type": "code",
   "execution_count": null,
   "metadata": {},
   "outputs": [],
   "source": [
    "def make_plot(dir,jdoss,title,label):\n",
    "    data = {}\n",
    "    filelist = os.listdir(dir)\n",
    "    for num in jdoss:\n",
    "        for file in filelist:\n",
    "            if str(round(float(num),2)) in file:\n",
    "                #print(OptaDOSOutput(path=directory+file).qe)\n",
    "                output = OptaDOSOutput(path=dir+file)\n",
    "                data[num] = {'qe':output.qe,'mte':output.mte}\n",
    "    #data.pop(5)\n",
    "    plt.style.use(style='seaborn-darkgrid')\n",
    "    fig,ax = plt.subplots(2,1,figsize=(12,8),dpi=200,sharex=True)\n",
    "    ax[0].set(title=title)\n",
    "    for key in data.keys():\n",
    "        ax[0].scatter(key,data[key]['qe'],c='y',marker='o',label = label)\n",
    "        ax[1].scatter(key,data[key]['mte']*1000,c='y',marker='o',label=label)\n",
    "        ax[0].set(ylabel='QE')\n",
    "        ax[1].set(xlabel='max_jdos_energy [eV]',ylabel='MTE [meV]')\n",
    "        #print(key)\n",
    "    return fig, ax;\n",
    "\n",
    "def add_data(dir,jdoss,title,fig,ax,label):\n",
    "    data = {}\n",
    "    filelist = os.listdir(dir)\n",
    "    for num in jdoss:\n",
    "        for file in filelist:\n",
    "            if str(round(float(num),2)) in file:\n",
    "                #print(OptaDOSOutput(path=directory+file).qe)\n",
    "                output = OptaDOSOutput(path=dir+file)\n",
    "                data[num] = {'qe':output.qe,'mte':output.mte}\n",
    "    data.pop(5)\n",
    "    ax[0].set(title=title)\n",
    "    for key in data.keys():\n",
    "        ax[0].scatter(key,data[key]['qe'],marker='x',c='tab:red',label = label)\n",
    "        ax[1].scatter(key,data[key]['mte']*1000,marker='x',c='tab:red',label = label)\n",
    "        #print(key)\n",
    "    return fig, ax;\n",
    "\n",
    "\n",
    "\n"
   ]
  },
  {
   "cell_type": "code",
   "execution_count": null,
   "metadata": {},
   "outputs": [],
   "source": [
    "directory = './od_test/jdos_spacing_0.1/iprint_1/'\n",
    "directory_2 = './od_test/jdos_spacing_0.1/iprint_3/'\n",
    "jdos = range(5,21,1)\n",
    "jdos2 = range(6,21,1)\n",
    "title = 'jdos_max_energy Dependence of QE and MTE\\njdos_spacing = 0.1 eV\\nAg100 @ 4.7eV Photon Energy, iprint level : 3\\n'\n",
    "title2 = 'jdos_max_energy Dependence of QE and MTE\\njdos_spacing = 0.1 eV\\nAg100 @ 4.7eV Photon Energy\\n'\n",
    "fig,ax = make_plot(directory,jdos,title,label = 'iprint : 1')\n",
    "fig,ax = add_data(directory_2,jdos,title=title2,fig=fig,ax=ax,label='iprint : 3')\n",
    "handles, labels = plt.gca().get_legend_handles_labels()\n",
    "by_label = dict(zip(labels, handles))\n",
    "plt.legend(by_label.values(), by_label.keys())\n",
    "plt.tight_layout()\n",
    "plt.savefig('./structures/plots/Ag100_fine_grid_jdos_point1_max_energy_dependence_comp.png')"
   ]
  },
  {
   "cell_type": "code",
   "execution_count": null,
   "metadata": {},
   "outputs": [],
   "source": [
    "\n",
    "numbers = np.linspace(4.0,5.5,20).round(5)\n",
    "print(numbers)\n",
    "numbers2 = np.linspace(5.5,7.5,27).round(5)\n",
    "print(numbers2)"
   ]
  },
  {
   "cell_type": "code",
   "execution_count": null,
   "metadata": {},
   "outputs": [],
   "source": [
    "Cu_surf_data = read_photonsweep_outputs(seed = 'Cu_surf_111', path = './structures/Cu_surf_111/')\n",
    "graph_options = {\n",
    "    'title': 'Cu[111]',\n",
    "    'temperature': 298,\n",
    "    'filename' : './structures/plots/Cu_111_pbesol_120deg_test2_mte_plot_0E.png'\n",
    "}\n",
    "#print(Cu_111_data)\n",
    "fig, ax = make_photonsweep_plots(Cu_surf_data,**graph_options)\n",
    "plt.savefig(graph_options['filename'],dpi = 250)"
   ]
  },
  {
   "cell_type": "markdown",
   "metadata": {},
   "source": [
    "### Plot DOS plot created by OptaDOS"
   ]
  },
  {
   "cell_type": "code",
   "execution_count": null,
   "metadata": {},
   "outputs": [],
   "source": [
    "seed = './structures/Cu_bulk_PBEsol_fixed/'\n",
    "fig, ax= plot_dos_optados(seed, plot_total = False, xlimit = (-12, 20), export_json = True)\n",
    "#plt.savefig(f\"./structures/plots/{seed}_dos.png\")"
   ]
  },
  {
   "cell_type": "code",
   "execution_count": null,
   "metadata": {},
   "outputs": [],
   "source": [
    "fig, ax = plot_dos_optados('./structures/Cu100_60_rerun/',plot_total = False, xlimit = (-12,15),export_json=False)\n",
    "plt.savefig('./structures/plots/Cu100_60_rerun_dos_12-22.png',dpi=200)"
   ]
  },
  {
   "cell_type": "code",
   "execution_count": null,
   "metadata": {},
   "outputs": [],
   "source": [
    "from pymatgen.electronic_structure.plotter import DosPlotter\n",
    "with open('./structures/jsons/DOS/Cu_bulk_PBEsol_linear_0.05_dos_total.json', 'r') as f:\n",
    "   d = json.load(f)\n",
    "   dos_calc = Dos.from_dict(d)\n",
    "with open('./structures/jsons/DOS/Cu_bulk_matproject_ref.json', 'r') as f:\n",
    "    d = json.load(f)\n",
    "    dos_ref = Dos.from_dict(d)\n",
    "plt.style.use('seaborn-darkgrid')\n",
    "plotter = DosPlotter()\n",
    "plotter.add_dos(\"calculated\", dos_calc)\n",
    "plotter.add_dos(\"reference\", dos_ref)\n",
    "print(dos_calc.densities)\n",
    "plotter.get_plot(xlim = (-12,20),ylim = (-0.2,max(dos_calc.densities[Spin.up])+0.5))\n",
    "plt.savefig('./structures/plots/Cu_bulk_PBEsol_linear_tot_dos_comparison_matproj.png')"
   ]
  },
  {
   "cell_type": "markdown",
   "metadata": {},
   "source": [
    "### Plot proj DOS plot created by OptaDOS"
   ]
  },
  {
   "cell_type": "code",
   "execution_count": null,
   "metadata": {},
   "outputs": [],
   "source": [
    "#seed = 'Cu_bulk_spectral_pdos'\n",
    "path='./structures/layer_convergence/111/'\n",
    "data = read_proj_dos_optados(path = path, export_json=False)\n",
    "print(data['projections'].keys())#['Cu1,Cu1,Cu1,Cu1'])\n",
    "#print(data['spin channels'])\n",
    "atom = 'Cu7,Cu7,Cu7,Cu7'\n",
    "data['projections'] = {atom: data['projections'][atom]}\n",
    "#print(data['projections'].keys())\n",
    "density = {Spin.up : data['projections'][atom]['s']}\n",
    "energies = data['energies']\n",
    "output_dos = Dos(0, energies,density)\n",
    "seed = 'Cu111_16L_middle_layer'\n",
    "with open(f'./structures/jsons/DOS/{seed}_total.json', 'w') as f:\n",
    "    json.dump(output_dos.as_dict(), f)  \n",
    "eins,axis = plot_proj_dos_optados(data,xlimit=(1, -3))\n",
    "plt.title('Cu(111) projected DOS')\n",
    "plt.xlabel('Energy [eV]')\n",
    "plt.ylabel('pDOS [arb.u.]')\n",
    "plt.tight_layout()\n",
    "plt.savefig('./structures/plots/Cu111_50_middle_layer_-10_10.png',dpi=500)"
   ]
  },
  {
   "cell_type": "code",
   "execution_count": null,
   "metadata": {},
   "outputs": [],
   "source": [
    "path='./structures/Cu100_60_rerun/'\n",
    "data = read_proj_dos_optados(path = path, export_json=False)\n",
    "#print(data['projections'].keys())#['Cu1,Cu1,Cu1,Cu1'])\n",
    "#print(data['spin channels'])\n",
    "atom = 'Cu1,Cu2,Cu3,Cu4,Cu5,Cu6,Cu7,Cu8,Cu9,Cu10,Cu11,Cu12,Cu13,Cu14,Cu15,Cu16'\n",
    "data['projections'] = {atom: data['projections'][atom]}\n",
    "#print(data['projections'].keys())\n",
    "\n",
    "eins,axis = plot_proj_dos_optados(data,xlimit=(1, -3),figsize=[5,3])\n",
    "#plt.title('Cu(111) projected DOS')\n",
    "#plt.xlabel('Energy [eV]')\n",
    "#plt.ylabel('pDOS [arb.u.]')\n",
    "axis.set_xticks([])\n",
    "axis.set_yticks([])\n",
    "axis.legend(['s','p','d'])\n",
    "axis.axvline(0,ls = '--',linewidth = 0.5)\n",
    "plt.tight_layout()\n",
    "plt.savefig('./structures/plots/Cu100_60_rerun_pdos_-1_3.png',dpi=500)"
   ]
  },
  {
   "cell_type": "code",
   "execution_count": null,
   "metadata": {},
   "outputs": [],
   "source": [
    "from pymatgen.electronic_structure.plotter import DosPlotter\n",
    "with open('./structures/jsons/DOS/Cu111_16L_middle_layer_total.json', 'r') as f:\n",
    "   d = json.load(f)\n",
    "   dos_calc = Dos.from_dict(d)\n",
    "with open('./structures/jsons/DOS/Cu_bulk_PBEso_adaptivel_dos_total.json', 'r') as f:\n",
    "    d = json.load(f)\n",
    "    dos_ref = Dos.from_dict(d)\n",
    "plt.style.use('seaborn-darkgrid')\n",
    "plotter = DosPlotter()\n",
    "plotter.add_dos(\"Cu(111) 16L middle layer\", dos_calc)\n",
    "plotter.add_dos(\"Cu bulk\", dos_ref)\n",
    "#print(dos_calc.densities)\n",
    "plotter.get_plot(xlim = (-12,20),ylim = (-0.2,max(dos_calc.densities[Spin.up])+0.5))\n",
    "plt.savefig('./structures/plots/Cu111_PBEsol_16L_middle_comparison_matproj.png')"
   ]
  },
  {
   "cell_type": "markdown",
   "metadata": {},
   "source": [
    "### Plot joint DOS created by OptaDOS"
   ]
  },
  {
   "cell_type": "code",
   "execution_count": null,
   "metadata": {},
   "outputs": [],
   "source": [
    "data_10060 = get_joint_dos_optados('./structures/Cu_surf_100_victor_60A/')\n",
    "label_1 = 'Cu100_60A'\n",
    "data_10050 = get_joint_dos_optados('./structures/Cu110_victor_60A/')\n",
    "label_2 = 'Cu110_60A'\n",
    "data_11160 = get_joint_dos_optados('./structures/Cu_surf_111_victor_60A/')\n",
    "label_3= 'Cu111_60A'\n",
    "fig,ax = plot_joint_dos_optados(data_10060, label=label_1, xlimit =[0,6])\n",
    "fig,ax = add_jdos_line(data_10050,fig,ax,label=label_2)\n",
    "fig,ax = add_jdos_line(data_11160,fig,ax,label=label_3)\n",
    "ax.set_title('Joint DOS for Cu')\n",
    "plt.legend()\n",
    "plt.savefig('./structures/plots/Cu_jdos_comparison_6.png')"
   ]
  },
  {
   "cell_type": "code",
   "execution_count": null,
   "metadata": {},
   "outputs": [],
   "source": [
    "cu_100 = get_joint_dos_optados('./structures/Cu100_60_rerun/')\n",
    "fig,ax = plot_joint_dos_optados(cu_100, label='Cu100', xlimit=[0,10])\n",
    "plt.savefig('./structures/plots/Cu100_jdos.png',dpi=200)"
   ]
  },
  {
   "cell_type": "code",
   "execution_count": null,
   "metadata": {},
   "outputs": [],
   "source": [
    "data_11160 = get_joint_dos_optados('./structures/Cu_surf_111_victor_60A/')\n",
    "label_1 = 'Cu111_60A'\n",
    "data_11150 = get_joint_dos_optados('./structures/Cu_surf_111_victor_50A/')\n",
    "label_2 = 'Cu111_50A'\n",
    "fig,ax = plot_joint_dos_optados(data_11160, label=label_1, xlimit =[0,6])\n",
    "fig,ax = add_jdos_line(data_11150,fig,ax,label=label_2)\n",
    "ax.set_title('Joint DOS for Cu[111]')\n",
    "plt.legend()\n",
    "plt.savefig('./structures/plots/Cu111_jdos_comparison.png')"
   ]
  },
  {
   "cell_type": "markdown",
   "metadata": {},
   "source": [
    "## Plot DOS from json files"
   ]
  },
  {
   "cell_type": "code",
   "execution_count": null,
   "metadata": {},
   "outputs": [],
   "source": [
    "from pymatgen.electronic_structure.plotter import DosPlotter\n",
    "with open('./structures/jsons/DOS/Cu_bulk_spectral_dos_total.json', 'r') as f:\n",
    "   d = json.load(f)\n",
    "   dos_calc = Dos.from_dict(d)\n",
    "with open('./structures/jsons/DOS/Cu_bulk_matproject_ref.json', 'r') as f:\n",
    "    d = json.load(f)\n",
    "    dos_ref = Dos.from_dict(d)\n",
    "plt.style.use('seaborn-darkgrid')\n",
    "plotter = DosPlotter()\n",
    "plotter.add_dos(\"calculated\", dos_calc)\n",
    "plotter.add_dos(\"reference\", dos_ref)\n",
    "plotter.get_plot(xlim = (-12,2.5),ylim=(-0.2,9))\n",
    "plt.savefig('./structures/plots/Cu_bulk_tot_dos_comparison_dos_matproj_zoom.png')"
   ]
  },
  {
   "cell_type": "code",
   "execution_count": null,
   "metadata": {},
   "outputs": [],
   "source": [
    "with open('./structures/jsons/bands/Cu_bulk_bandstruct_full.json', 'r') as f:\n",
    "    d = json.load(f)\n",
    "    bandstruct_cu_full = BandStructureSymmLine.from_dict(d)\n",
    "with open('./structures/jsons/bands/Cu_bulk_bandstruct_full_UX.json', 'r') as f:\n",
    "   d = json.load(f)\n",
    "   bandstruct_cu_ux = BandStructureSymmLine.from_dict(d)\n",
    "bandstruct_full = append_symm_line(bandstruct_cu_full,bandstruct_cu_ux)\n",
    "with open(f'./structures/band_jsons/cu_bandstruct_all_points.json', 'w') as f:\n",
    "    json.dump(bandstruct_full.as_dict(), f)\n",
    "plotter = BSPlotter(bandstruct_full)\n",
    "band_plot = plotter.get_plot(ylim=(-5,9))\n",
    "band_plot.show()"
   ]
  },
  {
   "cell_type": "code",
   "execution_count": null,
   "metadata": {},
   "outputs": [],
   "source": [
    "with open('./structures/jsons/bands/Cu_bandstruct_ref.json', 'r') as f:\n",
    "    d = json.load(f)\n",
    "    bandstruct_cu_ref = BandStructureSymmLine.from_dict(d)\n",
    "with open('./structures/jsons/bands/cu_bandstruct_all_points.json', 'r') as f:\n",
    "   d = json.load(f)\n",
    "   bandstruct_cu_full = BandStructureSymmLine.from_dict(d)\n",
    "\n",
    "#bandstruct_full = append_symm_line(bandstruct_cu_full,bandstruct_cu_ux)\n",
    "#with open(f'./structures/band_jsons/cu_bandstruct_all_points.json', 'w') as f:\n",
    "#    json.dump(bandstruct_full.as_dict(), f)\n",
    "\n",
    "plotter = BSPlotter(bandstruct_cu_full)\n",
    "plotter.add_bs(bandstruct_cu_ref)\n",
    "band_plot = plotter.get_plot(ylim=(-12,35), bs_labels=['Calculated','Materials Project Ref'])\n",
    "plt.xlabel('')\n",
    "plt.savefig('comparison_calculated_vs_matproj_ref_optados_Efermi.png')\n",
    "band_plot.show()\n"
   ]
  },
  {
   "cell_type": "code",
   "execution_count": null,
   "metadata": {},
   "outputs": [],
   "source": [
    "fig, ax = modified_potential_plot('./structures/Cu111_60/')\n",
    "plt.savefig('./structures/plots/poster_fig_steps.png')"
   ]
  },
  {
   "cell_type": "code",
   "execution_count": null,
   "metadata": {},
   "outputs": [],
   "source": [
    "fig,ax=modified_proj_dos_optados(path = './structures/Cu111_60/',xlimit = [10,-10])\n",
    "plt.savefig('./structures/plots/Cu_111_60_pDOS_plot_poster.png',dpi = 500)"
   ]
  }
 ],
 "metadata": {
  "kernelspec": {
   "display_name": "Python 3",
   "language": "python",
   "name": "python3"
  },
  "language_info": {
   "codemirror_mode": {
    "name": "ipython",
    "version": 3
   },
   "file_extension": ".py",
   "mimetype": "text/x-python",
   "name": "python",
   "nbconvert_exporter": "python",
   "pygments_lexer": "ipython3",
   "version": "3.9.13"
  },
  "vscode": {
   "interpreter": {
    "hash": "bdb607488251eb1eb1599e0f3bb9151eded0af6676f3b3dc09c9e8f3e83b9f04"
   }
  }
 },
 "nbformat": 4,
 "nbformat_minor": 5
}
