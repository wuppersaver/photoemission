{
 "cells": [
  {
   "cell_type": "markdown",
   "metadata": {},
   "source": [
    "# Plots - BS, DOS, pDOS, QE, MTE, Murnaghan EOS, Convergence"
   ]
  },
  {
   "cell_type": "code",
   "execution_count": 2,
   "id": "5f10195c",
   "metadata": {},
   "outputs": [],
   "source": [
    "import subprocess\n",
    "import os\n",
    "from ase.io import read\n",
    "from ase.visualize import view\n",
    "from ase.build import surface\n",
    "import ase.calculators.castep\n",
    "import ase.io.castep\n",
    "import pandas as pd\n",
    "\n",
    "\n",
    "from pymatgen.core.structure import Structure\n",
    "from pymatgen.io.ase import AseAtomsAdaptor\n",
    "from pymatgen.symmetry.kpath import KPathSetyawanCurtarolo,KPathLatimerMunro\n",
    "from pymatgen.electronic_structure.dos import *\n",
    "from pymatgen.electronic_structure.plotter import BSPlotter\n",
    "from pymatgen.symmetry.analyzer import SpacegroupAnalyzer\n",
    "from python_functions import *\n",
    "from bs_plotting import *\n",
    "from castep_output_class import *\n",
    "from optados_output_class import *\n",
    "import json\n",
    "%matplotlib inline\n",
    "import matplotlib.pyplot as plt\n",
    "import seaborn as sns\n",
    "import numpy as np"
   ]
  },
  {
   "attachments": {},
   "cell_type": "markdown",
   "id": "ef521a18",
   "metadata": {},
   "source": [
    "### Plot GaAs BS Plot"
   ]
  },
  {
   "cell_type": "code",
   "execution_count": null,
   "id": "37a8d784",
   "metadata": {},
   "outputs": [],
   "source": [
    "#%matplotlib inline\n",
    "bandstructure_cu = read_bands2pmg(path='./structures/GaAs_bulk/', export=False)\n",
    "#print(bandstructure_cu.distance)\n",
    "output = []\n",
    "for kpt in bandstructure_cu.kpoints:\n",
    "    output.append((kpt.label,kpt.cart_coords))\n",
    "plot = get_bs_plot(bandstructure_cu,ylim = (-5,5), size = [10,8])\n",
    "#plt.xlabel()\n",
    "plt.savefig('./structures/plots/GaAs_bulk_bandstruct_poster.png',dpi=400)"
   ]
  },
  {
   "attachments": {},
   "cell_type": "markdown",
   "id": "23b7df5d",
   "metadata": {},
   "source": [
    "### Changing the workfunction"
   ]
  },
  {
   "cell_type": "code",
   "execution_count": null,
   "id": "3cc30ab7",
   "metadata": {},
   "outputs": [],
   "source": [
    "directory = './structures/Cu_surf_111/'\n",
    "work_fct = 3.52958434\n",
    "listOfFiles = os.listdir(directory)\n",
    "for item in listOfFiles:\n",
    "    if '_photo.odi' in item:\n",
    "        subprocess.call(f'sed -i \"s/.*work_function.*/workfunction : {round(work_fct,5)}/\" {directory}{item}',shell=True)\n",
    "#subprocess.call(,)\n",
    "#f'sed -i \"s/.*work_function.*/workfunction : {round(work_fct,5)}/\" {directory}{item}'\n",
    "#f'sed -i \"s/.*slab_volume.*/slab_volume : {round(slab_vol,5)}/\" {path}{item}'"
   ]
  },
  {
   "attachments": {},
   "cell_type": "markdown",
   "id": "14771c3e",
   "metadata": {},
   "source": [
    "### Comparing MgO bulk structures"
   ]
  },
  {
   "cell_type": "code",
   "execution_count": null,
   "id": "b25059c6",
   "metadata": {},
   "outputs": [],
   "source": [
    "victor_struct = read('./structures/MgO_bulk_victor/MgO_bulk_eos.xyz')\n",
    "felix_struct = read('./structures/MgO_bulk_eos/old_otf_psp/MgO_bulk_eos.xyz')\n",
    "view(victor_struct)\n",
    "view(felix_struct)"
   ]
  },
  {
   "cell_type": "code",
   "execution_count": null,
   "id": "c619b1f3",
   "metadata": {},
   "outputs": [],
   "source": [
    "victor_struct = read('./structures/MgO_bulk_eos/victor/MgO_bulk_eos.xyz')\n",
    "felix_struct = read('./structures/MgO_bulk_eos/felix/MgO_bulk_eos.xyz',index=0)\n",
    "#print(type(AseAtomsAdaptor.get_structure(felix_struct)))\n",
    "felix_conv = AseAtomsAdaptor.get_atoms(SpacegroupAnalyzer(AseAtomsAdaptor.get_structure(felix_struct)).get_conventional_standard_structure())\n",
    "victor_conv = AseAtomsAdaptor.get_atoms(SpacegroupAnalyzer(AseAtomsAdaptor.get_structure(victor_struct)).get_conventional_standard_structure())\n",
    "#view(victor_conv)\n",
    "view(felix_conv)"
   ]
  },
  {
   "attachments": {},
   "cell_type": "markdown",
   "id": "fe3b2e6a",
   "metadata": {},
   "source": [
    "### Plotting bulk Cu pDOS"
   ]
  },
  {
   "cell_type": "code",
   "execution_count": null,
   "id": "4695a256",
   "metadata": {},
   "outputs": [],
   "source": [
    "seed = 'Cu_bulk_spectral_pdos'\n",
    "seed = 'Cu_surf_111'\n",
    "eins, axis = plot_proj_dos_optados(seed, plot_down= False, plot_total= False, export_json=False,xlimit=(-10, 10))\n",
    "plt.savefig('Cu111_pdos_-10_10.png',dpi=200)"
   ]
  },
  {
   "cell_type": "code",
   "execution_count": null,
   "id": "ab846289",
   "metadata": {},
   "outputs": [],
   "source": [
    "struct_110 = AseAtomsAdaptor.get_structure(read('./structures/Cu_surf_110/Cu_surf_110.xyz'))\n",
    "latimer = KPathLatimerMunro(struct_110)\n",
    "for index in range(12):\n",
    "    print('Latimer_Munroe Label:', latimer.LabelSymbol(index),'Point: ', latimer.LabelPoints(index))\n",
    "print('SetyawanCurtarolo/ASE',KPathSetyawanCurtarolo(struct_110).orc())"
   ]
  },
  {
   "cell_type": "markdown",
   "id": "715abb0f",
   "metadata": {},
   "source": [
    "I recommend using pymatgen to generate the bulk/slab and then convert it to an ASE atom object. The advantages of this approach are:\n",
    "- pymatgen has a better bulk/slab generation algorithm \n",
    "- castep can link a calculator to the Atom object\n"
   ]
  },
  {
   "attachments": {},
   "cell_type": "markdown",
   "id": "2784af1f",
   "metadata": {},
   "source": [
    "### Download and save .cif file for necessary materials"
   ]
  },
  {
   "cell_type": "code",
   "execution_count": null,
   "id": "041835fc",
   "metadata": {},
   "outputs": [],
   "source": [
    "bulk = Structure.from_file(filename=\"Cu_metal_fcc.cif\")\n",
    "## print(bulk)\n",
    "print(bulk.volume)\n",
    "# print(bulk.lattice)\n",
    "# print(bulk.species)\n",
    "# print(bulk.sites)\n",
    "bulk.scale_lattice(11.94)\n",
    "analyser = SpacegroupAnalyzer(bulk)\n",
    "conventional = analyser.get_conventional_standard_structure()\n",
    "print(conventional.lattice)\n",
    "bulk_ase = AseAtomsAdaptor().get_atoms(bulk)\n",
    "## print(bulk_ase)\n",
    "# print(bulk)\n",
    "surface = ase.build.surface(lattice = bulk_ase, indices = (1,1,1), layers = 5, vacuum=15, tol=1e-10, periodic=True)\n",
    "#print(get_adjusted_kpts(bulk,AseAtomsAdaptor.get_structure(surface), [9,9,9] ))\n",
    "#view.add_unitcell()\n",
    "#view"
   ]
  },
  {
   "cell_type": "code",
   "execution_count": null,
   "id": "d6d4457b",
   "metadata": {},
   "outputs": [],
   "source": [
    "surf_110 = read_cell2pmg('./structures/Cu_surfaces_debug/Cu_surf_110.cell')\n",
    "view(AseAtomsAdaptor.get_atoms(surf_110))\n",
    "surf_100 = read_cell2pmg('./structures/Cu_surfaces_debug/Cu_surf_100.cell')\n",
    "view(AseAtomsAdaptor.get_atoms(surf_100))"
   ]
  },
  {
   "cell_type": "markdown",
   "id": "aa1d4eba",
   "metadata": {},
   "source": [
    "#### Read the Cutoff Energy Results and Display as Graph"
   ]
  },
  {
   "cell_type": "code",
   "execution_count": null,
   "id": "2378d38a",
   "metadata": {
    "scrolled": true
   },
   "outputs": [],
   "source": [
    "seed = 'Ag_bulk_singlepoint'\n",
    "#path_pbe = './structures/Cu_bulk_convergence/cutoff/'\n",
    "path_sol = './structures/Ag_convergence'\n",
    "cutoffs = list(range(550,1800,50))\n",
    "tot_energies, differences = {'pbe' : [],'pbesol' : []},{'pbe' : [],'pbesol' : []}\n",
    "for cut in cutoffs:\n",
    "    #temp_pbe = CastepOutput(path = f'{path_pbe}{seed}{cut}/{seed}_{cut}.castep')\n",
    "    temp_sol = CastepOutput(path= f'{path_sol}/{seed}_{cut:.2f}.castep')\n",
    "    #tot_energies['pbe'].append(temp_pbe.ks_total_energy)\n",
    "    tot_energies['pbesol'].append(temp_sol.ks_total_energy)\n",
    "\n",
    "for i in range(0,len(cutoffs)-1):\n",
    "    #differences['pbe'].append(abs(tot_energies['pbe'][i]-tot_energies['pbe'][i-1]))\n",
    "    differences['pbesol'].append(abs(tot_energies['pbesol'][i]-tot_energies['pbesol'][-1]))\n",
    "\n",
    "#print('Differences:', differences)\n",
    "#print('Total Energies:', tot_energies)\n",
    "#plt.rcParams['text.usetex'] = True\n",
    "sns.set_theme(style=\"darkgrid\")\n",
    "# Plot the responses for different events and regions\n",
    "print(len(differences['pbesol']))\n",
    "print(len(cutoffs))\n",
    "#graph = sns.lineplot(x=cutoffs[:-1], y=differences['pbe'])\n",
    "graph = sns.lineplot(x=cutoffs[:-1], y=differences['pbesol'])\n",
    "graph.axhline(0.01285, ls = '--', c = 'red')\n",
    "graph.set(xlabel = 'energy cutoff [eV]', ylabel = r'$\\Delta E_{tot}$', title = 'Energy Cutoff Convergence')\n",
    "#graph.set(xlim = (390,610), ylim =  (-0.01,0.5))\n",
    "#plt.legend(labels=[r'PBE','PBEsol',r'$\\frac{1}{2}kT$'])\n",
    "#plt.savefig('./structures/plots/convergence_comparison_cutoff_zoom.png')"
   ]
  },
  {
   "cell_type": "code",
   "execution_count": null,
   "id": "ac21f811",
   "metadata": {},
   "outputs": [],
   "source": [
    "subprocess.call('qstat', shell=True)"
   ]
  },
  {
   "cell_type": "code",
   "execution_count": null,
   "id": "32178083",
   "metadata": {},
   "outputs": [],
   "source": [
    "paths = {\n",
    "    'std_new' : './structures/Ag100_pseudo/Ag100_new19_cut_6-8h',\n",
    "    'fine_new' : './structures/Ag100_pseudo/Ag100_new19_cut_6-8h_fine',\n",
    "    'precise_new' :  './structures/Ag100_pseudo/Ag100_new19_cut_6-8h_precise',\n",
    "    'std_old' : './structures/Ag100_pseudo/Ag100_old19_cut_6-8h',\n",
    "    'fine_old' : './structures/Ag100_pseudo/Ag100_old19_cut_6-8h_fine',\n",
    "    'precise_old' :  './structures/Ag100_pseudo/Ag100_old19_cut_6-8h_precise',\n",
    "}\n",
    "cutoff_energies = range(600,855,5)\n",
    "energies = {'std_old':[],'fine_old':[],'precise_old':[],'std_new':[],'fine_new':[],'precise_new':[]}\n",
    "cutoffs = {'std_old':[],'fine_old':[],'precise_old':[],'std_new':[],'fine_new':[],'precise_new':[]}\n",
    "for key in paths.keys():\n",
    "    listOfFiles = os.listdir(paths[key])\n",
    "    for file in listOfFiles:\n",
    "        if '.castep' in file:\n",
    "            temp_output = CastepOutput(path = paths[key]+'/'+file)\n",
    "            energies[key].append(temp_output.ks_total_energy)\n",
    "            cutoffs[key].append(temp_output.basis_set_cutoff)\n",
    "sns.set_theme(style=\"darkgrid\", font_scale=1.7)\n",
    "fig, axes = plt.subplots(1, 2, figsize=(25, 10),dpi=200)\n",
    "axes[0].set(title='Old 19e PseudoPotential\\nAg 3|1.6|14|16|18|40U:50:41:42(qc=7)\\n(CASTEP 16.1 OTFG)',xlabel='Cutoff Energy [eV]',ylabel='Total Energy [eV]')\n",
    "axes[1].set(title='New 19e PseudoPotential\\nAg 3|1.5|1.5|0.8|15|17|19|40U:50:41:42(qc=7)\\n(CASTEP 18.1 OTFG)',xlabel='Cutoff Energy [eV]',ylabel='Total Energy [eV]')\n",
    "# Plot the responses for different events and regions\n",
    "#graph = sns.lineplot(x=cutoff_energies, y=energies['std_old'],label='Old Pot. - std grid')\n",
    "graph = sns.lineplot(ax=axes[0],x=cutoffs['std_old'], y=energies['std_old'],label='standard grid (f=1.75)')\n",
    "graph = sns.lineplot(ax=axes[0],x=cutoffs['fine_old'], y=energies['fine_old'],label='fine grid (f=2.0)')\n",
    "graph = sns.lineplot(ax=axes[0],x=cutoffs['precise_old'], y=energies['precise_old'],label='precise grid (f=2.3)')\n",
    "graph = sns.lineplot(ax=axes[1],x=cutoffs['std_new'], y=energies['std_new'],label='standard grid (f=1.75)')\n",
    "graph = sns.lineplot(ax=axes[1],x=cutoffs['fine_new'], y=energies['fine_new'],label='fine grid (f=2.0)')\n",
    "graph = sns.lineplot(ax=axes[1],x=cutoffs['precise_new'], y=energies['precise_new'],label='precise grid (f=2.3)')\n",
    "axes[0].axvline(x=784,label='PP cutoff extreme',ls='--',c = 'r')\n",
    "axes[1].axvline(x=827,label='PP cutoff extreme',ls='--',c = 'r')\n",
    "axes[0].legend()\n",
    "axes[1].legend()\n",
    "plt.tight_layout()\n",
    "plt.savefig('./structures/plots/Ag100_pseudopotentials_cutoff_comparison.png',dpi =200)\n",
    "print(energies)"
   ]
  },
  {
   "attachments": {},
   "cell_type": "markdown",
   "id": "c0d22dd2",
   "metadata": {},
   "source": [
    "### Convergence Plotting MgO"
   ]
  },
  {
   "cell_type": "code",
   "execution_count": 42,
   "id": "69892fd5",
   "metadata": {},
   "outputs": [
    {
     "name": "stderr",
     "output_type": "stream",
     "text": [
      "C:\\Users\\fcm19\\AppData\\Local\\Temp\\ipykernel_7712\\2704453975.py:18: UserWarning: This figure includes Axes that are not compatible with tight_layout, so results might be incorrect.\n",
      "  plt.tight_layout()\n"
     ]
    },
    {
     "data": {
      "image/png": "[encoded data removed]",
      "text/plain": [
       "<Figure size 640x480 with 2 Axes>"
      ]
     },
     "metadata": {},
     "output_type": "display_data"
    }
   ],
   "source": [
    "from mpl_toolkits.axes_grid1.inset_locator import inset_axes\n",
    "path = './structures/MgO_bulk_eos/cutoff_conv_castep_files'\n",
    "data = []\n",
    "listOfFiles = os.listdir(path)\n",
    "for file in listOfFiles:\n",
    "    if '.castep' in file:\n",
    "        temp_output = CastepOutput(path = path+'/'+file)\n",
    "        data.append([temp_output.ks_total_energy,temp_output.basis_set_cutoff])\n",
    "df_data = pd.DataFrame(data,columns=['Total_Energy','Cutoff'])\n",
    "df_data['dE'] = abs(df_data['Total_Energy'] - df_data['Total_Energy'].shift(1))\n",
    "sns.set_theme()\n",
    "ax = sns.lineplot(df_data,x='Cutoff',y='dE')\n",
    "ax.set(xlabel='cutoff [eV]',ylabel=r'$\\Delta E$ [eV]')\n",
    "axins = inset_axes(ax,  \"50%\", \"40%\" ,loc=\"upper right\",borderpad=2)\n",
    "axins.set(ylim=(-0.01,0.1),xlim=(600,850),xlabel='cutoff [eV]',ylabel=r'$\\Delta E$ [eV]')\n",
    "sns.lineplot(df_data,x='Cutoff',y='dE')\n",
    "ax.set_title('Basis set cutoff convergence for bulk MgO')\n",
    "plt.tight_layout()\n",
    "plt.savefig('./structures/MgO_bulk_eos/Convergence_MgO_bulk.png',dpi=200)"
   ]
  },
  {
   "attachments": {},
   "cell_type": "markdown",
   "id": "68ab295c",
   "metadata": {},
   "source": [
    "### Cutoff Convergence for Ag100 with different USPPs"
   ]
  },
  {
   "cell_type": "code",
   "execution_count": null,
   "id": "64657559",
   "metadata": {},
   "outputs": [],
   "source": [
    "paths = {\n",
    "    'std_new' : './structures/Ag100_pseudo/Ag100_new19_cut_6-8h',\n",
    "    'fine_new' : './structures/Ag100_pseudo/Ag100_new19_cut_6-8h_fine',\n",
    "    'precise_new' :  './structures/Ag100_pseudo/Ag100_new19_cut_6-8h_precise',\n",
    "    'ultra_new' : './structures/Ag100_pseudo/Ag100_new19_cut_6-8h_ultra',\n",
    "    'std_old' : './structures/Ag100_pseudo/Ag100_old19_cut_6-8h',\n",
    "    'fine_old' : './structures/Ag100_pseudo/Ag100_old19_cut_6-8h_fine',\n",
    "    'precise_old' :  './structures/Ag100_pseudo/Ag100_old19_cut_6-8h_precise',\n",
    "}\n",
    "cutoff_energies = range(600,855,5)\n",
    "energies = {'std_old':[],'fine_old':[],'precise_old':[],'std_new':[],'fine_new':[],'precise_new':[],'ultra_new':[]}\n",
    "cutoffs = {'std_old':[],'fine_old':[],'precise_old':[],'std_new':[],'fine_new':[],'precise_new':[],'ultra_new':[]}\n",
    "for key in paths.keys():\n",
    "    listOfFiles = os.listdir(paths[key])\n",
    "    for file in listOfFiles:\n",
    "        if '.castep' in file:\n",
    "            temp_output = CastepOutput(path = paths[key]+'/'+file)\n",
    "            energies[key].append(temp_output.ks_total_energy)\n",
    "            cutoffs[key].append(temp_output.basis_set_cutoff)\n",
    "sns.set_theme(style=\"darkgrid\", font_scale=1.7)\n",
    "fig, axes = plt.subplots(1, 1, figsize=(15, 10),dpi=200)\n",
    "#axes[0].set(title='Old 19e PseudoPotential\\nAg 3|1.6|14|16|18|40U:50:41:42(qc=7)\\n(CASTEP 16.1 OTFG)',xlabel='Cutoff Energy [eV]',ylabel='Total Energy [eV]')\n",
    "axes.set(title='New 19e PseudoPotential\\nAg 3|1.5|1.5|0.8|15|17|19|40U:50:41:42(qc=7)\\n(CASTEP 18.1 OTFG)',xlabel='Cutoff Energy [eV]',ylabel='Total Energy [eV]')\n",
    "# Plot the responses for different events and regions\n",
    "#graph = sns.lineplot(x=cutoff_energies, y=energies['std_old'],label='Old Pot. - std grid')\n",
    "# graph = sns.lineplot(ax=axes[0],x=cutoffs['std_old'], y=energies['std_old'],label='standard grid (f=1.75)')\n",
    "# graph = sns.lineplot(ax=axes[0],x=cutoffs['fine_old'], y=energies['fine_old'],label='fine grid (f=2.0)')\n",
    "# graph = sns.lineplot(ax=axes[0],x=cutoffs['precise_old'], y=energies['precise_old'],label='precise grid (f=2.3)')\n",
    "#graph = sns.lineplot(ax=axes[1],x=cutoffs['std_new'], y=energies['std_new'],label='standard grid (f=1.75)')\n",
    "#graph = sns.lineplot(ax=axes[1],x=cutoffs['fine_new'], y=energies['fine_new'],label='fine grid (f=2.0)')\n",
    "graph = sns.lineplot(x=cutoffs['precise_new'], y=energies['precise_new'],label='precise grid (f=2.3)')\n",
    "graph = sns.lineplot(x=cutoffs['ultra_new'], y=energies['ultra_new'],label='more precise grid (f=2.6)')\n",
    "#axes[0].axvline(x=784,label='PP cutoff extreme',ls='--',c = 'r')\n",
    "axes.axvline(x=827,label='PP cutoff extreme',ls='--',c = 'r')\n",
    "axes.legend()\n",
    "#axes[1].legend()\n",
    "plt.tight_layout()\n",
    "plt.savefig('./structures/plots/Ag100_cutoff_comp_precise.png',dpi =200)\n",
    "#print(energies)"
   ]
  },
  {
   "attachments": {},
   "cell_type": "markdown",
   "id": "932a8aab",
   "metadata": {},
   "source": [
    "### Castep 18.1 OTFG PP Cutoff Convergence for Ag100"
   ]
  },
  {
   "cell_type": "code",
   "execution_count": null,
   "id": "e39d8a24",
   "metadata": {},
   "outputs": [],
   "source": [
    "sns.set_theme(style=\"darkgrid\", font_scale=1.2)\n",
    "energies,cutoffs = [],[]\n",
    "path = './structures/Ag_convergence/'\n",
    "listOfFiles = os.listdir(path)\n",
    "for file in listOfFiles:\n",
    "    if '.castep' in file:\n",
    "        temp_output = CastepOutput(path = path+file)\n",
    "        energies.append(temp_output.ks_total_energy)\n",
    "        cutoffs.append(temp_output.basis_set_cutoff)\n",
    "fig, axes = plt.subplots(1, 1, figsize=(10, 5),dpi =200)\n",
    "graph = sns.scatterplot(x=cutoffs, y=energies,label='standard grid (f=1.75)')\n",
    "graph.set(title='New 19e PseudoPotential\\n3|1.5|1.5|0.8|15|17|19|40U:50:41:42(qc=7)\\n(CASTEP 18.1 OTFG)',xlabel='Cutoff Energy [eV]')#,xlim = [500,850])\n",
    "axes.axvline(x=827,label='cutoff extreme',ls='--',c = 'r')\n",
    "axes.legend()\n"
   ]
  },
  {
   "attachments": {},
   "cell_type": "markdown",
   "id": "e06a3a4e",
   "metadata": {},
   "source": [
    "### Cutoff Convergence for bulk Cu"
   ]
  },
  {
   "cell_type": "code",
   "execution_count": null,
   "id": "689c5bf9",
   "metadata": {},
   "outputs": [],
   "source": [
    "seed = 'Cu_bulk_'\n",
    "path_pbe = './structures/Cu_bulk_convergence/k_points/'\n",
    "path_sol = './structures/Cu_bulk_convergence/k_points/PBEsol/'\n",
    "cutoffs = [2,4,6,8,9,10,12,14,16,18]\n",
    "tot_energies, differences = {'pbe' : [],'pbesol' : []},{'pbe' : [],'pbesol' : []}\n",
    "for cut in cutoffs:\n",
    "    temp_pbe = CastepOutput(path = f'{path_pbe}{seed}{cut}/{seed}{cut}.castep')\n",
    "    temp_sol = CastepOutput(path= f'{path_sol}{seed}{cut}/{seed}{cut}.castep')\n",
    "    tot_energies['pbe'].append(temp_pbe.ks_total_energy)\n",
    "    tot_energies['pbesol'].append(temp_sol.ks_total_energy)\n",
    "\n",
    "for i in range(1,len(cutoffs)):\n",
    "    differences['pbe'].append(abs(tot_energies['pbe'][i]-tot_energies['pbe'][i-1]))\n",
    "    differences['pbesol'].append(abs(tot_energies['pbesol'][i]-tot_energies['pbesol'][i-1]))\n",
    "\n",
    "#print('Differences:', differences)\n",
    "#print('Total Energies:', tot_energies)\n",
    "#plt.rcParams['text.usetex'] = True\n",
    "sns.set_theme(style=\"darkgrid\")\n",
    "# Plot the responses for different events and regions\n",
    "print(differences)\n",
    "graph = sns.lineplot(x=cutoffs[1:], y=differences['pbe'])\n",
    "graph = sns.lineplot(x=cutoffs[1:], y=differences['pbesol'],alpha = 0.5)\n",
    "graph.axhline(0.01285, ls = '--', c = 'red')\n",
    "graph.set(xlabel = 'k-point grid #x#x#', ylabel = r'$\\Delta E_{tot}$', title = 'K-Point Grid Convergence')\n",
    "graph.set(xlim = (5.9,18), ylim =  (-0.01,0.1))\n",
    "plt.legend(labels=[r'PBE','PBEsol',r'$\\frac{1}{2}kT$'])\n",
    "plt.savefig('./structures/plots/comparison_kpoints_zoom.png',dpi = 250)"
   ]
  },
  {
   "attachments": {},
   "cell_type": "markdown",
   "id": "e9b080f2",
   "metadata": {},
   "source": [
    "### Create scaled volume inputs, read the output files and create murnaghan plot"
   ]
  },
  {
   "cell_type": "code",
   "execution_count": null,
   "id": "12ddbc26",
   "metadata": {},
   "outputs": [],
   "source": [
    "bulk = Structure.from_file(filename=\"./structures/data_files/materials/Ag_primitive.cif\")\n",
    "create_murnaghan_inputs(seed = 'Ag_bulk_eos', structure=bulk, cutoff = 750, kpoints=[16,16,16], min_max=(0.9,1.1,10))"
   ]
  },
  {
   "cell_type": "code",
   "execution_count": null,
   "id": "55940fe6",
   "metadata": {},
   "outputs": [],
   "source": [
    "bulk = Structure.from_file(filename=\"Cu_metal_fcc.cif\")\n",
    "seed = 'Cu_bulk_murn_ext'\n",
    "murn, minimal_struct, energies,volumes = read_murnaghan_outputs(seed = seed, structure = bulk,path = f'./structures/EOS_tests/PBEsol/{seed}/')\n",
    "fig= murn.plot()\n",
    "plt.style.use('seaborn-darkgrid')\n",
    "plt.savefig(f'./structures/plots/{seed}_pbesol.png',dpi = 300)"
   ]
  },
  {
   "cell_type": "code",
   "execution_count": null,
   "id": "21cda288",
   "metadata": {},
   "outputs": [],
   "source": [
    "from pymatgen.analysis.eos import EOS\n",
    "volumes = [4.0217**3,4.0323**3,4.04291**3,4.0535**3,4.0641**3,4.0747**3,4.0852**3,4.0958**3,4.1064**3,4.1170**3,4.1276**3,4.1382**3,4.1487**3,4.1593**3,4.1699**3,4.1805**3,4.1911**3,4.2017**3,4.2123**3,4.2228**3,4.2334**3]\n",
    "energies = [-5166.735408,-5166.771831,-5166.804691,-5166.833949,-5166.859863,-5166.88241,-5166.901863,-5166.918194,-5166.931514,-5166.942021,-5166.949902,-5166.95521,-5166.958079,-5166.958385,-5166.956323,-5166.952268,-5166.94582,-5166.93757,-5166.927327,-5166.915218,-5166.901135]\n",
    "eos = EOS(eos_name='murnaghan')\n",
    "fit = eos.fit(volumes, energies)\n",
    "fit.plot()"
   ]
  },
  {
   "cell_type": "code",
   "execution_count": null,
   "id": "b53943fd",
   "metadata": {},
   "outputs": [],
   "source": [
    "print(fit.results['v0'])"
   ]
  },
  {
   "cell_type": "code",
   "execution_count": null,
   "id": "8ff5ef2d",
   "metadata": {},
   "outputs": [],
   "source": [
    "ag_bulk = AseAtomsAdaptor.get_structure(read('./structures/input.txt',format='espresso-in'))\n",
    "ag_bulk.scale_lattice(fit.results['v0'])\n",
    "print(ag_bulk)"
   ]
  },
  {
   "attachments": {},
   "cell_type": "markdown",
   "id": "a78ea3f4",
   "metadata": {},
   "source": [
    "### Read the Results for Kpoint grid convergence and plot as graph"
   ]
  },
  {
   "cell_type": "markdown",
   "id": "4484eea9",
   "metadata": {},
   "source": [
    "ToDo: Modify the Kpoint convergence generation function to make a single input and then vary the values within the PBS script"
   ]
  },
  {
   "cell_type": "code",
   "execution_count": null,
   "id": "5e91b0c6",
   "metadata": {
    "scrolled": true
   },
   "outputs": [],
   "source": [
    "seeds = ['Cu_bulk_2','Cu_bulk_4','Cu_bulk_6','Cu_bulk_8','Cu_bulk_9','Cu_bulk_10','Cu_bulk_12','Cu_bulk_14','Cu_bulk_16','Cu_bulk_18']\n",
    "tot_energies = []\n",
    "differences = []\n",
    "kpoints = [4,6,8,9,10,12,14,16,18]\n",
    "kpoints2 = kpoints[1:]\n",
    "for seed in seeds:\n",
    "    temp_out = CastepOutput(path = f'./structures/kpt_convergence/{seed}.castep')\n",
    "    tot_energies.append(temp_out.ks_total_energy)\n",
    "for i in range(len(tot_energies)):\n",
    "    if i == 0:\n",
    "        pass\n",
    "    if i == len(tot_energies)-1:\n",
    "        break\n",
    "    differences.append(abs(tot_energies[i+1]-tot_energies[i]))\n",
    "sns.set_theme(style=\"darkgrid\")\n",
    "differences_2 = differences[1:]\n",
    "#print(differences_2)\n",
    "# Plot the responses for different events and regions\n",
    "graph = sns.lineplot(x=kpoints2, y=differences_2)\n",
    "graph.axhline(0.01285, ls = '--', c = 'red')\n",
    "graph.set(xlabel = 'MP k-point grid size (x,x,x)', ylabel = r'$\\Delta E_{tot}$ [eV]', title = 'K-point Grid Convergence')\n",
    "plt.legend(labels=[r'$\\Delta$ E',r'$\\frac{1}{2}kT$'])\n",
    "#plt.savefig('./structures/plots/k_point_convergence_zoom.png',dpi = 300)"
   ]
  },
  {
   "cell_type": "code",
   "execution_count": null,
   "id": "5beeef14",
   "metadata": {},
   "outputs": [],
   "source": [
    "atoms = [8,10,12,14,15,16]\n",
    "\n",
    "bulk_energy = -1676.5954\n",
    "cell_100 = read_cell2pmg('./structures/layer_convergence/100/Cu100_geom.cell')\n",
    "cell_110 = read_cell2pmg('./structures/layer_convergence/110/Cu110_geom.cell')\n",
    "cell_111 = read_cell2pmg('./structures/layer_convergence/111/Cu111_geom.cell')\n",
    "\n",
    "total_energies_100 = [-13411.42595553,-16764.64359063,-20117.86115268,-23471.07926522,-25147.68758931,-26824.29928175]\n",
    "total_energies_110 = [-13410.69670576,-16763.92313970,-20117.14478342,-23470.36493049,-25146.96980282,-26823.58389667]\n",
    "total_energies_111 = [-13411.73832259,-16764.95286620,-20118.17369990,-23471.39220467,-25147.99980183,-26824.61125253]\n",
    "\n",
    "data = {\n",
    "    100: [total_energies_100[i]/atoms[i] for i in range(len(atoms))],\n",
    "    110: [total_energies_110[i]/atoms[i] for i in range(len(atoms))],\n",
    "    111: [total_energies_111[i]/atoms[i] for i in range(len(atoms))]\n",
    "}\n",
    "diff = {\n",
    "    100:[data[100][i-1]-data[100][i] for i in range(1,len(atoms))],\n",
    "    110:[data[110][i-1]-data[110][i] for i in range(1,len(atoms))],\n",
    "    111:[data[111][i-1]-data[111][i] for i in range(1,len(atoms))],\n",
    "}\n",
    "\n",
    "surf_energies = {\n",
    "    100: [calc_surface_energy(bulk_energy, total_energies_100[i],atoms[i], cell_100.lattice.volume/cell_100.lattice.c) for i in range(len(atoms))],\n",
    "    110: [calc_surface_energy(bulk_energy, total_energies_110[i],atoms[i], cell_110.lattice.volume/cell_110.lattice.c) for i in range(len(atoms))],\n",
    "    111: [calc_surface_energy(bulk_energy, total_energies_111[i],atoms[i], cell_111.lattice.volume/cell_111.lattice.c) for i in range(len(atoms))],\n",
    "}\n",
    "\n",
    "diff_surf = {\n",
    "    100:[surf_energies[100][i]-surf_energies[100][i-1] for i in range(1,len(atoms))],\n",
    "    110:[surf_energies[110][i]-surf_energies[110][i-1] for i in range(1,len(atoms))],\n",
    "    111:[surf_energies[111][i]-surf_energies[111][i-1] for i in range(1,len(atoms))],\n",
    "}\n",
    "surface = 111\n",
    "\n",
    "print([surf_energies[surface][i]*16.02176565 for i in range(len(atoms))])\n",
    "\n",
    "fig,ax = plt.subplots(1,1)\n",
    "ax.plot(atoms[1:], diff[surface])\n",
    "ax.set(xlabel='# of slab layers', ylabel = r'$\\Delta$ total energy per atom [eV]', title = f'Convergence test for Cu({surface}) surface')\n",
    "#ax.plot(atoms, data[surface])\n",
    "#ax.set(xlabel='# of slab layers', ylabel = 'total energy per atom [eV]', title = f'Convergence test for Cu({surface})')\n",
    "#ax.plot(atoms,surf_energies[surface])\n",
    "#ax.set(xlabel='# of slab layers', ylabel = 'surface energy [eV]', title = f'Convergence test for Cu({surface})')\n",
    "#ax.plot(atoms[1:],diff_surf[surface])\n",
    "#ax.set(xlabel='# of slab layers', ylabel = r'$\\Delta$ surface energy [eV]', title = f'Convergence test for Cu({surface})')\n",
    "plt.tight_layout()\n",
    "#plt.savefig()"
   ]
  },
  {
   "cell_type": "code",
   "execution_count": null,
   "id": "692bfe25",
   "metadata": {},
   "outputs": [],
   "source": [
    "plt.style.use('seaborn-darkgrid')\n",
    "fig,ax = plt.subplots(1,2, figsize = [12,5])\n",
    "ax[0].set(xlabel='# of slab layers', ylabel = 'Total Energy [eV]')\n",
    "ax[1].set(xlabel='# of slab layers', ylabel = r'$\\Delta$ total energy per atom [eV]')\n",
    "for item in diff:\n",
    "    ax[0].plot(atoms, data[item], label = f'Cu({item})')\n",
    "    ax[1].plot(atoms[1:], diff[item], label = f'Cu({item})')\n",
    "ax[1].plot(atoms[1:], [0.01 for x in range(len(atoms)-1)], ls = '--', lw = 1)\n",
    "plt.suptitle('Convergence test for Cu surfaces')\n",
    "ax[1].legend()\n",
    "ax[0].legend()\n",
    "plt.tight_layout()\n",
    "plt.savefig('./structures/plots/Cu_surfaces_layer_convergence_comp.png',dpi = 500)"
   ]
  },
  {
   "attachments": {},
   "cell_type": "markdown",
   "id": "ad8a4024",
   "metadata": {},
   "source": [
    "### Read in the geometry optimisation trajectory file"
   ]
  },
  {
   "cell_type": "code",
   "execution_count": null,
   "id": "aa876a60",
   "metadata": {},
   "outputs": [],
   "source": [
    "from pymatgen.core.lattice import Lattice\n",
    "from pymatgen.core.structure import Structure\n",
    "\n",
    "data = read_geometry_traj_file(path = './structures/')"
   ]
  },
  {
   "attachments": {},
   "cell_type": "markdown",
   "id": "6a7b1b41",
   "metadata": {},
   "source": [
    "### Plot the electronic densities and potential"
   ]
  },
  {
   "cell_type": "code",
   "execution_count": null,
   "id": "3cdc7c79",
   "metadata": {},
   "outputs": [],
   "source": [
    "fig,ax = create_density_plot(directory = './structures/Ag100_victor/', centered = False)\n",
    "plt.tight_layout()\n",
    "#plt.savefig('./structures/plots/Cu110_victor_60A_density_plot.png')"
   ]
  },
  {
   "cell_type": "code",
   "execution_count": null,
   "id": "26884903",
   "metadata": {},
   "outputs": [],
   "source": [
    "fig,ax = create_potential_plot(directory='./structures/Ag100_victor/', centered = False)\n",
    "plt.tight_layout()\n",
    "#plt.savefig(f'./structures/plots/Cu110_pbesol_14L_50A_potential_plot.png')"
   ]
  },
  {
   "cell_type": "code",
   "execution_count": null,
   "metadata": {},
   "outputs": [],
   "source": [
    "fig,ax = create_potential_plot(directory='./structures/Ag100_felix_nc/', centered = False,bounds=[5,12])\n",
    "plt.tight_layout()"
   ]
  },
  {
   "attachments": {},
   "cell_type": "markdown",
   "metadata": {},
   "source": [
    "### Create Plot with modified pymatgen functions to create more colourful bandstructure plot"
   ]
  },
  {
   "cell_type": "code",
   "execution_count": null,
   "metadata": {},
   "outputs": [],
   "source": [
    "%matplotlib inline\n",
    "bandstructure_cu = read_bands2pmg(path='./structures/GaAs_bulk/GaAs_bulk_pbesol/', export=False)\n",
    "#print(bandstructure_cu.distance)\n",
    "output = []\n",
    "for kpt in bandstructure_cu.kpoints:\n",
    "    output.append((kpt.label,kpt.cart_coords))\n",
    "plot = get_bs_plot(bandstructure_cu,ylim = (-5,5),size=[10,10])\n",
    "#print(bandstructure_cu.as_dict()[''])\n",
    "#plt.savefig('./structures/plots/Cu100_60_rerun_bandstruct_-3_1.png',dpi=200)"
   ]
  },
  {
   "attachments": {},
   "cell_type": "markdown",
   "metadata": {},
   "source": [
    "### Plot reference Cu Bandstructure from Materials Project "
   ]
  },
  {
   "cell_type": "code",
   "execution_count": null,
   "metadata": {},
   "outputs": [],
   "source": [
    "with open('./structures/jsons/bands/Cu_bandstruct_ref.json', 'r') as f:\n",
    "    d = json.load(f)\n",
    "    bandstruct_new = BandStructureSymmLine.from_dict(d)\n",
    "\n",
    "plotter = BSPlotter(bandstruct_new)\n",
    "#print(bandstruct_new.as_dict()['branches'])\n",
    "#print(bandstruct_new.get_branch(320))\n",
    "band_plot = plotter.get_plot(ylim=(-5,9))\n",
    "band_plot.show()"
   ]
  },
  {
   "cell_type": "code",
   "execution_count": null,
   "metadata": {},
   "outputs": [],
   "source": [
    "with open('./structures/jsons/bands/Cu_bandstruct_PBEsol.json', 'r') as f:\n",
    "    d = json.load(f)\n",
    "    full = BandStructureSymmLine.from_dict(d)\n",
    "full.efermi = 5.2\n",
    "plotter = BSPlotter(full)\n",
    "plotter.add_bs(bandstruct_new)\n",
    "plotter.get_plot(ylim=[-11,25], bs_labels = ['PBEsol claculated', 'Materials Project reference'])\n",
    "plt.savefig('./structures/plots/Cu_bulk_pbesol_bandstruct_comp_mp_ref.png', dpi = 300)\n"
   ]
  },
  {
   "cell_type": "code",
   "execution_count": null,
   "metadata": {},
   "outputs": [],
   "source": [
    "with open('./structures/jsons/bands/Cu_bandstruct_all_points.json', 'r') as f:\n",
    "    d = json.load(f)\n",
    "    full_pbe = BandStructureSymmLine.from_dict(d)\n",
    "full_pbe.efermi = 5.0\n",
    "plotter = BSPlotter(full_pbe)\n",
    "plotter.add_bs(bandstruct_new)\n",
    "plotter.get_plot(ylim=[-11,25], bs_labels = ['PBE claculated', 'Materials Project reference'])\n",
    "plt.savefig('./structures/plots/Cu_bulk_pbe_bandstruct_comp_mp_ref.png', dpi = 300)"
   ]
  },
  {
   "cell_type": "code",
   "execution_count": null,
   "id": "6c979a8c",
   "metadata": {},
   "outputs": [],
   "source": [
    "bandstructure_ag = read_bands2pmg(path='./structures/Ag100_fine_grid', export=False)\n",
    "bandstructure_ag_relax = read_bands2pmg(path='./structures/Ag100_fine_grid_relax', export=False)\n",
    "plotter = BSPlotter(bandstructure_ag)\n",
    "plotter.add_bs(bandstructure_ag_relax)\n",
    "plotter.get_plot(ylim=[-8,10],bs_labels = ['unrelaxed', 'relaxed'])\n",
    "plt.savefig('./structures/plots/Ag100_fine_bandstruct.png',dpi=200)"
   ]
  },
  {
   "cell_type": "code",
   "execution_count": null,
   "id": "b1eb8727",
   "metadata": {},
   "outputs": [],
   "source": [
    "bs_cu100 = read_bands2pmg(path='./structures/Cu100_60_rerun', export=False)\n",
    "plotter = BSPlotter(bs_cu100)\n",
    "plotter.get_plot(ylim=[-10,10],bs_labels = ['unrelaxed', 'relaxed'])\n",
    "plt.savefig('./structures/plots/Cu100_rerun_bandstruct.png',dpi=200)"
   ]
  },
  {
   "attachments": {},
   "cell_type": "markdown",
   "metadata": {},
   "source": [
    "### Plot bandstructure from castep .bands file using ASE functions"
   ]
  },
  {
   "cell_type": "code",
   "execution_count": null,
   "metadata": {
    "scrolled": false
   },
   "outputs": [],
   "source": [
    "#bandfile = create_bands_file(calc_struct = AseAtomsAdaptor().get_atoms(Structure.from_file(filename=\"Fe_metal_bcc.cif\")),seed = 'Fe')\n",
    "seed = 'Ag100_felix'\n",
    "#calc_struct = AseAtomsAdaptor().get_atoms(Structure.from_file(filename=\"Cu_metal_fcc.cif\"))\n",
    "calc_struct = AseAtomsAdaptor().get_atoms(read_cell2pmg(f'./structures/{seed}/{seed}_geometry.cell'))\n",
    "calc = ase.calculators.castep.Castep(check_castep_version = False,keyword_tolerance=3)\n",
    "calc_struct.calc = calc\n",
    "bandstructure = calc_struct.calc.band_structure(bandfile=f'./structures/{seed}/{seed}.bands').subtract_reference()\n",
    "#print(bandstructure.get_labels())\n",
    "plt.style.use('seaborn')\n",
    "#ax.ylimit(-12,35)\n",
    "bandstructure.plot(emin=-10, emax=10)"
   ]
  },
  {
   "attachments": {},
   "cell_type": "markdown",
   "metadata": {},
   "source": [
    "### Create Parameter Sweep for OptaDOS"
   ]
  },
  {
   "cell_type": "code",
   "execution_count": null,
   "metadata": {},
   "outputs": [],
   "source": [
    "photoemission_options= {\n",
    "        'work_function' : 4.3731,\n",
    "        'surface_area' : 6.55677,\n",
    "        'slab_volume' : 198.13882,\n",
    "        'elec_field' : 0,\n",
    "        'optics_qdir' : [1, 1.000, 1.0000],\n",
    "        'photo_model' : ['1step','3step'] # 1step or 3step or 1step,3step\n",
    "}\n",
    "optados_photon_energy_sweep(seed='Cu_surf_110', min_max = (4,5.5,20), **photoemission_options)"
   ]
  },
  {
   "cell_type": "code",
   "execution_count": null,
   "metadata": {},
   "outputs": [],
   "source": [
    "one = [1,2,3,4]\n",
    "print(' '.join([str(x) for x in one]))"
   ]
  },
  {
   "attachments": {},
   "cell_type": "markdown",
   "metadata": {},
   "source": [
    "### Read in the photon energy sweep output files"
   ]
  },
  {
   "cell_type": "code",
   "execution_count": null,
   "metadata": {},
   "outputs": [],
   "source": [
    "surfaces = [100,110,111]\n",
    "Cu_surf_data = {}\n",
    "surface_exp = {111 : np.array([[3.96,23.0],[4.09,35.5],[4.23,77.70],[4.38,57.80],[4.54,105.00],[4.71,156.50],[4.90,266.60],[5.14,336.00],[5.39,520.80]]),\n",
    "100 : np.array([[4.26,30.6],[4.34,35.1],[4.41,42],[4.49,62.8],[4.58,88.5],[4.66,124.3],[4.71,140.1],[4.81,153.1],[4.9,194.5],[5,257.6],[5.1,262.1],[5.25,312.7],[5.49,386.1]]),\n",
    "110 : np.array([[4.12,12.9],[4.15,17.7],[4.19,17.2],[4.26,31.9],[4.34,60.8],[4.41,92.6],[4.49,121.3],[4.54,141],[4.66,170.5],[4.71,208.4],[4.81,227.9],[4.9,263.5],[5,304.9],[5.1,286.6],[5.21,353.9],[5.3,435.3],[5.49,453.1]])}\n",
    "\n",
    "wulff_calced = {100:0.2177,110:0.0,111:0.7823}\n",
    "wulff_victor = {100:0.269,110:0.127,111:0.604}\n",
    "\n",
    "for surface in surfaces:\n",
    "    Cu_surf_data[surface] = read_photonsweep_outputs(path = f'./structures/Cu{surface}_60/')\n",
    "    Cu_surf_data[surface]['experimental'] = surface_exp[surface]\n",
    "    if len(Cu_surf_data[surface]['bloch']) == len(Cu_surf_data[surface]['free electron']):\n",
    "        Cu_surf_data[surface]['mean'] = 0.5*Cu_surf_data[surface]['bloch']+0.5*Cu_surf_data[surface]['free electron']\n",
    "\n",
    "graph_options = {\n",
    "    'title': 'Polycrystalline Cu Surface',\n",
    "    'temperature': 298,\n",
    "    'plottype' : 'picture',\n",
    "    'filename' : f'./structures/plots/Cu_polycryst_QE_MTE.png'\n",
    "}\n",
    "\n",
    "Cu_surf_weighted = {'calced':{},'victor':{}}\n",
    "\n",
    "for item in Cu_surf_weighted.keys():\n",
    "    Cu_surf_weighted[item]['photon_energy'] = Cu_surf_data[100]['mean'][:,0]\n",
    "    Cu_surf_weighted[item]['qe'] = np.zeros([len(Cu_surf_data[100]['mean'])])\n",
    "    Cu_surf_weighted[item]['mte'] = np.zeros([len(Cu_surf_data[100]['mean'])])\n",
    "    Cu_surf_weighted[item]['exp_mte'] = np.zeros([len(Cu_surf_data[100]['mean'])])\n",
    "    Cu_surf_weighted[item]['workfct'] = 0\n",
    "#print(Cu_surf_data)\n",
    "#print(Cu_surf_weighted)\n",
    "\n",
    "for surface in Cu_surf_data.keys():\n",
    "    Cu_surf_weighted['calced']['qe'] = Cu_surf_weighted['calced']['qe'] + wulff_calced[surface] * Cu_surf_data[surface]['mean'][:,1] \n",
    "    Cu_surf_weighted['calced']['mte'] = Cu_surf_weighted['calced']['mte'] + wulff_calced[surface] * Cu_surf_data[surface]['mean'][:,2]\n",
    "    Cu_surf_weighted['calced']['workfct'] = Cu_surf_weighted['calced']['workfct'] + wulff_calced[surface] * Cu_surf_data[surface]['workfct']\n",
    "\n",
    "    \n",
    "    Cu_surf_weighted['victor']['qe'] = Cu_surf_weighted['victor']['qe'] + wulff_victor[surface] * Cu_surf_data[surface]['mean'][:,1] \n",
    "    Cu_surf_weighted['victor']['mte'] = Cu_surf_weighted['victor']['mte'] + wulff_victor[surface] * Cu_surf_data[surface]['mean'][:,2]  \n",
    "    Cu_surf_weighted['victor']['workfct'] = Cu_surf_weighted['victor']['workfct'] + wulff_victor[surface] * Cu_surf_data[surface]['workfct']\n",
    "\n",
    "#print(Cu_surf_weighted)\n",
    "\n",
    "fig, ax = plt.subplots(1,2, figsize = (14,6), dpi = 300)\n",
    "plt.style.use('seaborn-darkgrid')\n",
    "ax[0].plot(Cu_surf_weighted['calced']['photon_energy'],Cu_surf_weighted['calced']['qe'],c = 'tab:blue', marker = '+',label = \"Wulff Construction from this work\" )\n",
    "ax[0].plot(Cu_surf_weighted['victor']['photon_energy'],Cu_surf_weighted['victor']['qe'], c = 'tab:orange', marker = '+',label = \"Wulff Construction by Chang\" )\n",
    "ax[1].plot(Cu_surf_weighted['calced']['photon_energy'],[x*1000 for x in Cu_surf_weighted['calced']['mte']],c = 'tab:blue', marker = '+', label =  \"Wulff Construction from this work\")\n",
    "ax[1].plot(Cu_surf_weighted['victor']['photon_energy'],[x*1000 for x in Cu_surf_weighted['victor']['mte']],c = 'tab:orange', marker = '+', label =  \"Wulff Construction by Chang\")\n",
    "ax[0].axvline(Cu_surf_weighted['calced']['workfct'], ls = '--', c = 'tab:blue', label = 'weighted workfunction')\n",
    "ax[0].axvline(Cu_surf_weighted['victor']['workfct'], ls = '--', c = 'tab:orange')\n",
    "ax[1].axvline(Cu_surf_weighted['calced']['workfct'], ls = '--', c = 'tab:blue', label = 'weighted workfunction')\n",
    "ax[1].axvline(Cu_surf_weighted['victor']['workfct'], ls = '--', c = 'tab:orange')\n",
    "ax[0].plot(4.66,1.4e-4,marker = 'o',linestyle = 'None',markerfacecolor='tab:red', markeredgecolor='tab:red', label = 'Srinivasan-Rao, et al.')\n",
    "ax[1].plot(4.824, 310,marker = 'o',linestyle = 'None' ,markerfacecolor='tab:green', markeredgecolor='tab:green', label = 'Maldonado, et al.')\n",
    "ax[0].plot(4.824, 2.8e-5,marker = 'o',linestyle = 'None' ,markerfacecolor='tab:green', markeredgecolor='tab:green', label = 'Maldonado, et al.')\n",
    "ax[0].axvline(4.55, ls = '--', c = 'tab:green')\n",
    "ax[1].axvline(4.55, ls = '--', c = 'tab:green')\n",
    "#ax[0].plot(4.66+(Cu_surf_weighted['calced']['workfct']-4.3),1.4e-4,marker = 'o',markerfacecolor='tab:red', markeredgecolor='tab:red')\n",
    "ax[0].axvline(4.3, ls = '--', c = 'tab:red')\n",
    "#ax[0].errorbar(4.66,)\n",
    "#ax[0].axvline(4.55, ls = '--', c = 'tab:yellow')\n",
    "ax[0].set(xlabel = 'photon energy [eV]', ylabel = 'Quantum Efficiency (QE)', title = f\"{graph_options['title']} Quantum Efficiency\", yscale='log', ylim = [1e-10, 1e-2])\n",
    "ax[1].set(xlabel = 'photon energy [eV]', ylabel = 'Mean Transverse Energy (MTE) [meV]', title = f\"{graph_options['title']} MTE\")\n",
    "ax[0].legend()\n",
    "ax[1].legend()\n",
    "plt.tight_layout()\n",
    "plt.savefig(graph_options['filename'],dpi = 250)"
   ]
  },
  {
   "cell_type": "code",
   "execution_count": null,
   "metadata": {},
   "outputs": [],
   "source": [
    "Cu_surf_data = {}\n",
    "workfunction = 4.547\n",
    "excess = True\n",
    "experimental_mgo = np.genfromtxt('./structures/extra_data/Cu100_MgO_MTE.csv', delimiter=',', skip_header=1)\n",
    "experimental_cu = np.genfromtxt('./structures/extra_data/Cu100_MTE.csv', delimiter=',', skip_header=1)\n",
    "\n",
    "Cu_surf_data[100] = read_photonsweep_outputs(path = f'./structures/Cu100_60_rerun/mixed_iprint/')\n",
    "Cu_surf_data[100]['mean'] = 0.5*Cu_surf_data[100]['bloch']+0.5*Cu_surf_data[100]['free electron']\n",
    "\n",
    "Cu_surf_data[101] = read_photonsweep_outputs(path = f'./structures/Cu100_60_rerun/iprint_3/')\n",
    "# Cu_surf_data[101]['mean'] = 0.5*Cu_surf_data[101]['bloch']+0.5*Cu_surf_data[101]['free electron']\n",
    "\n",
    "dos_data = read_dos_optados(path='./structures/Cu100_60_rerun/', export_json = False)\n",
    "dos_data['energy'] = dos_data['energy']\n",
    "dos_data['total'] = [number/dos_data['max'][0] for number in dos_data['total']]\n",
    "#print(len(dos_data['energy']),len(dos_data['total']))\n",
    "\n",
    "pdos_data = read_proj_dos_optados(path='./structures/Cu100_60_rerun/', export_json = False)\n",
    "#print(pdos_data.keys(),pdos_data['projections'].keys(),pdos_data['projections']['Cu1,Cu2,Cu3,Cu4,Cu5,Cu6,Cu7,Cu8,Cu9,Cu10,Cu11,Cu12,Cu13,Cu14,Cu15,Cu16'].keys(),pdos_data['spin channels'])\n",
    "#print(len(pdos_data['energies']))\n",
    "proj_label = list(pdos_data['projections'].keys())[0]\n",
    "\n",
    "pdos_energy = pdos_data['energies']\n",
    "pdos_s_data = pdos_data['projections'][proj_label]['s']\n",
    "pdos_p_data = pdos_data['projections'][proj_label]['p']\n",
    "pdos_d_data = pdos_data['projections'][proj_label]['d']\n",
    "\n",
    "pdos_s_data = [item/dos_data['max'][0] for item in pdos_s_data]\n",
    "pdos_p_data = [item/dos_data['max'][0] for item in pdos_p_data]\n",
    "pdos_d_data = [item/dos_data['max'][0] for item in pdos_d_data]\n",
    "\n",
    "\n",
    "\n",
    "graph_options = {\n",
    "    'title': 'Cu100 Surface',\n",
    "    'temperature': 298,\n",
    "    'plottype' : 'picture',\n",
    "    'filename' : './structures/plots/Cu_100_rerun_exp_comp_excess_energy.png'\n",
    "}\n",
    "if excess:\n",
    "    Cu_surf_data[100]['bloch'][:,0] = Cu_surf_data[100]['bloch'][:,0]-Cu_surf_data[100]['workfct']\n",
    "    Cu_surf_data[100]['free electron'][:,0] = Cu_surf_data[100]['free electron'][:,0]-Cu_surf_data[100]['workfct']\n",
    "    \n",
    "    Cu_surf_data[101]['bloch'][:,0] = Cu_surf_data[101]['bloch'][:,0]-Cu_surf_data[101]['workfct']\n",
    "    Cu_surf_data[101]['free electron'][:,0] = Cu_surf_data[101]['free electron'][:,0]-Cu_surf_data[101]['workfct']\n",
    "    \n",
    "    Cu_surf_data[100]['experimental_mgo'] = experimental_mgo[:,1:]\n",
    "    mgo_error = experimental_mgo[:,2]*0.1\n",
    "    Cu_surf_data[100]['experimental_mgo'] =  np.array(Cu_surf_data[100]['experimental_mgo'])\n",
    "    Cu_surf_data[100]['experimental_cu'] = experimental_cu\n",
    "    cu_error = experimental_cu[:,1]*0.1\n",
    "    xlabel = 'Excess Energy [eV]'\n",
    "    work = 0\n",
    "else:\n",
    "    xlabel = 'Photon Energy [eV]'\n",
    "    work = workfunction\n",
    "\n",
    "x_1_3 = np.linspace(0,3,25)\n",
    "\n",
    "fig, ax = plt.subplots(2,1, figsize = (10,10), dpi = 300,gridspec_kw={'height_ratios': [3,2]})\n",
    "plt.style.use('seaborn-darkgrid')\n",
    "\n",
    "\n",
    "ax[0].plot(Cu_surf_data[100]['free electron'][:,0],Cu_surf_data[100]['free electron'][:,2]*1000,label='1step',alpha = 0.4)\n",
    "ax[0].plot(Cu_surf_data[100]['bloch'][:,0],Cu_surf_data[100]['bloch'][:,2]*1000,label='3step',alpha = 0.4)\n",
    "\n",
    "ax[0].plot(Cu_surf_data[101]['free electron'][:,0],Cu_surf_data[101]['free electron'][:,2]*1000,label='1step iprint3',alpha = 0.4)\n",
    "ax[0].plot(Cu_surf_data[101]['bloch'][:,0],Cu_surf_data[101]['bloch'][:,2]*1000,label='3step iprint3',alpha = 0.4)\n",
    "\n",
    "ax[0].plot(Cu_surf_data[100]['free electron'][:,0],Cu_surf_data[100]['mean'][:,2]*1000,label='mean')\n",
    "\n",
    "ax[0].axvline(work, ls = '--', c = 'tab:blue')\n",
    "\n",
    "if excess:\n",
    "    ax[0].errorbar(Cu_surf_data[100]['experimental_mgo'][:,0],Cu_surf_data[100]['experimental_mgo'][:,1],label='Cu_MgO_exp',yerr=mgo_error,fmt='+')\n",
    "    ax[0].errorbar(Cu_surf_data[100]['experimental_cu'][:,0],Cu_surf_data[100]['experimental_cu'][:,1],fmt='+',label='Cu_exp',yerr = cu_error)\n",
    "    ax[0].plot(x_1_3,x_1_3*1000/3,ls = '--', alpha = 0.4,label = '1/3 E_excess')\n",
    "\n",
    "ax[1].axhline(0,ls = '--',alpha=0.4)\n",
    "ax[1].plot(dos_data['energy'],dos_data['total'],alpha=0.6, label = 'total DOS')\n",
    "ax[1].plot(pdos_energy,pdos_d_data,alpha=0.6,label= 'pDOS d')\n",
    "ax[1].plot(pdos_energy,pdos_s_data,alpha=0.6,label= 'pDOS s')\n",
    "ax[1].plot(pdos_energy,pdos_p_data,alpha=0.6,label= 'pDOS p')\n",
    "\n",
    "ax[0].set(xlabel = xlabel, ylabel = 'Mean Transverse Energy (MTE) [meV]', title = f\"{graph_options['title']} MTE\",xlim = [-.5,3])#, ylim=[-100,1000])\n",
    "ax[1].set(xlabel='E_band - E_Fermi [eV]', ylabel = 'normalised DOS',xlim = [0.55,-3],ylim = [-0.05,1.05])\n",
    "ax[0].legend()\n",
    "ax[1].legend()\n",
    "plt.tight_layout()\n",
    "plt.savefig('./structures/plots/Cu100_rerun_exp_comp_excess_energy_.png',dpi=200)"
   ]
  },
  {
   "attachments": {},
   "cell_type": "markdown",
   "id": "dd7da72d",
   "metadata": {},
   "source": [
    "### Plotting jDOS for Ag100 surfaces"
   ]
  },
  {
   "cell_type": "code",
   "execution_count": null,
   "metadata": {},
   "outputs": [],
   "source": [
    "def make_plot(dir,jdoss,title,label):\n",
    "    data = {}\n",
    "    filelist = os.listdir(dir)\n",
    "    for num in jdoss:\n",
    "        for file in filelist:\n",
    "            if str(round(float(num),2)) in file:\n",
    "                #print(OptaDOSOutput(path=directory+file).qe)\n",
    "                output = OptaDOSOutput(path=dir+file)\n",
    "                data[num] = {'qe':output.qe,'mte':output.mte}\n",
    "    #data.pop(5)\n",
    "    plt.style.use(style='seaborn-darkgrid')\n",
    "    fig,ax = plt.subplots(2,1,figsize=(12,8),dpi=200,sharex=True)\n",
    "    ax[0].set(title=title)\n",
    "    for key in data.keys():\n",
    "        ax[0].scatter(key,data[key]['qe'],c='y',marker='o',label = label)\n",
    "        ax[1].scatter(key,data[key]['mte']*1000,c='y',marker='o',label=label)\n",
    "        ax[0].set(ylabel='QE')\n",
    "        ax[1].set(xlabel='max_jdos_energy [eV]',ylabel='MTE [meV]')\n",
    "        #print(key)\n",
    "    return fig, ax;\n",
    "\n",
    "def add_data(dir,jdoss,title,fig,ax,label):\n",
    "    data = {}\n",
    "    filelist = os.listdir(dir)\n",
    "    for num in jdoss:\n",
    "        for file in filelist:\n",
    "            if str(round(float(num),2)) in file:\n",
    "                #print(OptaDOSOutput(path=directory+file).qe)\n",
    "                output = OptaDOSOutput(path=dir+file)\n",
    "                data[num] = {'qe':output.qe,'mte':output.mte}\n",
    "    data.pop(5)\n",
    "    ax[0].set(title=title)\n",
    "    for key in data.keys():\n",
    "        ax[0].scatter(key,data[key]['qe'],marker='x',c='tab:red',label = label)\n",
    "        ax[1].scatter(key,data[key]['mte']*1000,marker='x',c='tab:red',label = label)\n",
    "        #print(key)\n",
    "    return fig, ax;\n",
    "\n",
    "\n",
    "\n"
   ]
  },
  {
   "cell_type": "code",
   "execution_count": null,
   "id": "ca52df67",
   "metadata": {},
   "outputs": [],
   "source": [
    "directory = './od_test/jdos_spacing_0.1/iprint_1/'\n",
    "directory_2 = './od_test/jdos_spacing_0.1/iprint_3/'\n",
    "jdos = range(5,21,1)\n",
    "jdos2 = range(6,21,1)\n",
    "title = 'jdos_max_energy Dependence of QE and MTE\\njdos_spacing = 0.1 eV\\nAg100 @ 4.7eV Photon Energy, iprint level : 3\\n'\n",
    "title2 = 'jdos_max_energy Dependence of QE and MTE\\njdos_spacing = 0.1 eV\\nAg100 @ 4.7eV Photon Energy\\n'\n",
    "fig,ax = make_plot(directory,jdos,title,label = 'iprint : 1')\n",
    "fig,ax = add_data(directory_2,jdos,title=title2,fig=fig,ax=ax,label='iprint : 3')\n",
    "handles, labels = plt.gca().get_legend_handles_labels()\n",
    "by_label = dict(zip(labels, handles))\n",
    "plt.legend(by_label.values(), by_label.keys())\n",
    "plt.tight_layout()\n",
    "plt.savefig('./structures/plots/Ag100_fine_grid_jdos_point1_max_energy_dependence_comp.png')"
   ]
  },
  {
   "cell_type": "code",
   "execution_count": null,
   "metadata": {},
   "outputs": [],
   "source": [
    "\n",
    "numbers = np.linspace(4.0,5.5,20).round(5)\n",
    "print(numbers)\n",
    "numbers2 = np.linspace(5.5,7.5,27).round(5)\n",
    "print(numbers2)"
   ]
  },
  {
   "cell_type": "code",
   "execution_count": null,
   "metadata": {},
   "outputs": [],
   "source": [
    "Cu_surf_data = read_photonsweep_outputs(seed = 'Cu_surf_111', path = './structures/Cu_surf_111/')\n",
    "graph_options = {\n",
    "    'title': 'Cu[111]',\n",
    "    'temperature': 298,\n",
    "    'filename' : './structures/plots/Cu_111_pbesol_120deg_test2_mte_plot_0E.png'\n",
    "}\n",
    "#print(Cu_111_data)\n",
    "fig, ax = make_photonsweep_plots(Cu_surf_data,**graph_options)\n",
    "plt.savefig(graph_options['filename'],dpi = 250)"
   ]
  },
  {
   "cell_type": "markdown",
   "metadata": {},
   "source": [
    "### Plot DOS plot created by OptaDOS"
   ]
  },
  {
   "cell_type": "code",
   "execution_count": null,
   "metadata": {},
   "outputs": [],
   "source": [
    "seed = './structures/Cu_bulk_PBEsol_fixed/'\n",
    "fig, ax= plot_dos_optados(seed, plot_total = False, xlimit = (-12, 20), export_json = True)\n",
    "#plt.savefig(f\"./structures/plots/{seed}_dos.png\")"
   ]
  },
  {
   "cell_type": "code",
   "execution_count": null,
   "id": "8741fbee",
   "metadata": {},
   "outputs": [],
   "source": [
    "fig, ax = plot_dos_optados('./structures/Cu100_60_rerun/',plot_total = False, xlimit = (-12,15),export_json=False)\n",
    "plt.savefig('./structures/plots/Cu100_60_rerun_dos_12-22.png',dpi=200)"
   ]
  },
  {
   "cell_type": "code",
   "execution_count": null,
   "metadata": {},
   "outputs": [],
   "source": [
    "from pymatgen.electronic_structure.plotter import DosPlotter\n",
    "with open('./structures/jsons/DOS/Cu_bulk_PBEsol_linear_0.05_dos_total.json', 'r') as f:\n",
    "   d = json.load(f)\n",
    "   dos_calc = Dos.from_dict(d)\n",
    "with open('./structures/jsons/DOS/Cu_bulk_matproject_ref.json', 'r') as f:\n",
    "    d = json.load(f)\n",
    "    dos_ref = Dos.from_dict(d)\n",
    "plt.style.use('seaborn-darkgrid')\n",
    "plotter = DosPlotter()\n",
    "plotter.add_dos(\"calculated\", dos_calc)\n",
    "plotter.add_dos(\"reference\", dos_ref)\n",
    "print(dos_calc.densities)\n",
    "plotter.get_plot(xlim = (-12,20),ylim = (-0.2,max(dos_calc.densities[Spin.up])+0.5))\n",
    "plt.savefig('./structures/plots/Cu_bulk_PBEsol_linear_tot_dos_comparison_matproj.png')"
   ]
  },
  {
   "cell_type": "code",
   "execution_count": null,
   "id": "f89ec4e2",
   "metadata": {},
   "outputs": [],
   "source": []
  },
  {
   "cell_type": "markdown",
   "metadata": {},
   "source": [
    "### Plot proj DOS plot created by OptaDOS"
   ]
  },
  {
   "cell_type": "code",
   "execution_count": null,
   "metadata": {},
   "outputs": [],
   "source": [
    "#seed = 'Cu_bulk_spectral_pdos'\n",
    "path='./structures/layer_convergence/111/'\n",
    "data = read_proj_dos_optados(path = path, export_json=False)\n",
    "print(data['projections'].keys())#['Cu1,Cu1,Cu1,Cu1'])\n",
    "#print(data['spin channels'])\n",
    "atom = 'Cu7,Cu7,Cu7,Cu7'\n",
    "data['projections'] = {atom: data['projections'][atom]}\n",
    "#print(data['projections'].keys())\n",
    "density = {Spin.up : data['projections'][atom]['s']}\n",
    "energies = data['energies']\n",
    "output_dos = Dos(0, energies,density)\n",
    "seed = 'Cu111_16L_middle_layer'\n",
    "with open(f'./structures/jsons/DOS/{seed}_total.json', 'w') as f:\n",
    "    json.dump(output_dos.as_dict(), f)  \n",
    "eins,axis = plot_proj_dos_optados(data,xlimit=(1, -3))\n",
    "plt.title('Cu(111) projected DOS')\n",
    "plt.xlabel('Energy [eV]')\n",
    "plt.ylabel('pDOS [arb.u.]')\n",
    "plt.tight_layout()\n",
    "plt.savefig('./structures/plots/Cu111_50_middle_layer_-10_10.png',dpi=500)"
   ]
  },
  {
   "cell_type": "code",
   "execution_count": null,
   "metadata": {},
   "outputs": [],
   "source": [
    "path='./structures/Cu100_60_rerun/'\n",
    "data = read_proj_dos_optados(path = path, export_json=False)\n",
    "#print(data['projections'].keys())#['Cu1,Cu1,Cu1,Cu1'])\n",
    "#print(data['spin channels'])\n",
    "atom = 'Cu1,Cu2,Cu3,Cu4,Cu5,Cu6,Cu7,Cu8,Cu9,Cu10,Cu11,Cu12,Cu13,Cu14,Cu15,Cu16'\n",
    "data['projections'] = {atom: data['projections'][atom]}\n",
    "#print(data['projections'].keys())\n",
    "\n",
    "eins,axis = plot_proj_dos_optados(data,xlimit=(1, -3),figsize=[5,3])\n",
    "#plt.title('Cu(111) projected DOS')\n",
    "#plt.xlabel('Energy [eV]')\n",
    "#plt.ylabel('pDOS [arb.u.]')\n",
    "axis.set_xticks([])\n",
    "axis.set_yticks([])\n",
    "axis.legend(['s','p','d'])\n",
    "axis.axvline(0,ls = '--',linewidth = 0.5)\n",
    "plt.tight_layout()\n",
    "plt.savefig('./structures/plots/Cu100_60_rerun_pdos_-1_3.png',dpi=500)"
   ]
  },
  {
   "cell_type": "code",
   "execution_count": null,
   "metadata": {},
   "outputs": [],
   "source": [
    "from pymatgen.electronic_structure.plotter import DosPlotter\n",
    "with open('./structures/jsons/DOS/Cu111_16L_middle_layer_total.json', 'r') as f:\n",
    "   d = json.load(f)\n",
    "   dos_calc = Dos.from_dict(d)\n",
    "with open('./structures/jsons/DOS/Cu_bulk_PBEso_adaptivel_dos_total.json', 'r') as f:\n",
    "    d = json.load(f)\n",
    "    dos_ref = Dos.from_dict(d)\n",
    "plt.style.use('seaborn-darkgrid')\n",
    "plotter = DosPlotter()\n",
    "plotter.add_dos(\"Cu(111) 16L middle layer\", dos_calc)\n",
    "plotter.add_dos(\"Cu bulk\", dos_ref)\n",
    "#print(dos_calc.densities)\n",
    "plotter.get_plot(xlim = (-12,20),ylim = (-0.2,max(dos_calc.densities[Spin.up])+0.5))\n",
    "plt.savefig('./structures/plots/Cu111_PBEsol_16L_middle_comparison_matproj.png')"
   ]
  },
  {
   "cell_type": "markdown",
   "metadata": {},
   "source": [
    "### Plot joint DOS created by OptaDOS"
   ]
  },
  {
   "cell_type": "code",
   "execution_count": null,
   "metadata": {},
   "outputs": [],
   "source": [
    "data_10060 = get_joint_dos_optados('./structures/Cu_surf_100_victor_60A/')\n",
    "label_1 = 'Cu100_60A'\n",
    "data_10050 = get_joint_dos_optados('./structures/Cu110_victor_60A/')\n",
    "label_2 = 'Cu110_60A'\n",
    "data_11160 = get_joint_dos_optados('./structures/Cu_surf_111_victor_60A/')\n",
    "label_3= 'Cu111_60A'\n",
    "fig,ax = plot_joint_dos_optados(data_10060, label=label_1, xlimit =[0,6])\n",
    "fig,ax = add_jdos_line(data_10050,fig,ax,label=label_2)\n",
    "fig,ax = add_jdos_line(data_11160,fig,ax,label=label_3)\n",
    "ax.set_title('Joint DOS for Cu')\n",
    "plt.legend()\n",
    "plt.savefig('./structures/plots/Cu_jdos_comparison_6.png')"
   ]
  },
  {
   "cell_type": "code",
   "execution_count": null,
   "id": "6f7e43c5",
   "metadata": {},
   "outputs": [],
   "source": [
    "cu_100 = get_joint_dos_optados('./structures/Cu100_60_rerun/')\n",
    "fig,ax = plot_joint_dos_optados(cu_100, label='Cu100', xlimit=[0,10])\n",
    "plt.savefig('./structures/plots/Cu100_jdos.png',dpi=200)"
   ]
  },
  {
   "cell_type": "code",
   "execution_count": null,
   "metadata": {},
   "outputs": [],
   "source": [
    "data_11160 = get_joint_dos_optados('./structures/Cu_surf_111_victor_60A/')\n",
    "label_1 = 'Cu111_60A'\n",
    "data_11150 = get_joint_dos_optados('./structures/Cu_surf_111_victor_50A/')\n",
    "label_2 = 'Cu111_50A'\n",
    "fig,ax = plot_joint_dos_optados(data_11160, label=label_1, xlimit =[0,6])\n",
    "fig,ax = add_jdos_line(data_11150,fig,ax,label=label_2)\n",
    "ax.set_title('Joint DOS for Cu[111]')\n",
    "plt.legend()\n",
    "plt.savefig('./structures/plots/Cu111_jdos_comparison.png')"
   ]
  },
  {
   "cell_type": "markdown",
   "metadata": {},
   "source": [
    "## Plot DOS from json files"
   ]
  },
  {
   "cell_type": "code",
   "execution_count": null,
   "metadata": {},
   "outputs": [],
   "source": [
    "from pymatgen.electronic_structure.plotter import DosPlotter\n",
    "with open('./structures/jsons/DOS/Cu_bulk_spectral_dos_total.json', 'r') as f:\n",
    "   d = json.load(f)\n",
    "   dos_calc = Dos.from_dict(d)\n",
    "with open('./structures/jsons/DOS/Cu_bulk_matproject_ref.json', 'r') as f:\n",
    "    d = json.load(f)\n",
    "    dos_ref = Dos.from_dict(d)\n",
    "plt.style.use('seaborn-darkgrid')\n",
    "plotter = DosPlotter()\n",
    "plotter.add_dos(\"calculated\", dos_calc)\n",
    "plotter.add_dos(\"reference\", dos_ref)\n",
    "plotter.get_plot(xlim = (-12,2.5),ylim=(-0.2,9))\n",
    "plt.savefig('./structures/plots/Cu_bulk_tot_dos_comparison_dos_matproj_zoom.png')"
   ]
  },
  {
   "cell_type": "code",
   "execution_count": null,
   "metadata": {},
   "outputs": [],
   "source": [
    "with open('./structures/jsons/bands/Cu_bulk_bandstruct_full.json', 'r') as f:\n",
    "    d = json.load(f)\n",
    "    bandstruct_cu_full = BandStructureSymmLine.from_dict(d)\n",
    "with open('./structures/jsons/bands/Cu_bulk_bandstruct_full_UX.json', 'r') as f:\n",
    "   d = json.load(f)\n",
    "   bandstruct_cu_ux = BandStructureSymmLine.from_dict(d)\n",
    "bandstruct_full = append_symm_line(bandstruct_cu_full,bandstruct_cu_ux)\n",
    "with open(f'./structures/band_jsons/cu_bandstruct_all_points.json', 'w') as f:\n",
    "    json.dump(bandstruct_full.as_dict(), f)\n",
    "plotter = BSPlotter(bandstruct_full)\n",
    "band_plot = plotter.get_plot(ylim=(-5,9))\n",
    "band_plot.show()"
   ]
  },
  {
   "cell_type": "code",
   "execution_count": null,
   "metadata": {},
   "outputs": [],
   "source": [
    "with open('./structures/jsons/bands/Cu_bandstruct_ref.json', 'r') as f:\n",
    "    d = json.load(f)\n",
    "    bandstruct_cu_ref = BandStructureSymmLine.from_dict(d)\n",
    "with open('./structures/jsons/bands/cu_bandstruct_all_points.json', 'r') as f:\n",
    "   d = json.load(f)\n",
    "   bandstruct_cu_full = BandStructureSymmLine.from_dict(d)\n",
    "\n",
    "#bandstruct_full = append_symm_line(bandstruct_cu_full,bandstruct_cu_ux)\n",
    "#with open(f'./structures/band_jsons/cu_bandstruct_all_points.json', 'w') as f:\n",
    "#    json.dump(bandstruct_full.as_dict(), f)\n",
    "\n",
    "plotter = BSPlotter(bandstruct_cu_full)\n",
    "plotter.add_bs(bandstruct_cu_ref)\n",
    "band_plot = plotter.get_plot(ylim=(-12,35), bs_labels=['Calculated','Materials Project Ref'])\n",
    "plt.xlabel('')\n",
    "plt.savefig('comparison_calculated_vs_matproj_ref_optados_Efermi.png')\n",
    "band_plot.show()\n"
   ]
  },
  {
   "cell_type": "code",
   "execution_count": null,
   "metadata": {},
   "outputs": [],
   "source": [
    "fig, ax = modified_potential_plot('./structures/Cu111_60/')\n",
    "plt.savefig('./structures/plots/poster_fig_steps.png')"
   ]
  },
  {
   "cell_type": "code",
   "execution_count": null,
   "metadata": {},
   "outputs": [],
   "source": [
    "fig,ax=modified_proj_dos_optados(path = './structures/Cu111_60/',xlimit = [10,-10])\n",
    "plt.savefig('./structures/plots/Cu_111_60_pDOS_plot_poster.png',dpi = 500)"
   ]
  }
 ],
 "metadata": {
  "kernelspec": {
   "display_name": "Python 3.9.13 ('matchem')",
   "language": "python",
   "name": "python3"
  },
  "language_info": {
   "codemirror_mode": {
    "name": "ipython",
    "version": 3
   },
   "file_extension": ".py",
   "mimetype": "text/x-python",
   "name": "python",
   "nbconvert_exporter": "python",
   "pygments_lexer": "ipython3",
   "version": "3.9.13"
  },
  "vscode": {
   "interpreter": {
    "hash": "bdb607488251eb1eb1599e0f3bb9151eded0af6676f3b3dc09c9e8f3e83b9f04"
   }
  }
 },
 "nbformat": 4,
 "nbformat_minor": 5
}
