{
 "cells": [
  {
   "cell_type": "code",
   "execution_count": 1,
   "metadata": {},
   "outputs": [],
   "source": [
    "import subprocess\n",
    "import os\n",
    "from ase.io import read\n",
    "from ase.io.cube import read_cube\n",
    "from ase.visualize import view\n",
    "from ase.io import write\n",
    "from ase.build import surface\n",
    "import ase.calculators.castep\n",
    "import ase.io.castep\n",
    "import pandas as pd\n",
    "from ase import Atom\n",
    "from ase import Atoms\n",
    "\n",
    "from pymatgen.core.structure import Structure\n",
    "from pymatgen.io.ase import AseAtomsAdaptor\n",
    "from pymatgen.symmetry.kpath import KPathSetyawanCurtarolo,KPathLatimerMunro\n",
    "from pymatgen.electronic_structure.dos import *\n",
    "from pymatgen.electronic_structure.plotter import BSPlotter, DosPlotter\n",
    "from pymatgen.symmetry.analyzer import SpacegroupAnalyzer\n",
    "from python_functions import *\n",
    "from bs_plotting import *\n",
    "from castep_output_class import *\n",
    "from optados_output_class import *\n",
    "import json\n",
    "%matplotlib inline\n",
    "import matplotlib.pyplot as plt\n",
    "import seaborn as sns\n",
    "import numpy as np\n",
    "from python_functions import *\n",
    "from calculation_class import *\n",
    "from constants import *\n",
    "#from ../../modules_codes/script_share/python/bs_plotter_felix_mod import *\n"
   ]
  },
  {
   "cell_type": "code",
   "execution_count": 29,
   "metadata": {},
   "outputs": [],
   "source": [
    "interface = read('./structures/Megghi/AIMD-pos-1.xyz',index='5000:')"
   ]
  },
  {
   "cell_type": "code",
   "execution_count": 25,
   "metadata": {},
   "outputs": [],
   "source": [
    "junction = read('./structures/Megghi/data/2Au_AIMD-pos-1.xyz',index='31000::100')"
   ]
  },
  {
   "cell_type": "code",
   "execution_count": 26,
   "metadata": {},
   "outputs": [],
   "source": [
    "for frame in junction:\n",
    "    # 15.281   26.467   31.110\n",
    "    frame.set_cell([[15.281,0,0],[0,26.467,0],[0,0,31.110]])\n",
    "    frame.set_pbc(True)\n",
    "    frame.wrap()"
   ]
  },
  {
   "cell_type": "code",
   "execution_count": 27,
   "metadata": {},
   "outputs": [
    {
     "data": {
      "text/plain": [
       "<Popen: returncode: None args: ['c:\\\\Users\\\\fcm19\\\\Miniconda3\\\\envs\\\\matchem...>"
      ]
     },
     "execution_count": 27,
     "metadata": {},
     "output_type": "execute_result"
    }
   ],
   "source": [
    "view(junction)"
   ]
  },
  {
   "cell_type": "code",
   "execution_count": 24,
   "metadata": {},
   "outputs": [],
   "source": [
    "write('./structures/Megghi/data/2Au_AIMD-wire_break_subsample_2.xyz',junction)"
   ]
  },
  {
   "cell_type": "code",
   "execution_count": 30,
   "metadata": {},
   "outputs": [],
   "source": [
    "for frame in interface:\n",
    "    frame.set_cell([[11.375715271,0,0],[0,14.777907317,0],[0,0,46]])\n",
    "    frame.set_pbc(True)\n",
    "    frame.wrap()"
   ]
  },
  {
   "cell_type": "code",
   "execution_count": 29,
   "metadata": {},
   "outputs": [],
   "source": [
    "atoms = read('./structures/Megghi/data/AIMD-pos-1.xyz',index='5000::5')\n",
    "for frame in atoms:\n",
    "    frame.set_cell([[11.375715271,0,0],[0,14.777907317,0],[0,0,46]])\n",
    "    frame.set_pbc(True)\n",
    "    frame.wrap()\n",
    "# print(atoms)\n",
    "rot = '-180x,-90y,0z' # found using ag: 'view -> rotate'\n",
    "bbox = [-10, -1, 25, 35]\n",
    "# Common kwargs for eps, png, pov\n",
    "generic_projection_settings = {\n",
    "    'rotation': rot, # text string with rotation (default='' )\n",
    "    # 'bbox' : bbox,\n",
    "    'radii': .85, # float, or a list with one float per atom\n",
    "    'colors': None, # List: one (r, g, b) tuple per atom\n",
    "    'show_unit_cell': 2, # 0, 1, or 2 to not show, show, and show all of cell\n",
    "}\n",
    "# Extra kwargs only available for povray (All units in angstrom)\n",
    "povray_settings = {\n",
    "    'display': False, # Display while rendering\n",
    "    'pause': True, # Pause when done rendering (only if display)\n",
    "    'transparent': False, # Transparent background\n",
    "    #'canvas_width': None, # Width of canvas in pixels\n",
    "    'canvas_width': 1080,\n",
    "    'canvas_height': None, # Height of canvas in pixels\n",
    "    'camera_dist': 100, # Distance from camera to front atom\n",
    "    'image_plane': None, # Distance from front atom to image plane\n",
    "    'camera_type': 'orthographic', # perspective, ultra_wide_angle\n",
    "    'point_lights': [], # [[loc1, color1], [loc2, color2],...]\n",
    "    'area_light': [(2., 3., 40.), # location\n",
    "    'White', # color\n",
    "    .7, .7, 3, 3], # width, height, Nlamps_x, Nlamps_y\n",
    "    'background': 'White', # color\n",
    "    # 'textures': None, # Length of atoms list of texture names\n",
    "    'textures': len(atoms[0])*['intermediate'],\n",
    "    'transmittances':len(atoms[0])*[0.0],\n",
    "    'celllinewidth': .05, # Radius of the cylinders representing the cell\n",
    "}\n",
    "# Write the .pov (and .ini) file.\n",
    "# comment out render not call the povray executable\n",
    "# os.system('mkdir ./pt_water_bilayer/frames2/')\n"
   ]
  },
  {
   "cell_type": "code",
   "execution_count": 30,
   "metadata": {},
   "outputs": [
    {
     "data": {
      "text/plain": [
       "array([78, 78, 78, 78, 78, 78, 78, 78, 78, 78, 78, 78, 78, 78, 78, 78, 78,\n",
       "       78, 78, 78, 78, 78, 78, 78, 78, 78, 78, 78, 78, 78, 78, 78, 78, 78,\n",
       "       78, 78, 78, 78, 78, 78, 78, 78, 78, 78, 78, 78, 78, 78, 78, 78, 78,\n",
       "       78, 78, 78, 78, 78, 78, 78, 78, 78, 78, 78, 78, 78, 78, 78, 78, 78,\n",
       "       78, 78, 78, 78, 78, 78, 78, 78, 78, 78, 78, 78, 78, 78, 78, 78, 78,\n",
       "       78, 78, 78, 78, 78, 78, 78, 78, 78, 78, 78, 78, 78, 78, 78, 78, 78,\n",
       "       78, 78, 78, 78, 78, 78, 78, 78, 78, 78, 78, 78, 78, 78, 78, 78, 78,\n",
       "       78, 78, 78, 78, 78, 78, 78, 78, 78, 78, 78, 78, 78, 78, 78, 78, 78,\n",
       "       78, 78, 78, 78, 78, 78, 78, 78, 78, 78, 78, 78, 78, 78, 78, 78, 78,\n",
       "       78, 78, 78, 78, 78, 78, 78, 78, 78, 78, 78, 78, 78, 78, 78, 78, 78,\n",
       "       78, 78, 78, 78, 78, 78, 78, 78, 78, 78, 78, 78, 78, 78, 78, 78, 78,\n",
       "       78, 78, 78, 78, 78,  8,  1,  1,  8,  1,  1,  8,  1,  1,  8,  1,  1,\n",
       "        8,  1,  1,  8,  1,  1,  8,  1,  1,  8,  1,  1,  8,  1,  1,  8,  1,\n",
       "        1,  8,  1,  1,  8,  1,  1,  8,  1,  1,  8,  1,  1,  8,  1,  1,  8,\n",
       "        1,  1,  8,  1,  1,  8,  1,  1,  8,  1,  1,  8,  1,  1,  8,  1,  1,\n",
       "        8,  1,  1,  8,  1,  1,  8,  1,  1,  8,  1,  1,  8,  1,  1,  8,  1,\n",
       "        1,  8,  1,  1,  8,  1,  1,  8,  1,  1,  8,  1,  1,  8,  1,  1,  8,\n",
       "        1,  1,  8,  1,  1,  8,  1,  1,  8,  1,  1,  8,  1,  1,  8,  1,  1,\n",
       "        8,  1,  1,  8,  1,  1,  8,  1,  1,  8,  1,  1,  8,  1,  1,  8,  1,\n",
       "        1,  8,  1,  1,  8,  1,  1,  8,  1,  1,  8,  1,  1,  8,  1,  1,  8,\n",
       "        1,  1,  8,  1,  1,  8,  1,  1,  8,  1,  1,  8,  1,  1,  8,  1,  1,\n",
       "        8,  1,  1,  8,  1,  1,  8,  1,  1,  8,  1,  1,  8,  1,  1,  8,  1,\n",
       "        1,  8,  1,  1,  8,  1,  1,  8,  1,  1,  8,  1,  1,  8,  1,  1,  8,\n",
       "        1,  1,  8,  1,  1,  8,  1,  1,  8,  1,  1,  8,  1,  1,  8,  1,  1,\n",
       "        8,  1,  1,  8,  1,  1,  8,  1,  1,  8,  1,  1,  8,  1,  1,  8,  1,\n",
       "        1,  8,  1,  1,  8,  1,  1,  8,  1,  1,  8,  1,  1,  8,  1,  1,  8,\n",
       "        1,  1,  8,  1,  1,  8,  1,  1,  8,  1,  1,  8,  1,  1,  8,  1,  1,\n",
       "        8,  1,  1,  8,  1,  1,  8,  1,  1,  8,  1,  1,  8,  1,  1,  8,  1,\n",
       "        1,  8,  1,  1,  8,  1,  1,  8,  1,  1,  8,  1,  1,  8,  1,  1,  8,\n",
       "        1,  1,  8,  1,  1,  8,  1,  1,  8,  1,  1,  8,  1,  1,  8,  1,  1,\n",
       "        8,  1,  1,  8,  1,  1,  8,  1,  1,  8,  1,  1,  8,  1,  1,  8,  1,\n",
       "        1,  8,  1,  1,  8,  1,  1,  8,  1,  1,  8,  1,  1,  8,  1,  1])"
      ]
     },
     "execution_count": 30,
     "metadata": {},
     "output_type": "execute_result"
    }
   ],
   "source": [
    "atoms[0].get_atomic_numbers()"
   ]
  },
  {
   "cell_type": "code",
   "execution_count": 12,
   "metadata": {},
   "outputs": [
    {
     "ename": "RuntimeError",
     "evalue": "Povray left no output PNG file \"c:\\Users\\fcm19\\OneDrive - Imperial College London\\Desktop\\PhD\\Project\\photoemission\\structures\\Megghi\\interface\\interface_0000.png\"",
     "output_type": "error",
     "traceback": [
      "\u001b[1;31m---------------------------------------------------------------------------\u001b[0m",
      "\u001b[1;31mRuntimeError\u001b[0m                              Traceback (most recent call last)",
      "Cell \u001b[1;32mIn[12], line 12\u001b[0m\n\u001b[0;32m     10\u001b[0m povray_settings[\u001b[38;5;124m'\u001b[39m\u001b[38;5;124mtransmittances\u001b[39m\u001b[38;5;124m'\u001b[39m] \u001b[38;5;241m=\u001b[39m transmit\n\u001b[0;32m     11\u001b[0m renderer \u001b[38;5;241m=\u001b[39m write(\u001b[38;5;124mf\u001b[39m\u001b[38;5;124m'\u001b[39m\u001b[38;5;124m./structures/Megghi/interface/interface_\u001b[39m\u001b[38;5;132;01m{\u001b[39;00midx\u001b[38;5;132;01m:\u001b[39;00m\u001b[38;5;124m04d\u001b[39m\u001b[38;5;132;01m}\u001b[39;00m\u001b[38;5;124m.pov\u001b[39m\u001b[38;5;124m'\u001b[39m, atoms[idx], \u001b[38;5;241m*\u001b[39m\u001b[38;5;241m*\u001b[39mgeneric_projection_settings, povray_settings\u001b[38;5;241m=\u001b[39mpovray_settings)\n\u001b[1;32m---> 12\u001b[0m \u001b[43mrenderer\u001b[49m\u001b[38;5;241;43m.\u001b[39;49m\u001b[43mrender\u001b[49m\u001b[43m(\u001b[49m\u001b[43mpovray_executable\u001b[49m\u001b[38;5;241;43m=\u001b[39;49m\u001b[38;5;124;43m'\u001b[39;49m\u001b[38;5;124;43mC:/Program Files/POV-Ray/v3.7/bin/pvengine.exe\u001b[39;49m\u001b[38;5;124;43m'\u001b[39;49m\u001b[43m)\u001b[49m\n",
      "File \u001b[1;32mc:\\Users\\fcm19\\Miniconda3\\envs\\matchem\\lib\\site-packages\\ase\\io\\pov.py:604\u001b[0m, in \u001b[0;36mPOVRAYInputs.render\u001b[1;34m(self, povray_executable, stderr, clean_up)\u001b[0m\n\u001b[0;32m    602\u001b[0m png_path \u001b[38;5;241m=\u001b[39m \u001b[38;5;28mself\u001b[39m\u001b[38;5;241m.\u001b[39mpath\u001b[38;5;241m.\u001b[39mwith_suffix(\u001b[38;5;124m'\u001b[39m\u001b[38;5;124m.png\u001b[39m\u001b[38;5;124m'\u001b[39m)\u001b[38;5;241m.\u001b[39mabsolute()\n\u001b[0;32m    603\u001b[0m \u001b[38;5;28;01mif\u001b[39;00m \u001b[38;5;129;01mnot\u001b[39;00m png_path\u001b[38;5;241m.\u001b[39mis_file():\n\u001b[1;32m--> 604\u001b[0m     \u001b[38;5;28;01mraise\u001b[39;00m \u001b[38;5;167;01mRuntimeError\u001b[39;00m(\u001b[38;5;124mf\u001b[39m\u001b[38;5;124m'\u001b[39m\u001b[38;5;124mPovray left no output PNG file \u001b[39m\u001b[38;5;124m\"\u001b[39m\u001b[38;5;132;01m{\u001b[39;00mpng_path\u001b[38;5;132;01m}\u001b[39;00m\u001b[38;5;124m\"\u001b[39m\u001b[38;5;124m'\u001b[39m)\n\u001b[0;32m    606\u001b[0m \u001b[38;5;28;01mif\u001b[39;00m clean_up:\n\u001b[0;32m    607\u001b[0m     unlink(\u001b[38;5;28mself\u001b[39m\u001b[38;5;241m.\u001b[39mpath)\n",
      "\u001b[1;31mRuntimeError\u001b[0m: Povray left no output PNG file \"c:\\Users\\fcm19\\OneDrive - Imperial College London\\Desktop\\PhD\\Project\\photoemission\\structures\\Megghi\\interface\\interface_0000.png\""
     ]
    }
   ],
   "source": [
    "transmit = np.zeros(len(atoms[0]))\n",
    "for idx,atom in enumerate(atoms):\n",
    "    i = 0\n",
    "    for atom in frame.get_atomic_numbers():\n",
    "        if 16.5 < atom[2] < 29.8: \n",
    "            transmit[i] = 0.8\n",
    "        else: \n",
    "            transmit[i] = 0.0\n",
    "        i += 1\n",
    "    povray_settings['transmittances'] = transmit\n",
    "    renderer = write(f'./structures/Megghi/interface/interface_{idx:04d}.pov', atoms[idx], **generic_projection_settings, povray_settings=povray_settings)\n",
    "    renderer.render(povray_executable='C:/Program Files/POV-Ray/v3.7/bin/pvengine.exe')"
   ]
  },
  {
   "cell_type": "code",
   "execution_count": 23,
   "metadata": {},
   "outputs": [
    {
     "name": "stdout",
     "output_type": "stream",
     "text": [
      "1\n"
     ]
    },
    {
     "data": {
      "text/plain": [
       "1"
      ]
     },
     "execution_count": 23,
     "metadata": {},
     "output_type": "execute_result"
    }
   ],
   "source": [
    "os.system(\"cd ./structures/Megghi/interface/\")\n",
    "print(os.system('pwd'))\n",
    "os.system(\"C:/Program Files/POV-Ray/v3.7/bin/pvengine.exe interface_0000.ini\")"
   ]
  },
  {
   "cell_type": "code",
   "execution_count": 20,
   "metadata": {},
   "outputs": [
    {
     "name": "stdout",
     "output_type": "stream",
     "text": [
      "[[1.49425000e-01 9.11500000e-03 5.09677000e+00]\n",
      " [2.97461800e+00 1.17601000e-01 5.00000000e+00]\n",
      " [5.79384100e+00 2.84400000e-02 5.10078000e+00]\n",
      " ...\n",
      " [5.44036066e+00 6.72161659e-01 2.21138605e+01]\n",
      " [5.68128278e+00 8.91850657e-01 2.12190824e+01]\n",
      " [5.04582699e+00 1.52316737e+00 2.24986997e+01]]\n"
     ]
    },
    {
     "ename": "TypeError",
     "evalue": "'numpy.ndarray' object is not callable",
     "output_type": "error",
     "traceback": [
      "\u001b[1;31m---------------------------------------------------------------------------\u001b[0m",
      "\u001b[1;31mTypeError\u001b[0m                                 Traceback (most recent call last)",
      "Cell \u001b[1;32mIn[20], line 10\u001b[0m\n\u001b[0;32m      8\u001b[0m     \u001b[38;5;66;03m# print(np.mod(atom, cell))\u001b[39;00m\n\u001b[0;32m      9\u001b[0m \u001b[38;5;28mprint\u001b[39m(position)\n\u001b[1;32m---> 10\u001b[0m \u001b[43mframe\u001b[49m\u001b[38;5;241;43m.\u001b[39;49m\u001b[43mset_positions\u001b[49m\u001b[43m(\u001b[49m\u001b[43mposition\u001b[49m\u001b[43m)\u001b[49m\n",
      "\u001b[1;31mTypeError\u001b[0m: 'numpy.ndarray' object is not callable"
     ]
    }
   ],
   "source": [
    "cell = [11.375715271,14.777907317,46]\n",
    "for frame in interface:\n",
    "    position = frame.get_positions()\n",
    "    for idx,atom in enumerate(frame.get_positions()):\n",
    "        temp = [0,0,0]\n",
    "        # print(atom)\n",
    "        position[idx] = np.mod(atom, cell)\n",
    "        # print(np.mod(atom, cell))\n",
    "    print(position)\n",
    "    frame.set_positions(position)"
   ]
  },
  {
   "cell_type": "code",
   "execution_count": 31,
   "metadata": {},
   "outputs": [
    {
     "data": {
      "text/plain": [
       "<Popen: returncode: None args: ['c:\\\\Users\\\\fcm19\\\\Miniconda3\\\\envs\\\\matchem...>"
      ]
     },
     "execution_count": 31,
     "metadata": {},
     "output_type": "execute_result"
    }
   ],
   "source": [
    "view(interface)"
   ]
  },
  {
   "cell_type": "code",
   "execution_count": 7,
   "metadata": {},
   "outputs": [
    {
     "ename": "AttributeError",
     "evalue": "'list' object has no attribute 'wrap'",
     "output_type": "error",
     "traceback": [
      "\u001b[1;31m---------------------------------------------------------------------------\u001b[0m",
      "\u001b[1;31mAttributeError\u001b[0m                            Traceback (most recent call last)",
      "Cell \u001b[1;32mIn[7], line 1\u001b[0m\n\u001b[1;32m----> 1\u001b[0m \u001b[43minterface\u001b[49m\u001b[38;5;241;43m.\u001b[39;49m\u001b[43mwrap\u001b[49m()\n",
      "\u001b[1;31mAttributeError\u001b[0m: 'list' object has no attribute 'wrap'"
     ]
    }
   ],
   "source": [
    "interface.wrap()"
   ]
  },
  {
   "cell_type": "code",
   "execution_count": null,
   "metadata": {},
   "outputs": [],
   "source": []
  }
 ],
 "metadata": {
  "kernelspec": {
   "display_name": "matchem",
   "language": "python",
   "name": "python3"
  },
  "language_info": {
   "codemirror_mode": {
    "name": "ipython",
    "version": 3
   },
   "file_extension": ".py",
   "mimetype": "text/x-python",
   "name": "python",
   "nbconvert_exporter": "python",
   "pygments_lexer": "ipython3",
   "version": "3.9.19"
  }
 },
 "nbformat": 4,
 "nbformat_minor": 2
}
