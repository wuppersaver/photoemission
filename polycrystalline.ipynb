{
 "cells": [
  {
   "cell_type": "markdown",
   "id": "9a56cc6f",
   "metadata": {},
   "source": [
    "# Workflow to calculate the quantum efficiency of a polycrystalline material"
   ]
  },
  {
   "cell_type": "code",
   "execution_count": 28,
   "id": "3a8845ba",
   "metadata": {},
   "outputs": [
    {
     "data": {
      "application/vnd.jupyter.widget-view+json": {
       "model_id": "b5ed5adf44c545c095a40be1e4301162",
       "version_major": 2,
       "version_minor": 0
      },
      "text/plain": []
     },
     "metadata": {},
     "output_type": "display_data"
    }
   ],
   "source": [
    "import subprocess\n",
    "import nglview as nv\n",
    "\n",
    "from ase.calculators.castep import Castep\n",
    "from ase.atoms import Atoms\n",
    "from ase.io import read, write\n",
    "from ase.visualize import view\n",
    "from ase.build import surface\n",
    "import ase.calculators.castep\n",
    "import ase.io.castep\n",
    "\n",
    "from pymatgen.ext.matproj import MPRester\n",
    "from pymatgen.core import Lattice, Structure, Molecule\n",
    "from pymatgen.core.surface import SlabGenerator, generate_all_slabs\n",
    "from pymatgen.io.ase import AseAtomsAdaptor\n",
    "from pymatgen.analysis.wulff import WulffShape\n",
    "from pymatgen.io.ase import AseAtomsAdaptor\n",
    "from pymatgen.electronic_structure.bandstructure import BandStructure\n",
    "from pymatgen.symmetry.kpath import KPathLatimerMunro\n",
    "from pymatgen.vis.structure_chemview import quick_view\n",
    "\n",
    "from wulffpack import SingleCrystal\n",
    "\n",
    "from functions import *"
   ]
  },
  {
   "cell_type": "markdown",
   "id": "d855d57c",
   "metadata": {},
   "source": [
    "I recommend using pymatgen to generate the bulk/slab and then convert it to an ASE atom object. The advantages of this approach are:\n",
    "- pymatgen has a better bulk/slab generation algorithm \n",
    "- castep can link a calculator to the Atom object\n"
   ]
  },
  {
   "cell_type": "markdown",
   "id": "fc13554c",
   "metadata": {},
   "source": [
    "#### Download and save .cif file for necessary materials"
   ]
  },
  {
   "cell_type": "code",
   "execution_count": null,
   "id": "d0c78368",
   "metadata": {
    "scrolled": true
   },
   "outputs": [],
   "source": [
    "import json\n",
    "api_key = ''\n",
    "with MPRester(api_key) as m:\n",
    "    results = m.get_dos_by_material_id(\"mp-30\")\n",
    "#print(type(results))\n",
    "#res_json = results.as_dict()\n",
    "with open('./structures/jsons/DOS/Cu_bulk_dos_ref.json', 'w') as f:\n",
    "    json.dump(results.as_dict(), f)"
   ]
  },
  {
   "cell_type": "markdown",
   "id": "11bcded0",
   "metadata": {},
   "source": [
    "#### Generate the bulk structure and bulk input"
   ]
  },
  {
   "cell_type": "code",
   "execution_count": 30,
   "id": "33131663",
   "metadata": {},
   "outputs": [
    {
     "name": "stdout",
     "output_type": "stream",
     "text": [
      "Full Formula (Cu1)\n",
      "Reduced Formula: Cu\n",
      "abc   :   2.560619   2.560619   2.560619\n",
      "angles:  60.000000  60.000000  60.000000\n",
      "Sites (1)\n",
      "  #  SP      a    b    c\n",
      "---  ----  ---  ---  ---\n",
      "  0  Cu      0    0    0\n",
      "11.871889685682168\n",
      "2.217561 0.000000 1.280309\n",
      "0.739187 2.090737 1.280309\n",
      "0.000000 0.000000 2.560619\n",
      "[Element Cu]\n",
      "[PeriodicSite: Cu (0.0000, 0.0000, 0.0000) [0.0000, 0.0000, 0.0000]]\n",
      "Atoms(symbols='Cu', pbc=True, cell=[[2.217561034131073, 0.0, 1.2803094600000002], [0.7391870113770244, 2.090736593238846, 1.2803094600000002], [0.0, 0.0, 2.56061892]])\n",
      "Full Formula (Cu1)\n",
      "Reduced Formula: Cu\n",
      "abc   :   2.560619   2.560619   2.560619\n",
      "angles:  60.000000  60.000000  60.000000\n",
      "Sites (1)\n",
      "  #  SP      a    b    c\n",
      "---  ----  ---  ---  ---\n",
      "  0  Cu      0    0    0\n"
     ]
    },
    {
     "data": {
      "application/vnd.jupyter.widget-view+json": {
       "model_id": "2e92513d35cf436eaf7b0fbfff89ef94",
       "version_major": 2,
       "version_minor": 0
      },
      "text/plain": [
       "NGLWidget()"
      ]
     },
     "metadata": {},
     "output_type": "display_data"
    }
   ],
   "source": []
  },
  {
   "cell_type": "code",
   "execution_count": 15,
   "id": "59484dd1",
   "metadata": {},
   "outputs": [
    {
     "ename": "NameError",
     "evalue": "name 'bulk_castep_options' is not defined",
     "output_type": "error",
     "traceback": [
      "\u001b[1;31m---------------------------------------------------------------------------\u001b[0m",
      "\u001b[1;31mNameError\u001b[0m                                 Traceback (most recent call last)",
      "\u001b[1;32mC:\\Users\\FELIXM~2\\AppData\\Local\\Temp/ipykernel_9024/2272536421.py\u001b[0m in \u001b[0;36m<module>\u001b[1;34m\u001b[0m\n\u001b[0;32m     45\u001b[0m     \u001b[1;31m#PDOS : Si1;Si2(s) - DOS on Si atom 1 and DOS on s-channel of Si atom 2 (2 proj)\u001b[0m\u001b[1;33m\u001b[0m\u001b[1;33m\u001b[0m\u001b[0m\n\u001b[0;32m     46\u001b[0m }\n\u001b[1;32m---> 47\u001b[1;33m \u001b[0mgenerate_castep_input\u001b[0m\u001b[1;33m(\u001b[0m\u001b[0mcalc_struct\u001b[0m\u001b[1;33m=\u001b[0m\u001b[0mAseAtomsAdaptor\u001b[0m\u001b[1;33m(\u001b[0m\u001b[1;33m)\u001b[0m\u001b[1;33m.\u001b[0m\u001b[0mget_atoms\u001b[0m\u001b[1;33m(\u001b[0m\u001b[0mbulk\u001b[0m\u001b[1;33m)\u001b[0m\u001b[1;33m,\u001b[0m \u001b[1;33m**\u001b[0m\u001b[0mbulk_castep_options\u001b[0m\u001b[1;33m)\u001b[0m\u001b[1;33m\u001b[0m\u001b[1;33m\u001b[0m\u001b[0m\n\u001b[0m\u001b[0;32m     48\u001b[0m \u001b[0mgenerate_qsub_file\u001b[0m\u001b[1;33m(\u001b[0m\u001b[1;33m**\u001b[0m\u001b[0mbulk_PBS_options\u001b[0m\u001b[1;33m)\u001b[0m\u001b[1;33m\u001b[0m\u001b[1;33m\u001b[0m\u001b[0m\n\u001b[0;32m     49\u001b[0m \u001b[0mgenerate_optados_input\u001b[0m\u001b[1;33m(\u001b[0m\u001b[0mOptaDOS_options\u001b[0m\u001b[1;33m)\u001b[0m\u001b[1;33m\u001b[0m\u001b[1;33m\u001b[0m\u001b[0m\n",
      "\u001b[1;31mNameError\u001b[0m: name 'bulk_castep_options' is not defined"
     ]
    }
   ],
   "source": [
    "bulk = Structure.from_file(filename=\"Cu_metal_fcc.cif\")\n",
    "#view(AseAtomsAdaptor().get_atoms(bulk))\n",
    "bulk_seed = 'Cu_bulk_vic_thesis'\n",
    "bulk_castep_options_template = {\n",
    "    'directory': f\"./structures/{bulk_seed}\",\n",
    "    'label': bulk_seed,\n",
    "    # Param File Instructions\n",
    "    'task': 'Singlepoint', #Choose: SinglePoint, BandStructure, Spectral\n",
    "    'spectral_task' : 'DOS', #Choose if task is Spectral: DOS, BandStructure, Optics, CoreLoss, All \n",
    "    'xc_functional': 'PBE',\n",
    "    'energy_cutoff': 600,\n",
    "    'opt_strategy': 'Speed',\n",
    "    'fix_occup' : False,\n",
    "    'spin_polarized': False,\n",
    "    'max_scf_cycles': '100',\n",
    "    'write_potential': False,\n",
    "    'write_density': False,\n",
    "    'extra_bands': True,\n",
    "    'number_extra_bands': 20,\n",
    "    #Cell File Instructions\n",
    "    'kpoints': (16,16,16),\n",
    "    'snap_to_symmetry': False,\n",
    "    'fix_all_cell': False,\n",
    "    'continuation': False,\n",
    "    'bandstruct_path': 'GXWKGLUWLK',\n",
    "    'bandstruct_kpt_dist': 0.0184,\n",
    "    'spectral_kpt_grid': (10,10,10),\n",
    "    'calculate_pdos': True \n",
    "}\n",
    "bulk_PBS_options = {\n",
    "    'seed_name': bulk_seed,\n",
    "    'tasks_seeds': [['singlepoint', bulk_seed], ['Optados', bulk_seed]], #Choose one or multiple (carefully!): SinglePoint, BandStructure, Spectral, OptaDOS\n",
    "    'queue': 'debug',\n",
    "    'castep_version': 'castep_19' #choose from castep_19, castep_18, castep_18_mod\n",
    "}\n",
    "OptaDOS_options = {\n",
    "    'seed_name': bulk_seed,\n",
    "    'optados_task': 'pdos', # Choose: dos(default), compare_dos, compare_jdos, jdos, pdos, optics, core, all\n",
    "    'broadening': 'adaptive', #Choose: adaptive(default), fixed, linear\n",
    "    'iprint': '1', #Choose: 1 - bare minimum, 2 - with progress reports, 3 - fulld debug output\n",
    "    'efermi': 'optados', #Choose: optados - recalculate, file - read from CASTEP file, insulator - count filled bands, float - supplied by user\n",
    "    'dos_spacing': '0.001', #DOS spacing in unit (default: eV): default - 0.1\n",
    "    'pdos': 'angular' #Choose: angular, species_ang, species, sites or more detailed descriptions such as: \n",
    "    #PDOS : sum:Si1-2(s) - sum of s-chnnls on 2 Si atms (1 proj), \n",
    "    #PDOS : Si1;Si2(s) - DOS on Si atom 1 and DOS on s-channel of Si atom 2 (2 proj) \n",
    "}\n",
    "generate_castep_input(calc_struct=AseAtomsAdaptor().get_atoms(bulk), **bulk_castep_options)\n",
    "generate_qsub_file(**bulk_PBS_options)\n",
    "generate_optados_input(OptaDOS_options)"
   ]
  },
  {
   "cell_type": "markdown",
   "id": "3ea28b4b",
   "metadata": {},
   "source": [
    "#### Generate the surface structure"
   ]
  },
  {
   "cell_type": "code",
   "execution_count": 3,
   "id": "60ad0289",
   "metadata": {},
   "outputs": [],
   "source": [
    "def get_adjusted_kpts(original, new, kpt = [1,1,1]):\n",
    "    orig_cell  = original.cell.cellpar()\n",
    "    \n",
    "    new_cell  = new.cell.cellpar()\n",
    "    if not all(abs(new_cell[index] - elem) > 0.001 for index,elem in enumerate(orig_cell[3:])):\n",
    "        warnings.warn(f'!WARNING! The two cells axes are not in good agreemen, recheck the output!')\n",
    "    new = [int(orig_cell[0]//new_cell[0]*kpt[0]), int(orig_cell[1]//new_cell[1]*kpt[1]),int(orig_cell[2]//new_cell[2]*kpt[2])]\n",
    "    for index, item in enumerate(new):\n",
    "        if item == 0:\n",
    "            new[index] = 1\n",
    "    return new;"
   ]
  },
  {
   "cell_type": "code",
   "execution_count": 27,
   "id": "5e2e4041",
   "metadata": {},
   "outputs": [
    {
     "name": "stdout",
     "output_type": "stream",
     "text": [
      "Atoms(symbols='Cu', pbc=True, cell=[[2.217561034131073, 0.0, 1.2803094600000002], [0.7391870113770244, 2.090736593238846, 1.2803094600000002], [0.0, 0.0, 2.56061892]])\n",
      "Full Formula (Cu1)\n",
      "Reduced Formula: Cu\n",
      "abc   :   2.560619   2.560619   2.560619\n",
      "angles:  60.000000  60.000000  60.000000\n",
      "Sites (1)\n",
      "  #  SP      a    b    c\n",
      "---  ----  ---  ---  ---\n",
      "  0  Cu      0    0    0\n"
     ]
    },
    {
     "ename": "RuntimeError",
     "evalue": "To use quick_view, you need to have chemview installed.",
     "output_type": "error",
     "traceback": [
      "\u001b[1;31m---------------------------------------------------------------------------\u001b[0m",
      "\u001b[1;31mRuntimeError\u001b[0m                              Traceback (most recent call last)",
      "\u001b[1;32mC:\\Users\\FELIXM~2\\AppData\\Local\\Temp/ipykernel_9024/18689366.py\u001b[0m in \u001b[0;36m<module>\u001b[1;34m\u001b[0m\n\u001b[0;32m      4\u001b[0m \u001b[0mprint\u001b[0m\u001b[1;33m(\u001b[0m\u001b[0mbulk\u001b[0m\u001b[1;33m)\u001b[0m\u001b[1;33m\u001b[0m\u001b[1;33m\u001b[0m\u001b[0m\n\u001b[0;32m      5\u001b[0m \u001b[0msurface\u001b[0m \u001b[1;33m=\u001b[0m \u001b[0mase\u001b[0m\u001b[1;33m.\u001b[0m\u001b[0mbuild\u001b[0m\u001b[1;33m.\u001b[0m\u001b[0msurface\u001b[0m\u001b[1;33m(\u001b[0m\u001b[0mlattice\u001b[0m \u001b[1;33m=\u001b[0m \u001b[0mbulk_ase\u001b[0m\u001b[1;33m,\u001b[0m \u001b[0mindices\u001b[0m \u001b[1;33m=\u001b[0m \u001b[1;33m(\u001b[0m\u001b[1;36m1\u001b[0m\u001b[1;33m,\u001b[0m\u001b[1;36m1\u001b[0m\u001b[1;33m,\u001b[0m\u001b[1;36m1\u001b[0m\u001b[1;33m)\u001b[0m\u001b[1;33m,\u001b[0m \u001b[0mlayers\u001b[0m \u001b[1;33m=\u001b[0m \u001b[1;36m5\u001b[0m\u001b[1;33m,\u001b[0m \u001b[0mvacuum\u001b[0m\u001b[1;33m=\u001b[0m\u001b[1;36m15\u001b[0m\u001b[1;33m,\u001b[0m \u001b[0mtol\u001b[0m\u001b[1;33m=\u001b[0m\u001b[1;36m1e-10\u001b[0m\u001b[1;33m,\u001b[0m \u001b[0mperiodic\u001b[0m\u001b[1;33m=\u001b[0m\u001b[1;32mTrue\u001b[0m\u001b[1;33m)\u001b[0m\u001b[1;33m\u001b[0m\u001b[1;33m\u001b[0m\u001b[0m\n\u001b[1;32m----> 6\u001b[1;33m \u001b[0mquick_view\u001b[0m\u001b[1;33m(\u001b[0m\u001b[0mbulk\u001b[0m\u001b[1;33m)\u001b[0m\u001b[1;33m\u001b[0m\u001b[1;33m\u001b[0m\u001b[0m\n\u001b[0m",
      "\u001b[1;32m~\\miniconda3\\envs\\matchem\\lib\\site-packages\\monty\\dev.py\u001b[0m in \u001b[0;36mdecorated\u001b[1;34m(*args, **kwargs)\u001b[0m\n\u001b[0;32m     94\u001b[0m         \u001b[1;32mdef\u001b[0m \u001b[0mdecorated\u001b[0m\u001b[1;33m(\u001b[0m\u001b[1;33m*\u001b[0m\u001b[0margs\u001b[0m\u001b[1;33m,\u001b[0m \u001b[1;33m**\u001b[0m\u001b[0mkwargs\u001b[0m\u001b[1;33m)\u001b[0m\u001b[1;33m:\u001b[0m\u001b[1;33m\u001b[0m\u001b[1;33m\u001b[0m\u001b[0m\n\u001b[0;32m     95\u001b[0m             \u001b[1;32mif\u001b[0m \u001b[1;32mnot\u001b[0m \u001b[0mself\u001b[0m\u001b[1;33m.\u001b[0m\u001b[0mcondition\u001b[0m\u001b[1;33m:\u001b[0m\u001b[1;33m\u001b[0m\u001b[1;33m\u001b[0m\u001b[0m\n\u001b[1;32m---> 96\u001b[1;33m                 \u001b[1;32mraise\u001b[0m \u001b[0mRuntimeError\u001b[0m\u001b[1;33m(\u001b[0m\u001b[0mself\u001b[0m\u001b[1;33m.\u001b[0m\u001b[0mmessage\u001b[0m\u001b[1;33m)\u001b[0m\u001b[1;33m\u001b[0m\u001b[1;33m\u001b[0m\u001b[0m\n\u001b[0m\u001b[0;32m     97\u001b[0m             \u001b[1;32mreturn\u001b[0m \u001b[0m_callable\u001b[0m\u001b[1;33m(\u001b[0m\u001b[1;33m*\u001b[0m\u001b[0margs\u001b[0m\u001b[1;33m,\u001b[0m \u001b[1;33m**\u001b[0m\u001b[0mkwargs\u001b[0m\u001b[1;33m)\u001b[0m\u001b[1;33m\u001b[0m\u001b[1;33m\u001b[0m\u001b[0m\n\u001b[0;32m     98\u001b[0m \u001b[1;33m\u001b[0m\u001b[0m\n",
      "\u001b[1;31mRuntimeError\u001b[0m: To use quick_view, you need to have chemview installed."
     ]
    }
   ],
   "source": [
    "bulk = Structure.from_file(filename=\"Cu_metal_fcc.cif\")\n",
    "bulk_ase = AseAtomsAdaptor().get_atoms(bulk)\n",
    "print(bulk_ase)\n",
    "print(bulk)\n",
    "surface = ase.build.surface(lattice = bulk_ase, indices = (1,1,1), layers = 5, vacuum=15, tol=1e-10, periodic=True)\n",
    "quick_view(bulk)"
   ]
  },
  {
   "cell_type": "code",
   "execution_count": 9,
   "id": "97295f37",
   "metadata": {},
   "outputs": [],
   "source": [
    "\n",
    "def create_slab_layer_convergence(structure, indices, min, max, seed, *cutoff):\n",
    "    layers = [i for i in range(min, max+1)]\n",
    "    castep_opt_template = {\n",
    "        'directory': f\"./structures/{seed}/\",\n",
    "        'label': seed,\n",
    "        # Param File Instructions\n",
    "        'task': 'Singlepoint', #Choose: SinglePoint, BandStructure, Spectral\n",
    "        'spectral_task' : 'DOS', #Choose if task is Spectral: DOS, BandStructure, Optics, CoreLoss, All \n",
    "        'xc_functional': 'PBE',\n",
    "        'energy_cutoff': 566,\n",
    "        'opt_strategy': 'Speed',\n",
    "        'fix_occup' : False,\n",
    "        'spin_polarized': False,\n",
    "        'max_scf_cycles': '100',\n",
    "        'write_potential': False,\n",
    "        'write_density': False,\n",
    "        'extra_bands': True,\n",
    "        'number_extra_bands': 20,\n",
    "        #Cell File Instructions\n",
    "        'kpoints': [9,9,9],\n",
    "        'snap_to_symmetry': False,\n",
    "        'fix_all_cell': False,\n",
    "        'continuation': False,\n",
    "        'bandstruct_path': 'GXWKGLUWLK',\n",
    "        'bandstruct_kpt_dist': 0.0184,\n",
    "        'spectral_kpt_grid': (10,10,10),\n",
    "        'calculate_pdos': True \n",
    "    }\n",
    "    PBS_options = {\n",
    "        'seed_name': seed,\n",
    "        'tasks_seeds': [], #Choose one or multiple (carefully!): SinglePoint, BandStructure, Spectral, OptaDOS\n",
    "        'queue': 'debug',\n",
    "        'castep_version': 'castep_19' #choose from castep_19, castep_18, castep_18_mod\n",
    "    }\n",
    "    for i in layers:\n",
    "        surface = ase.build.surface(lattice = structure, indices =indices, layers = i, vacuum=15, tol=1e-10, periodic=True)\n",
    "        temp_opt = castep_opt_template\n",
    "        temp_opt['directory'] = f\"./structures/{seed}\"\n",
    "        temp_opt['label'] = f\"{seed}_{i}L\"\n",
    "        temp_opt['kpoints'] = get_adjusted_kpts(structure, surface, [9,9,9])\n",
    "        PBS_options['tasks_seeds'].append(['singlepoint',temp_opt['label']])\n",
    "        if cutoff != None:\n",
    "            temp_opt['cutoff'] = cutoff\n",
    "        generate_castep_input(calc_struct=surface, **temp_opt)\n",
    "    generate_qsub_file(**PBS_options)\n",
    "    return;"
   ]
  },
  {
   "cell_type": "code",
   "execution_count": 6,
   "id": "488fdb63",
   "metadata": {},
   "outputs": [],
   "source": [
    "surface_111 = ase.build.surface(lattice = AseAtomsAdaptor().get_atoms(bulk), indices = (1,1,1), layers = 5, vacuum=10, tol=1e-10, periodic=True)#\n",
    "view(surface_111)#, repeat=(5,5,1))\n",
    "super_surf_111 = surface_111.repeat((3,3,1))\n",
    "#view(super_surf_111)\n",
    "#surface_100 = ase.build.surface(lattice = bulk, indices = (1,0,0), layers = 5, vacuum=10, tol=1e-10, periodic=True)#\n",
    "#view(surface, repeat=(5,5,1))\n",
    "#super_surf_100 = surface_100.repeat((3,3,1))\n",
    "#view(super_surf_100)\n",
    "#surface_110 = ase.build.surface(lattice = bulk, indices = (1,1,0), layers = 5, vacuum=10, tol=1e-10, periodic=True)#\n",
    "#view(surface, repeat=(5,5,1))\n",
    "#super_surf_110 = surface_110.repeat((3,3,1))\n",
    "#view(super_surf_110)\n",
    "\n",
    "\n",
    "#ASE Atoms object for calculation\n",
    "surf_struct = surface_111\n",
    "surf_seed = 'Cu_111' # optional\n",
    "\n",
    "## Options for CASTEP files\n",
    "surf_castep_options = {\n",
    "    'directory': './structures/{}'.format(surf_seed),\n",
    "    'label': surf_seed,\n",
    "    # Param File Instructions\n",
    "    'task': 'SinglePoint',\n",
    "    'xc_functional': 'PBE',\n",
    "    'energy_cutoff': 600,\n",
    "    'opt_strategy': 'Speed',\n",
    "    'fix_occup' : 'FALSE',\n",
    "    'spin_polarized': 'FALSE',\n",
    "    'max_scf_cycles': '100',\n",
    "    'write_potential': False,\n",
    "    'write_density': False,\n",
    "    'extra_bands': True,\n",
    "    'number_extra_bands': 12,\n",
    "    #Cell File Instructions\n",
    "    'kpoints': (36,36,1),\n",
    "    'snap_to_symmetry': False,\n",
    "    'fix_all_cell': 'FALSE',\n",
    "    'continuation': False\n",
    "}\n",
    "\n",
    "surf_PBS_options = {\n",
    "    'seed_name': surf_seed,\n",
    "    'task' : 'SinglePoint',\n",
    "    'queue': 'short',\n",
    "    'program': 'castep_19',\n",
    "    'bandstructure': False\n",
    "}\n",
    "\n",
    "#generate_castep_input(calc_struct=surf_struct, **surf_castep_options)\n",
    "#generate_qsub_file(**surf_PBS_options)\n"
   ]
  },
  {
   "cell_type": "markdown",
   "id": "1dad63c5",
   "metadata": {},
   "source": [
    "#### Run the calculations"
   ]
  },
  {
   "cell_type": "code",
   "execution_count": null,
   "id": "20413184",
   "metadata": {},
   "outputs": [],
   "source": [
    "#folder_change_command = 'cd {}'.format(seed)\n",
    "#submit_command = 'qsub {}.qsub'.format(seed)\n",
    "\n",
    "#subprocess.call(folder_change_command)\n",
    "#subprocess.call(submit_command)\n",
    "#subprocess.call('cd ..')"
   ]
  },
  {
   "cell_type": "markdown",
   "id": "a4e4fa56",
   "metadata": {},
   "source": [
    "#### Extract the final energies"
   ]
  },
  {
   "cell_type": "code",
   "execution_count": null,
   "id": "2b9c8d64",
   "metadata": {},
   "outputs": [],
   "source": [
    "bulk_tot_energy, bulk_fermi = get_energies(seed=bulk_seed)\n",
    "surf_111_tot_energy, surf_111_fermi = get_energies(seed=surf_seed)\n",
    "#print(bulk_tot_energy, surf_111_tot_energy)"
   ]
  },
  {
   "cell_type": "markdown",
   "id": "d04f1796",
   "metadata": {},
   "source": [
    "#### Calculate the surface energy"
   ]
  },
  {
   "cell_type": "code",
   "execution_count": null,
   "id": "ec02c66c",
   "metadata": {},
   "outputs": [],
   "source": [
    "surf_energy_111 = calc_surface_energy(bulk_tot_energy, surf_111_tot_energy,len(surface_111.numbers),surface_111.cell.volume / surface_111.cell[2][2])\n",
    "factor = 16.02176565\n",
    "print('The surface energy of the {} surface is: '.format(surf_seed) + str(surf_energy_111) + ' eV/Angstrom^2.\\n' + 'This is equal to: ' + str(surf_energy_111*factor) + ' J/m^2')\n"
   ]
  },
  {
   "cell_type": "markdown",
   "id": "0033b00a",
   "metadata": {},
   "source": [
    "#### Get the % of each surface from a  Wulff construction"
   ]
  },
  {
   "cell_type": "code",
   "execution_count": null,
   "id": "2a877669",
   "metadata": {},
   "outputs": [],
   "source": [
    "mat_structure = bulk\n",
    "facets_energies = {\n",
    "    (1,0,0) : 0.1161,\n",
    "    (1,1,0) : 0.1211,\n",
    "    (1,1,1) : 0.1055\n",
    "}\n",
    "facets_fractions = get_wulff_fractions(AseAtomsAdaptor().get_atoms(bulk), facets_energies)\n",
    "print(facets_fractions)"
   ]
  },
  {
   "cell_type": "markdown",
   "id": "3fb29d7a",
   "metadata": {},
   "source": [
    "#### Launch OptaDOS"
   ]
  },
  {
   "cell_type": "code",
   "execution_count": null,
   "id": "dddea01b",
   "metadata": {},
   "outputs": [],
   "source": []
  },
  {
   "cell_type": "markdown",
   "id": "55e75230",
   "metadata": {},
   "source": [
    "#### Get QE from OptaDOS output"
   ]
  },
  {
   "cell_type": "code",
   "execution_count": null,
   "id": "2cbebab9",
   "metadata": {},
   "outputs": [],
   "source": []
  },
  {
   "cell_type": "markdown",
   "id": "74d343e1",
   "metadata": {},
   "source": [
    "#### Calculate the weighted average QE"
   ]
  },
  {
   "cell_type": "code",
   "execution_count": null,
   "id": "47ac02c9",
   "metadata": {},
   "outputs": [],
   "source": []
  },
  {
   "cell_type": "markdown",
   "id": "356ca21b",
   "metadata": {},
   "source": [
    "#### Calculate and display plenty more properties (DOS, bands, ...)"
   ]
  },
  {
   "cell_type": "code",
   "execution_count": null,
   "id": "dea0c939",
   "metadata": {},
   "outputs": [],
   "source": []
  }
 ],
 "metadata": {
  "interpreter": {
   "hash": "f7eefe3ae6cbdb5efa91edbea213e67a987949e5fbb84a0e28a74792fd6a2674"
  },
  "kernelspec": {
   "display_name": "Python 3 (ipykernel)",
   "language": "python",
   "name": "python3"
  },
  "language_info": {
   "codemirror_mode": {
    "name": "ipython",
    "version": 3
   },
   "file_extension": ".py",
   "mimetype": "text/x-python",
   "name": "python",
   "nbconvert_exporter": "python",
   "pygments_lexer": "ipython3",
   "version": "3.9.7"
  }
 },
 "nbformat": 4,
 "nbformat_minor": 5
}
