{
 "cells": [
  {
   "cell_type": "markdown",
   "id": "9a56cc6f",
   "metadata": {},
   "source": [
    "# Workflow to calculate the quantum efficiency of a polycrystalline material"
   ]
  },
  {
   "cell_type": "code",
   "execution_count": 1,
   "id": "3a8845ba",
   "metadata": {},
   "outputs": [],
   "source": [
    "import subprocess\n",
    "\n",
    "from ase.calculators.castep import Castep\n",
    "from ase.atoms import Atoms\n",
    "from ase.io import read, write\n",
    "from ase.visualize import view\n",
    "from ase.build import surface\n",
    "import ase.calculators.castep\n",
    "import ase.io.castep\n",
    "\n",
    "from pymatgen.ext.matproj import MPRester\n",
    "from pymatgen.core import Lattice, Structure, Molecule\n",
    "from pymatgen.core.surface import SlabGenerator, generate_all_slabs\n",
    "from pymatgen.io.ase import AseAtomsAdaptor\n",
    "from pymatgen.analysis.wulff import WulffShape\n",
    "from pymatgen.io.ase import AseAtomsAdaptor\n",
    "from pymatgen.electronic_structure.bandstructure import BandStructure\n",
    "from pymatgen.symmetry.kpath import KPathLatimerMunro\n",
    "\n",
    "from wulffpack import SingleCrystal\n",
    "\n",
    "from functions import *"
   ]
  },
  {
   "cell_type": "markdown",
   "id": "d855d57c",
   "metadata": {},
   "source": [
    "I recommend using pymatgen to generate the bulk/slab and then convert it to an ASE atom object. The advantages of this approach are:\n",
    "- pymatgen has a better bulk/slab generation algorithm \n",
    "- castep can link a calculator to the Atom object\n"
   ]
  },
  {
   "cell_type": "markdown",
   "id": "fc13554c",
   "metadata": {},
   "source": [
    "#### Download and save .cif file for necessary materials"
   ]
  },
  {
   "cell_type": "code",
   "execution_count": 4,
   "id": "d0c78368",
   "metadata": {
    "scrolled": true
   },
   "outputs": [],
   "source": [
    "import json\n",
    "api_key = ''\n",
    "with MPRester(api_key) as m:\n",
    "    results = m.get_dos_by_material_id(\"mp-30\")\n",
    "#print(type(results))\n",
    "#res_json = results.as_dict()\n",
    "with open('./structures/jsons/DOS/Cu_bulk_dos_ref.json', 'w') as f:\n",
    "    json.dump(results.as_dict(), f)"
   ]
  },
  {
   "cell_type": "markdown",
   "id": "11bcded0",
   "metadata": {},
   "source": [
    "#### Generate the bulk structure and bulk input"
   ]
  },
  {
   "cell_type": "code",
   "execution_count": 3,
   "id": "59484dd1",
   "metadata": {},
   "outputs": [],
   "source": [
    "bulk = Structure.from_file(filename=\"Cu_metal_fcc.cif\")\n",
    "\n",
    "bulk_seed = 'Cu_test_pdos'\n",
    "bulk_castep_options = {\n",
    "    'directory': f\"./structures/{bulk_seed}\",\n",
    "    'label': bulk_seed,\n",
    "    # Param File Instructions\n",
    "    'task': 'Spectral', #Choose: SinglePoint, BandStructure, Spectral\n",
    "    'spectral_task' : 'DOS', #Choose if task is Spectral: DOS, BandStructure, Optics, CoreLoss, All \n",
    "    'xc_functional': 'PBE',\n",
    "    'energy_cutoff': 566,\n",
    "    'opt_strategy': 'Speed',\n",
    "    'fix_occup' : False,\n",
    "    'spin_polarized': False,\n",
    "    'max_scf_cycles': '100',\n",
    "    'write_potential': False,\n",
    "    'write_density': False,\n",
    "    'extra_bands': True,\n",
    "    'number_extra_bands': 20,\n",
    "    #Cell File Instructions\n",
    "    'kpoints': (9,9,9),\n",
    "    'snap_to_symmetry': False,\n",
    "    'fix_all_cell': False,\n",
    "    'continuation': False,\n",
    "    'bandstruct_path': 'GXWKGLUWLK',\n",
    "    'bandstruct_kpt_dist': 0.0184,\n",
    "    'spectral_kpt_grid': (10,10,10),\n",
    "    'calculate_pdos': True \n",
    "}\n",
    "bulk_PBS_options = {\n",
    "    'seed_name': bulk_seed,\n",
    "    'calc_seeds': [],\n",
    "    'tasks': ['Spectral', 'Optados'], #Choose one or multiple (carefully!): SinglePoint, BandStructure, Spectral, OptaDOS\n",
    "    'queue': 'debug',\n",
    "    'castep_version': 'castep_19'\n",
    "}\n",
    "OptaDOS_options = {\n",
    "    'seed_name': bulk_seed,\n",
    "    'optados_task': 'dos pdos', # Choose: dos(default), compare_dos, compare_jdos, jdos, pdos, optics, core, all\n",
    "    'broadening': 'adaptive', #Choose: adaptive(default), fixed, linear\n",
    "    'iprint': '1', #Choose: 1 - bare minimum, 2 - with progress reports, 3 - fulld debug output\n",
    "    'efermi': 'optados', #Choose: optados - recalculate, file - read from CASTEP file, insulator - count filled bands, float - supplied by user\n",
    "    'dos_spacing': '0.001', #DOS spacing in unit (default: eV): default - 0.1\n",
    "    'pdos': 'angular' #Choose: angular, species_ang, species, sites or more detailed descriptions such as: \n",
    "    #PDOS : sum:Si1-2(s) - sum of s-chnnls on 2 Si atms (1 proj), \n",
    "    #PDOS : Si1;Si2(s) - DOS on Si atom 1 and DOS on s-channel of Si atom 2 (2 proj) \n",
    "}\n",
    "generate_castep_input(calc_struct=AseAtomsAdaptor().get_atoms(bulk), **bulk_castep_options)\n",
    "generate_qsub_file(**bulk_PBS_options)\n",
    "generate_optados_input(OptaDOS_options)"
   ]
  },
  {
   "cell_type": "markdown",
   "id": "3ea28b4b",
   "metadata": {},
   "source": [
    "#### Generate the surface structure"
   ]
  },
  {
   "cell_type": "code",
   "execution_count": 3,
   "id": "488fdb63",
   "metadata": {},
   "outputs": [],
   "source": [
    "surface_111 = ase.build.surface(lattice = bulk, indices = (1,1,1), layers = 5, vacuum=10, tol=1e-10, periodic=True)#\n",
    "#view(surface_111)#, repeat=(5,5,1))\n",
    "super_surf_111 = surface_111.repeat((3,3,1))\n",
    "#view(super_surf_111)\n",
    "surface_100 = ase.build.surface(lattice = bulk, indices = (1,0,0), layers = 5, vacuum=10, tol=1e-10, periodic=True)#\n",
    "#view(surface, repeat=(5,5,1))\n",
    "super_surf_100 = surface_100.repeat((3,3,1))\n",
    "#view(super_surf_100)\n",
    "surface_110 = ase.build.surface(lattice = bulk, indices = (1,1,0), layers = 5, vacuum=10, tol=1e-10, periodic=True)#\n",
    "#view(surface, repeat=(5,5,1))\n",
    "super_surf_110 = surface_110.repeat((3,3,1))\n",
    "#view(super_surf_110)\n",
    "\n",
    "\n",
    "#ASE Atoms object for calculation\n",
    "surf_struct = surface_111\n",
    "surf_seed = 'Cu_111' # optional\n",
    "\n",
    "## Options for CASTEP files\n",
    "surf_castep_options = {\n",
    "    'directory': './structures/{}'.format(surf_seed),\n",
    "    'label': surf_seed,\n",
    "    # Param File Instructions\n",
    "    'task': 'SinglePoint',\n",
    "    'xc_functional': 'PBE',\n",
    "    'energy_cutoff': 600,\n",
    "    'opt_strategy': 'Speed',\n",
    "    'fix_occup' : 'FALSE',\n",
    "    'spin_polarized': 'FALSE',\n",
    "    'max_scf_cycles': '100',\n",
    "    'write_potential': False,\n",
    "    'write_density': False,\n",
    "    'extra_bands': True,\n",
    "    'number_extra_bands': 12,\n",
    "    #Cell File Instructions\n",
    "    'kpoints': (36,36,1),\n",
    "    'snap_to_symmetry': False,\n",
    "    'fix_all_cell': 'FALSE',\n",
    "    'continuation': False\n",
    "}\n",
    "\n",
    "surf_PBS_options = {\n",
    "    'seed_name': surf_seed,\n",
    "    'task' : 'SinglePoint',\n",
    "    'queue': 'short',\n",
    "    'program': 'castep_19',\n",
    "    'bandstructure': False\n",
    "}\n",
    "\n",
    "#generate_castep_input(calc_struct=surf_struct, **surf_castep_options)\n",
    "#generate_qsub_file(**surf_PBS_options)\n"
   ]
  },
  {
   "cell_type": "markdown",
   "id": "1dad63c5",
   "metadata": {},
   "source": [
    "#### Run the calculations"
   ]
  },
  {
   "cell_type": "code",
   "execution_count": null,
   "id": "20413184",
   "metadata": {},
   "outputs": [],
   "source": [
    "#folder_change_command = 'cd {}'.format(seed)\n",
    "#submit_command = 'qsub {}.qsub'.format(seed)\n",
    "\n",
    "#subprocess.call(folder_change_command)\n",
    "#subprocess.call(submit_command)\n",
    "#subprocess.call('cd ..')"
   ]
  },
  {
   "cell_type": "markdown",
   "id": "a4e4fa56",
   "metadata": {},
   "source": [
    "#### Extract the final energies"
   ]
  },
  {
   "cell_type": "code",
   "execution_count": 4,
   "id": "2b9c8d64",
   "metadata": {},
   "outputs": [],
   "source": [
    "bulk_tot_energy, bulk_fermi = get_energies(seed=bulk_seed)\n",
    "surf_111_tot_energy, surf_111_fermi = get_energies(seed=surf_seed)\n",
    "#print(bulk_tot_energy, surf_111_tot_energy)"
   ]
  },
  {
   "cell_type": "markdown",
   "id": "d04f1796",
   "metadata": {},
   "source": [
    "#### Calculate the surface energy"
   ]
  },
  {
   "cell_type": "code",
   "execution_count": 5,
   "id": "ec02c66c",
   "metadata": {},
   "outputs": [
    {
     "name": "stdout",
     "output_type": "stream",
     "text": [
      "The surface energy of the Cu_111 surface is: -0.24004830256445742 eV/Angstrom^2.\n",
      "This is equal to: -3.8459976483680305 J/m^2\n"
     ]
    }
   ],
   "source": [
    "surf_energy_111 = calc_surface_energy(bulk_tot_energy, surf_111_tot_energy,len(surface_111.numbers),surface_111.cell.volume / surface_111.cell[2][2])\n",
    "factor = 16.02176565\n",
    "print('The surface energy of the {} surface is: '.format(surf_seed) + str(surf_energy_111) + ' eV/Angstrom^2.\\n' + 'This is equal to: ' + str(surf_energy_111*factor) + ' J/m^2')\n"
   ]
  },
  {
   "cell_type": "markdown",
   "id": "0033b00a",
   "metadata": {},
   "source": [
    "#### Get the % of each surface from a  Wulff construction"
   ]
  },
  {
   "cell_type": "code",
   "execution_count": 12,
   "id": "2a877669",
   "metadata": {},
   "outputs": [
    {
     "name": "stdout",
     "output_type": "stream",
     "text": [
      "defaultdict(<class 'list'>, {(1, 0, 0): [0.1161, 0.26861878393086686], (1, 1, 0): [0.1211, 0.12715042821835945], (1, 1, 1): [0.1055, 0.6042307878507737]})\n"
     ]
    }
   ],
   "source": [
    "mat_structure = bulk\n",
    "facets_energies = {\n",
    "    (1,0,0) : 0.1161,\n",
    "    (1,1,0) : 0.1211,\n",
    "    (1,1,1) : 0.1055\n",
    "}\n",
    "facets_fractions = get_wulff_fractions(AseAtomsAdaptor().get_atoms(bulk), facets_energies)\n",
    "print(facets_fractions)"
   ]
  },
  {
   "cell_type": "markdown",
   "id": "3fb29d7a",
   "metadata": {},
   "source": [
    "#### Launch OptaDOS"
   ]
  },
  {
   "cell_type": "code",
   "execution_count": null,
   "id": "dddea01b",
   "metadata": {},
   "outputs": [],
   "source": []
  },
  {
   "cell_type": "markdown",
   "id": "55e75230",
   "metadata": {},
   "source": [
    "#### Get QE from OptaDOS output"
   ]
  },
  {
   "cell_type": "code",
   "execution_count": null,
   "id": "2cbebab9",
   "metadata": {},
   "outputs": [],
   "source": []
  },
  {
   "cell_type": "markdown",
   "id": "74d343e1",
   "metadata": {},
   "source": [
    "#### Calculate the weighted average QE"
   ]
  },
  {
   "cell_type": "code",
   "execution_count": null,
   "id": "47ac02c9",
   "metadata": {},
   "outputs": [],
   "source": []
  },
  {
   "cell_type": "markdown",
   "id": "356ca21b",
   "metadata": {},
   "source": [
    "#### Calculate and display plenty more properties (DOS, bands, ...)"
   ]
  },
  {
   "cell_type": "code",
   "execution_count": null,
   "id": "dea0c939",
   "metadata": {},
   "outputs": [],
   "source": []
  }
 ],
 "metadata": {
  "interpreter": {
   "hash": "f7eefe3ae6cbdb5efa91edbea213e67a987949e5fbb84a0e28a74792fd6a2674"
  },
  "kernelspec": {
   "display_name": "Python 3 (ipykernel)",
   "language": "python",
   "name": "python3"
  },
  "language_info": {
   "codemirror_mode": {
    "name": "ipython",
    "version": 3
   },
   "file_extension": ".py",
   "mimetype": "text/x-python",
   "name": "python",
   "nbconvert_exporter": "python",
   "pygments_lexer": "ipython3",
   "version": "3.9.7"
  }
 },
 "nbformat": 4,
 "nbformat_minor": 5
}
