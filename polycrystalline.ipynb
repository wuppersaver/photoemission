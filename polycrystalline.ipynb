{
 "cells": [
  {
   "attachments": {},
   "cell_type": "markdown",
   "metadata": {},
   "source": [
    "# Workflow to calculate the quantum efficiency of a polycrystalline material"
   ]
  },
  {
   "cell_type": "code",
   "execution_count": 1,
   "id": "83515260",
   "metadata": {},
   "outputs": [],
   "source": [
    "import subprocess\n",
    "#import nglview as nv\n",
    "from ase.calculators.castep import Castep\n",
    "from ase.atoms import Atoms\n",
    "from ase.io import read, write\n",
    "from ase.visualize import view\n",
    "from ase.build import surface\n",
    "import ase.calculators.castep\n",
    "import ase.io.castep\n",
    "from ase.io.castep import read_castep_cell\n",
    "import pandas as pd\n",
    "from mp_api.client import MPRester\n",
    "\n",
    "from pymatgen.core import Lattice, Structure, Molecule\n",
    "from pymatgen.core.surface import SlabGenerator, generate_all_slabs, Slab, miller_index_from_sites, get_d\n",
    "from pymatgen.core.interface import Interface\n",
    "from pymatgen.symmetry.analyzer import SpacegroupAnalyzer\n",
    "from pymatgen.io.ase import AseAtomsAdaptor\n",
    "from pymatgen.analysis.wulff import WulffShape\n",
    "from pymatgen.analysis.structure_matcher import *\n",
    "from pymatgen.io.ase import AseAtomsAdaptor\n",
    "from pymatgen.electronic_structure.bandstructure import BandStructure\n",
    "from pymatgen.symmetry.kpath import KPathLatimerMunro\n",
    "from pymatgen.vis.structure_chemview import quick_view\n",
    "#from wulffpack import SingleCrystal\n",
    "\n",
    "from python_functions import *\n",
    "from calculation_class import *\n",
    "#from ../../script_share/bs_plotter_felix_mod import *"
   ]
  },
  {
   "cell_type": "code",
   "execution_count": null,
   "id": "91666e46",
   "metadata": {},
   "outputs": [],
   "source": [
    "import xmlschema\n",
    "from xml.etree import ElementTree\n",
    "\n",
    "schema = xmlschema.XMLSchema('qes_210716.xsd')\n",
    "data = ElementTree.parse('./data-file-schema.xml').getroot()\n",
    "data_dict = schema.to_dict(data)"
   ]
  },
  {
   "cell_type": "code",
   "execution_count": null,
   "id": "ed102d20",
   "metadata": {},
   "outputs": [],
   "source": []
  },
  {
   "cell_type": "code",
   "execution_count": null,
   "id": "127827f8",
   "metadata": {},
   "outputs": [],
   "source": [
    "interface = Atoms('',positions=[],cell=[0, 0, 0],pbc=[1,1,1])"
   ]
  },
  {
   "cell_type": "code",
   "execution_count": null,
   "id": "ee320caa",
   "metadata": {},
   "outputs": [],
   "source": [
    "view(read('./test.xyz',index=':'))"
   ]
  },
  {
   "cell_type": "code",
   "execution_count": null,
   "id": "ecaf9fe4",
   "metadata": {},
   "outputs": [],
   "source": [
    "view(read('Cu_111_defective.xyz'))"
   ]
  },
  {
   "cell_type": "code",
   "execution_count": null,
   "id": "8ae1e32c",
   "metadata": {},
   "outputs": [],
   "source": [
    "pip install mp-api"
   ]
  },
  {
   "attachments": {},
   "cell_type": "markdown",
   "id": "b92b9a3e",
   "metadata": {},
   "source": [
    "I recommend using pymatgen to generate the bulk/slab and then convert it to an ASE atom object. The advantages of this approach are:\n",
    "- pymatgen has a better bulk/slab generation algorithm \n",
    "- castep can link a calculator to the Atom object\n"
   ]
  },
  {
   "attachments": {},
   "cell_type": "markdown",
   "id": "4f7ff4c2",
   "metadata": {},
   "source": [
    "#### Download and save .cif file for necessary materials"
   ]
  },
  {
   "cell_type": "code",
   "execution_count": null,
   "metadata": {},
   "outputs": [],
   "source": [
    "view(read('./structures/MgO_on_Cu/8L_Cu/CuMgO3.xyz'))"
   ]
  },
  {
   "cell_type": "code",
   "execution_count": null,
   "id": "b2612c0c",
   "metadata": {},
   "outputs": [],
   "source": [
    "cu_prim = Structure.from_file('./Cu_metal_fcc.cif')\n",
    "# view(AseAtomsAdaptor.get_atoms(cu_prim))"
   ]
  },
  {
   "cell_type": "code",
   "execution_count": null,
   "id": "407a411c",
   "metadata": {
    "scrolled": true
   },
   "outputs": [],
   "source": [
    "import json\n",
    "api_key = ''\n",
    "with MPRester(api_key) as mpr:\n",
    "    #results = m.get_dos_by_material_id(\"mp-30\")\n",
    "    results = mpr.materials.summary.search(material_ids=[\"mp-1265\"])\n",
    "    list_of_available_fields = mpr.summary.available_fields\n",
    "#print(list_of_available_fields)\n",
    "#print(results[0].structure)\n",
    "Ag_primitive_bulk = results[0].structure\n",
    "Ag_primitive_bulk.to(filename=\"./structures/data_files/materials/MgO_cell.cif\")\n",
    "print(Ag_primitive_bulk)\n",
    "print(type(Ag_primitive_bulk))\n",
    "# res_json = results.as_dict()\n",
    "# with open('./structures/jsons/materials/.json', 'w') as f:\n",
    "#     json.dump(results.as_dict(), f)"
   ]
  },
  {
   "cell_type": "code",
   "execution_count": null,
   "metadata": {},
   "outputs": [],
   "source": [
    "mgo = Structure.from_file('./structures/data_files/materials/MgO_cell.cif')\n",
    "mgo_conv = SpacegroupAnalyzer(mgo).get_conventional_standard_structure()\n",
    "view(AseAtomsAdaptor.get_atoms(mgo_conv))\n",
    "mgo"
   ]
  },
  {
   "cell_type": "code",
   "execution_count": null,
   "metadata": {},
   "outputs": [],
   "source": [
    "mg_100 = SlabGenerator(mgo_conv,[1,0,0],5,15,max_normal_search=90,center_slab=True).get_slab()"
   ]
  },
  {
   "cell_type": "code",
   "execution_count": null,
   "metadata": {},
   "outputs": [],
   "source": [
    "view(AseAtomsAdaptor.get_atoms(mg_100))"
   ]
  },
  {
   "cell_type": "code",
   "execution_count": null,
   "id": "2c032c66",
   "metadata": {},
   "outputs": [],
   "source": [
    "ag = read_cell2pmg('./structures/Graphene_super.cell')\n",
    "view(AseAtomsAdaptor.get_atoms(ag))"
   ]
  },
  {
   "cell_type": "code",
   "execution_count": null,
   "id": "e87db50c",
   "metadata": {},
   "outputs": [],
   "source": [
    "gaas = AseAtomsAdaptor.get_structure(read('./GaAs_conv_std.cif'))\n",
    "gaas.scale_lattice(5.653**3)\n",
    "print(gaas)\n",
    "gaas_prim = SpacegroupAnalyzer(gaas).find_primitive()\n",
    "print(gaas_prim)\n"
   ]
  },
  {
   "cell_type": "code",
   "execution_count": null,
   "id": "f4d70798",
   "metadata": {},
   "outputs": [],
   "source": [
    "seed = 'Ag100_new19e_relax'\n",
    "#structure = Structure.from_file(\"./structures/data_files/materials/Ag_primitive.cif\")\n",
    "#bulk = Structure.from_file(filename=\"Cu_metal_fcc.cif\")"
   ]
  },
  {
   "cell_type": "code",
   "execution_count": null,
   "id": "5b8eb22a",
   "metadata": {},
   "outputs": [],
   "source": [
    "structure = AseAtomsAdaptor.get_structure(read('./structures/Ag_bulk_eos/Ag_bulk_eos.xyz',index = -1))\n",
    "structure.to(filename = \"./structures/data_files/materials/Ag_bulk_minimum_eos.cif\")"
   ]
  },
  {
   "cell_type": "code",
   "execution_count": null,
   "id": "117c27c4",
   "metadata": {},
   "outputs": [],
   "source": [
    "mg_o = AseAtomsAdaptor.get_structure(read('./structures/MgO_bulk_eos/felix/MgO_bulk_eos.xyz', index=-1))\n",
    "mg_o_prim = SpacegroupAnalyzer(mg_o).get_primitive_standard_structure()\n",
    "mg_o_conv = SpacegroupAnalyzer(mg_o).get_conventional_standard_structure()\n",
    "mgo_100 = SlabGenerator(mg_o_conv,[1,0,0],5,15,max_normal_search=90,center_slab=True).get_slab()\n",
    "view(AseAtomsAdaptor.get_atoms(mgo_100))"
   ]
  },
  {
   "cell_type": "code",
   "execution_count": null,
   "id": "52355325",
   "metadata": {},
   "outputs": [],
   "source": [
    "view(AseAtomsAdaptor.get_atoms(mg_o_conv))\n",
    "view(AseAtomsAdaptor.get_atoms(cu_conv))"
   ]
  },
  {
   "cell_type": "code",
   "execution_count": null,
   "id": "be4428de",
   "metadata": {},
   "outputs": [],
   "source": [
    "from ase.visualize import view\n",
    "# optional\n",
    "from pymatgen.io.ase import AseAtomsAdaptor\n",
    "\n",
    "# AseAtomsAdaptor.get_atoms takes a pymatgen structure and returns an ASE atoms object\n",
    "# AseAtomsAdaptor.get_structure takes ASE atoms object and returns a pymatgen structure\n",
    "view(AseAtomsAdaptor.get_atoms(mgo_100))"
   ]
  },
  {
   "cell_type": "code",
   "execution_count": 2,
   "id": "86db8536",
   "metadata": {},
   "outputs": [
    {
     "name": "stdout",
     "output_type": "stream",
     "text": [
      "Full Formula (Cu1)\n",
      "Reduced Formula: Cu\n",
      "abc   :   2.536880   2.536880   2.536880\n",
      "angles:  60.000000  60.000000  60.000000\n",
      "pbc   :       True       True       True\n",
      "Sites (1)\n",
      "  #  SP      a    b    c\n",
      "---  ----  ---  ---  ---\n",
      "  0  Cu      0    0    0\n",
      "Slab Summary (Cu14)\n",
      "Reduced Formula: Cu\n",
      "Miller index: (1, 0, 0)\n",
      "Shift: 0.0000, Scale Factor: [[ 0 -1  0]\n",
      " [ 0  0 -1]\n",
      " [ 1  0  0]]\n",
      "abc   :   2.536880   2.536880  43.052280\n",
      "angles:  90.000000  90.000000  90.000000\n",
      "Sites (14)\n",
      "1 Cu     1.000000     0.000000     0.770833\n",
      "2 Cu     0.500000     0.500000     0.729167\n",
      "3 Cu     1.000000     0.000000     0.687500\n",
      "4 Cu     0.500000     0.500000     0.645833\n",
      "5 Cu     1.000000     0.000000     0.604167\n",
      "6 Cu     0.500000     0.500000     0.562500\n",
      "7 Cu     1.000000     0.000000     0.520833\n",
      "8 Cu     0.500000     0.500000     0.479167\n",
      "9 Cu     0.000000     1.000000     0.437500\n",
      "10 Cu     0.500000     0.500000     0.395833\n",
      "11 Cu     1.000000     0.000000     0.354167\n",
      "12 Cu     0.500000     0.500000     0.312500\n",
      "13 Cu     0.000000     1.000000     0.270833\n",
      "14 Cu     0.500000     0.500000     0.229167\n"
     ]
    }
   ],
   "source": [
    "cu_prim = AseAtomsAdaptor.get_structure(read('./Cu_prim_pc_rerelax.xyz'))\n",
    "view(AseAtomsAdaptor.get_atoms(cu_prim))\n",
    "cu_conv = SpacegroupAnalyzer(cu_prim).get_conventional_standard_structure()\n",
    "cu_conv.scale_lattice(3.58769**3)\n",
    "cu_prim = SpacegroupAnalyzer(cu_conv).get_primitive_standard_structure()\n",
    "print(cu_prim)\n",
    "# cu_conv.to_file('./structures/data_files/materials/Cu_conv.cif')\n",
    "cu_110 = SlabGenerator(cu_conv,[1,0,0],min_slab_size=25,min_vacuum_size=15,max_normal_search=90,center_slab=True).get_slab()\n",
    "print(cu_110)\n",
    "# print(cu_prim.lattice)\n",
    "# print(cu_prim)\n",
    "# print(cu_conv.lattice)\n",
    "# print(cu_conv)\n",
    "# print(cu_100)\n",
    "# view(AseAtomsAdaptor.get_atoms(cu_110))"
   ]
  },
  {
   "cell_type": "code",
   "execution_count": null,
   "metadata": {},
   "outputs": [],
   "source": []
  },
  {
   "cell_type": "code",
   "execution_count": null,
   "id": "156a0122",
   "metadata": {},
   "outputs": [],
   "source": [
    "view(AseAtomsAdaptor.get_atoms(cu_100))"
   ]
  },
  {
   "cell_type": "code",
   "execution_count": null,
   "id": "2caca1db",
   "metadata": {},
   "outputs": [],
   "source": [
    "cu_conv.scale_lattice(3.4451**3)\n",
    "print(cu_conv)\n",
    "print(cu_conv_con)"
   ]
  },
  {
   "cell_type": "code",
   "execution_count": null,
   "id": "81f02cda",
   "metadata": {},
   "outputs": [],
   "source": [
    "ag = read_cell2pmg('./structures/Ag_convergence/Ag_bulk.cell')\n",
    "ag_conv = SpacegroupAnalyzer(ag).get_conventional_standard_structure()\n",
    "ag_prim = SpacegroupAnalyzer(ag).get_primitive_standard_structure()\n",
    "ag_100 = SlabGenerator(ag_conv,[1,0,0],18,15,max_normal_search=90,center_slab = True).get_slab()\n",
    "#view(AseAtomsAdaptor.get_atoms(ag_100))"
   ]
  },
  {
   "cell_type": "code",
   "execution_count": null,
   "id": "836ab6c4",
   "metadata": {},
   "outputs": [],
   "source": [
    "from pymatgen.analysis.interfaces.substrate_analyzer import SubstrateAnalyzer\n",
    "\n",
    "sub_analyzer = SubstrateAnalyzer()\n",
    "matches = list(sub_analyzer.calculate(film=mgo_conv,substrate=cu_conv,film_millers=[(1,0,0)],substrate_millers=[(1,0,0)]))\n",
    "len(matches)"
   ]
  },
  {
   "cell_type": "code",
   "execution_count": null,
   "id": "0749915f",
   "metadata": {},
   "outputs": [],
   "source": [
    "matches[1].as_dict()"
   ]
  },
  {
   "cell_type": "code",
   "execution_count": null,
   "id": "4bc240f0",
   "metadata": {},
   "outputs": [],
   "source": [
    "help(matches[0])"
   ]
  },
  {
   "cell_type": "code",
   "execution_count": null,
   "id": "2395f83d",
   "metadata": {},
   "outputs": [],
   "source": [
    "help(SubstrateAnalyzer)"
   ]
  },
  {
   "cell_type": "code",
   "execution_count": null,
   "id": "2cc3d21b",
   "metadata": {},
   "outputs": [],
   "source": [
    "from pymatgen.analysis.interfaces.coherent_interfaces import CoherentInterfaceBuilder\n",
    "from pymatgen.analysis.interfaces.zsl import ZSLGenerator\n",
    "\n",
    "zsl = ZSLGenerator()\n",
    "cib = CoherentInterfaceBuilder(film_structure=mgo_conv,\n",
    "                               substrate_structure=cu_conv,\n",
    "                               film_miller=(1,0,0),\n",
    "                               substrate_miller=(1,0,0),\n",
    "                               zslgen=zsl)"
   ]
  },
  {
   "cell_type": "code",
   "execution_count": null,
   "id": "780908b6",
   "metadata": {},
   "outputs": [],
   "source": [
    "cib.terminations"
   ]
  },
  {
   "cell_type": "code",
   "execution_count": null,
   "id": "4ecdc3d4",
   "metadata": {},
   "outputs": [],
   "source": [
    "cib.__dict__['zsl_matches']"
   ]
  },
  {
   "cell_type": "code",
   "execution_count": null,
   "id": "7b3ea445",
   "metadata": {},
   "outputs": [],
   "source": [
    "view(AseAtomsAdaptor.get_atoms(mg_o_conv))"
   ]
  },
  {
   "cell_type": "code",
   "execution_count": null,
   "id": "ec6e4a05",
   "metadata": {},
   "outputs": [],
   "source": [
    "cu_film = read('./Cu_scaled_4x.xyz')\n",
    "mgo_1 = read('./MgO_3l_1x.xyz')\n",
    "mgo_2 = read('./MgO_2l_3x.xyz')\n",
    "mgo_3 = read('./MgO_3l_3x.xyz')"
   ]
  },
  {
   "cell_type": "code",
   "execution_count": null,
   "id": "9927c9dd",
   "metadata": {},
   "outputs": [],
   "source": [
    "view(read('./MgO_1_Cu_O_term.xyz'))"
   ]
  },
  {
   "cell_type": "code",
   "execution_count": null,
   "id": "10de8601",
   "metadata": {},
   "outputs": [],
   "source": [
    "file = './MgO_1_Cu_O_term.xyz'\n",
    "mgo_1 = read(file)\n",
    "mgo_1.set_positions(mgo_1.get_positions(wrap=True))\n",
    "# view(mgo_1)\n",
    "write(file,mgo_1)"
   ]
  },
  {
   "cell_type": "code",
   "execution_count": null,
   "id": "dede4cfa",
   "metadata": {},
   "outputs": [],
   "source": [
    "positions = mgo_1.get_positions()\n",
    "print(positions.shape)\n",
    "for i in range(positions.shape[0]):\n",
    "    positions[i,2] += 15\n",
    "mgo_1.set_positions(positions)\n"
   ]
  },
  {
   "cell_type": "code",
   "execution_count": null,
   "id": "176c2a2c",
   "metadata": {},
   "outputs": [],
   "source": [
    "interface1 = cu_film + mgo_3\n",
    "view(interface1)"
   ]
  },
  {
   "cell_type": "code",
   "execution_count": null,
   "id": "e8d604c5",
   "metadata": {},
   "outputs": [],
   "source": [
    "from tqdm import tqdm\n",
    "\n",
    "def find_matching_latparam(a:float,b:float,perc_range:int,a_label:str,b_label:str):\n",
    "    a = int(round(a*10000,0))\n",
    "    b = int(round(b*10000,0))\n",
    "    a_range = np.arange(int((1-0.01*perc_range)*a),int((1+0.01*perc_range)*a))\n",
    "    b_range = np.arange(int((1-0.01*perc_range)*b),int((1+0.01*perc_range)*b))\n",
    "    lcms = np.zeros((len(a_range),len(b_range)))\n",
    "    dic_list=[]\n",
    "    for i,a_i in tqdm(enumerate(a_range),desc=\"Calc LCM\"):\n",
    "        lcms[i,:] = np.lcm(a_i,b_range)\n",
    "    for a_i in tqdm(range(len(a_range)),desc=\"Create DF entries\"):\n",
    "        for b_i in range(len(b_range)):\n",
    "            loc_lcm = lcms[a_i,b_i]\n",
    "            a_fac = loc_lcm/a_range[a_i]\n",
    "            b_fac = loc_lcm/b_range[b_i]\n",
    "            if abs(a_fac) < 10 and abs(b_fac) < 10:\n",
    "                dic_list.append({f\"{a_label} lat\":a_range[a_i]/10000,\n",
    "                                    f'{b_label} lat': b_range[b_i]/10000,\n",
    "                                    'LCM':loc_lcm,\n",
    "                                    f'{a_label} factor':a_fac,\n",
    "                                    f'{b_label} factor':b_fac,\n",
    "                                    f'{a_label} strain':abs(round(((a_range[a_i]/a)-1)*100,3)),\n",
    "                                    f'{b_label} strain':abs(round(((b_range[b_i]/b)-1)*100,3)),\n",
    "                                    })\n",
    "    return pd.DataFrame.from_dict(dic_list)"
   ]
  },
  {
   "cell_type": "code",
   "execution_count": null,
   "id": "64056590",
   "metadata": {},
   "outputs": [],
   "source": [
    "df_2 = find_matching_latparam(2.43598,2.96561,5,'Cu','MgO')"
   ]
  },
  {
   "cell_type": "code",
   "execution_count": null,
   "id": "5ec0b12d",
   "metadata": {},
   "outputs": [],
   "source": [
    "df_2.sort_values(by=['MgO strain','Cu strain']).head(150)"
   ]
  },
  {
   "cell_type": "code",
   "execution_count": null,
   "metadata": {},
   "outputs": [],
   "source": [
    "8.7830611/(2.43598*np.cos(np.deg2rad(58.9975)))"
   ]
  },
  {
   "cell_type": "code",
   "execution_count": null,
   "id": "82d55bfe",
   "metadata": {},
   "outputs": [],
   "source": [
    "from tqdm import tqdm\n",
    "cu = 25194\n",
    "mgo = 32575\n",
    "cu_range = np.arange(int(0.95*cu),int(1.05*cu))\n",
    "mgo_range = np.arange(int(0.95*mgo),int(1.05*mgo))\n",
    "df_2 = pd.DataFrame(columns=['Cu lat','MgO lat','LCM','Cu factor','MgO factor','Cu strain','MgO strain'])\n",
    "lcms = np.zeros((len(cu_range),len(mgo_range)))\n",
    "dic_list=[]\n",
    "for i,cu_i in tqdm(enumerate(cu_range),desc=\"LCM:\"):\n",
    "    lcms[i,:] = np.lcm(cu_i,mgo_range)\n",
    "for cu_i in tqdm(range(len(cu_range)),desc=\"Cu:\"):\n",
    "    for mgo_i in range(len(mgo_range)):\n",
    "        loc_lcm = lcms[cu_i,mgo_i]\n",
    "        cu_fac = loc_lcm/cu_range[cu_i]\n",
    "        mgo_fac = loc_lcm/mgo_range[mgo_i]\n",
    "        if abs(cu_fac) < 10 and abs(mgo_fac) < 10:\n",
    "            dic_list.append({\"Cu lat\":cu_range[cu_i]/10000,\n",
    "                                 'MgO lat': mgo_range[mgo_i]/10000,\n",
    "                                 'LCM':loc_lcm,\n",
    "                                 'Cu factor':cu_fac,\n",
    "                                 'MgO factor':mgo_fac,\n",
    "                                 'Cu strain':abs(round(((cu_range[cu_i]/cu)-1)*100,3)),\n",
    "                                 'MgO strain':abs(round(((mgo_range[mgo_i]/mgo)-1)*100,3)),\n",
    "                                 })\n",
    "df_2 = pd.DataFrame.from_dict(dic_list)"
   ]
  },
  {
   "cell_type": "code",
   "execution_count": null,
   "id": "d8cb3fc1",
   "metadata": {},
   "outputs": [],
   "source": [
    "df_2.sort_values(by=['MgO strain','MgO factor']).head(50)"
   ]
  },
  {
   "cell_type": "code",
   "execution_count": null,
   "id": "c378ce09",
   "metadata": {},
   "outputs": [],
   "source": [
    "for match in cib.zsl_matches[:10]:\n",
    "    print(match.match_area)"
   ]
  },
  {
   "cell_type": "code",
   "execution_count": null,
   "metadata": {},
   "outputs": [],
   "source": [
    "view(read('./AgMgO100_2-out.cif'))"
   ]
  },
  {
   "cell_type": "code",
   "execution_count": null,
   "id": "07e77935",
   "metadata": {},
   "outputs": [],
   "source": [
    "generator = list(cib.get_interfaces(termination=cib.terminations[0],gap=2.5,substrate_thickness=8,film_thickness=3))"
   ]
  },
  {
   "cell_type": "code",
   "execution_count": null,
   "id": "be82a089",
   "metadata": {},
   "outputs": [],
   "source": [
    "interface_8 = generator[0]\n",
    "interface_8.translate_sites(range(len(interface_8)),[0,0,0])\n",
    "view(AseAtomsAdaptor.get_atoms(interface_8))"
   ]
  },
  {
   "cell_type": "code",
   "execution_count": null,
   "metadata": {},
   "outputs": [],
   "source": [
    "interface_new = generator[0]"
   ]
  },
  {
   "cell_type": "code",
   "execution_count": null,
   "metadata": {},
   "outputs": [],
   "source": [
    "interface_new.interface_properties"
   ]
  },
  {
   "cell_type": "code",
   "execution_count": null,
   "metadata": {},
   "outputs": [],
   "source": [
    "view(AseAtomsAdaptor.get_atoms(interface_new))"
   ]
  },
  {
   "cell_type": "code",
   "execution_count": null,
   "id": "149a5196",
   "metadata": {},
   "outputs": [],
   "source": [
    "view(AseAtomsAdaptor.get_atoms(generator))"
   ]
  },
  {
   "cell_type": "code",
   "execution_count": null,
   "id": "435d668b",
   "metadata": {},
   "outputs": [],
   "source": [
    "generator"
   ]
  },
  {
   "cell_type": "code",
   "execution_count": null,
   "id": "e9897c57",
   "metadata": {},
   "outputs": [],
   "source": [
    "# interface = list(cib.get_interfaces(termination=cib.terminations[0], substrate_thickness=8))\n",
    "interface = cib.get_interfaces(termination=cib.terminations[0], substrate_thickness=8, film_thickness=2, vacuum_over_film=12)"
   ]
  },
  {
   "cell_type": "code",
   "execution_count": null,
   "id": "9507ef50",
   "metadata": {},
   "outputs": [],
   "source": []
  },
  {
   "cell_type": "code",
   "execution_count": null,
   "id": "44dd570f",
   "metadata": {},
   "outputs": [],
   "source": [
    "interface_2 = cib.get_interfaces(termination=cib.terminations[0], substrate_thickness=16, film_thickness=2, vacuum_over_film=12)"
   ]
  },
  {
   "cell_type": "code",
   "execution_count": null,
   "id": "fa46449c",
   "metadata": {},
   "outputs": [],
   "source": [
    "interface_8 = list(interface)\n",
    "interface_8.translate_sites(range(len(interface_8)),[0,0,0])\n",
    "view(AseAtomsAdaptor.get_atoms(interface_8))"
   ]
  },
  {
   "cell_type": "code",
   "execution_count": null,
   "id": "d09a8f69",
   "metadata": {},
   "outputs": [],
   "source": [
    "interface_16 = interface_2[0]\n",
    "interface_16.translate_sites(range(len(interface_16)),[0,0,0])\n",
    "view(AseAtomsAdaptor.get_atoms(interface_16))"
   ]
  },
  {
   "cell_type": "code",
   "execution_count": null,
   "id": "c859fee0",
   "metadata": {},
   "outputs": [],
   "source": [
    "for j in range(2):\n",
    "    for i in range(1,7):\n",
    "        interface = list(cib.get_interfaces(termination=cib.terminations[j], substrate_thickness=8, film_thickness=i, vacuum_over_film=12))[0]\n",
    "        interface.translate_sites(range(len(interface)),[0,0,0])\n",
    "        write(f'./structures/MgO_on_Cu/MgO_{i}_term_{cib.terminations[j][0]}_Cu_8_100_slab.xyz', AseAtomsAdaptor.get_atoms(interface))"
   ]
  },
  {
   "cell_type": "code",
   "execution_count": null,
   "id": "2b3090d0",
   "metadata": {},
   "outputs": [],
   "source": [
    "c = read('./structures/MgO_on_Cu/Double_MgO_1_term_O2_R-3m_1_Cu_8_100_slab.xyz')\n",
    "# c.center(axis=2)\n",
    "view(c)\n",
    "# write('./structures/MgO_on_Cu/MgO_2_centered.xyz',c)"
   ]
  },
  {
   "cell_type": "code",
   "execution_count": null,
   "id": "abf42ffa",
   "metadata": {},
   "outputs": [],
   "source": [
    "view()"
   ]
  },
  {
   "cell_type": "code",
   "execution_count": null,
   "id": "2b643a7c",
   "metadata": {},
   "outputs": [],
   "source": [
    "ase.spacegroup.get_spacegroup(c)"
   ]
  },
  {
   "cell_type": "code",
   "execution_count": null,
   "id": "87a1a4d6",
   "metadata": {},
   "outputs": [],
   "source": [
    "cu = read('./Cu_symm_test.xyz')\n",
    "cu.get_cell_lengths_and_angles()\n",
    "# view(cu)"
   ]
  },
  {
   "cell_type": "code",
   "execution_count": null,
   "id": "0ba5bab8",
   "metadata": {},
   "outputs": [],
   "source": []
  },
  {
   "cell_type": "code",
   "execution_count": null,
   "id": "a3967c2d",
   "metadata": {},
   "outputs": [],
   "source": [
    "from ase.spacegroup import get_spacegroup\n",
    "\n",
    "get_spacegroup(read('./MgO1_Cu_symm_test.xyz'),symprec=1e-1)"
   ]
  },
  {
   "cell_type": "code",
   "execution_count": null,
   "id": "c9fa8fcb",
   "metadata": {},
   "outputs": [],
   "source": [
    "sg = ase.spacegroup.get_spacegroup(read('./structures/MgO_on_Cu/8L_Cu/Cu100/Cu100_1.cell',format='castep-cell'),symprec=1e-3)\n",
    "sg"
   ]
  },
  {
   "cell_type": "code",
   "execution_count": null,
   "id": "284fd9ec",
   "metadata": {},
   "outputs": [],
   "source": [
    "plot = read('./structures/MgO_on_Cu/8L_Cu/Cu100/Cu100-out.cif')\n",
    "view(plot)"
   ]
  },
  {
   "cell_type": "code",
   "execution_count": null,
   "id": "31274ca0",
   "metadata": {},
   "outputs": [],
   "source": [
    "view(read('./AgMgO1_geometry.cell',format='castep-cell'))"
   ]
  },
  {
   "cell_type": "code",
   "execution_count": null,
   "id": "59b4da70",
   "metadata": {},
   "outputs": [],
   "source": [
    "from ase.spacegroup import Spacegroup\n",
    "sg = Spacegroup(12)\n",
    "print(sg)"
   ]
  },
  {
   "cell_type": "code",
   "execution_count": null,
   "id": "5ed647ce",
   "metadata": {},
   "outputs": [],
   "source": [
    "sg = ase.spacegroup.get_spacegroup(c,symprec=1)\n",
    "sg"
   ]
  },
  {
   "cell_type": "code",
   "execution_count": null,
   "id": "18c89f9c",
   "metadata": {},
   "outputs": [],
   "source": [
    "c.todict()"
   ]
  },
  {
   "cell_type": "code",
   "execution_count": null,
   "id": "6dc9741f",
   "metadata": {},
   "outputs": [],
   "source": [
    "interface_2 = interfaces[0]\n",
    "interface_2.translate_sites(range(len(interface_2)),[0,0,0])\n",
    "view(AseAtomsAdaptor.get_atoms(interface_2))\n",
    "interface_2"
   ]
  },
  {
   "cell_type": "code",
   "execution_count": null,
   "id": "a8943744",
   "metadata": {},
   "outputs": [],
   "source": []
  },
  {
   "cell_type": "code",
   "execution_count": null,
   "id": "f424d166",
   "metadata": {},
   "outputs": [],
   "source": [
    "view(AseAtomsAdaptor.get_atoms(interface))"
   ]
  },
  {
   "cell_type": "code",
   "execution_count": null,
   "id": "d34fb10b",
   "metadata": {},
   "outputs": [],
   "source": [
    "victor = read_cell2pmg('./structures/AgMgO_interface/AgMgO100.cell')\n",
    "view(AseAtomsAdaptor.get_atoms(victor))"
   ]
  },
  {
   "cell_type": "code",
   "execution_count": null,
   "id": "8a39ac09",
   "metadata": {},
   "outputs": [],
   "source": [
    "interface_half = read('./CuMgO_half_slab.xyz')\n",
    "for position in interface_half.get_scaled_positions():\n",
    "    print(position[2])"
   ]
  },
  {
   "cell_type": "markdown",
   "id": "0e22d15c",
   "metadata": {},
   "source": []
  },
  {
   "cell_type": "code",
   "execution_count": null,
   "id": "3cb446ee",
   "metadata": {},
   "outputs": [],
   "source": [
    "help(CoherentInterfaceBuilder)"
   ]
  },
  {
   "cell_type": "code",
   "execution_count": null,
   "id": "e1e8902e",
   "metadata": {},
   "outputs": [],
   "source": [
    "matcher = StructureMatcher(attempt_supercell=True)"
   ]
  },
  {
   "cell_type": "code",
   "execution_count": null,
   "id": "4f083958",
   "metadata": {},
   "outputs": [],
   "source": [
    "view(AseAtomsAdaptor.get_atoms(cu_100))"
   ]
  },
  {
   "cell_type": "code",
   "execution_count": null,
   "id": "bdfc72f8",
   "metadata": {},
   "outputs": [],
   "source": [
    "layered_structure = AseAtomsAdaptor.get_atoms(ag_100) + AseAtomsAdaptor.get_atoms(mgo_100)\n",
    "view(layered_structure)"
   ]
  },
  {
   "cell_type": "code",
   "execution_count": null,
   "id": "1f53b1c4",
   "metadata": {},
   "outputs": [],
   "source": [
    "view(read('./MgO_Ag100_interface.xyz'))"
   ]
  },
  {
   "cell_type": "code",
   "execution_count": null,
   "id": "57c4aa2b",
   "metadata": {},
   "outputs": [],
   "source": [
    "#primitive_cell = Structure.from_file(\"./structures/data_files/materials/Ag_bulk_minimum_eos.cif\")\n",
    "primitive_cell = Structure.from_file(\"./structures/data_files/materials/Ag_primitive.cif\")\n",
    "primitive_cell.scale_lattice(16.6283)\n",
    "print(primitive_cell)\n",
    "conv_cell = SpacegroupAnalyzer(primitive_cell).get_conventional_standard_structure()\n",
    "#conv_cell"
   ]
  },
  {
   "cell_type": "code",
   "execution_count": null,
   "id": "b3611b7d",
   "metadata": {},
   "outputs": [],
   "source": [
    "view(AseAtomsAdaptor.get_atoms(primitive_cell))\n",
    "view(AseAtomsAdaptor.get_atoms(conv_cell))\n"
   ]
  },
  {
   "cell_type": "code",
   "execution_count": null,
   "id": "2cc36f58",
   "metadata": {},
   "outputs": [],
   "source": [
    "from ase.build import bulk\n",
    "\n",
    "a1 = bulk('Cu', 'fcc', a=3.6)\n",
    "\n",
    "a2 = bulk('Cu', 'fcc', a=3.6, orthorhombic=True)\n",
    "\n",
    "a3 = bulk('Cu', 'fcc', a=3.6, cubic=True)"
   ]
  },
  {
   "cell_type": "code",
   "execution_count": null,
   "id": "f8d5f953",
   "metadata": {},
   "outputs": [],
   "source": [
    "a1"
   ]
  },
  {
   "cell_type": "code",
   "execution_count": null,
   "id": "dc447358",
   "metadata": {},
   "outputs": [],
   "source": [
    "structure = SlabGenerator(conv_cell,[1,1,1],18,20,max_normal_search=90,center_slab=True).get_slab()\n",
    "view(AseAtomsAdaptor.get_atoms(structure))"
   ]
  },
  {
   "attachments": {},
   "cell_type": "markdown",
   "id": "df0d702e",
   "metadata": {},
   "source": [
    "## Build Cu Supercells"
   ]
  },
  {
   "cell_type": "code",
   "execution_count": null,
   "id": "5e863dca",
   "metadata": {},
   "outputs": [],
   "source": [
    "seed = 'Cu100_od_rerun'"
   ]
  },
  {
   "cell_type": "code",
   "execution_count": null,
   "id": "4c287513",
   "metadata": {},
   "outputs": [],
   "source": [
    "filename = \"C:/Users/fcm19/Desktop/MgO_bulk_eos_geometry.cell\"\n",
    "agmgo_int = read_cell2pmg(filename)\n",
    "view(AseAtomsAdaptor.get_atoms(agmgo_int))"
   ]
  },
  {
   "attachments": {},
   "cell_type": "markdown",
   "id": "38a2fce3",
   "metadata": {},
   "source": [
    "## Calculation Setup"
   ]
  },
  {
   "attachments": {},
   "cell_type": "markdown",
   "id": "fcdb2748",
   "metadata": {},
   "source": [
    "### Set up the structure"
   ]
  },
  {
   "cell_type": "code",
   "execution_count": null,
   "id": "b32330dd",
   "metadata": {},
   "outputs": [],
   "source": [
    "calc_geometry = read_cell2pmg('./structures/AgMgO_interface/victor_qe/AgMgO/8/AgMgO8.cell')\n",
    "calc_geometry = AseAtomsAdaptor.get_atoms(calc_geometry)\n",
    "positions = calc_geometry.get_positions()\n",
    "positions[:,2] = positions[:,2] + calc_geometry.get_cell()[2,2]/2\n",
    "calc_geometry.set_positions(positions)\n",
    "#cart_coords[:,2] = calc_geometry.cart_coords[:,2]+calc_geometry.lattice.c/2\n",
    "calc_geometry = AseAtomsAdaptor.get_structure(calc_geometry)\n",
    "calc_geometry"
   ]
  },
  {
   "cell_type": "code",
   "execution_count": null,
   "id": "4ae0580b",
   "metadata": {},
   "outputs": [],
   "source": [
    "seed = 'AgMgO8'"
   ]
  },
  {
   "cell_type": "code",
   "execution_count": null,
   "id": "3a38902f",
   "metadata": {},
   "outputs": [],
   "source": [
    "GeneralOptions = {\n",
    "    'seed'                      : seed,\n",
    "    'directory'                 : f\"./structures/AgMgO_interface/felix_new/{seed}/\",\n",
    "    'tasks'                     : ['Geometry','Spectral','OD_Fermi','Workfunction','OD_Photo_Sweep'],\n",
    "    #'tasks' : ['Geometry','Spectral','OD_Fermi','Workfunction','OD_Photo','BandStructure'],\n",
    "    'template_scripts'          : True\n",
    "}"
   ]
  },
  {
   "cell_type": "code",
   "execution_count": null,
   "id": "2d9c1f8c",
   "metadata": {},
   "outputs": [],
   "source": [
    "CastepOptions = {\n",
    "    'run_time'                  : 7.5,          # in hours\n",
    "    'backup_interval'           : 1,            # in hours\n",
    "    'xc_functional'             : 'PBEsol',     # LDA, PBE, PBEsol\n",
    "    'energy_cutoff'             : 825,\n",
    "    'elec_energy_tol'           : 1e-8,\n",
    "    'opt_strategy'              : 'Speed',\n",
    "    'fix_occup'                 : False,\n",
    "    'metals_method'             : 'DM',         # Default - EDFT; if FIX_OCCUPANCY : FALSE, the default is DM\n",
    "    'mixing_scheme'             : 'Broydon',    # Choose from Broydon or Pulay - Default: Broydon\n",
    "    'smearing_width'            : 300,\n",
    "    'extra_bands'               : True,\n",
    "    'percent_extra_bands'       : 100,\n",
    "    'max_scf_cycles'            : 1000,\n",
    "    'spin_polarized'            : False,\n",
    "    'write_potential'           : True,\n",
    "    'write_density'             : True,\n",
    "    'spectral_task'             : 'optics',     # Choose if task is Spectral: DOS, BandStructure, Optics, CoreLoss, All\n",
    "    'calculate_pdos'            : True,\n",
    "    'continuation'              : False,\n",
    "    'grid_scale'                : 2.0,\n",
    "    'fine_grid_scale'           : 3.0,\n",
    "    #Cell File Instructions\n",
    "    'scf_kpoints'               : 'MP',         # Choose from MP, list or path\n",
    "    'spectral_kpoints'          : 'MP',         # Choose from MP, list or path\n",
    "    'generate_symmetry'         : False,\n",
    "    'snap_to_symmetry'          : False,\n",
    "    'fix_all_cell'              : True,\n",
    "    #'bandstruct_path': 'WLGXWK',\n",
    "    'bandstruct_path'           : 'XGMX',\n",
    "    'bandstruct_kpt_dist'       : 0.05, \n",
    "    # Kpoint options\n",
    "    'offset_mp_grid'            : True,         # If set to true, the MP grids are offset by half a grid step by default\n",
    "    'kpoint_mp_grid'            : (16,16,1),\n",
    "    'spectral_kpoint_mp_grid'   : (16,16,1),\n",
    "      \n",
    "}\n",
    "if CastepOptions['offset_mp_grid']:\n",
    "    kpts = CastepOptions['kpoints']\n",
    "    spec = CastepOptions['spectral_kpoint_mp_grid']\n",
    "    offset_kpts = ['0','0','0']\n",
    "    offset_spec = ['0','0','0']\n",
    "    for i in range(3):\n",
    "        if kpts[i]%2 == 0: '1/'+str(kpts[i]*2)\n",
    "    CastepOptions['kpoint_mp_offset'] = offset_kpts\n",
    "    CastepOptions['spectral_kpoint_mp_offset'] = offset_spec"
   ]
  },
  {
   "cell_type": "code",
   "execution_count": null,
   "id": "54024c3d",
   "metadata": {},
   "outputs": [],
   "source": [
    "WorkfunctionOptions = {\n",
    "    'modify_odi'                : True,\n",
    "    'centered_structure'        : True,\n",
    "    }"
   ]
  },
  {
   "cell_type": "code",
   "execution_count": null,
   "id": "14c78fb1",
   "metadata": {},
   "outputs": [],
   "source": [
    "OptaDosOptions = {\n",
    "    'optados_task'              : 'dos jdos pdos optics',   # Choose: dos(default), compare_dos, compare_jdos, jdos, pdos, optics, core, all\n",
    "    'broadening'                : 'adaptive',               # Choose: adaptive(default), fixed, linear\n",
    "    'iprint'                    : '1',                      # Choose: 1 - bare minimum, 2 - with progress reports, 3 - fulld debug output\n",
    "    'efermi'                    : 'optados',                # Choose: optados - recalculate, file - read from CASTEP file, insulator - count filled bands, float - supplied by user\n",
    "    'dos_spacing'               : '0.01',                   # DOS spacing in unit (default: eV): default - 0.1\n",
    "    'pdos'                      : 'angular',                # Choose: angular, species_ang, species, sites or more detailed descriptions such as: \n",
    "    'dos_per_volume'            : 'true',                   # PDOS : sum:Si1-2(s) - sum of s-chnnls on 2 Si atms (1 proj), #PDOS : Si1;Si2(s) - DOS on Si atom 1 and DOS on s-channel of Si atom 2 (2 proj)\n",
    "\n",
    "    'photo_options': {\n",
    "        'jdos_spacing'          : 0.1,\n",
    "        'jdos_max_energy'       : 25,\n",
    "        # Choices: fixed, linear, adaptive\n",
    "        'broadening'            : 'linear',\n",
    "        'hybrid_linear'         : True,\n",
    "        'linear_smearing'       : 0.026,\n",
    "        'optics_intraband'      : True,\n",
    "        'optics_geom'           : 'unpolar',\n",
    "        'optics_qdir'           : [1, 1.000, 1.0000],\n",
    "        'photo_photon_energy'   : 4.7,\n",
    "        'photo_work_function'   : 4.556,\n",
    "        'photo_surface_area'    : 6.339744873,\n",
    "        'photo_slab_volume'     : 190.942338,\n",
    "        'photo_elec_field'      : 0.0,\n",
    "        'photo_imfp_const'      : 6.13,\n",
    "        'photo_model'           : ['1step','3step'],\n",
    "        'photo_momentum'        : 'crystal',\n",
    "        'photo_temperature'     : 300,\n",
    "        'photo_theta_lower'     : 59,\n",
    "        'photo_theta_upper'     : 61,\n",
    "        'iprint'                : 3,\n",
    "        'use_devel_flag'        : True,\n",
    "        # Choose: print_qe_+(constituents,formula_values,matrix_full,matrix_reduced), multi_out\n",
    "        # These can be strung together separated by a space\n",
    "        'devel_flag'            : 'print_qe_matrix_reduced multi_out',\n",
    "        },\n",
    "\n",
    "    'sweep_options': {\n",
    "        'parameter'             : 'photon_energy', # choose photon_energy (WIP: or temp or elec_field or work_function)\n",
    "        'min'                   : 2.7,\n",
    "        'max'                   : 6.0,\n",
    "        'stepsize'              : 0.1,\n",
    "        'directory'             : './',\n",
    "        },\n",
    "}"
   ]
  },
  {
   "cell_type": "code",
   "execution_count": null,
   "id": "e342aa55",
   "metadata": {},
   "outputs": [],
   "source": [
    "calculation = PhotoemissionCalculation(calc_geometry, GeneralOptions, CastepOptions, WorkfunctionOptions, OptaDosOptions)\n",
    "generate_input_files(**calculation.options)"
   ]
  },
  {
   "attachments": {},
   "cell_type": "markdown",
   "metadata": {},
   "source": [
    "#### Generate the surface structure"
   ]
  },
  {
   "cell_type": "code",
   "execution_count": null,
   "metadata": {},
   "outputs": [],
   "source": []
  },
  {
   "cell_type": "code",
   "execution_count": null,
   "metadata": {},
   "outputs": [],
   "source": [
    "bulk = Structure.from_file(filename=\"Cu_metal_fcc.cif\")\n",
    "print(bulk)\n",
    "#view(AseAtomsAdaptor.get_atoms(bulk))\n",
    "analyser = SpacegroupAnalyzer(bulk)\n",
    "bulk_conv = analyser.get_refined_structure()\n",
    "#view(AseAtomsAdaptor().get_atoms(bulk_conv))\n",
    "bulk_ase = AseAtomsAdaptor().get_atoms(bulk_conv)\n",
    "\n",
    "#print(bulk)\n",
    "#surface = ase.build.surface(lattice = bulk_ase, indices = (1,0,0), layers = 8, vacuum=15, tol=1e-10, periodic=True)\n",
    "#view(surface)b"
   ]
  },
  {
   "cell_type": "code",
   "execution_count": null,
   "metadata": {},
   "outputs": [],
   "source": [
    "#view(read('./structures/Cu_surf_111/Cu_surf_111.xyz'))\n",
    "view(AseAtomsAdaptor.get_atoms(read_cell2pmg('./structures/geometry_opt/Cu_surf_111/Cu_surf_111.cell')))"
   ]
  },
  {
   "cell_type": "code",
   "execution_count": null,
   "metadata": {},
   "outputs": [],
   "source": [
    "bulk = Structure.from_file(filename=\"Cu_metal_fcc.cif\")\n",
    "seed = 'Cu_bulk_murn_ext'\n",
    "murn, minimal_struct, energies,volumes = read_murnaghan_outputs(seed = seed, structure = bulk,path = f'./structures/EOS_tests/PBEsol/{seed}/')\n",
    "fig= murn.plot()\n",
    "plt.style.use('seaborn-darkgrid')\n",
    "\n",
    "conventional = SpacegroupAnalyzer(minimal_struct).get_conventional_standard_structure()\n",
    "#view(AseAtomsAdaptor.get_atoms(conventional))"
   ]
  },
  {
   "cell_type": "code",
   "execution_count": null,
   "metadata": {},
   "outputs": [],
   "source": [
    "data_111 = SlabGenerator(conventional,[1,1,1],31,20,center_slab=True).get_slabs()[0].get_orthogonal_c_slab()\n",
    "data_111_2 = SlabGenerator(conventional,[1,1,1],31,20,center_slab=True,primitive=False).get_slabs()[0].get_orthogonal_c_slab()\n",
    "data_110 = SlabGenerator(conventional,[1,1,0],18,20,center_slab=True).get_slabs()[0]\n",
    "data_100 = SlabGenerator(conventional,[1,0,0],26,20,center_slab=True).get_slabs()[0]\n",
    "view(AseAtomsAdaptor.get_atoms(data_111))\n",
    "view(AseAtomsAdaptor.get_atoms(data_111_2))"
   ]
  },
  {
   "cell_type": "code",
   "execution_count": null,
   "metadata": {},
   "outputs": [],
   "source": [
    "from pymatgen.transformations.standard_transformations import *\n",
    "rotation = RotationTransformation([0,0,1], 120)\n",
    "rotated = rotation.apply_transformation(data_111)\n",
    "print(rotated)\n",
    "rotated_2 = AseAtomsAdaptor.get_atoms(data_111)\n",
    "rotated_2.rotate(120,'z', rotate_cell=True)\n",
    "view(rotated_2)\n",
    "#view(AseAtomsAdaptor.get_atoms(rotated))"
   ]
  },
  {
   "cell_type": "code",
   "execution_count": null,
   "metadata": {},
   "outputs": [],
   "source": [
    "view(read('./structures/Cu_surf_111/Cu_surf_111.xyz'))"
   ]
  },
  {
   "cell_type": "code",
   "execution_count": null,
   "metadata": {},
   "outputs": [],
   "source": [
    "#surfaces = generate_all_slabs(structure=bulk_conv,max_index=1,min_slab_size=16, min_vacuum_size=6, center_slab=True, in_unit_planes=True)\n",
    "surfaces = {}\n",
    "\n",
    "surfaces['111'] = SlabGenerator(bulk_conv, [1,1,1],  min_slab_size=32, min_vacuum_size=22, center_slab = True).get_slabs()[0]\n",
    "surfaces['110'] = SlabGenerator(bulk_conv, [1,1,0],  min_slab_size=18, min_vacuum_size=22, center_slab = True).get_slabs()[0]\n",
    "surfaces['100'] = SlabGenerator(bulk_conv, [1,0,0],  min_slab_size=26, min_vacuum_size=22, center_slab = True).get_slabs()[0]\n",
    "# print(surfaces)\n",
    "for index,item in enumerate(surfaces.keys()):\n",
    "    #print(surfaces)\n",
    "    #print(len(surfaces[item]))\n",
    "    #print(miller_index_from_sites(surfaces[item].lattice, surfaces[item].frac_coords, False))\n",
    "    #print(surfaces[item])\n",
    "    #write(f'./structures/xyz/Cu_surf_{hkl[index]}.xyz',AseAtomsAdaptor.get_atoms(surfaces[item]))\n",
    "    view(AseAtomsAdaptor.get_atoms(surfaces[item]))"
   ]
  },
  {
   "cell_type": "code",
   "execution_count": null,
   "metadata": {},
   "outputs": [],
   "source": [
    "surface_111_ortho = SlabGenerator(bulk, [1,1,0], min_slab_size=16, min_vacuum_size=6, center_slab = True, in_unit_planes=True).get_slabs()[0].get_orthogonal_c_slab()\n",
    "surface_111 = SlabGenerator(bulk, [1,1,0], min_slab_size=16, min_vacuum_size=6, center_slab = True, in_unit_planes=True).get_slabs()[0]\n",
    "surface_111_ase = ase.build.surface(lattice = bulk_ase, indices = [1,1,0], layers = 16, vacuum=15, tol=1e-10, periodic=True)\n",
    "#view(AseAtomsAdaptor.get_atoms(surface_111_ortho))\n",
    "print(surface_111_ortho)\n",
    "#print(f'Pymatgen d = {get_d(surface_111)}')\n",
    "#a = np.rad2deg(np.arcsin(get_d(surface_111_ortho)/get_d(surface_111)))\n",
    "#print(a)\n",
    "#print(f'Pymatgen adjusted d = {get_d(surface_111)*np.sin(np.deg2rad(60))}')\n",
    "#print(f'Pymatgen ortho d = {get_d(surface_111_ortho)}')\n",
    "#print(f'ASE d = {get_d(AseAtomsAdaptor.get_structure(surface_111_ase))}')"
   ]
  },
  {
   "cell_type": "code",
   "execution_count": null,
   "metadata": {},
   "outputs": [],
   "source": [
    "surfaces = generate_all_slabs(structure=bulk_conv,max_index=1,min_slab_size=16, min_vacuum_size=6, center_slab=True, in_unit_planes=True)\n",
    "indices = [[1,1,0]]#,[1,0,0]]#,[1,1,0]]\n",
    "hkl = ['110','100','110']\n",
    "surfaces = {}\n",
    "for index,item in enumerate(indices):\n",
    "    surfaces[hkl[index]] = ase.build.surface(lattice = bulk_ase, indices = item, layers = 16, vacuum=15, tol=1e-10, periodic=True)\n",
    "for item in surfaces.keys():\n",
    "    view(surfaces[item])"
   ]
  },
  {
   "cell_type": "code",
   "execution_count": null,
   "metadata": {},
   "outputs": [],
   "source": [
    "surfaces = {}\n",
    "data_111 = read('./structures/Cu_surf_111/Cu111_rotated.xyz')\n",
    "# data_111 = SlabGenerator(conventional,[1,1,1],31,20,center_slab=True).get_slabs()[0].get_orthogonal_c_slab()\n",
    "# data_110 = read('./structures/Cu_surf_110/Cu_surf_110.xyz')\n",
    "# data_100 = read('./structures/Cu_surf_100/Cu_surf_100.xyz')\n",
    "surfaces['111'] = {'structure' : data_111}\n",
    "#surfaces['110'] = {'structure' : data_110}\n",
    "#surfaces['100'] = {'structure' : data_100}\n",
    "# surfaces['111']['bandpath'] = 'MGKM' #111 MGKM hex primitive\n",
    "# surfaces['110']['bandpath'] = \"GYXSGX\" #110  GYXSGX primitive orthorhombic\"\n",
    "# surfaces['100']['bandpath'] = 'XGMX' #100 XGMX tetragonal primitive\n",
    "\n",
    "GeneralOptions = {\n",
    "    'directory': f\"./structures/\",\n",
    "    'seed' : seed,\n",
    "    'tasks' : [],\n",
    "}\n",
    "CastepOptions  = {\n",
    "    'directory': f\"./structures/\",\n",
    "    'seed_name': seed,\n",
    "    # Param File Instructions\n",
    "    'task': 'GeometryOptimization', #Choose: SinglePoint, BandStructure, Spectral, GeometryOptimization\n",
    "    'spectral_task' : 'All', #Choose if task is Spectral: DOS, BandStructure, Optics, CoreLoss, All \n",
    "    'calculate_pdos': True,\n",
    "    'xc_functional': 'PBEsol',\n",
    "    'energy_cutoff': 600,\n",
    "    'elec_energy_tol': 1e-8,\n",
    "    'opt_strategy': 'Speed',\n",
    "    'fix_occup' : False,\n",
    "    'mixing_scheme' : 'Pulay', #Choose from Broydon or Pulay\n",
    "    'smearing_width' : 300, # Temperature in Kelvin\n",
    "    'spin_polarized': False,\n",
    "    'max_scf_cycles': 1000,\n",
    "    'write_potential': True,\n",
    "    'write_density': True,\n",
    "    'extra_bands': True,\n",
    "    #Cell File Instructions\n",
    "    'kpoints': (32,32,1),\n",
    "    'snap_to_symmetry': True,\n",
    "    'generate_symmetry': True,\n",
    "    'fix_all_cell': True,\n",
    "    'continuation': False,\n",
    "    'bandstruct_path': 'GXWKGLUWLK',\n",
    "    'bandstruct_kpt_dist': 0.0184,\n",
    "    'spectral_kpt_grid': (32,32,1)    \n",
    "}\n",
    "PBSOptions = {\n",
    "    'seed_name': '',\n",
    "    #choose from castep_19, castep_18, castep_18_mod, optados\n",
    "    #Choose one or multiple (carefully!): SinglePoint, BandStructure, Spectral, OptaDOS\n",
    "    #'tasks_seeds' : [[castep_opt_template['task'],seed, 'castep_18']],\n",
    "    #'tasks_seeds': [['Spectral', seed,'castep_18'],['Bandstructure', seed,'castep_18'],['OptaDOS', seed,'optados'],['Spectral',seed,'castep_18_mod']], \n",
    "    'tasks_seeds': [['SinglePoint', seed,'castep_18']],\n",
    "    'nodes' : 1,\n",
    "    'cpus' : 64,\n",
    "    'memory' : 100,\n",
    "    'walltime' : '06:00:00'\n",
    "}\n",
    "OptaDOSOptions = {\n",
    "    'seed_name': seed,\n",
    "    'optados_task': 'all', # Choose: dos(default), compare_dos, compare_jdos, jdos, pdos, optics, core, all, photoemission\n",
    "    'broadening': 'adaptive', #Choose: adaptive(default), fixed, linear\n",
    "    'iprint': '1', #Choose: 1 - bare minimum, 2 - with progress reports, 3 - fulld debug output\n",
    "    'efermi': 'optados', #Choose: optados - recalculate, file - read from CASTEP file, insulator - count filled bands, float - supplied by user\n",
    "    'dos_spacing': '0.001', #DOS spacing in unit (default: eV): default - 0.1\n",
    "    'pdos': 'angular', #Choose: angular, species_ang, species, sites or more detailed descriptions such as: \n",
    "    #PDOS : sum:Si1-2(s) - sum of s-chnnls on 2 Si atms (1 proj), \n",
    "    #PDOS : Si1;Si2(s) - DOS on Si atom 1 and DOS on s-channel of Si atom 2 (2 proj) \n",
    "    'photo_options' : {\n",
    "        'work_function' : 4.556,\n",
    "        'surface_area' : 6.339744873,\n",
    "        'slab_volume' : 190.942338,\n",
    "        'elec_field' : 0,\n",
    "        'imfp_const' : 19.0,\n",
    "        'JDOS_SPACING' : 0.1,\n",
    "        'JDOS_MAX_ENERGY' : 25,\n",
    "        'BROADENING' : 'linear',\n",
    "        'OPTICS_GEOM' : 'unpolar',\n",
    "        'optics_qdir' : [1, 1, 1],\n",
    "        'photon_energy' : 21.2,\n",
    "        'linear_smearing' : 0.026,\n",
    "        'fixed_smearing' :  0.026,\n",
    "        'optics_intraband' : True,\n",
    "        'photo_output' : 'be',\n",
    "        'photo_model' : '1step',\n",
    "        'momentum' : 'crystal',\n",
    "        'hybrid_linear' : True,\n",
    "        'temp' : 300,\n",
    "        'theta_lower' : 59,\n",
    "        'theta_upper' : 61\n",
    "    }\n",
    "}\n",
    "\n",
    "for item in surfaces.keys():\n",
    "    seed = f'Cu_surf_{item}'\n",
    "\n",
    "    CastepOptions['directory'] = f\"./structures/{seed}\" \n",
    "    PBSOptions['seed'] = seed\n",
    "    OptaDOSOptions['seed'] = seed\n",
    "    options = {'castep':CastepOptions,'pbs':PBSOptions,'optados':OptaDOSOptions}\n",
    "    #castep_opt_template['bandstruct_path'] = surfaces[item]['bandpath']\n",
    "    \n",
    "    generate_castep_input(calc_struct=surfaces[item]['structure'], **options)\n",
    "    #generate_optados_input(**options)\n",
    "    generate_qsub_file(**options)"
   ]
  },
  {
   "attachments": {},
   "cell_type": "markdown",
   "metadata": {},
   "source": [
    "#### Run the calculations"
   ]
  },
  {
   "cell_type": "code",
   "execution_count": null,
   "metadata": {},
   "outputs": [],
   "source": [
    "#folder_change_command = 'cd {}'.format(seed)\n",
    "#submit_command = 'qsub {}.qsub'.format(seed)\n",
    "\n",
    "#subprocess.call(folder_change_command)\n",
    "#subprocess.call(submit_command)\n",
    "#subprocess.call('cd ..')"
   ]
  },
  {
   "attachments": {},
   "cell_type": "markdown",
   "metadata": {},
   "source": [
    "#### Extract the final energies"
   ]
  },
  {
   "cell_type": "code",
   "execution_count": null,
   "metadata": {},
   "outputs": [],
   "source": [
    "bulk_out = CastepOutput('./structures/Cu_bulk_bandstruct/Cu_bulk_bandstruct.castep')\n",
    "surface_out = CastepOutput('./structures/Cu_surf_111_photo/Cu_surf_111.castep')"
   ]
  },
  {
   "attachments": {},
   "cell_type": "markdown",
   "metadata": {},
   "source": [
    "#### Calculate the surface energy"
   ]
  },
  {
   "cell_type": "code",
   "execution_count": null,
   "metadata": {},
   "outputs": [],
   "source": [
    "print(surface_out.number_atoms)\n",
    "print(surface_out.structure.volume/surface_out.structure.lattice.c)\n",
    "surf_energy_111 = calc_surface_energy(bulk_out.ks_total_energy, surface_out.ks_total_energy,surface_out.number_atoms, surface_out.structure.volume/surface_out.structure.lattice.c)\n",
    "factor = 16.02176565\n",
    "print(f'The surface energy of the Cu[111] surface is: {surf_energy_111} eV/Angstrom^2.\\nThis is equal to: {surf_energy_111*factor} J/m^2')\n"
   ]
  },
  {
   "attachments": {},
   "cell_type": "markdown",
   "metadata": {},
   "source": [
    "#### Get the % of each surface from a  Wulff construction"
   ]
  },
  {
   "cell_type": "code",
   "execution_count": null,
   "metadata": {},
   "outputs": [],
   "source": [
    "#mat_structure = bulk\n",
    "bulk = Structure.from_file(filename=\"Cu_metal_fcc.cif\")\n",
    "# facets_energies = {\n",
    "#     (1,0,0) : 0.1161,\n",
    "#     (1,1,0) : 0.1211,\n",
    "#     (1,1,1) : 0.1055\n",
    "# } #energies in eV/Angstrom^2\n",
    "facets_energies = {\n",
    "    (1,0,0) : 1.551,\n",
    "    (1,1,0) : 1.736,\n",
    "    (1,1,1) : 1.335\n",
    "} #energies in J/m^2\n",
    "\n",
    "different_fractions = get_wulff_fractions(AseAtomsAdaptor.get_atoms(bulk),facets_energies)\n",
    "\n",
    "# Testing of performance by pymatgen wulff shape class\n",
    "# Results: the ratios of the facets is different than expected and seems incorrect with the wulffshape class\n",
    "\n",
    "# facets = [(1,0,0),(1,1,0),(1,1,1)]\n",
    "# energies = [1.86,1.94,1.69]\n",
    "# def new_wulff_fractions(mat_structure, indices,facet_energies):\n",
    "#     lattice = SpacegroupAnalyzer(mat_structure).find_primitive()\n",
    "#     print(lattice)\n",
    "#     shape = WulffShape(lattice.lattice, indices, facet_energies)\n",
    "#     return shape.area_fraction_dict\n",
    "# facets_fractions =  get_wulff_fractions(AseAtomsAdaptor.get_atoms(bulk),facets_energies)\n",
    "# different_fractions = get_wulff_fractions(AseAtomsAdaptor.get_atoms(bulk),facets_energies)\n",
    "# print(facets_fractions)\n",
    "print(different_fractions)"
   ]
  },
  {
   "attachments": {},
   "cell_type": "markdown",
   "metadata": {},
   "source": [
    "#### Launch OptaDOS"
   ]
  },
  {
   "cell_type": "code",
   "execution_count": null,
   "metadata": {},
   "outputs": [],
   "source": []
  },
  {
   "attachments": {},
   "cell_type": "markdown",
   "metadata": {},
   "source": [
    "#### Get QE from OptaDOS output"
   ]
  },
  {
   "cell_type": "code",
   "execution_count": null,
   "metadata": {},
   "outputs": [],
   "source": []
  },
  {
   "attachments": {},
   "cell_type": "markdown",
   "metadata": {},
   "source": [
    "#### Calculate the weighted average QE"
   ]
  },
  {
   "cell_type": "code",
   "execution_count": null,
   "metadata": {},
   "outputs": [],
   "source": []
  },
  {
   "attachments": {},
   "cell_type": "markdown",
   "metadata": {},
   "source": [
    "#### Calculate and display plenty more properties (DOS, bands, ...)"
   ]
  },
  {
   "cell_type": "code",
   "execution_count": null,
   "metadata": {},
   "outputs": [],
   "source": []
  }
 ],
 "metadata": {
  "kernelspec": {
   "display_name": "matchem",
   "language": "python",
   "name": "python3"
  },
  "language_info": {
   "codemirror_mode": {
    "name": "ipython",
    "version": 3
   },
   "file_extension": ".py",
   "mimetype": "text/x-python",
   "name": "python",
   "nbconvert_exporter": "python",
   "pygments_lexer": "ipython3",
   "version": "3.9.19"
  },
  "vscode": {
   "interpreter": {
    "hash": "bdb607488251eb1eb1599e0f3bb9151eded0af6676f3b3dc09c9e8f3e83b9f04"
   }
  }
 },
 "nbformat": 4,
 "nbformat_minor": 5
}
