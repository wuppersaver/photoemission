{
 "cells": [
  {
   "cell_type": "markdown",
   "id": "9a56cc6f",
   "metadata": {},
   "source": [
    "# Workflow to calculate the quantum efficiency of a polycrystalline material"
   ]
  },
  {
   "cell_type": "code",
   "execution_count": 1,
   "id": "3a8845ba",
   "metadata": {},
   "outputs": [],
   "source": [
    "from ase.calculators.castep import Castep\n",
    "from ase.atoms import Atoms\n",
    "from ase.io import read, write\n",
    "from ase.visualize import view\n",
    "from ase.build import surface\n",
    "import ase.calculators.castep\n",
    "import ase.io.castep\n",
    "\n",
    "from pymatgen.ext.matproj import MPRester\n",
    "from pymatgen.core import Lattice, Structure, Molecule\n",
    "from pymatgen.core.surface import SlabGenerator, generate_all_slabs\n",
    "from pymatgen.io.ase import AseAtomsAdaptor\n",
    "from pymatgen.analysis.wulff import WulffShape\n",
    "\n",
    "from functions import calc_surface_energy\n",
    "from functions import get_qe\n",
    "from functions import generate_castep_input\n",
    "from functions import generate_qsub_file"
   ]
  },
  {
   "cell_type": "markdown",
   "id": "d855d57c",
   "metadata": {},
   "source": [
    "I recommend using pymatgen to generate the bulk/slab and then convert it to an ASE atom object. The advantages of this approach are:\n",
    "- pymatgen has a better bulk/slab generation algorithm \n",
    "- castep can link a calculator to the Atom object\n"
   ]
  },
  {
   "cell_type": "markdown",
   "id": "fc13554c",
   "metadata": {},
   "source": [
    "#### Download and save .cif file for necessary materials"
   ]
  },
  {
   "cell_type": "code",
   "execution_count": 2,
   "id": "d0c78368",
   "metadata": {},
   "outputs": [
    {
     "name": "stdout",
     "output_type": "stream",
     "text": [
      "<class 'pymatgen.core.structure.Structure'>\n"
     ]
    }
   ],
   "source": [
    "with MPRester('API_Key') as m:\n",
    "    results = m.get_structure_by_material_id(\"mp-30\")\n",
    "print(type(results))\n",
    "results.to(filename=\"Cu_metal_fcc.cif\")"
   ]
  },
  {
   "cell_type": "markdown",
   "id": "11bcded0",
   "metadata": {},
   "source": [
    "#### Generate the bulk structure"
   ]
  },
  {
   "cell_type": "code",
   "execution_count": 3,
   "id": "59484dd1",
   "metadata": {},
   "outputs": [],
   "source": [
    "structure = ase.io.read(filename=\"Cu_metal_fcc.cif\", format = 'cif')\n",
    "#view(structure, repeat = (3,3,2))"
   ]
  },
  {
   "cell_type": "markdown",
   "id": "3ea28b4b",
   "metadata": {},
   "source": [
    "#### Generate the surface structure"
   ]
  },
  {
   "cell_type": "code",
   "execution_count": 4,
   "id": "488fdb63",
   "metadata": {},
   "outputs": [],
   "source": [
    "surface_111 = ase.build.surface(lattice = structure, indices = (1,1,1), layers = 5, vacuum=10, tol=1e-10, periodic=True)#\n",
    "#view(surface, repeat=(5,5,1))\n",
    "super_surf_111 = surface_111.repeat((3,3,1))\n",
    "#view(super_surf_111)\n",
    "surface_100 = ase.build.surface(lattice = structure, indices = (1,0,0), layers = 5, vacuum=10, tol=1e-10, periodic=True)#\n",
    "#view(surface, repeat=(5,5,1))\n",
    "super_surf_100 = surface_100.repeat((3,3,1))\n",
    "#view(super_surf_100)\n",
    "surface_110 = ase.build.surface(lattice = structure, indices = (1,1,0), layers = 5, vacuum=10, tol=1e-10, periodic=True)#\n",
    "#view(surface, repeat=(5,5,1))\n",
    "super_surf_110 = surface_110.repeat((3,3,1))\n",
    "#view(super_surf_110)"
   ]
  },
  {
   "cell_type": "markdown",
   "id": "1dad63c5",
   "metadata": {},
   "source": [
    "#### Run the calculations"
   ]
  },
  {
   "cell_type": "code",
   "execution_count": 5,
   "id": "20413184",
   "metadata": {},
   "outputs": [
    {
     "name": "stdout",
     "output_type": "stream",
     "text": [
      "{'seed_name': 'Cu_111', 'queue': 'short', 'program': 'castep_19', 'bandstructure': True}\n",
      "['#!/bin/bash  --login\\n']\n"
     ]
    }
   ],
   "source": [
    "#ASE Atoms object for calculation\n",
    "struct = surface_111\n",
    "seed = 'Cu_111' # optional\n",
    "\n",
    "## Options for CASTEP files\n",
    "castep_options = {\n",
    "    'directory': './{}'.format(seed),\n",
    "    'label': seed,\n",
    "    # Param File Instructions\n",
    "    'task': 'SinglePoint',\n",
    "    'xc_functional': 'PBE',\n",
    "    'energy_cutoff': 400,\n",
    "    'opt_strategy': 'Speed',\n",
    "    'fix_occup' : 'FALSE',\n",
    "    'spin_polarized': 'FALSE',\n",
    "    #Cell File Instructions\n",
    "    'kpoints': (2,2,2),\n",
    "    'symmetry': 'FALSE',\n",
    "    'fix_all_cell': 'FALSE'\n",
    "}\n",
    "\n",
    "PBS_options = {\n",
    "    'seed_name': seed,\n",
    "    'queue': 'short',\n",
    "    'program': 'castep_19',\n",
    "    'bandstructure': False\n",
    "}\n",
    "print(PBS_options)\n",
    "\n",
    "generate_castep_input(calc_struct=struct, **castep_options)\n",
    "generate_qsub_file(**PBS_options)"
   ]
  },
  {
   "cell_type": "markdown",
   "id": "a4e4fa56",
   "metadata": {},
   "source": [
    "#### Extract the final energies"
   ]
  },
  {
   "cell_type": "code",
   "execution_count": null,
   "id": "2b9c8d64",
   "metadata": {},
   "outputs": [],
   "source": []
  },
  {
   "cell_type": "markdown",
   "id": "d04f1796",
   "metadata": {},
   "source": [
    "#### Calculate the surface energy"
   ]
  },
  {
   "cell_type": "code",
   "execution_count": null,
   "id": "ec02c66c",
   "metadata": {},
   "outputs": [],
   "source": []
  },
  {
   "cell_type": "markdown",
   "id": "0033b00a",
   "metadata": {},
   "source": [
    "#### Get the % of each surface from a  Wulff construction"
   ]
  },
  {
   "cell_type": "code",
   "execution_count": null,
   "id": "05050ec2",
   "metadata": {},
   "outputs": [],
   "source": []
  },
  {
   "cell_type": "markdown",
   "id": "3fb29d7a",
   "metadata": {},
   "source": [
    "#### Launch OptaDOS"
   ]
  },
  {
   "cell_type": "code",
   "execution_count": null,
   "id": "dddea01b",
   "metadata": {},
   "outputs": [],
   "source": []
  },
  {
   "cell_type": "markdown",
   "id": "55e75230",
   "metadata": {},
   "source": [
    "#### Get QE from OptaDOS output"
   ]
  },
  {
   "cell_type": "code",
   "execution_count": null,
   "id": "2cbebab9",
   "metadata": {},
   "outputs": [],
   "source": []
  },
  {
   "cell_type": "markdown",
   "id": "74d343e1",
   "metadata": {},
   "source": [
    "#### Calculate the weighted average QE"
   ]
  },
  {
   "cell_type": "code",
   "execution_count": null,
   "id": "47ac02c9",
   "metadata": {},
   "outputs": [],
   "source": []
  },
  {
   "cell_type": "markdown",
   "id": "356ca21b",
   "metadata": {},
   "source": [
    "#### Calculate and display plenty more properties (DOS, bands, ...)"
   ]
  },
  {
   "cell_type": "code",
   "execution_count": null,
   "id": "dea0c939",
   "metadata": {},
   "outputs": [],
   "source": []
  }
 ],
 "metadata": {
  "interpreter": {
   "hash": "f7eefe3ae6cbdb5efa91edbea213e67a987949e5fbb84a0e28a74792fd6a2674"
  },
  "kernelspec": {
   "display_name": "Python 3 (ipykernel)",
   "language": "python",
   "name": "python3"
  },
  "language_info": {
   "codemirror_mode": {
    "name": "ipython",
    "version": 3
   },
   "file_extension": ".py",
   "mimetype": "text/x-python",
   "name": "python",
   "nbconvert_exporter": "python",
   "pygments_lexer": "ipython3",
   "version": "3.9.7"
  }
 },
 "nbformat": 4,
 "nbformat_minor": 5
}
