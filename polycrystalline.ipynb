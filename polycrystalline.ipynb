{
 "cells": [
  {
   "cell_type": "markdown",
   "metadata": {},
   "source": [
    "# Workflow to calculate the quantum efficiency of a polycrystalline material"
   ]
  },
  {
   "cell_type": "code",
   "execution_count": 1,
   "id": "83515260",
   "metadata": {},
   "outputs": [
    {
     "name": "stderr",
     "output_type": "stream",
     "text": [
      "c:\\Users\\fcm19\\Miniconda3\\envs\\matchem\\lib\\site-packages\\pkg_resources\\__init__.py:123: PkgResourcesDeprecationWarning: -PKG-VERSION is an invalid version and will not be supported in a future release\n",
      "  warnings.warn(\n"
     ]
    }
   ],
   "source": [
    "import subprocess\n",
    "#import nglview as nv\n",
    "from ase.calculators.castep import Castep\n",
    "from ase.atoms import Atoms\n",
    "from ase.io import read, write\n",
    "from ase.visualize import view\n",
    "from ase.build import surface\n",
    "import ase.calculators.castep\n",
    "import ase.io.castep\n",
    "from ase.io.castep import read_castep_cell\n",
    "\n",
    "from mp_api.client import MPRester\n",
    "\n",
    "from pymatgen.core import Lattice, Structure, Molecule\n",
    "from pymatgen.core.surface import SlabGenerator, generate_all_slabs, Slab, miller_index_from_sites, get_d\n",
    "from pymatgen.core.interface import Interface\n",
    "from pymatgen.symmetry.analyzer import SpacegroupAnalyzer\n",
    "from pymatgen.io.ase import AseAtomsAdaptor\n",
    "from pymatgen.analysis.wulff import WulffShape\n",
    "from pymatgen.analysis.structure_matcher import *\n",
    "from pymatgen.io.ase import AseAtomsAdaptor\n",
    "from pymatgen.electronic_structure.bandstructure import BandStructure\n",
    "from pymatgen.symmetry.kpath import KPathLatimerMunro\n",
    "from pymatgen.vis.structure_chemview import quick_view\n",
    "\n",
    "#from wulffpack import SingleCrystal\n",
    "\n",
    "from python_functions import *\n",
    "from calculation_class import *\n",
    "#from ../../script_share/bs_plotter_felix_mod import *"
   ]
  },
  {
   "cell_type": "code",
   "execution_count": null,
   "id": "ecaf9fe4",
   "metadata": {},
   "outputs": [],
   "source": [
    "view(read('Cu_111_defective.xyz'))"
   ]
  },
  {
   "cell_type": "code",
   "execution_count": null,
   "id": "8ae1e32c",
   "metadata": {},
   "outputs": [],
   "source": [
    "pip install mp-api"
   ]
  },
  {
   "cell_type": "markdown",
   "id": "b92b9a3e",
   "metadata": {},
   "source": [
    "I recommend using pymatgen to generate the bulk/slab and then convert it to an ASE atom object. The advantages of this approach are:\n",
    "- pymatgen has a better bulk/slab generation algorithm \n",
    "- castep can link a calculator to the Atom object\n"
   ]
  },
  {
   "cell_type": "markdown",
   "id": "4f7ff4c2",
   "metadata": {},
   "source": [
    "#### Download and save .cif file for necessary materials"
   ]
  },
  {
   "cell_type": "code",
   "execution_count": null,
   "id": "407a411c",
   "metadata": {
    "scrolled": true
   },
   "outputs": [],
   "source": [
    "import json\n",
    "api_key = ''\n",
    "with MPRester(api_key) as m:\n",
    "    #results = m.get_dos_by_material_id(\"mp-30\")\n",
    "    results = m.summary.search(material_ids=[\"mp-124\"])\n",
    "    list_of_available_fields = m.summary.available_fields\n",
    "#print(list_of_available_fields)\n",
    "#print(results[0].structure)\n",
    "Ag_primitive_bulk = results[0].structure\n",
    "Ag_primitive_bulk.to(filename=\"./structures/data_files/materials/Ag_primitive.cif\")\n",
    "print(Ag_primitive_bulk)\n",
    "print(type(Ag_primitive_bulk))\n",
    "# res_json = results.as_dict()\n",
    "# with open('./structures/jsons/materials/.json', 'w') as f:\n",
    "#     json.dump(results.as_dict(), f)"
   ]
  },
  {
   "cell_type": "code",
   "execution_count": null,
   "id": "2c032c66",
   "metadata": {},
   "outputs": [],
   "source": [
    "ag = read_cell2pmg('./structures/Graphene_super.cell')\n",
    "view(AseAtomsAdaptor.get_atoms(ag))"
   ]
  },
  {
   "cell_type": "code",
   "execution_count": null,
   "id": "e87db50c",
   "metadata": {},
   "outputs": [],
   "source": [
    "gaas = AseAtomsAdaptor.get_structure(read('./GaAs_conv_std.cif'))\n",
    "gaas.scale_lattice(5.653**3)\n",
    "print(gaas)\n",
    "gaas_prim = SpacegroupAnalyzer(gaas).find_primitive()\n",
    "print(gaas_prim)\n"
   ]
  },
  {
   "cell_type": "code",
   "execution_count": null,
   "id": "f4d70798",
   "metadata": {},
   "outputs": [],
   "source": [
    "seed = 'Ag100_new19e_relax'\n",
    "#structure = Structure.from_file(\"./structures/data_files/materials/Ag_primitive.cif\")\n",
    "#bulk = Structure.from_file(filename=\"Cu_metal_fcc.cif\")"
   ]
  },
  {
   "cell_type": "code",
   "execution_count": null,
   "id": "5b8eb22a",
   "metadata": {},
   "outputs": [],
   "source": [
    "structure = AseAtomsAdaptor.get_structure(read('./structures/Ag_bulk_eos/Ag_bulk_eos.xyz',index = -1))\n",
    "structure.to(filename = \"./structures/data_files/materials/Ag_bulk_minimum_eos.cif\")"
   ]
  },
  {
   "cell_type": "code",
   "execution_count": null,
   "id": "117c27c4",
   "metadata": {},
   "outputs": [],
   "source": [
    "mg_o = AseAtomsAdaptor.get_structure(read('./structures/MgO_bulk_eos/felix/MgO_bulk_eos.xyz', index=-1))\n",
    "mg_o_prim = SpacegroupAnalyzer(mg_o).get_primitive_standard_structure()\n",
    "mg_o_conv = SpacegroupAnalyzer(mg_o).get_conventional_standard_structure()\n",
    "mgo_100 = SlabGenerator(mg_o_conv,[1,0,0],5,15,max_normal_search=90,center_slab=True).get_slab()"
   ]
  },
  {
   "cell_type": "code",
   "execution_count": null,
   "id": "be4428de",
   "metadata": {},
   "outputs": [],
   "source": [
    "view(AseAtomsAdaptor.get_atoms(mgo_100))"
   ]
  },
  {
   "cell_type": "code",
   "execution_count": null,
   "id": "86db8536",
   "metadata": {},
   "outputs": [],
   "source": [
    "cu_prim = Structure.from_file('./Cu_metal_fcc.cif')\n",
    "cu_prim.scale_lattice(11.29)\n",
    "cu_conv = SpacegroupAnalyzer(cu_prim).get_conventional_standard_structure()\n",
    "#cu_100 = SlabGenerator(cu_conv,[1,0,0],18,15,max_normal_search=90,center_slab=True).get_slab()\n",
    "print(cu_prim.lattice)\n",
    "print(cu_prim)\n",
    "print(cu_conv.lattice)\n",
    "print(cu_conv)"
   ]
  },
  {
   "cell_type": "code",
   "execution_count": null,
   "id": "81f02cda",
   "metadata": {},
   "outputs": [],
   "source": [
    "ag = read_cell2pmg('./structures/Ag_convergence/Ag_bulk.cell')\n",
    "ag_conv = SpacegroupAnalyzer(ag).get_conventional_standard_structure()\n",
    "ag_prim = SpacegroupAnalyzer(ag).get_primitive_standard_structure()\n",
    "ag_100 = SlabGenerator(ag_conv,[1,0,0],18,15,max_normal_search=90,center_slab = True).get_slab()\n",
    "#view(AseAtomsAdaptor.get_atoms(ag_100))"
   ]
  },
  {
   "cell_type": "code",
   "execution_count": null,
   "id": "836ab6c4",
   "metadata": {},
   "outputs": [],
   "source": [
    "from pymatgen.analysis.interfaces.substrate_analyzer import SubstrateAnalyzer\n",
    "\n",
    "sub_analyzer = SubstrateAnalyzer()\n",
    "matches = list(sub_analyzer.calculate(film=mg_o_prim,substrate=ag_prim,film_millers=[(1,0,0)],substrate_millers=[(1,0,0)]))\n",
    "len(matches)"
   ]
  },
  {
   "cell_type": "code",
   "execution_count": null,
   "id": "0749915f",
   "metadata": {},
   "outputs": [],
   "source": [
    "matches[1].as_dict()"
   ]
  },
  {
   "cell_type": "code",
   "execution_count": null,
   "id": "4bc240f0",
   "metadata": {},
   "outputs": [],
   "source": [
    "help(matches[0])\n",
    "matches"
   ]
  },
  {
   "cell_type": "code",
   "execution_count": null,
   "id": "f5bb9283",
   "metadata": {},
   "outputs": [],
   "source": [
    "view(AseAtomsAdaptor.get_atoms(matches[-1]))"
   ]
  },
  {
   "cell_type": "code",
   "execution_count": null,
   "id": "2395f83d",
   "metadata": {},
   "outputs": [],
   "source": [
    "help(SubstrateAnalyzer)"
   ]
  },
  {
   "cell_type": "code",
   "execution_count": null,
   "id": "2cc3d21b",
   "metadata": {},
   "outputs": [],
   "source": [
    "from pymatgen.analysis.interfaces.coherent_interfaces import CoherentInterfaceBuilder\n",
    "from pymatgen.analysis.interfaces.zsl import ZSLGenerator\n",
    "\n",
    "zsl = ZSLGenerator()\n",
    "cib = CoherentInterfaceBuilder(film_structure=mg_o_conv,\n",
    "                               substrate_structure=ag_conv,\n",
    "                               film_miller=(1,0,0),\n",
    "                               substrate_miller=(1,0,0),\n",
    "                               zslgen=zsl)"
   ]
  },
  {
   "cell_type": "code",
   "execution_count": null,
   "id": "780908b6",
   "metadata": {},
   "outputs": [],
   "source": [
    "cib.terminations"
   ]
  },
  {
   "cell_type": "code",
   "execution_count": null,
   "id": "c378ce09",
   "metadata": {},
   "outputs": [],
   "source": [
    "for match in cib.zsl_matches:\n",
    "    print(match.match_area)"
   ]
  },
  {
   "cell_type": "code",
   "execution_count": null,
   "id": "07e77935",
   "metadata": {},
   "outputs": [],
   "source": [
    "cib.zsl_matches[0].match_transformation"
   ]
  },
  {
   "cell_type": "code",
   "execution_count": null,
   "id": "c859fee0",
   "metadata": {},
   "outputs": [],
   "source": [
    "interfaces = list(cib.get_interfaces(termination=cib.terminations[0], substrate_thickness=10, film_thickness=1, vacuum_over_film=20))\n",
    "len(interfaces)"
   ]
  },
  {
   "cell_type": "code",
   "execution_count": null,
   "id": "6dc9741f",
   "metadata": {},
   "outputs": [],
   "source": [
    "interface_2 = interfaces[-1]\n",
    "interface_2.translate_sites(range(len(interface_2)),[0,0,0])\n",
    "view(AseAtomsAdaptor.get_atoms(interface_2))\n",
    "interface_2"
   ]
  },
  {
   "cell_type": "code",
   "execution_count": null,
   "id": "a8943744",
   "metadata": {},
   "outputs": [],
   "source": [
    "interface = interfaces[0]\n",
    "interface.translate_sites(range(len(interface)),[0,0,0]) \n",
    "interface"
   ]
  },
  {
   "cell_type": "code",
   "execution_count": null,
   "id": "f424d166",
   "metadata": {},
   "outputs": [],
   "source": [
    "view(AseAtomsAdaptor.get_atoms(interface))"
   ]
  },
  {
   "cell_type": "code",
   "execution_count": null,
   "id": "d34fb10b",
   "metadata": {},
   "outputs": [],
   "source": [
    "victor = read_cell2pmg('./structures/AgMgO_interface/AgMgO100.cell')\n",
    "view(AseAtomsAdaptor.get_atoms(victor))"
   ]
  },
  {
   "cell_type": "code",
   "execution_count": null,
   "id": "3cb446ee",
   "metadata": {},
   "outputs": [],
   "source": [
    "help(CoherentInterfaceBuilder)"
   ]
  },
  {
   "cell_type": "code",
   "execution_count": null,
   "id": "e1e8902e",
   "metadata": {},
   "outputs": [],
   "source": [
    "matcher = StructureMatcher(attempt_supercell=True)"
   ]
  },
  {
   "cell_type": "code",
   "execution_count": null,
   "id": "4f083958",
   "metadata": {},
   "outputs": [],
   "source": [
    "view(AseAtomsAdaptor.get_atoms(cu_100))"
   ]
  },
  {
   "cell_type": "code",
   "execution_count": null,
   "id": "bdfc72f8",
   "metadata": {},
   "outputs": [],
   "source": [
    "layered_structure = AseAtomsAdaptor.get_atoms(ag_100) + AseAtomsAdaptor.get_atoms(mgo_100)\n",
    "view(layered_structure)"
   ]
  },
  {
   "cell_type": "code",
   "execution_count": null,
   "id": "1f53b1c4",
   "metadata": {},
   "outputs": [],
   "source": [
    "view(read('./MgO_Ag100_interface.xyz'))"
   ]
  },
  {
   "cell_type": "code",
   "execution_count": null,
   "id": "57c4aa2b",
   "metadata": {},
   "outputs": [],
   "source": [
    "#primitive_cell = Structure.from_file(\"./structures/data_files/materials/Ag_bulk_minimum_eos.cif\")\n",
    "primitive_cell = Structure.from_file(\"./structures/data_files/materials/Ag_primitive.cif\")\n",
    "primitive_cell.scale_lattice(16.6283)\n",
    "print(primitive_cell)\n",
    "conv_cell = SpacegroupAnalyzer(primitive_cell).get_conventional_standard_structure()\n",
    "#conv_cell"
   ]
  },
  {
   "cell_type": "code",
   "execution_count": null,
   "id": "b3611b7d",
   "metadata": {},
   "outputs": [],
   "source": [
    "view(AseAtomsAdaptor.get_atoms(primitive_cell))\n",
    "view(AseAtomsAdaptor.get_atoms(conv_cell))\n"
   ]
  },
  {
   "cell_type": "code",
   "execution_count": null,
   "id": "2cc36f58",
   "metadata": {},
   "outputs": [],
   "source": [
    "from ase.build import bulk\n",
    "\n",
    "a1 = bulk('Cu', 'fcc', a=3.6)\n",
    "\n",
    "a2 = bulk('Cu', 'fcc', a=3.6, orthorhombic=True)\n",
    "\n",
    "a3 = bulk('Cu', 'fcc', a=3.6, cubic=True)"
   ]
  },
  {
   "cell_type": "code",
   "execution_count": null,
   "id": "f8d5f953",
   "metadata": {},
   "outputs": [],
   "source": [
    "a1"
   ]
  },
  {
   "cell_type": "code",
   "execution_count": null,
   "id": "dc447358",
   "metadata": {},
   "outputs": [],
   "source": [
    "structure = SlabGenerator(conv_cell,[1,1,1],18,20,max_normal_search=90,center_slab=True).get_slab()\n",
    "view(AseAtomsAdaptor.get_atoms(structure))"
   ]
  },
  {
   "cell_type": "markdown",
   "id": "df0d702e",
   "metadata": {},
   "source": [
    "## Build Cu Supercells"
   ]
  },
  {
   "cell_type": "code",
   "execution_count": null,
   "id": "5e863dca",
   "metadata": {},
   "outputs": [],
   "source": [
    "seed = 'Cu100_od_rerun'"
   ]
  },
  {
   "cell_type": "code",
   "execution_count": null,
   "id": "4c287513",
   "metadata": {},
   "outputs": [],
   "source": [
    "filename = \"C:/Users/fcm19/Desktop/MgO_bulk_eos_geometry.cell\"\n",
    "agmgo_int = read_cell2pmg(filename)\n",
    "view(AseAtomsAdaptor.get_atoms(agmgo_int))"
   ]
  },
  {
   "cell_type": "markdown",
   "id": "38a2fce3",
   "metadata": {},
   "source": [
    "## Calculation Setup"
   ]
  },
  {
   "cell_type": "markdown",
   "id": "fcdb2748",
   "metadata": {},
   "source": [
    "### Set up the structure"
   ]
  },
  {
   "cell_type": "code",
   "execution_count": null,
   "id": "b32330dd",
   "metadata": {},
   "outputs": [],
   "source": [
    "calc_geometry = read_cell2pmg('./structures/AgMgO_interface/victor_qe/AgMgO/8/AgMgO8.cell')\n",
    "calc_geometry = AseAtomsAdaptor.get_atoms(calc_geometry)\n",
    "positions = calc_geometry.get_positions()\n",
    "positions[:,2] = positions[:,2] + calc_geometry.get_cell()[2,2]/2\n",
    "calc_geometry.set_positions(positions)\n",
    "#cart_coords[:,2] = calc_geometry.cart_coords[:,2]+calc_geometry.lattice.c/2\n",
    "calc_geometry = AseAtomsAdaptor.get_structure(calc_geometry)\n",
    "calc_geometry"
   ]
  },
  {
   "cell_type": "code",
   "execution_count": 53,
   "id": "4ae0580b",
   "metadata": {},
   "outputs": [],
   "source": [
    "seed = 'AgMgO8'"
   ]
  },
  {
   "cell_type": "code",
   "execution_count": 54,
   "id": "3a38902f",
   "metadata": {},
   "outputs": [],
   "source": [
    "GeneralOptions = {\n",
    "    'seed'                      : seed,\n",
    "    'directory'                 : f\"./structures/AgMgO_interface/felix_new/{seed}/\",\n",
    "    'tasks'                     : ['Geometry','Spectral','OD_Fermi','Workfunction','OD_Photo_Sweep'],\n",
    "    #'tasks' : ['Geometry','Spectral','OD_Fermi','Workfunction','OD_Photo','BandStructure'],\n",
    "    'template_scripts'          : True\n",
    "}"
   ]
  },
  {
   "cell_type": "code",
   "execution_count": 55,
   "id": "2d9c1f8c",
   "metadata": {},
   "outputs": [],
   "source": [
    "CastepOptions = {\n",
    "    'run_time'                  : 7.5,          # in hours\n",
    "    'backup_interval'           : 1,            # in hours\n",
    "    'xc_functional'             : 'PBEsol',     # LDA, PBE, PBEsol\n",
    "    'energy_cutoff'             : 825,\n",
    "    'elec_energy_tol'           : 1e-8,\n",
    "    'opt_strategy'              : 'Speed',\n",
    "    'fix_occup'                 : False,\n",
    "    'metals_method'             : 'DM',         # Default - EDFT; if FIX_OCCUPANCY : FALSE, the default is DM\n",
    "    'mixing_scheme'             : 'Broydon',    # Choose from Broydon or Pulay - Default: Broydon\n",
    "    'smearing_width'            : 300,\n",
    "    'extra_bands'               : True,\n",
    "    'percent_extra_bands'       : 100,\n",
    "    'max_scf_cycles'            : 1000,\n",
    "    'spin_polarized'            : False,\n",
    "    'write_potential'           : True,\n",
    "    'write_density'             : True,\n",
    "    'spectral_task'             : 'optics',     # Choose if task is Spectral: DOS, BandStructure, Optics, CoreLoss, All\n",
    "    'calculate_pdos'            : True,\n",
    "    'continuation'              : False,\n",
    "    'grid_scale'                : 2.0,\n",
    "    'fine_grid_scale'           : 3.0,\n",
    "    #Cell File Instructions\n",
    "    'scf_kpoints'               : 'MP',         # Choose from MP, list or path\n",
    "    'spectral_kpoints'          : 'MP',         # Choose from MP, list or path\n",
    "    'generate_symmetry'         : False,\n",
    "    'snap_to_symmetry'          : False,\n",
    "    'fix_all_cell'              : True,\n",
    "    #'bandstruct_path': 'WLGXWK',\n",
    "    'bandstruct_path'           : 'XGMX',\n",
    "    'bandstruct_kpt_dist'       : 0.05, \n",
    "    # Kpoint options\n",
    "    'offset_mp_grid'            : True,         # If set to true, the MP grids are offset by half a grid step by default\n",
    "    'kpoint_mp_grid'            : (16,16,1),\n",
    "    'spectral_kpoint_mp_grid'   : (16,16,1),\n",
    "      \n",
    "}\n",
    "if CastepOptions['offset_mp_grid']:\n",
    "    kpts = CastepOptions['kpoints']\n",
    "    spec = CastepOptions['spectral_kpoint_mp_grid']\n",
    "    offset_kpts = ['0','0','0']\n",
    "    offset_spec = ['0','0','0']\n",
    "    for i in range(3):\n",
    "        if kpts[i]%2 == 0: '1/'+str(kpts[i]*2)\n",
    "    CastepOptions['kpoint_mp_offset'] = offset_kpts\n",
    "    CastepOptions['spectral_kpoint_mp_offset'] = offset_spec"
   ]
  },
  {
   "cell_type": "code",
   "execution_count": null,
   "id": "54024c3d",
   "metadata": {},
   "outputs": [],
   "source": [
    "WorkfunctionOptions = {\n",
    "    'modify_odi'                : True,\n",
    "    'centered_structure'        : True,\n",
    "    }"
   ]
  },
  {
   "cell_type": "code",
   "execution_count": 56,
   "id": "14c78fb1",
   "metadata": {},
   "outputs": [],
   "source": [
    "OptaDosOptions = {\n",
    "    'optados_task'              : 'dos jdos pdos optics',   # Choose: dos(default), compare_dos, compare_jdos, jdos, pdos, optics, core, all\n",
    "    'broadening'                : 'adaptive',               # Choose: adaptive(default), fixed, linear\n",
    "    'iprint'                    : '1',                      # Choose: 1 - bare minimum, 2 - with progress reports, 3 - fulld debug output\n",
    "    'efermi'                    : 'optados',                # Choose: optados - recalculate, file - read from CASTEP file, insulator - count filled bands, float - supplied by user\n",
    "    'dos_spacing'               : '0.01',                   # DOS spacing in unit (default: eV): default - 0.1\n",
    "    'pdos'                      : 'angular',                # Choose: angular, species_ang, species, sites or more detailed descriptions such as: \n",
    "    'dos_per_volume'            : 'true',                   # PDOS : sum:Si1-2(s) - sum of s-chnnls on 2 Si atms (1 proj), #PDOS : Si1;Si2(s) - DOS on Si atom 1 and DOS on s-channel of Si atom 2 (2 proj)\n",
    "    \n",
    "    'photo_options': {\n",
    "        'jdos_spacing'          : 0.1,\n",
    "        'jdos_max_energy'       : 25,\n",
    "        'broadening'            : 'linear',\n",
    "        'linear_smearing'       : 0.026,\n",
    "        'optics_geom'           : 'unpolar',\n",
    "        'optics_intraband'      : True,\n",
    "        'optics_qdir'           : [1, 1.000, 1.0000],\n",
    "        'hybrid_linear'         : True,\n",
    "        'photo_photon_energy'   : 4.7,\n",
    "        'photo_work_function'   : 4.556,\n",
    "        'photo_surface_area'    : 6.339744873,\n",
    "        'photo_slab_volume'     : 190.942338,\n",
    "        'photo_elec_field'      : 0.0,\n",
    "        'photo_imfp_const'      : 6.13,\n",
    "        'photo_model'           : ['1step','3step'],\n",
    "        'photo_momentum'        : 'crystal',\n",
    "        'photo_temperature'     : 300,\n",
    "        'photo_theta_lower'     : 59,\n",
    "        'photo_theta_upper'     : 61,\n",
    "        'iprint'                : 7,\n",
    "        },\n",
    "    \n",
    "    'sweep_options': {\n",
    "        'parameter'             : 'photon_energy', # choose photon_energy or temp or elec_field or work_function\n",
    "        'min'                   : 2.7,\n",
    "        'max'                   : 6.0,\n",
    "        'stepsize'              : 0.1,\n",
    "        'directory'             : './',\n",
    "        },\n",
    "}"
   ]
  },
  {
   "cell_type": "code",
   "execution_count": 57,
   "id": "e342aa55",
   "metadata": {},
   "outputs": [],
   "source": [
    "calculation = PhotoemissionCalculation(calc_geometry, GeneralOptions, CastepOptions, WorkfunctionOptions, OptaDosOptions)\n",
    "generate_input_files(**calculation.options)"
   ]
  },
  {
   "cell_type": "markdown",
   "metadata": {},
   "source": [
    "#### Generate the surface structure"
   ]
  },
  {
   "cell_type": "code",
   "execution_count": null,
   "metadata": {},
   "outputs": [],
   "source": []
  },
  {
   "cell_type": "code",
   "execution_count": null,
   "metadata": {},
   "outputs": [],
   "source": [
    "bulk = Structure.from_file(filename=\"Cu_metal_fcc.cif\")\n",
    "print(bulk)\n",
    "#view(AseAtomsAdaptor.get_atoms(bulk))\n",
    "analyser = SpacegroupAnalyzer(bulk)\n",
    "bulk_conv = analyser.get_refined_structure()\n",
    "#view(AseAtomsAdaptor().get_atoms(bulk_conv))\n",
    "bulk_ase = AseAtomsAdaptor().get_atoms(bulk_conv)\n",
    "\n",
    "#print(bulk)\n",
    "#surface = ase.build.surface(lattice = bulk_ase, indices = (1,0,0), layers = 8, vacuum=15, tol=1e-10, periodic=True)\n",
    "#view(surface)b"
   ]
  },
  {
   "cell_type": "code",
   "execution_count": null,
   "metadata": {},
   "outputs": [],
   "source": [
    "#view(read('./structures/Cu_surf_111/Cu_surf_111.xyz'))\n",
    "view(AseAtomsAdaptor.get_atoms(read_cell2pmg('./structures/geometry_opt/Cu_surf_111/Cu_surf_111.cell')))"
   ]
  },
  {
   "cell_type": "code",
   "execution_count": null,
   "metadata": {},
   "outputs": [],
   "source": [
    "bulk = Structure.from_file(filename=\"Cu_metal_fcc.cif\")\n",
    "seed = 'Cu_bulk_murn_ext'\n",
    "murn, minimal_struct, energies,volumes = read_murnaghan_outputs(seed = seed, structure = bulk,path = f'./structures/EOS_tests/PBEsol/{seed}/')\n",
    "fig= murn.plot()\n",
    "plt.style.use('seaborn-darkgrid')\n",
    "\n",
    "conventional = SpacegroupAnalyzer(minimal_struct).get_conventional_standard_structure()\n",
    "#view(AseAtomsAdaptor.get_atoms(conventional))"
   ]
  },
  {
   "cell_type": "code",
   "execution_count": null,
   "metadata": {},
   "outputs": [],
   "source": [
    "data_111 = SlabGenerator(conventional,[1,1,1],31,20,center_slab=True).get_slabs()[0].get_orthogonal_c_slab()\n",
    "data_111_2 = SlabGenerator(conventional,[1,1,1],31,20,center_slab=True,primitive=False).get_slabs()[0].get_orthogonal_c_slab()\n",
    "data_110 = SlabGenerator(conventional,[1,1,0],18,20,center_slab=True).get_slabs()[0]\n",
    "data_100 = SlabGenerator(conventional,[1,0,0],26,20,center_slab=True).get_slabs()[0]\n",
    "view(AseAtomsAdaptor.get_atoms(data_111))\n",
    "view(AseAtomsAdaptor.get_atoms(data_111_2))"
   ]
  },
  {
   "cell_type": "code",
   "execution_count": null,
   "metadata": {},
   "outputs": [],
   "source": [
    "from pymatgen.transformations.standard_transformations import *\n",
    "rotation = RotationTransformation([0,0,1], 120)\n",
    "rotated = rotation.apply_transformation(data_111)\n",
    "print(rotated)\n",
    "rotated_2 = AseAtomsAdaptor.get_atoms(data_111)\n",
    "rotated_2.rotate(120,'z', rotate_cell=True)\n",
    "view(rotated_2)\n",
    "#view(AseAtomsAdaptor.get_atoms(rotated))"
   ]
  },
  {
   "cell_type": "code",
   "execution_count": null,
   "metadata": {},
   "outputs": [],
   "source": [
    "view(read('./structures/Cu_surf_111/Cu_surf_111.xyz'))"
   ]
  },
  {
   "cell_type": "code",
   "execution_count": null,
   "metadata": {},
   "outputs": [],
   "source": [
    "#surfaces = generate_all_slabs(structure=bulk_conv,max_index=1,min_slab_size=16, min_vacuum_size=6, center_slab=True, in_unit_planes=True)\n",
    "surfaces = {}\n",
    "\n",
    "surfaces['111'] = SlabGenerator(bulk_conv, [1,1,1],  min_slab_size=32, min_vacuum_size=22, center_slab = True).get_slabs()[0]\n",
    "surfaces['110'] = SlabGenerator(bulk_conv, [1,1,0],  min_slab_size=18, min_vacuum_size=22, center_slab = True).get_slabs()[0]\n",
    "surfaces['100'] = SlabGenerator(bulk_conv, [1,0,0],  min_slab_size=26, min_vacuum_size=22, center_slab = True).get_slabs()[0]\n",
    "# print(surfaces)\n",
    "for index,item in enumerate(surfaces.keys()):\n",
    "    #print(surfaces)\n",
    "    #print(len(surfaces[item]))\n",
    "    #print(miller_index_from_sites(surfaces[item].lattice, surfaces[item].frac_coords, False))\n",
    "    #print(surfaces[item])\n",
    "    #write(f'./structures/xyz/Cu_surf_{hkl[index]}.xyz',AseAtomsAdaptor.get_atoms(surfaces[item]))\n",
    "    view(AseAtomsAdaptor.get_atoms(surfaces[item]))"
   ]
  },
  {
   "cell_type": "code",
   "execution_count": null,
   "metadata": {},
   "outputs": [],
   "source": [
    "surface_111_ortho = SlabGenerator(bulk, [1,1,0], min_slab_size=16, min_vacuum_size=6, center_slab = True, in_unit_planes=True).get_slabs()[0].get_orthogonal_c_slab()\n",
    "surface_111 = SlabGenerator(bulk, [1,1,0], min_slab_size=16, min_vacuum_size=6, center_slab = True, in_unit_planes=True).get_slabs()[0]\n",
    "surface_111_ase = ase.build.surface(lattice = bulk_ase, indices = [1,1,0], layers = 16, vacuum=15, tol=1e-10, periodic=True)\n",
    "#view(AseAtomsAdaptor.get_atoms(surface_111_ortho))\n",
    "print(surface_111_ortho)\n",
    "#print(f'Pymatgen d = {get_d(surface_111)}')\n",
    "#a = np.rad2deg(np.arcsin(get_d(surface_111_ortho)/get_d(surface_111)))\n",
    "#print(a)\n",
    "#print(f'Pymatgen adjusted d = {get_d(surface_111)*np.sin(np.deg2rad(60))}')\n",
    "#print(f'Pymatgen ortho d = {get_d(surface_111_ortho)}')\n",
    "#print(f'ASE d = {get_d(AseAtomsAdaptor.get_structure(surface_111_ase))}')"
   ]
  },
  {
   "cell_type": "code",
   "execution_count": null,
   "metadata": {},
   "outputs": [],
   "source": [
    "surfaces = generate_all_slabs(structure=bulk_conv,max_index=1,min_slab_size=16, min_vacuum_size=6, center_slab=True, in_unit_planes=True)\n",
    "indices = [[1,1,0]]#,[1,0,0]]#,[1,1,0]]\n",
    "hkl = ['110','100','110']\n",
    "surfaces = {}\n",
    "for index,item in enumerate(indices):\n",
    "    surfaces[hkl[index]] = ase.build.surface(lattice = bulk_ase, indices = item, layers = 16, vacuum=15, tol=1e-10, periodic=True)\n",
    "for item in surfaces.keys():\n",
    "    view(surfaces[item])"
   ]
  },
  {
   "cell_type": "code",
   "execution_count": null,
   "metadata": {},
   "outputs": [],
   "source": [
    "surfaces = {}\n",
    "data_111 = read('./structures/Cu_surf_111/Cu111_rotated.xyz')\n",
    "# data_111 = SlabGenerator(conventional,[1,1,1],31,20,center_slab=True).get_slabs()[0].get_orthogonal_c_slab()\n",
    "# data_110 = read('./structures/Cu_surf_110/Cu_surf_110.xyz')\n",
    "# data_100 = read('./structures/Cu_surf_100/Cu_surf_100.xyz')\n",
    "surfaces['111'] = {'structure' : data_111}\n",
    "#surfaces['110'] = {'structure' : data_110}\n",
    "#surfaces['100'] = {'structure' : data_100}\n",
    "# surfaces['111']['bandpath'] = 'MGKM' #111 MGKM hex primitive\n",
    "# surfaces['110']['bandpath'] = \"GYXSGX\" #110  GYXSGX primitive orthorhombic\"\n",
    "# surfaces['100']['bandpath'] = 'XGMX' #100 XGMX tetragonal primitive\n",
    "\n",
    "GeneralOptions = {\n",
    "    'directory': f\"./structures/\",\n",
    "    'seed' : seed,\n",
    "    'tasks' : [],\n",
    "}\n",
    "CastepOptions  = {\n",
    "    'directory': f\"./structures/\",\n",
    "    'seed_name': seed,\n",
    "    # Param File Instructions\n",
    "    'task': 'GeometryOptimization', #Choose: SinglePoint, BandStructure, Spectral, GeometryOptimization\n",
    "    'spectral_task' : 'All', #Choose if task is Spectral: DOS, BandStructure, Optics, CoreLoss, All \n",
    "    'calculate_pdos': True,\n",
    "    'xc_functional': 'PBEsol',\n",
    "    'energy_cutoff': 600,\n",
    "    'elec_energy_tol': 1e-8,\n",
    "    'opt_strategy': 'Speed',\n",
    "    'fix_occup' : False,\n",
    "    'mixing_scheme' : 'Pulay', #Choose from Broydon or Pulay\n",
    "    'smearing_width' : 300, # Temperature in Kelvin\n",
    "    'spin_polarized': False,\n",
    "    'max_scf_cycles': 1000,\n",
    "    'write_potential': True,\n",
    "    'write_density': True,\n",
    "    'extra_bands': True,\n",
    "    #Cell File Instructions\n",
    "    'kpoints': (32,32,1),\n",
    "    'snap_to_symmetry': True,\n",
    "    'generate_symmetry': True,\n",
    "    'fix_all_cell': True,\n",
    "    'continuation': False,\n",
    "    'bandstruct_path': 'GXWKGLUWLK',\n",
    "    'bandstruct_kpt_dist': 0.0184,\n",
    "    'spectral_kpt_grid': (32,32,1)    \n",
    "}\n",
    "PBSOptions = {\n",
    "    'seed_name': '',\n",
    "    #choose from castep_19, castep_18, castep_18_mod, optados\n",
    "    #Choose one or multiple (carefully!): SinglePoint, BandStructure, Spectral, OptaDOS\n",
    "    #'tasks_seeds' : [[castep_opt_template['task'],seed, 'castep_18']],\n",
    "    #'tasks_seeds': [['Spectral', seed,'castep_18'],['Bandstructure', seed,'castep_18'],['OptaDOS', seed,'optados'],['Spectral',seed,'castep_18_mod']], \n",
    "    'tasks_seeds': [['SinglePoint', seed,'castep_18']],\n",
    "    'nodes' : 1,\n",
    "    'cpus' : 64,\n",
    "    'memory' : 100,\n",
    "    'walltime' : '06:00:00'\n",
    "}\n",
    "OptaDOSOptions = {\n",
    "    'seed_name': seed,\n",
    "    'optados_task': 'all', # Choose: dos(default), compare_dos, compare_jdos, jdos, pdos, optics, core, all, photoemission\n",
    "    'broadening': 'adaptive', #Choose: adaptive(default), fixed, linear\n",
    "    'iprint': '1', #Choose: 1 - bare minimum, 2 - with progress reports, 3 - fulld debug output\n",
    "    'efermi': 'optados', #Choose: optados - recalculate, file - read from CASTEP file, insulator - count filled bands, float - supplied by user\n",
    "    'dos_spacing': '0.001', #DOS spacing in unit (default: eV): default - 0.1\n",
    "    'pdos': 'angular', #Choose: angular, species_ang, species, sites or more detailed descriptions such as: \n",
    "    #PDOS : sum:Si1-2(s) - sum of s-chnnls on 2 Si atms (1 proj), \n",
    "    #PDOS : Si1;Si2(s) - DOS on Si atom 1 and DOS on s-channel of Si atom 2 (2 proj) \n",
    "    'photo_options' : {\n",
    "        'work_function' : 4.556,\n",
    "        'surface_area' : 6.339744873,\n",
    "        'slab_volume' : 190.942338,\n",
    "        'elec_field' : 0,\n",
    "        'imfp_const' : 19.0,\n",
    "        'JDOS_SPACING' : 0.1,\n",
    "        'JDOS_MAX_ENERGY' : 25,\n",
    "        'BROADENING' : 'linear',\n",
    "        'OPTICS_GEOM' : 'unpolar',\n",
    "        'optics_qdir' : [1, 1, 1],\n",
    "        'photon_energy' : 21.2,\n",
    "        'linear_smearing' : 0.026,\n",
    "        'fixed_smearing' :  0.026,\n",
    "        'optics_intraband' : True,\n",
    "        'photo_output' : 'be',\n",
    "        'photo_model' : '1step',\n",
    "        'momentum' : 'crystal',\n",
    "        'hybrid_linear' : True,\n",
    "        'temp' : 300,\n",
    "        'theta_lower' : 59,\n",
    "        'theta_upper' : 61\n",
    "    }\n",
    "}\n",
    "\n",
    "for item in surfaces.keys():\n",
    "    seed = f'Cu_surf_{item}'\n",
    "\n",
    "    CastepOptions['directory'] = f\"./structures/{seed}\" \n",
    "    PBSOptions['seed'] = seed\n",
    "    OptaDOSOptions['seed'] = seed\n",
    "    options = {'castep':CastepOptions,'pbs':PBSOptions,'optados':OptaDOSOptions}\n",
    "    #castep_opt_template['bandstruct_path'] = surfaces[item]['bandpath']\n",
    "    \n",
    "    generate_castep_input(calc_struct=surfaces[item]['structure'], **options)\n",
    "    #generate_optados_input(**options)\n",
    "    generate_qsub_file(**options)"
   ]
  },
  {
   "cell_type": "markdown",
   "metadata": {},
   "source": [
    "#### Run the calculations"
   ]
  },
  {
   "cell_type": "code",
   "execution_count": null,
   "metadata": {},
   "outputs": [],
   "source": [
    "#folder_change_command = 'cd {}'.format(seed)\n",
    "#submit_command = 'qsub {}.qsub'.format(seed)\n",
    "\n",
    "#subprocess.call(folder_change_command)\n",
    "#subprocess.call(submit_command)\n",
    "#subprocess.call('cd ..')"
   ]
  },
  {
   "cell_type": "markdown",
   "metadata": {},
   "source": [
    "#### Extract the final energies"
   ]
  },
  {
   "cell_type": "code",
   "execution_count": null,
   "metadata": {},
   "outputs": [],
   "source": [
    "bulk_out = CastepOutput('./structures/Cu_bulk_bandstruct/Cu_bulk_bandstruct.castep')\n",
    "surface_out = CastepOutput('./structures/Cu_surf_111_photo/Cu_surf_111.castep')"
   ]
  },
  {
   "cell_type": "markdown",
   "metadata": {},
   "source": [
    "#### Calculate the surface energy"
   ]
  },
  {
   "cell_type": "code",
   "execution_count": null,
   "metadata": {},
   "outputs": [],
   "source": [
    "print(surface_out.number_atoms)\n",
    "print(surface_out.structure.volume/surface_out.structure.lattice.c)\n",
    "surf_energy_111 = calc_surface_energy(bulk_out.ks_total_energy, surface_out.ks_total_energy,surface_out.number_atoms, surface_out.structure.volume/surface_out.structure.lattice.c)\n",
    "factor = 16.02176565\n",
    "print(f'The surface energy of the Cu[111] surface is: {surf_energy_111} eV/Angstrom^2.\\nThis is equal to: {surf_energy_111*factor} J/m^2')\n"
   ]
  },
  {
   "cell_type": "markdown",
   "metadata": {},
   "source": [
    "#### Get the % of each surface from a  Wulff construction"
   ]
  },
  {
   "cell_type": "code",
   "execution_count": null,
   "metadata": {},
   "outputs": [],
   "source": [
    "#mat_structure = bulk\n",
    "bulk = Structure.from_file(filename=\"Cu_metal_fcc.cif\")\n",
    "# facets_energies = {\n",
    "#     (1,0,0) : 0.1161,\n",
    "#     (1,1,0) : 0.1211,\n",
    "#     (1,1,1) : 0.1055\n",
    "# } #energies in eV/Angstrom^2\n",
    "facets_energies = {\n",
    "    (1,0,0) : 1.551,\n",
    "    (1,1,0) : 1.736,\n",
    "    (1,1,1) : 1.335\n",
    "} #energies in J/m^2\n",
    "\n",
    "different_fractions = get_wulff_fractions(AseAtomsAdaptor.get_atoms(bulk),facets_energies)\n",
    "\n",
    "# Testing of performance by pymatgen wulff shape class\n",
    "# Results: the ratios of the facets is different than expected and seems incorrect with the wulffshape class\n",
    "\n",
    "# facets = [(1,0,0),(1,1,0),(1,1,1)]\n",
    "# energies = [1.86,1.94,1.69]\n",
    "# def new_wulff_fractions(mat_structure, indices,facet_energies):\n",
    "#     lattice = SpacegroupAnalyzer(mat_structure).find_primitive()\n",
    "#     print(lattice)\n",
    "#     shape = WulffShape(lattice.lattice, indices, facet_energies)\n",
    "#     return shape.area_fraction_dict\n",
    "# facets_fractions =  get_wulff_fractions(AseAtomsAdaptor.get_atoms(bulk),facets_energies)\n",
    "# different_fractions = get_wulff_fractions(AseAtomsAdaptor.get_atoms(bulk),facets_energies)\n",
    "# print(facets_fractions)\n",
    "print(different_fractions)"
   ]
  },
  {
   "cell_type": "markdown",
   "metadata": {},
   "source": [
    "#### Launch OptaDOS"
   ]
  },
  {
   "cell_type": "code",
   "execution_count": null,
   "metadata": {},
   "outputs": [],
   "source": []
  },
  {
   "cell_type": "markdown",
   "metadata": {},
   "source": [
    "#### Get QE from OptaDOS output"
   ]
  },
  {
   "cell_type": "code",
   "execution_count": null,
   "metadata": {},
   "outputs": [],
   "source": []
  },
  {
   "cell_type": "markdown",
   "metadata": {},
   "source": [
    "#### Calculate the weighted average QE"
   ]
  },
  {
   "cell_type": "code",
   "execution_count": null,
   "metadata": {},
   "outputs": [],
   "source": []
  },
  {
   "cell_type": "markdown",
   "metadata": {},
   "source": [
    "#### Calculate and display plenty more properties (DOS, bands, ...)"
   ]
  },
  {
   "cell_type": "code",
   "execution_count": null,
   "metadata": {},
   "outputs": [],
   "source": []
  }
 ],
 "metadata": {
  "kernelspec": {
   "display_name": "matchem",
   "language": "python",
   "name": "python3"
  },
  "language_info": {
   "codemirror_mode": {
    "name": "ipython",
    "version": 3
   },
   "file_extension": ".py",
   "mimetype": "text/x-python",
   "name": "python",
   "nbconvert_exporter": "python",
   "pygments_lexer": "ipython3",
   "version": "3.9.13"
  },
  "vscode": {
   "interpreter": {
    "hash": "bdb607488251eb1eb1599e0f3bb9151eded0af6676f3b3dc09c9e8f3e83b9f04"
   }
  }
 },
 "nbformat": 4,
 "nbformat_minor": 5
}
