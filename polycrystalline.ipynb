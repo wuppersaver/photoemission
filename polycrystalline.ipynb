{
 "cells": [
  {
   "cell_type": "markdown",
   "id": "9a56cc6f",
   "metadata": {},
   "source": [
    "# Workflow to calculate the quantum efficiency of a polycrystalline material"
   ]
  },
  {
   "cell_type": "code",
   "execution_count": null,
   "id": "3a8845ba",
   "metadata": {},
   "outputs": [],
   "source": [
    "import subprocess\n",
    "import nglview as nv\n",
    "\n",
    "from ase.calculators.castep import Castep\n",
    "from ase.atoms import Atoms\n",
    "from ase.io import read, write\n",
    "from ase.visualize import view\n",
    "from ase.build import surface\n",
    "import ase.calculators.castep\n",
    "import ase.io.castep\n",
    "from ase.io.castep import read_castep_cell\n",
    "\n",
    "from pymatgen.ext.matproj import MPRester\n",
    "from pymatgen.core import Lattice, Structure, Molecule\n",
    "from pymatgen.core.surface import SlabGenerator, generate_all_slabs, Slab\n",
    "from pymatgen.io.ase import AseAtomsAdaptor\n",
    "from pymatgen.analysis.wulff import WulffShape\n",
    "from pymatgen.io.ase import AseAtomsAdaptor\n",
    "from pymatgen.electronic_structure.bandstructure import BandStructure\n",
    "from pymatgen.symmetry.kpath import KPathLatimerMunro\n",
    "from pymatgen.vis.structure_chemview import quick_view\n",
    "\n",
    "from wulffpack import SingleCrystal\n",
    "\n",
    "from functions import *"
   ]
  },
  {
   "cell_type": "markdown",
   "id": "d855d57c",
   "metadata": {},
   "source": [
    "I recommend using pymatgen to generate the bulk/slab and then convert it to an ASE atom object. The advantages of this approach are:\n",
    "- pymatgen has a better bulk/slab generation algorithm \n",
    "- castep can link a calculator to the Atom object\n"
   ]
  },
  {
   "cell_type": "markdown",
   "id": "fc13554c",
   "metadata": {},
   "source": [
    "#### Download and save .cif file for necessary materials"
   ]
  },
  {
   "cell_type": "code",
   "execution_count": null,
   "id": "d0c78368",
   "metadata": {
    "scrolled": true
   },
   "outputs": [],
   "source": [
    "import json\n",
    "api_key = ''\n",
    "with MPRester(api_key) as m:\n",
    "    results = m.get_dos_by_material_id(\"mp-30\")\n",
    "#print(type(results))\n",
    "#res_json = results.as_dict()\n",
    "with open('./structures/jsons/DOS/Cu_bulk_dos_ref.json', 'w') as f:\n",
    "    json.dump(results.as_dict(), f)"
   ]
  },
  {
   "cell_type": "markdown",
   "id": "11bcded0",
   "metadata": {},
   "source": [
    "#### Generate the bulk structure and bulk input"
   ]
  },
  {
   "cell_type": "code",
   "execution_count": null,
   "id": "59484dd1",
   "metadata": {},
   "outputs": [],
   "source": [
    "bulk = Structure.from_file(filename=\"Cu_metal_fcc.cif\")\n",
    "#view(AseAtomsAdaptor().get_atoms(bulk))\n",
    "bulk_seed = 'Cu_bulk_vic_thesis'\n",
    "castep_opt_template = {\n",
    "    'directory': f\"./structures/{bulk_seed}\",\n",
    "    'label': bulk_seed,\n",
    "    # Param File Instructions\n",
    "    'task': 'Spectral', #Choose: SinglePoint, BandStructure, Spectral\n",
    "    'spectral_task' : 'ALL', #Choose if task is Spectral: DOS, BandStructure, Optics, CoreLoss, All \n",
    "    'xc_functional': 'PBE',\n",
    "    'energy_cutoff': 600,\n",
    "    'elec_energy_tol': 1e-8,\n",
    "    'opt_strategy': 'Speed',\n",
    "    'fix_occup' : False,\n",
    "    'mixing_scheme' : 'Broydon', #Choose from Broydon or Pulay\n",
    "    'smearing_width' : 300,\n",
    "    'spin_polarized': False,\n",
    "    'max_scf_cycles': 1000,\n",
    "    'write_potential': False,\n",
    "    'write_density': False,\n",
    "    'extra_bands': True,\n",
    "    #Cell File Instructions\n",
    "    'kpoints': (32,32,1),\n",
    "    'snap_to_symmetry': False,\n",
    "    'fix_all_cell': False,\n",
    "    'continuation': False,\n",
    "    'bandstruct_path': 'GXWKGLUWLK',\n",
    "    'bandstruct_kpt_dist': 0.0184,\n",
    "    'spectral_kpt_grid': (10,10,10),\n",
    "    'calculate_pdos': True \n",
    "}\n",
    "PBS_options = {\n",
    "    'seed_name': bulk_seed,\n",
    "    'tasks_seeds': [['singlepoint', bulk_seed], ['Optados', bulk_seed]], #Choose one or multiple (carefully!): SinglePoint, BandStructure, Spectral, OptaDOS\n",
    "    'queue': 'debug',\n",
    "    'castep_version': 'castep_19' #choose from castep_19, castep_18, castep_18_mod\n",
    "}\n",
    "OptaDOS_options = {\n",
    "    'seed_name': bulk_seed,\n",
    "    'optados_task': 'pdos', # Choose: dos(default), compare_dos, compare_jdos, jdos, pdos, optics, core, all\n",
    "    'broadening': 'adaptive', #Choose: adaptive(default), fixed, linear\n",
    "    'iprint': '1', #Choose: 1 - bare minimum, 2 - with progress reports, 3 - fulld debug output\n",
    "    'efermi': 'optados', #Choose: optados - recalculate, file - read from CASTEP file, insulator - count filled bands, float - supplied by user\n",
    "    'dos_spacing': '0.001', #DOS spacing in unit (default: eV): default - 0.1\n",
    "    'pdos': 'angular' #Choose: angular, species_ang, species, sites or more detailed descriptions such as: \n",
    "    #PDOS : sum:Si1-2(s) - sum of s-chnnls on 2 Si atms (1 proj), \n",
    "    #PDOS : Si1;Si2(s) - DOS on Si atom 1 and DOS on s-channel of Si atom 2 (2 proj) \n",
    "}\n",
    "OptaDOS_photoemission_opt= {\n",
    "    'work_function' : 4.556,\n",
    "    's_area' : 6.339744873,\n",
    "    'slab_volume' : 190.942338,\n",
    "    'elec_field' : 0,\n",
    "    'imfp_const' : 19.0,\n",
    "    'JDOS_SPACING' : 0.1,\n",
    "    'JDOS_MAX_ENERGY' : 25,\n",
    "    'BROADENING' : 'linear',\n",
    "    'OPTICS_GEOM' : 'unpolar',\n",
    "    'optics_qdir' : [1, 1.000, 1.0000],\n",
    "    'photon_energy' : 21.2,\n",
    "    'linear_smearing' : 0.026,\n",
    "    'fixed_smearing' :  0.026,\n",
    "    'optics_intraband' : True,\n",
    "    'photo_model' : '1step',\n",
    "    'momentum' : 'crystal',\n",
    "    'hybrid_linear' : True,\n",
    "    'temp' : 300,\n",
    "    'theta_lower' : 59,\n",
    "    'theta_upper' : 61,\n",
    "    'photo_output' : 'be'\n",
    "}\n",
    "generate_castep_input(calc_struct=AseAtomsAdaptor().get_atoms(bulk), **castep_opt_template)\n",
    "generate_qsub_file(**PBS_options)\n",
    "generate_optados_input(OptaDOS_options, **OptaDOS_photoemission_opt)"
   ]
  },
  {
   "cell_type": "markdown",
   "id": "3ea28b4b",
   "metadata": {},
   "source": [
    "#### Generate the surface structure"
   ]
  },
  {
   "cell_type": "code",
   "execution_count": null,
   "id": "5e2e4041",
   "metadata": {},
   "outputs": [],
   "source": [
    "bulk = Structure.from_file(filename=\"Cu_metal_fcc.cif\")\n",
    "bulk_ase = AseAtomsAdaptor().get_atoms(bulk)\n",
    "print(bulk_ase)\n",
    "print(bulk)\n",
    "surface = ase.build.surface(lattice = bulk_ase, indices = (1,1,1), layers = 5, vacuum=15, tol=1e-10, periodic=True)"
   ]
  },
  {
   "cell_type": "code",
   "execution_count": null,
   "id": "97295f37",
   "metadata": {},
   "outputs": [],
   "source": [
    "\n",
    "def create_slab_layer_convergence(structure, indices, min, max, seed, *cutoff):\n",
    "    layers = [i for i in range(min, max+1)]\n",
    "    castep_opt_template = {\n",
    "    'directory': f\"./structures/{seed}\",\n",
    "    'label': seed,\n",
    "    # Param File Instructions\n",
    "    'task': 'Singlepoint', #Choose: SinglePoint, BandStructure, Spectral\n",
    "    'spectral_task' : 'DOS', #Choose if task is Spectral: DOS, BandStructure, Optics, CoreLoss, All \n",
    "    'xc_functional': 'PBE',\n",
    "    'energy_cutoff': 600,\n",
    "    'elec_energy_tol': 1e-8,\n",
    "    'opt_strategy': 'Speed',\n",
    "    'fix_occup' : False,\n",
    "    'mixing_scheme' : 'Broydon',\n",
    "    'smearing_width' : 300,\n",
    "    'spin_polarized': False,\n",
    "    'max_scf_cycles': 1000,\n",
    "    'write_potential': False,\n",
    "    'write_density': False,\n",
    "    'extra_bands': True,\n",
    "    #Cell File Instructions\n",
    "    'kpoints': (16,16,16),\n",
    "    'snap_to_symmetry': False,\n",
    "    'fix_all_cell': False,\n",
    "    'continuation': False,\n",
    "    'bandstruct_path': 'GXWKGLUWLK',\n",
    "    'bandstruct_kpt_dist': 0.0184,\n",
    "    'spectral_kpt_grid': (10,10,10),\n",
    "    'calculate_pdos': True \n",
    "}\n",
    "    PBS_options = {\n",
    "        'seed_name': seed,\n",
    "        'tasks_seeds': [], #Choose one or multiple (carefully!): SinglePoint, BandStructure, Spectral, OptaDOS\n",
    "        'queue': 'debug',\n",
    "        'castep_version': 'castep_19' #choose from castep_19, castep_18, castep_18_mod\n",
    "    }\n",
    "    for i in layers:\n",
    "        surface = ase.build.surface(lattice = structure, indices =indices, layers = i, vacuum=15, tol=1e-10, periodic=True)\n",
    "        temp_opt = castep_opt_template\n",
    "        temp_opt['directory'] = f\"./structures/{seed}\"\n",
    "        temp_opt['label'] = f\"{seed}_{i}L\"\n",
    "        temp_opt['kpoints'] = get_adjusted_kpts(structure, surface, [9,9,9])\n",
    "        PBS_options['tasks_seeds'].append(['singlepoint',temp_opt['label']])\n",
    "        if cutoff != None:\n",
    "            temp_opt['cutoff'] = cutoff\n",
    "        generate_castep_input(calc_struct=surface, **temp_opt)\n",
    "    generate_qsub_file(**PBS_options)\n",
    "    return;"
   ]
  },
  {
   "cell_type": "code",
   "execution_count": null,
   "id": "488fdb63",
   "metadata": {},
   "outputs": [],
   "source": [
    "surf_vic = read_cell2pmg('./structures/Cu.cell')\n",
    "surf_vic\n",
    "view(AseAtomsAdaptor.get_atoms(surf_vic))\n",
    "surfaces = {\n",
    "    'Cu_surf_111' : ase.build.surface(lattice = bulk_ase, indices = (1,1,1), layers = 16, vacuum=15, tol=1e-10, periodic=True),\n",
    "    'Cu_surf_100' : ase.build.surface(lattice = bulk_ase, indices = (1,0,0), layers = 16, vacuum=15, tol=1e-10, periodic=True),\n",
    "    'Cu_surf_110' : ase.build.surface(lattice = bulk_ase, indices = (1,1,0), layers = 16, vacuum=15, tol=1e-10, periodic=True)\n",
    "}\n",
    "seed = 'Cu_surf_111'\n",
    "castep_opt_template = {\n",
    "    'directory': f\"./structures/{seed}\",\n",
    "    'label': seed,\n",
    "    # Param File Instructions\n",
    "    'task': 'Spectral', #Choose: SinglePoint, BandStructure, Spectral\n",
    "    'spectral_task' : 'ALL', #Choose if task is Spectral: DOS, BandStructure, Optics, CoreLoss, All \n",
    "    'calculate_pdos': True,\n",
    "    'xc_functional': 'PBEsol',\n",
    "    'energy_cutoff': 600,\n",
    "    'elec_energy_tol': 1e-8,\n",
    "    'opt_strategy': 'Speed',\n",
    "    'fix_occup' : False,\n",
    "    'mixing_scheme' : 'Pulay', #Choose from Broydon or Pulay\n",
    "    'smearing_width' : 300,\n",
    "    'spin_polarized': False,\n",
    "    'max_scf_cycles': 1000,\n",
    "    'write_potential': True,\n",
    "    'write_density': True,\n",
    "    'extra_bands': True,\n",
    "    #Cell File Instructions\n",
    "    'kpoints': (32,32,1),\n",
    "    'snap_to_symmetry': False,\n",
    "    'generate_symmetry': True,\n",
    "    'fix_all_cell': True,\n",
    "    'continuation': False,\n",
    "    'bandstruct_path': 'GXWKGLUWLK',\n",
    "    'bandstruct_kpt_dist': 0.0184,\n",
    "    'spectral_kpt_grid': (32,32,1)    \n",
    "}\n",
    "PBS_options = {\n",
    "    'seed_name': seed,\n",
    "    'tasks_seeds': [['Spectral', seed], ['Optados', seed]], #Choose one or multiple (carefully!): SinglePoint, BandStructure, Spectral, OptaDOS\n",
    "    'queue': 'debug',\n",
    "    'castep_version': 'castep_19' #choose from castep_19, castep_18, castep_18_mod\n",
    "}\n",
    "OptaDOS_options = {\n",
    "    'seed_name': seed,\n",
    "    'optados_task': 'pdos', # Choose: dos(default), compare_dos, compare_jdos, jdos, pdos, optics, core, all, photoemission\n",
    "    'broadening': 'adaptive', #Choose: adaptive(default), fixed, linear\n",
    "    'iprint': '1', #Choose: 1 - bare minimum, 2 - with progress reports, 3 - fulld debug output\n",
    "    'efermi': 'optados', #Choose: optados - recalculate, file - read from CASTEP file, insulator - count filled bands, float - supplied by user\n",
    "    'dos_spacing': '0.001', #DOS spacing in unit (default: eV): default - 0.1\n",
    "    'pdos': 'angular' #Choose: angular, species_ang, species, sites or more detailed descriptions such as: \n",
    "    #PDOS : sum:Si1-2(s) - sum of s-chnnls on 2 Si atms (1 proj), \n",
    "    #PDOS : Si1;Si2(s) - DOS on Si atom 1 and DOS on s-channel of Si atom 2 (2 proj) \n",
    "}\n",
    "OptaDOS_photoemission_opt= {\n",
    "    'work_function' : 4.556,\n",
    "    'surface_area' : 6.339744873,\n",
    "    'slab_volume' : 190.942338,\n",
    "    'elec_field' : 0,\n",
    "    'imfp_const' : 19.0,\n",
    "    'JDOS_SPACING' : 0.1,\n",
    "    'JDOS_MAX_ENERGY' : 25,\n",
    "    'BROADENING' : 'linear',\n",
    "    'OPTICS_GEOM' : 'unpolar',\n",
    "    'optics_qdir' : [1, 1, 1],\n",
    "    'photon_energy' : 21.2,\n",
    "    'linear_smearing' : 0.026,\n",
    "    'fixed_smearing' :  0.026,\n",
    "    'optics_intraband' : True,\n",
    "    'photo_output' : 'be',\n",
    "    'photo_model' : '1step',\n",
    "    'momentum' : 'crystal',\n",
    "    'hybrid_linear' : True,\n",
    "    'temp' : 300,\n",
    "    'theta_lower' : 59,\n",
    "    'theta_upper' : 61\n",
    "}\n",
    "\n",
    "generate_castep_input(calc_struct=surfaces[seed], **castep_opt_template)\n",
    "generate_optados_input(OptaDOS_options, **OptaDOS_photoemission_opt)\n",
    "generate_qsub_file(**PBS_options)"
   ]
  },
  {
   "cell_type": "code",
   "execution_count": null,
   "id": "2ac9e782",
   "metadata": {},
   "outputs": [],
   "source": []
  },
  {
   "cell_type": "markdown",
   "id": "1dad63c5",
   "metadata": {},
   "source": [
    "#### Run the calculations"
   ]
  },
  {
   "cell_type": "code",
   "execution_count": null,
   "id": "20413184",
   "metadata": {},
   "outputs": [],
   "source": [
    "#folder_change_command = 'cd {}'.format(seed)\n",
    "#submit_command = 'qsub {}.qsub'.format(seed)\n",
    "\n",
    "#subprocess.call(folder_change_command)\n",
    "#subprocess.call(submit_command)\n",
    "#subprocess.call('cd ..')"
   ]
  },
  {
   "cell_type": "markdown",
   "id": "a4e4fa56",
   "metadata": {},
   "source": [
    "#### Extract the final energies"
   ]
  },
  {
   "cell_type": "code",
   "execution_count": null,
   "id": "2b9c8d64",
   "metadata": {},
   "outputs": [],
   "source": [
    "bulk_tot_energy, bulk_fermi = get_energies(seed=bulk_seed)\n",
    "surf_111_tot_energy, surf_111_fermi = get_energies(seed=surf_seed)\n",
    "#print(bulk_tot_energy, surf_111_tot_energy)"
   ]
  },
  {
   "cell_type": "markdown",
   "id": "d04f1796",
   "metadata": {},
   "source": [
    "#### Calculate the surface energy"
   ]
  },
  {
   "cell_type": "code",
   "execution_count": null,
   "id": "ec02c66c",
   "metadata": {},
   "outputs": [],
   "source": [
    "surf_energy_111 = calc_surface_energy(bulk_tot_energy, surf_111_tot_energy,len(surface_111.numbers),surface_111.cell.volume / surface_111.cell[2][2])\n",
    "factor = 16.02176565\n",
    "print('The surface energy of the {} surface is: '.format(surf_seed) + str(surf_energy_111) + ' eV/Angstrom^2.\\n' + 'This is equal to: ' + str(surf_energy_111*factor) + ' J/m^2')\n"
   ]
  },
  {
   "cell_type": "markdown",
   "id": "0033b00a",
   "metadata": {},
   "source": [
    "#### Get the % of each surface from a  Wulff construction"
   ]
  },
  {
   "cell_type": "code",
   "execution_count": null,
   "id": "2a877669",
   "metadata": {},
   "outputs": [],
   "source": [
    "mat_structure = bulk\n",
    "# facets_energies = {\n",
    "#     (1,0,0) : 0.1161,\n",
    "#     (1,1,0) : 0.1211,\n",
    "#     (1,1,1) : 0.1055\n",
    "# } #energies in eV/Angstrom^2\n",
    "facets_energies = {\n",
    "    (1,0,0) : 1.86,\n",
    "    (1,1,0) : 1.94,\n",
    "    (1,1,1) : 1.69\n",
    "} #energies in J/m^2\n",
    "\n",
    "different_fractions = get_wulff_fractions(AseAtomsAdaptor.get_atoms(bulk),facets_energies)\n",
    "\n",
    "# Testing of performance by pymatgen wulff shape class\n",
    "# Results: the ratios of the facets is different than expected and seems incorrect with the wulffshape class\n",
    "\n",
    "# facets = [(1,0,0),(1,1,0),(1,1,1)]\n",
    "# energies = [1.86,1.94,1.69]\n",
    "# def new_wulff_fractions(mat_structure, indices,facet_energies):\n",
    "#     lattice = SpacegroupAnalyzer(mat_structure).find_primitive()\n",
    "#     print(lattice)\n",
    "#     shape = WulffShape(lattice.lattice, indices, facet_energies)\n",
    "#     return shape.area_fraction_dict\n",
    "# facets_fractions =  get_wulff_fractions(AseAtomsAdaptor.get_atoms(bulk),facets_energies)\n",
    "# different_fractions = get_wulff_fractions(AseAtomsAdaptor.get_atoms(bulk),facets_energies)\n",
    "# print(facets_fractions)\n",
    "# print(different_fractions)"
   ]
  },
  {
   "cell_type": "markdown",
   "id": "3fb29d7a",
   "metadata": {},
   "source": [
    "#### Launch OptaDOS"
   ]
  },
  {
   "cell_type": "code",
   "execution_count": null,
   "id": "dddea01b",
   "metadata": {},
   "outputs": [],
   "source": []
  },
  {
   "cell_type": "markdown",
   "id": "55e75230",
   "metadata": {},
   "source": [
    "#### Get QE from OptaDOS output"
   ]
  },
  {
   "cell_type": "code",
   "execution_count": null,
   "id": "2cbebab9",
   "metadata": {},
   "outputs": [],
   "source": []
  },
  {
   "cell_type": "markdown",
   "id": "74d343e1",
   "metadata": {},
   "source": [
    "#### Calculate the weighted average QE"
   ]
  },
  {
   "cell_type": "code",
   "execution_count": null,
   "id": "47ac02c9",
   "metadata": {},
   "outputs": [],
   "source": []
  },
  {
   "cell_type": "markdown",
   "id": "356ca21b",
   "metadata": {},
   "source": [
    "#### Calculate and display plenty more properties (DOS, bands, ...)"
   ]
  },
  {
   "cell_type": "code",
   "execution_count": null,
   "id": "dea0c939",
   "metadata": {},
   "outputs": [],
   "source": []
  }
 ],
 "metadata": {
  "interpreter": {
   "hash": "f7eefe3ae6cbdb5efa91edbea213e67a987949e5fbb84a0e28a74792fd6a2674"
  },
  "kernelspec": {
   "display_name": "Python 3 (ipykernel)",
   "language": "python",
   "name": "python3"
  },
  "language_info": {
   "codemirror_mode": {
    "name": "ipython",
    "version": 3
   },
   "file_extension": ".py",
   "mimetype": "text/x-python",
   "name": "python",
   "nbconvert_exporter": "python",
   "pygments_lexer": "ipython3",
   "version": "3.9.7"
  }
 },
 "nbformat": 4,
 "nbformat_minor": 5
}
